{
  "nbformat": 4,
  "nbformat_minor": 0,
  "metadata": {
    "colab": {
      "provenance": [],
      "gpuType": "A100"
    },
    "kernelspec": {
      "name": "python3",
      "display_name": "Python 3"
    },
    "language_info": {
      "name": "python"
    },
    "accelerator": "GPU"
  },
  "cells": [
    {
      "cell_type": "markdown",
      "source": [
        "# Introduction\n",
        "\n",
        "### Problem\n",
        "\n",
        "In the project this week, we will build a machine learning text classifier to predict news categories from the news article text.\n",
        "\n",
        "1. We will iterate on classification models with increasing level of complexity and improved performance: N-gram models, pre-trained Transformer models, and third-party hosted Large Language Models (LLMs).\n",
        "\n",
        "2. We will look at the impact of labeled dataset size and composition on model performance. The labeled dataset will be used for training in case of N-gram models and pre-trained Transformers, and for selecting examples for in-context few-shot learning for LLMs.\n",
        "\n",
        "3. [advanced] As an extension, we will explore how to augment data efficiently to your existing training data (efficiency measured as improvement in performance normalized by volume of data augmented).\n",
        "\n",
        "Throughout the project there are suggested model architectures that we expect to work reasonably well for this problem. But if you wish to extend/modify any part of this pipeline, or explore new model architectures you should definitely feel free to do so.\n"
      ],
      "metadata": {
        "id": "vCJ3pvJKY_xV"
      }
    },
    {
      "cell_type": "code",
      "source": [
        "!nvidia-smi"
      ],
      "metadata": {
        "colab": {
          "base_uri": "https://localhost:8080/"
        },
        "id": "hM2Igbp-n5K4",
        "outputId": "0cb19461-3f7e-42ea-befb-d409a5869bdc"
      },
      "execution_count": null,
      "outputs": [
        {
          "output_type": "stream",
          "name": "stdout",
          "text": [
            "Mon Jun 12 04:11:43 2023       \n",
            "+-----------------------------------------------------------------------------+\n",
            "| NVIDIA-SMI 525.85.12    Driver Version: 525.85.12    CUDA Version: 12.0     |\n",
            "|-------------------------------+----------------------+----------------------+\n",
            "| GPU  Name        Persistence-M| Bus-Id        Disp.A | Volatile Uncorr. ECC |\n",
            "| Fan  Temp  Perf  Pwr:Usage/Cap|         Memory-Usage | GPU-Util  Compute M. |\n",
            "|                               |                      |               MIG M. |\n",
            "|===============================+======================+======================|\n",
            "|   0  NVIDIA A100-SXM...  Off  | 00000000:00:04.0 Off |                    0 |\n",
            "| N/A   36C    P0    44W / 400W |      0MiB / 40960MiB |      0%      Default |\n",
            "|                               |                      |             Disabled |\n",
            "+-------------------------------+----------------------+----------------------+\n",
            "                                                                               \n",
            "+-----------------------------------------------------------------------------+\n",
            "| Processes:                                                                  |\n",
            "|  GPU   GI   CI        PID   Type   Process name                  GPU Memory |\n",
            "|        ID   ID                                                   Usage      |\n",
            "|=============================================================================|\n",
            "|  No running processes found                                                 |\n",
            "+-----------------------------------------------------------------------------+\n"
          ]
        }
      ]
    },
    {
      "cell_type": "markdown",
      "source": [
        "## Step1: Prereqs & Installation\n",
        "\n",
        "Download & Import all the necessary libraries we need throughout the project."
      ],
      "metadata": {
        "id": "4FNP8FSfZIed"
      }
    },
    {
      "cell_type": "code",
      "source": [
        "# Install all the required dependencies for the project\n",
        "\n",
        "!pip install numpy\n",
        "!pip install scikit-learn\n",
        "!pip install sentence-transformers\n",
        "!pip install matplotlib\n",
        "!pip install langchain\n",
        "!pip install openai"
      ],
      "metadata": {
        "id": "l1LsWxD0ZF3b",
        "colab": {
          "base_uri": "https://localhost:8080/"
        },
        "outputId": "368edb5e-ebae-4762-8326-53aa2a72e409"
      },
      "execution_count": null,
      "outputs": [
        {
          "output_type": "stream",
          "name": "stdout",
          "text": [
            "Looking in indexes: https://pypi.org/simple, https://us-python.pkg.dev/colab-wheels/public/simple/\n",
            "Requirement already satisfied: numpy in /usr/local/lib/python3.10/dist-packages (1.22.4)\n",
            "Looking in indexes: https://pypi.org/simple, https://us-python.pkg.dev/colab-wheels/public/simple/\n",
            "Requirement already satisfied: scikit-learn in /usr/local/lib/python3.10/dist-packages (1.2.2)\n",
            "Requirement already satisfied: numpy>=1.17.3 in /usr/local/lib/python3.10/dist-packages (from scikit-learn) (1.22.4)\n",
            "Requirement already satisfied: scipy>=1.3.2 in /usr/local/lib/python3.10/dist-packages (from scikit-learn) (1.10.1)\n",
            "Requirement already satisfied: joblib>=1.1.1 in /usr/local/lib/python3.10/dist-packages (from scikit-learn) (1.2.0)\n",
            "Requirement already satisfied: threadpoolctl>=2.0.0 in /usr/local/lib/python3.10/dist-packages (from scikit-learn) (3.1.0)\n",
            "Looking in indexes: https://pypi.org/simple, https://us-python.pkg.dev/colab-wheels/public/simple/\n",
            "Collecting sentence-transformers\n",
            "  Downloading sentence-transformers-2.2.2.tar.gz (85 kB)\n",
            "\u001b[2K     \u001b[90m━━━━━━━━━━━━━━━━━━━━━━━━━━━━━━━━━━━━━━━━\u001b[0m \u001b[32m86.0/86.0 kB\u001b[0m \u001b[31m10.5 MB/s\u001b[0m eta \u001b[36m0:00:00\u001b[0m\n",
            "\u001b[?25h  Preparing metadata (setup.py) ... \u001b[?25l\u001b[?25hdone\n",
            "Collecting transformers<5.0.0,>=4.6.0 (from sentence-transformers)\n",
            "  Downloading transformers-4.30.1-py3-none-any.whl (7.2 MB)\n",
            "\u001b[2K     \u001b[90m━━━━━━━━━━━━━━━━━━━━━━━━━━━━━━━━━━━━━━━━\u001b[0m \u001b[32m7.2/7.2 MB\u001b[0m \u001b[31m114.9 MB/s\u001b[0m eta \u001b[36m0:00:00\u001b[0m\n",
            "\u001b[?25hRequirement already satisfied: tqdm in /usr/local/lib/python3.10/dist-packages (from sentence-transformers) (4.65.0)\n",
            "Requirement already satisfied: torch>=1.6.0 in /usr/local/lib/python3.10/dist-packages (from sentence-transformers) (2.0.1+cu118)\n",
            "Requirement already satisfied: torchvision in /usr/local/lib/python3.10/dist-packages (from sentence-transformers) (0.15.2+cu118)\n",
            "Requirement already satisfied: numpy in /usr/local/lib/python3.10/dist-packages (from sentence-transformers) (1.22.4)\n",
            "Requirement already satisfied: scikit-learn in /usr/local/lib/python3.10/dist-packages (from sentence-transformers) (1.2.2)\n",
            "Requirement already satisfied: scipy in /usr/local/lib/python3.10/dist-packages (from sentence-transformers) (1.10.1)\n",
            "Requirement already satisfied: nltk in /usr/local/lib/python3.10/dist-packages (from sentence-transformers) (3.8.1)\n",
            "Collecting sentencepiece (from sentence-transformers)\n",
            "  Downloading sentencepiece-0.1.99-cp310-cp310-manylinux_2_17_x86_64.manylinux2014_x86_64.whl (1.3 MB)\n",
            "\u001b[2K     \u001b[90m━━━━━━━━━━━━━━━━━━━━━━━━━━━━━━━━━━━━━━━━\u001b[0m \u001b[32m1.3/1.3 MB\u001b[0m \u001b[31m81.6 MB/s\u001b[0m eta \u001b[36m0:00:00\u001b[0m\n",
            "\u001b[?25hCollecting huggingface-hub>=0.4.0 (from sentence-transformers)\n",
            "  Downloading huggingface_hub-0.15.1-py3-none-any.whl (236 kB)\n",
            "\u001b[2K     \u001b[90m━━━━━━━━━━━━━━━━━━━━━━━━━━━━━━━━━━━━━━\u001b[0m \u001b[32m236.8/236.8 kB\u001b[0m \u001b[31m32.0 MB/s\u001b[0m eta \u001b[36m0:00:00\u001b[0m\n",
            "\u001b[?25hRequirement already satisfied: filelock in /usr/local/lib/python3.10/dist-packages (from huggingface-hub>=0.4.0->sentence-transformers) (3.12.0)\n",
            "Requirement already satisfied: fsspec in /usr/local/lib/python3.10/dist-packages (from huggingface-hub>=0.4.0->sentence-transformers) (2023.4.0)\n",
            "Requirement already satisfied: requests in /usr/local/lib/python3.10/dist-packages (from huggingface-hub>=0.4.0->sentence-transformers) (2.27.1)\n",
            "Requirement already satisfied: pyyaml>=5.1 in /usr/local/lib/python3.10/dist-packages (from huggingface-hub>=0.4.0->sentence-transformers) (6.0)\n",
            "Requirement already satisfied: typing-extensions>=3.7.4.3 in /usr/local/lib/python3.10/dist-packages (from huggingface-hub>=0.4.0->sentence-transformers) (4.5.0)\n",
            "Requirement already satisfied: packaging>=20.9 in /usr/local/lib/python3.10/dist-packages (from huggingface-hub>=0.4.0->sentence-transformers) (23.1)\n",
            "Requirement already satisfied: sympy in /usr/local/lib/python3.10/dist-packages (from torch>=1.6.0->sentence-transformers) (1.11.1)\n",
            "Requirement already satisfied: networkx in /usr/local/lib/python3.10/dist-packages (from torch>=1.6.0->sentence-transformers) (3.1)\n",
            "Requirement already satisfied: jinja2 in /usr/local/lib/python3.10/dist-packages (from torch>=1.6.0->sentence-transformers) (3.1.2)\n",
            "Requirement already satisfied: triton==2.0.0 in /usr/local/lib/python3.10/dist-packages (from torch>=1.6.0->sentence-transformers) (2.0.0)\n",
            "Requirement already satisfied: cmake in /usr/local/lib/python3.10/dist-packages (from triton==2.0.0->torch>=1.6.0->sentence-transformers) (3.25.2)\n",
            "Requirement already satisfied: lit in /usr/local/lib/python3.10/dist-packages (from triton==2.0.0->torch>=1.6.0->sentence-transformers) (16.0.5)\n",
            "Requirement already satisfied: regex!=2019.12.17 in /usr/local/lib/python3.10/dist-packages (from transformers<5.0.0,>=4.6.0->sentence-transformers) (2022.10.31)\n",
            "Collecting tokenizers!=0.11.3,<0.14,>=0.11.1 (from transformers<5.0.0,>=4.6.0->sentence-transformers)\n",
            "  Downloading tokenizers-0.13.3-cp310-cp310-manylinux_2_17_x86_64.manylinux2014_x86_64.whl (7.8 MB)\n",
            "\u001b[2K     \u001b[90m━━━━━━━━━━━━━━━━━━━━━━━━━━━━━━━━━━━━━━━━\u001b[0m \u001b[32m7.8/7.8 MB\u001b[0m \u001b[31m117.4 MB/s\u001b[0m eta \u001b[36m0:00:00\u001b[0m\n",
            "\u001b[?25hCollecting safetensors>=0.3.1 (from transformers<5.0.0,>=4.6.0->sentence-transformers)\n",
            "  Downloading safetensors-0.3.1-cp310-cp310-manylinux_2_17_x86_64.manylinux2014_x86_64.whl (1.3 MB)\n",
            "\u001b[2K     \u001b[90m━━━━━━━━━━━━━━━━━━━━━━━━━━━━━━━━━━━━━━━━\u001b[0m \u001b[32m1.3/1.3 MB\u001b[0m \u001b[31m88.2 MB/s\u001b[0m eta \u001b[36m0:00:00\u001b[0m\n",
            "\u001b[?25hRequirement already satisfied: click in /usr/local/lib/python3.10/dist-packages (from nltk->sentence-transformers) (8.1.3)\n",
            "Requirement already satisfied: joblib in /usr/local/lib/python3.10/dist-packages (from nltk->sentence-transformers) (1.2.0)\n",
            "Requirement already satisfied: threadpoolctl>=2.0.0 in /usr/local/lib/python3.10/dist-packages (from scikit-learn->sentence-transformers) (3.1.0)\n",
            "Requirement already satisfied: pillow!=8.3.*,>=5.3.0 in /usr/local/lib/python3.10/dist-packages (from torchvision->sentence-transformers) (8.4.0)\n",
            "Requirement already satisfied: MarkupSafe>=2.0 in /usr/local/lib/python3.10/dist-packages (from jinja2->torch>=1.6.0->sentence-transformers) (2.1.2)\n",
            "Requirement already satisfied: urllib3<1.27,>=1.21.1 in /usr/local/lib/python3.10/dist-packages (from requests->huggingface-hub>=0.4.0->sentence-transformers) (1.26.15)\n",
            "Requirement already satisfied: certifi>=2017.4.17 in /usr/local/lib/python3.10/dist-packages (from requests->huggingface-hub>=0.4.0->sentence-transformers) (2022.12.7)\n",
            "Requirement already satisfied: charset-normalizer~=2.0.0 in /usr/local/lib/python3.10/dist-packages (from requests->huggingface-hub>=0.4.0->sentence-transformers) (2.0.12)\n",
            "Requirement already satisfied: idna<4,>=2.5 in /usr/local/lib/python3.10/dist-packages (from requests->huggingface-hub>=0.4.0->sentence-transformers) (3.4)\n",
            "Requirement already satisfied: mpmath>=0.19 in /usr/local/lib/python3.10/dist-packages (from sympy->torch>=1.6.0->sentence-transformers) (1.3.0)\n",
            "Building wheels for collected packages: sentence-transformers\n",
            "  Building wheel for sentence-transformers (setup.py) ... \u001b[?25l\u001b[?25hdone\n",
            "  Created wheel for sentence-transformers: filename=sentence_transformers-2.2.2-py3-none-any.whl size=125926 sha256=0b3f2a1b0eb9aa6efcfe42cbb9f03a45762ebb83ec5270ca4a7136b128de5e38\n",
            "  Stored in directory: /root/.cache/pip/wheels/62/f2/10/1e606fd5f02395388f74e7462910fe851042f97238cbbd902f\n",
            "Successfully built sentence-transformers\n",
            "Installing collected packages: tokenizers, sentencepiece, safetensors, huggingface-hub, transformers, sentence-transformers\n",
            "Successfully installed huggingface-hub-0.15.1 safetensors-0.3.1 sentence-transformers-2.2.2 sentencepiece-0.1.99 tokenizers-0.13.3 transformers-4.30.1\n",
            "Looking in indexes: https://pypi.org/simple, https://us-python.pkg.dev/colab-wheels/public/simple/\n",
            "Requirement already satisfied: matplotlib in /usr/local/lib/python3.10/dist-packages (3.7.1)\n",
            "Requirement already satisfied: contourpy>=1.0.1 in /usr/local/lib/python3.10/dist-packages (from matplotlib) (1.0.7)\n",
            "Requirement already satisfied: cycler>=0.10 in /usr/local/lib/python3.10/dist-packages (from matplotlib) (0.11.0)\n",
            "Requirement already satisfied: fonttools>=4.22.0 in /usr/local/lib/python3.10/dist-packages (from matplotlib) (4.39.3)\n",
            "Requirement already satisfied: kiwisolver>=1.0.1 in /usr/local/lib/python3.10/dist-packages (from matplotlib) (1.4.4)\n",
            "Requirement already satisfied: numpy>=1.20 in /usr/local/lib/python3.10/dist-packages (from matplotlib) (1.22.4)\n",
            "Requirement already satisfied: packaging>=20.0 in /usr/local/lib/python3.10/dist-packages (from matplotlib) (23.1)\n",
            "Requirement already satisfied: pillow>=6.2.0 in /usr/local/lib/python3.10/dist-packages (from matplotlib) (8.4.0)\n",
            "Requirement already satisfied: pyparsing>=2.3.1 in /usr/local/lib/python3.10/dist-packages (from matplotlib) (3.0.9)\n",
            "Requirement already satisfied: python-dateutil>=2.7 in /usr/local/lib/python3.10/dist-packages (from matplotlib) (2.8.2)\n",
            "Requirement already satisfied: six>=1.5 in /usr/local/lib/python3.10/dist-packages (from python-dateutil>=2.7->matplotlib) (1.16.0)\n",
            "Looking in indexes: https://pypi.org/simple, https://us-python.pkg.dev/colab-wheels/public/simple/\n",
            "Collecting langchain\n",
            "  Downloading langchain-0.0.197-py3-none-any.whl (1.0 MB)\n",
            "\u001b[2K     \u001b[90m━━━━━━━━━━━━━━━━━━━━━━━━━━━━━━━━━━━━━━━━\u001b[0m \u001b[32m1.0/1.0 MB\u001b[0m \u001b[31m3.7 MB/s\u001b[0m eta \u001b[36m0:00:00\u001b[0m\n",
            "\u001b[?25hRequirement already satisfied: PyYAML>=5.4.1 in /usr/local/lib/python3.10/dist-packages (from langchain) (6.0)\n",
            "Requirement already satisfied: SQLAlchemy<3,>=1.4 in /usr/local/lib/python3.10/dist-packages (from langchain) (2.0.10)\n",
            "Collecting aiohttp<4.0.0,>=3.8.3 (from langchain)\n",
            "  Downloading aiohttp-3.8.4-cp310-cp310-manylinux_2_17_x86_64.manylinux2014_x86_64.whl (1.0 MB)\n",
            "\u001b[2K     \u001b[90m━━━━━━━━━━━━━━━━━━━━━━━━━━━━━━━━━━━━━━━━\u001b[0m \u001b[32m1.0/1.0 MB\u001b[0m \u001b[31m73.1 MB/s\u001b[0m eta \u001b[36m0:00:00\u001b[0m\n",
            "\u001b[?25hCollecting async-timeout<5.0.0,>=4.0.0 (from langchain)\n",
            "  Downloading async_timeout-4.0.2-py3-none-any.whl (5.8 kB)\n",
            "Collecting dataclasses-json<0.6.0,>=0.5.7 (from langchain)\n",
            "  Downloading dataclasses_json-0.5.8-py3-none-any.whl (26 kB)\n",
            "Collecting langchainplus-sdk>=0.0.7 (from langchain)\n",
            "  Downloading langchainplus_sdk-0.0.8-py3-none-any.whl (22 kB)\n",
            "Requirement already satisfied: numexpr<3.0.0,>=2.8.4 in /usr/local/lib/python3.10/dist-packages (from langchain) (2.8.4)\n",
            "Requirement already satisfied: numpy<2,>=1 in /usr/local/lib/python3.10/dist-packages (from langchain) (1.22.4)\n",
            "Collecting openapi-schema-pydantic<2.0,>=1.2 (from langchain)\n",
            "  Downloading openapi_schema_pydantic-1.2.4-py3-none-any.whl (90 kB)\n",
            "\u001b[2K     \u001b[90m━━━━━━━━━━━━━━━━━━━━━━━━━━━━━━━━━━━━━━━━\u001b[0m \u001b[32m90.0/90.0 kB\u001b[0m \u001b[31m13.9 MB/s\u001b[0m eta \u001b[36m0:00:00\u001b[0m\n",
            "\u001b[?25hRequirement already satisfied: pydantic<2,>=1 in /usr/local/lib/python3.10/dist-packages (from langchain) (1.10.7)\n",
            "Requirement already satisfied: requests<3,>=2 in /usr/local/lib/python3.10/dist-packages (from langchain) (2.27.1)\n",
            "Requirement already satisfied: tenacity<9.0.0,>=8.1.0 in /usr/local/lib/python3.10/dist-packages (from langchain) (8.2.2)\n",
            "Requirement already satisfied: attrs>=17.3.0 in /usr/local/lib/python3.10/dist-packages (from aiohttp<4.0.0,>=3.8.3->langchain) (23.1.0)\n",
            "Requirement already satisfied: charset-normalizer<4.0,>=2.0 in /usr/local/lib/python3.10/dist-packages (from aiohttp<4.0.0,>=3.8.3->langchain) (2.0.12)\n",
            "Collecting multidict<7.0,>=4.5 (from aiohttp<4.0.0,>=3.8.3->langchain)\n",
            "  Downloading multidict-6.0.4-cp310-cp310-manylinux_2_17_x86_64.manylinux2014_x86_64.whl (114 kB)\n",
            "\u001b[2K     \u001b[90m━━━━━━━━━━━━━━━━━━━━━━━━━━━━━━━━━━━━━━\u001b[0m \u001b[32m114.5/114.5 kB\u001b[0m \u001b[31m16.6 MB/s\u001b[0m eta \u001b[36m0:00:00\u001b[0m\n",
            "\u001b[?25hCollecting yarl<2.0,>=1.0 (from aiohttp<4.0.0,>=3.8.3->langchain)\n",
            "  Downloading yarl-1.9.2-cp310-cp310-manylinux_2_17_x86_64.manylinux2014_x86_64.whl (268 kB)\n",
            "\u001b[2K     \u001b[90m━━━━━━━━━━━━━━━━━━━━━━━━━━━━━━━━━━━━━━\u001b[0m \u001b[32m268.8/268.8 kB\u001b[0m \u001b[31m33.9 MB/s\u001b[0m eta \u001b[36m0:00:00\u001b[0m\n",
            "\u001b[?25hCollecting frozenlist>=1.1.1 (from aiohttp<4.0.0,>=3.8.3->langchain)\n",
            "  Downloading frozenlist-1.3.3-cp310-cp310-manylinux_2_5_x86_64.manylinux1_x86_64.manylinux_2_17_x86_64.manylinux2014_x86_64.whl (149 kB)\n",
            "\u001b[2K     \u001b[90m━━━━━━━━━━━━━━━━━━━━━━━━━━━━━━━━━━━━━━\u001b[0m \u001b[32m149.6/149.6 kB\u001b[0m \u001b[31m21.7 MB/s\u001b[0m eta \u001b[36m0:00:00\u001b[0m\n",
            "\u001b[?25hCollecting aiosignal>=1.1.2 (from aiohttp<4.0.0,>=3.8.3->langchain)\n",
            "  Downloading aiosignal-1.3.1-py3-none-any.whl (7.6 kB)\n",
            "Collecting marshmallow<4.0.0,>=3.3.0 (from dataclasses-json<0.6.0,>=0.5.7->langchain)\n",
            "  Downloading marshmallow-3.19.0-py3-none-any.whl (49 kB)\n",
            "\u001b[2K     \u001b[90m━━━━━━━━━━━━━━━━━━━━━━━━━━━━━━━━━━━━━━━━\u001b[0m \u001b[32m49.1/49.1 kB\u001b[0m \u001b[31m7.3 MB/s\u001b[0m eta \u001b[36m0:00:00\u001b[0m\n",
            "\u001b[?25hCollecting marshmallow-enum<2.0.0,>=1.5.1 (from dataclasses-json<0.6.0,>=0.5.7->langchain)\n",
            "  Downloading marshmallow_enum-1.5.1-py2.py3-none-any.whl (4.2 kB)\n",
            "Collecting typing-inspect>=0.4.0 (from dataclasses-json<0.6.0,>=0.5.7->langchain)\n",
            "  Downloading typing_inspect-0.9.0-py3-none-any.whl (8.8 kB)\n",
            "Requirement already satisfied: typing-extensions>=4.2.0 in /usr/local/lib/python3.10/dist-packages (from pydantic<2,>=1->langchain) (4.5.0)\n",
            "Requirement already satisfied: urllib3<1.27,>=1.21.1 in /usr/local/lib/python3.10/dist-packages (from requests<3,>=2->langchain) (1.26.15)\n",
            "Requirement already satisfied: certifi>=2017.4.17 in /usr/local/lib/python3.10/dist-packages (from requests<3,>=2->langchain) (2022.12.7)\n",
            "Requirement already satisfied: idna<4,>=2.5 in /usr/local/lib/python3.10/dist-packages (from requests<3,>=2->langchain) (3.4)\n",
            "Requirement already satisfied: greenlet!=0.4.17 in /usr/local/lib/python3.10/dist-packages (from SQLAlchemy<3,>=1.4->langchain) (2.0.2)\n",
            "Requirement already satisfied: packaging>=17.0 in /usr/local/lib/python3.10/dist-packages (from marshmallow<4.0.0,>=3.3.0->dataclasses-json<0.6.0,>=0.5.7->langchain) (23.1)\n",
            "Collecting mypy-extensions>=0.3.0 (from typing-inspect>=0.4.0->dataclasses-json<0.6.0,>=0.5.7->langchain)\n",
            "  Downloading mypy_extensions-1.0.0-py3-none-any.whl (4.7 kB)\n",
            "Installing collected packages: mypy-extensions, multidict, marshmallow, frozenlist, async-timeout, yarl, typing-inspect, openapi-schema-pydantic, marshmallow-enum, langchainplus-sdk, aiosignal, dataclasses-json, aiohttp, langchain\n",
            "Successfully installed aiohttp-3.8.4 aiosignal-1.3.1 async-timeout-4.0.2 dataclasses-json-0.5.8 frozenlist-1.3.3 langchain-0.0.197 langchainplus-sdk-0.0.8 marshmallow-3.19.0 marshmallow-enum-1.5.1 multidict-6.0.4 mypy-extensions-1.0.0 openapi-schema-pydantic-1.2.4 typing-inspect-0.9.0 yarl-1.9.2\n",
            "Looking in indexes: https://pypi.org/simple, https://us-python.pkg.dev/colab-wheels/public/simple/\n",
            "Collecting openai\n",
            "  Downloading openai-0.27.8-py3-none-any.whl (73 kB)\n",
            "\u001b[2K     \u001b[90m━━━━━━━━━━━━━━━━━━━━━━━━━━━━━━━━━━━━━━━━\u001b[0m \u001b[32m73.6/73.6 kB\u001b[0m \u001b[31m9.1 MB/s\u001b[0m eta \u001b[36m0:00:00\u001b[0m\n",
            "\u001b[?25hRequirement already satisfied: requests>=2.20 in /usr/local/lib/python3.10/dist-packages (from openai) (2.27.1)\n",
            "Requirement already satisfied: tqdm in /usr/local/lib/python3.10/dist-packages (from openai) (4.65.0)\n",
            "Requirement already satisfied: aiohttp in /usr/local/lib/python3.10/dist-packages (from openai) (3.8.4)\n",
            "Requirement already satisfied: urllib3<1.27,>=1.21.1 in /usr/local/lib/python3.10/dist-packages (from requests>=2.20->openai) (1.26.15)\n",
            "Requirement already satisfied: certifi>=2017.4.17 in /usr/local/lib/python3.10/dist-packages (from requests>=2.20->openai) (2022.12.7)\n",
            "Requirement already satisfied: charset-normalizer~=2.0.0 in /usr/local/lib/python3.10/dist-packages (from requests>=2.20->openai) (2.0.12)\n",
            "Requirement already satisfied: idna<4,>=2.5 in /usr/local/lib/python3.10/dist-packages (from requests>=2.20->openai) (3.4)\n",
            "Requirement already satisfied: attrs>=17.3.0 in /usr/local/lib/python3.10/dist-packages (from aiohttp->openai) (23.1.0)\n",
            "Requirement already satisfied: multidict<7.0,>=4.5 in /usr/local/lib/python3.10/dist-packages (from aiohttp->openai) (6.0.4)\n",
            "Requirement already satisfied: async-timeout<5.0,>=4.0.0a3 in /usr/local/lib/python3.10/dist-packages (from aiohttp->openai) (4.0.2)\n",
            "Requirement already satisfied: yarl<2.0,>=1.0 in /usr/local/lib/python3.10/dist-packages (from aiohttp->openai) (1.9.2)\n",
            "Requirement already satisfied: frozenlist>=1.1.1 in /usr/local/lib/python3.10/dist-packages (from aiohttp->openai) (1.3.3)\n",
            "Requirement already satisfied: aiosignal>=1.1.2 in /usr/local/lib/python3.10/dist-packages (from aiohttp->openai) (1.3.1)\n",
            "Installing collected packages: openai\n",
            "Successfully installed openai-0.27.8\n"
          ]
        }
      ]
    },
    {
      "cell_type": "code",
      "source": [
        "# Package imports that will be needed for this project\n",
        "\n",
        "import numpy as np\n",
        "import json\n",
        "from collections import Counter\n",
        "from sklearn.metrics import accuracy_score, f1_score\n",
        "from sentence_transformers import SentenceTransformer\n",
        "from sklearn.base import BaseEstimator, TransformerMixin\n",
        "from pprint import pprint\n",
        "from sklearn.pipeline import Pipeline\n",
        "from sklearn.linear_model import LogisticRegression\n",
        "from sklearn.preprocessing import StandardScaler\n",
        "from sklearn.feature_extraction.text import CountVectorizer, TfidfTransformer\n",
        "\n",
        "# [TO BE IMPLEMENTED]\n",
        "# Add any other imports needed below depending on the model architectures you are using. For e.g.\n",
        "# from sklearn.linear_model import LogisticRegression"
      ],
      "metadata": {
        "id": "yiDpaCRTZOKL"
      },
      "execution_count": null,
      "outputs": []
    },
    {
      "cell_type": "code",
      "source": [
        "# Global Constants\n",
        "LABEL_SET = [\n",
        "    'Business',\n",
        "    'Sci/Tech',\n",
        "    'Software and Developement',\n",
        "    'Entertainment',\n",
        "    'Sports',\n",
        "    'Health',\n",
        "    'Toons',\n",
        "    'Music Feeds'\n",
        "]\n",
        "\n",
        "SENTENCE_TRANSFORMER_MODEL = 'all-mpnet-base-v2'\n",
        "\n",
        "TRAIN_SIZE_EVALS = [500, 1000, 10000, 25000]\n",
        "EPS = 0.001\n",
        "SEED = 0\n",
        "\n",
        "np.random.seed(SEED)"
      ],
      "metadata": {
        "id": "p9asDVPMZlf3"
      },
      "execution_count": null,
      "outputs": []
    },
    {
      "cell_type": "markdown",
      "source": [
        "## Step 2: Download & Load Datasets\n",
        "\n",
        "[AG News](http://groups.di.unipi.it/~gulli/AG_corpus_of_news_articles.html) is a collection of more than 1 million news articles gathered from more than 2000 news sources by an academic news search engine. The news topic classification dataset & benchmark was first used in [Character-level Convolutional Networks for Text Classification (NIPS 2015)](https://arxiv.org/abs/1509.01626). The dataset has the text description (summary) of the news article along with some metadata. **For this project, we will use a slightly modified (cleaned up) version of this dataset**\n",
        "\n",
        "Schema:\n",
        "* Source - News publication source\n",
        "* URL - URL of the news article\n",
        "* Title - Title of the news article\n",
        "* Description - Summary description of the news article\n",
        "* Category (Label) - News category\n",
        "\n",
        "Sample row in this dataset:\n",
        "```\n",
        "{\n",
        "    'description': 'A capsule carrying solar material from the Genesis space '\n",
        "                'probe has made a crash landing at a US Air Force training '\n",
        "                'facility in the US state of Utah.',\n",
        "    'id': 86273,\n",
        "    'label': 'Entertainment',\n",
        "    'source': 'Voice of America',\n",
        "    'title': 'Capsule from Genesis Space Probe Crashes in Utah Desert',\n",
        "    'url': 'http://www.sciencedaily.com/releases/2004/09/040908090621.htm'\n",
        " }\n",
        "```\n",
        "\n",
        "\n"
      ],
      "metadata": {
        "id": "gLu2IBiqZsgs"
      }
    },
    {
      "cell_type": "code",
      "source": [
        "from urllib.request import urlopen\n",
        "from io import BytesIO\n",
        "from zipfile import ZipFile\n",
        "\n",
        "DIRECTORY_NAME = \"data\"\n",
        "DOWNLOAD_URL = 'https://corise-mlops.s3.us-west-2.amazonaws.com/project1/agnews.zip'\n",
        "\n",
        "def download_dataset():\n",
        "    \"\"\"\n",
        "    Download the dataset. The zip contains three files: train.json, test.json and unlabeled.json\n",
        "    \"\"\"\n",
        "    http_response = urlopen(DOWNLOAD_URL)\n",
        "    zipfile = ZipFile(BytesIO(http_response.read()))\n",
        "    zipfile.extractall(path=DIRECTORY_NAME)\n",
        "\n",
        "# Expensive operation so we should just do this once\n",
        "download_dataset()"
      ],
      "metadata": {
        "id": "jFGaBYdSZtqM"
      },
      "execution_count": null,
      "outputs": []
    },
    {
      "cell_type": "code",
      "source": [
        "Datasets = {}\n",
        "\n",
        "for ds in ['train', 'test_mini', 'augment']:\n",
        "    with open('data/{}.json'.format(ds), 'r') as f:\n",
        "        if ds == 'test_mini':\n",
        "          Datasets['test'] = json.load(f)\n",
        "        else:\n",
        "          Datasets[ds] = json.load(f)\n",
        "    print(\"Loaded Dataset {0}\".format(ds))\n",
        "\n",
        "print(\"\\nExample train row:\\n\")\n",
        "pprint(Datasets['train'][0])\n",
        "\n",
        "print(\"\\nExample test row:\\n\")\n",
        "pprint(Datasets['test'][0])"
      ],
      "metadata": {
        "id": "zYnT4BIcZ5vX",
        "colab": {
          "base_uri": "https://localhost:8080/"
        },
        "outputId": "5b5292bf-7b52-42a1-ab4b-76d808929c8c"
      },
      "execution_count": null,
      "outputs": [
        {
          "output_type": "stream",
          "name": "stdout",
          "text": [
            "Loaded Dataset train\n",
            "Loaded Dataset test_mini\n",
            "Loaded Dataset augment\n",
            "\n",
            "Example train row:\n",
            "\n",
            "{'description': 'A capsule carrying solar material from the Genesis space '\n",
            "                'probe has made a crash landing at a US Air Force training '\n",
            "                'facility in the US state of Utah.',\n",
            " 'id': 86273,\n",
            " 'label': 'Entertainment',\n",
            " 'source': 'Voice of America',\n",
            " 'title': 'Capsule from Genesis Space Probe Crashes in Utah Desert',\n",
            " 'url': 'http://www.sciencedaily.com/releases/2004/09/040908090621.htm'}\n",
            "\n",
            "Example test row:\n",
            "\n",
            "{'description': \"AP - Denny Neagle's contract was terminated by the Colorado \"\n",
            "                'Rockies on Monday, three days after the oft-injured pitcher '\n",
            "                'was cited for solicitation.',\n",
            " 'id': 116767,\n",
            " 'label': 'Sports',\n",
            " 'source': 'Yahoo Sports',\n",
            " 'title': \"Rockies Terminate Neagle's Contract (AP)\",\n",
            " 'url': 'http://us.rd.yahoo.com/dailynews/rss/sports/*http://story.news.yahoo.com/news?tmpl=story2 '\n",
            "        'u=/ap/20041207/ap_on_sp_ba_ne/bbn_rockies_neagle'}\n"
          ]
        }
      ]
    },
    {
      "cell_type": "code",
      "source": [
        "X_train, Y_train = [], []\n",
        "X_test, Y_true = [], []\n",
        "X_augment, Y_augment = [], []\n",
        "\n",
        "for row in Datasets['train']:\n",
        "    X_train.append(row['description'])\n",
        "    Y_train.append(row['label'])\n",
        "\n",
        "for row in Datasets['test']:\n",
        "    X_test.append(row['description'])\n",
        "    Y_true.append(row['label'])\n",
        "\n",
        "for row in Datasets['augment']:\n",
        "    X_augment.append(row['description'])\n",
        "    Y_augment.append(row['label'])"
      ],
      "metadata": {
        "id": "TcwebhuYZ8Kb"
      },
      "execution_count": null,
      "outputs": []
    },
    {
      "cell_type": "markdown",
      "source": [
        "## Step 3: [Modeling part 1] N-gram model\n"
      ],
      "metadata": {
        "id": "KoayaMr8aBwp"
      }
    },
    {
      "cell_type": "markdown",
      "source": [
        "### With `StandardScaler` Preprocessing Step"
      ],
      "metadata": {
        "id": "QF3a5l8hC2Ld"
      }
    },
    {
      "cell_type": "code",
      "source": [
        "models = {}\n",
        "\n",
        "for n in TRAIN_SIZE_EVALS:\n",
        "    print(\"Evaluating for training data size = {}\".format(n))\n",
        "    X_train_i = X_train[:n]\n",
        "    Y_train_i = Y_train[:n]\n",
        "\n",
        "    \"\"\"\n",
        "    [TO BE IMPLEMENTED]\n",
        "\n",
        "    Goal: initialized below is a dummy sklearn Pipeline object with no steps.\n",
        "    You have to replace it with a pipeline object which contains at least two steps:\n",
        "    (1) mapping the input document to an N-gram feature extractor. You can use feature extractors\n",
        "        provided by sklearn out of the box (e.g. CountVectorizer, TfidfTransformer)\n",
        "    (2) a classifier that predicts the class label using the feature output of first step\n",
        "\n",
        "    You can add other steps to preproces, post-process your data as you see fit.\n",
        "    You can also try any sklearn model architecture you want, but a linear classifier\n",
        "    will do just fine to start with\n",
        "\n",
        "    e.g.\n",
        "    pipeline = Pipeline([\n",
        "        ('featurizer', <your N-gram featurizer class instance here>),\n",
        "        ('classifier', <your sklearn classifier class instance here>)\n",
        "    ])\n",
        "\n",
        "    Reference: https://scikit-learn.org/stable/tutorial/text_analytics/working_with_text_data.html\n",
        "    \"\"\"\n",
        "    pipeline = Pipeline([\n",
        "        ('vectorizer', CountVectorizer(ngram_range=(1, 2))),\n",
        "        (\"scaler\", StandardScaler(with_mean=False)),\n",
        "        ('classifier', LogisticRegression(max_iter=1000))\n",
        "    ])\n",
        "\n",
        "    # train\n",
        "    pipeline.fit(X_train_i, Y_train_i)\n",
        "    # predict\n",
        "    Y_pred_i = pipeline.predict(X_test)\n",
        "    # record results\n",
        "    models[n] = {\n",
        "        'pipeline': pipeline,\n",
        "        'test_predictions': Y_pred_i,\n",
        "        'accuracy': accuracy_score(Y_true, Y_pred_i),\n",
        "        'f1': f1_score(Y_true, Y_pred_i, average='weighted'),\n",
        "        'errors': sum([x != y for (x, y) in zip(Y_true, Y_pred_i)])\n",
        "    }\n",
        "    print(\"Accuracy on test set: {}\".format(accuracy_score(Y_true, Y_pred_i)))"
      ],
      "metadata": {
        "id": "n2zIahH6aHJ9",
        "colab": {
          "base_uri": "https://localhost:8080/"
        },
        "outputId": "ffd7f700-662f-42fe-d971-0666d65ba8f7"
      },
      "execution_count": null,
      "outputs": [
        {
          "output_type": "stream",
          "name": "stdout",
          "text": [
            "Evaluating for training data size = 500\n",
            "Accuracy on test set: 0.259\n",
            "Evaluating for training data size = 1000\n"
          ]
        },
        {
          "output_type": "stream",
          "name": "stderr",
          "text": [
            "/usr/local/lib/python3.10/dist-packages/sklearn/linear_model/_logistic.py:458: ConvergenceWarning: lbfgs failed to converge (status=1):\n",
            "STOP: TOTAL NO. of ITERATIONS REACHED LIMIT.\n",
            "\n",
            "Increase the number of iterations (max_iter) or scale the data as shown in:\n",
            "    https://scikit-learn.org/stable/modules/preprocessing.html\n",
            "Please also refer to the documentation for alternative solver options:\n",
            "    https://scikit-learn.org/stable/modules/linear_model.html#logistic-regression\n",
            "  n_iter_i = _check_optimize_result(\n"
          ]
        },
        {
          "output_type": "stream",
          "name": "stdout",
          "text": [
            "Accuracy on test set: 0.336\n",
            "Evaluating for training data size = 10000\n"
          ]
        },
        {
          "output_type": "stream",
          "name": "stderr",
          "text": [
            "/usr/local/lib/python3.10/dist-packages/sklearn/linear_model/_logistic.py:458: ConvergenceWarning: lbfgs failed to converge (status=1):\n",
            "STOP: TOTAL NO. of ITERATIONS REACHED LIMIT.\n",
            "\n",
            "Increase the number of iterations (max_iter) or scale the data as shown in:\n",
            "    https://scikit-learn.org/stable/modules/preprocessing.html\n",
            "Please also refer to the documentation for alternative solver options:\n",
            "    https://scikit-learn.org/stable/modules/linear_model.html#logistic-regression\n",
            "  n_iter_i = _check_optimize_result(\n"
          ]
        },
        {
          "output_type": "stream",
          "name": "stdout",
          "text": [
            "Accuracy on test set: 0.649\n",
            "Evaluating for training data size = 25000\n",
            "Accuracy on test set: 0.708\n"
          ]
        },
        {
          "output_type": "stream",
          "name": "stderr",
          "text": [
            "/usr/local/lib/python3.10/dist-packages/sklearn/linear_model/_logistic.py:458: ConvergenceWarning: lbfgs failed to converge (status=1):\n",
            "STOP: TOTAL NO. of ITERATIONS REACHED LIMIT.\n",
            "\n",
            "Increase the number of iterations (max_iter) or scale the data as shown in:\n",
            "    https://scikit-learn.org/stable/modules/preprocessing.html\n",
            "Please also refer to the documentation for alternative solver options:\n",
            "    https://scikit-learn.org/stable/modules/linear_model.html#logistic-regression\n",
            "  n_iter_i = _check_optimize_result(\n"
          ]
        }
      ]
    },
    {
      "cell_type": "markdown",
      "source": [
        "### Without `StandardScaler` Preprocessing Step"
      ],
      "metadata": {
        "id": "uc8xB1z1C_D-"
      }
    },
    {
      "cell_type": "code",
      "source": [
        "models = {}\n",
        "\n",
        "for n in TRAIN_SIZE_EVALS:\n",
        "    print(\"Evaluating for training data size = {}\".format(n))\n",
        "    X_train_i = X_train[:n]\n",
        "    Y_train_i = Y_train[:n]\n",
        "\n",
        "    \"\"\"\n",
        "    [TO BE IMPLEMENTED]\n",
        "\n",
        "    Goal: initialized below is a dummy sklearn Pipeline object with no steps.\n",
        "    You have to replace it with a pipeline object which contains at least two steps:\n",
        "    (1) mapping the input document to an N-gram feature extractor. You can use feature extractors\n",
        "        provided by sklearn out of the box (e.g. CountVectorizer, TfidfTransformer)\n",
        "    (2) a classifier that predicts the class label using the feature output of first step\n",
        "\n",
        "    You can add other steps to preproces, post-process your data as you see fit.\n",
        "    You can also try any sklearn model architecture you want, but a linear classifier\n",
        "    will do just fine to start with\n",
        "\n",
        "    e.g.\n",
        "    pipeline = Pipeline([\n",
        "        ('featurizer', <your N-gram featurizer class instance here>),\n",
        "        ('classifier', <your sklearn classifier class instance here>)\n",
        "    ])\n",
        "\n",
        "    Reference: https://scikit-learn.org/stable/tutorial/text_analytics/working_with_text_data.html\n",
        "    \"\"\"\n",
        "    pipeline = Pipeline([\n",
        "        ('vectorizer', CountVectorizer(ngram_range=(1, 2))),\n",
        "        # (\"scaler\", StandardScaler(with_mean=False)),\n",
        "        ('classifier', LogisticRegression(max_iter=1000))\n",
        "    ])\n",
        "\n",
        "    # train\n",
        "    pipeline.fit(X_train_i, Y_train_i)\n",
        "    # predict\n",
        "    Y_pred_i = pipeline.predict(X_test)\n",
        "    # record results\n",
        "    models[n] = {\n",
        "        'pipeline': pipeline,\n",
        "        'test_predictions': Y_pred_i,\n",
        "        'accuracy': accuracy_score(Y_true, Y_pred_i),\n",
        "        'f1': f1_score(Y_true, Y_pred_i, average='weighted'),\n",
        "        'errors': sum([x != y for (x, y) in zip(Y_true, Y_pred_i)])\n",
        "    }\n",
        "    print(\"Accuracy on test set: {}\".format(accuracy_score(Y_true, Y_pred_i)))"
      ],
      "metadata": {
        "colab": {
          "base_uri": "https://localhost:8080/"
        },
        "id": "b-EoJaGiDyEP",
        "outputId": "a263b97f-c214-45fc-be2e-d7a7fde441b2"
      },
      "execution_count": null,
      "outputs": [
        {
          "output_type": "stream",
          "name": "stdout",
          "text": [
            "Evaluating for training data size = 500\n",
            "Accuracy on test set: 0.551\n",
            "Evaluating for training data size = 1000\n",
            "Accuracy on test set: 0.597\n",
            "Evaluating for training data size = 10000\n",
            "Accuracy on test set: 0.724\n",
            "Evaluating for training data size = 25000\n",
            "Accuracy on test set: 0.749\n"
          ]
        }
      ]
    },
    {
      "cell_type": "markdown",
      "source": [
        "## Step 4: [Modeling part 2] Pretrained Transformer model"
      ],
      "metadata": {
        "id": "OBxVNbWBaMhc"
      }
    },
    {
      "cell_type": "code",
      "source": [
        "import torch\n",
        "\n",
        "device = torch.device(\"cuda\" if torch.cuda.is_available() else \"cpu\")"
      ],
      "metadata": {
        "id": "bvlqerjOCARx"
      },
      "execution_count": null,
      "outputs": []
    },
    {
      "cell_type": "code",
      "source": [
        "# Initialize the pretrained transformer model\n",
        "sentence_transformer_model = SentenceTransformer(\n",
        "    'sentence-transformers/{model}'.format(model=SENTENCE_TRANSFORMER_MODEL))\n",
        "\n",
        "sentence_transformer_model.to(device)\n",
        "\n",
        "# Sanity check\n",
        "example_encoding = sentence_transformer_model.encode(\n",
        "    \"This is an example sentence\",\n",
        "    normalize_embeddings=True\n",
        ")\n",
        "\n",
        "print(example_encoding)\n"
      ],
      "metadata": {
        "id": "27TJGTZfavys",
        "colab": {
          "base_uri": "https://localhost:8080/"
        },
        "outputId": "2afd3332-24e8-4317-f6c0-b9cb9751a639"
      },
      "execution_count": null,
      "outputs": [
        {
          "output_type": "stream",
          "name": "stdout",
          "text": [
            "[ 2.25025900e-02 -7.82917067e-02 -2.30307188e-02 -5.10007096e-03\n",
            " -8.03404599e-02  3.91321704e-02  1.13428961e-02  3.46486131e-03\n",
            " -2.94575058e-02 -1.88930091e-02  9.47433785e-02  2.92747822e-02\n",
            "  3.94859500e-02 -4.63165902e-02  2.54246034e-02 -3.21999118e-02\n",
            "  6.21928275e-02  1.55591685e-02 -4.67795245e-02  5.03901616e-02\n",
            "  1.46113848e-02  2.31413655e-02  1.22066820e-02  2.50696577e-02\n",
            "  2.93658045e-03 -4.19822000e-02 -4.01037559e-03 -2.27843784e-02\n",
            " -7.68590532e-03 -3.31090689e-02  3.22118327e-02 -2.09992509e-02\n",
            "  1.16730863e-02 -9.85073894e-02  1.77932634e-06 -2.29932126e-02\n",
            " -1.31140864e-02 -2.80222520e-02 -6.99970722e-02  2.59314012e-02\n",
            " -2.89501883e-02  8.76336321e-02 -1.20919021e-02  3.98605317e-02\n",
            " -3.31381932e-02  3.59108262e-02  3.46098915e-02  6.49784058e-02\n",
            " -3.00817229e-02  6.98187947e-02 -3.99511913e-03 -1.01598608e-03\n",
            " -3.50185595e-02 -4.36567143e-02  5.08025736e-02  4.68758158e-02\n",
            "  5.39663211e-02 -4.03008275e-02  3.20143020e-03  1.36617851e-02\n",
            "  3.82188372e-02 -3.23847425e-03 -7.84598116e-04 -1.71188656e-02\n",
            "  6.90440321e-03 -1.09237079e-02  8.63301381e-03 -1.82358064e-02\n",
            "  1.87931322e-02  1.54990833e-02  1.02149909e-02 -2.48378655e-03\n",
            "  1.03153186e-02  6.24887533e-02  3.60318623e-03 -6.26623537e-03\n",
            " -2.03405675e-02 -6.72347890e-03 -3.54771726e-02  3.43538299e-02\n",
            "  6.72282055e-02  9.06872973e-02  1.32441251e-02  2.06592474e-02\n",
            " -2.78685298e-02  4.29694578e-02 -4.66859713e-02  1.50115881e-02\n",
            " -6.62284419e-02 -2.27593835e-02 -6.24990463e-02 -2.58456003e-02\n",
            "  7.31315347e-04  1.14653036e-02  5.66383675e-02  2.06243945e-03\n",
            " -4.09248732e-02 -4.55051176e-02  1.66958012e-02 -8.31557363e-02\n",
            "  2.09070533e-03 -8.70914850e-03  1.07664338e-04  3.37445475e-02\n",
            "  5.60347456e-03 -1.66981332e-02  4.47909348e-02  6.31806627e-03\n",
            " -6.45904019e-02  5.29103577e-02  1.93018876e-02 -6.20151404e-03\n",
            " -1.18759990e-01  3.55963670e-02 -2.28864681e-02 -1.51871974e-02\n",
            " -5.92660159e-03 -1.57190414e-04  1.07070077e-02  3.86089110e-03\n",
            " -6.87015057e-02 -1.69752315e-02 -2.79729944e-02  2.80480776e-02\n",
            "  2.47793831e-02  1.20279044e-02 -6.86393678e-02  4.92765009e-02\n",
            "  1.87576748e-02 -2.42343601e-02 -2.05291472e-02 -1.07933860e-02\n",
            "  2.46492960e-02 -3.33322994e-02 -3.28397453e-02  2.91978493e-02\n",
            "  4.92033027e-02 -7.13366270e-03 -1.63390040e-02  1.78584480e-03\n",
            "  2.18068659e-02 -8.90231580e-02 -3.37051786e-02  5.77223673e-03\n",
            " -4.56566177e-02  3.39890905e-02  3.52784395e-02 -3.12627442e-02\n",
            "  8.10832717e-03  2.68614739e-02 -2.23899749e-03  2.81266998e-02\n",
            " -1.75383743e-02 -1.44590028e-02 -3.33480872e-02 -1.62954591e-02\n",
            "  9.70038027e-02 -8.11068155e-03 -2.46668737e-02 -5.87456636e-02\n",
            "  8.74856894e-04  1.67235155e-02  9.15390626e-03 -1.17982482e-03\n",
            " -2.93019647e-03  4.22470551e-03 -2.16529109e-02  4.29305732e-02\n",
            " -5.86095750e-02  3.13417912e-02 -1.29512267e-03 -1.11298375e-02\n",
            " -2.82020122e-02  8.77323970e-02  2.06880886e-02  1.41398339e-02\n",
            "  1.38229271e-02 -1.94184035e-02 -9.01035815e-02 -3.81481252e-03\n",
            " -2.91156466e-03  3.09753921e-02 -1.18769268e-02  1.88289266e-02\n",
            " -4.59066741e-02  4.98210378e-02 -8.39176774e-03 -4.29713428e-02\n",
            " -3.23599130e-02 -3.83800827e-02 -2.99748071e-02  3.69881354e-02\n",
            " -4.44590021e-03 -1.94783919e-02 -2.71527655e-02  2.43246499e-02\n",
            "  9.16449004e-04  5.85004725e-02  1.92714259e-02 -2.57290918e-02\n",
            "  4.08677608e-02  4.36860183e-03  5.13519719e-02  1.57080945e-02\n",
            " -2.46329382e-02 -9.79603827e-03  2.06117029e-03 -4.66644429e-02\n",
            "  3.19585092e-02 -3.73426117e-02  9.35152769e-02  1.85420662e-02\n",
            " -2.60214955e-02  8.05767067e-03 -6.38699858e-05 -4.74147080e-03\n",
            "  2.17362009e-02 -4.03623767e-02 -3.97234745e-02  6.60505295e-02\n",
            " -3.20185646e-02 -1.52356783e-02 -1.53095843e-02  5.58151444e-03\n",
            "  3.96784581e-02 -5.98881021e-02 -2.94910204e-02 -1.53479790e-02\n",
            " -3.32981423e-02 -1.35856280e-02 -2.23695226e-02  1.81124837e-03\n",
            " -2.53542326e-04  7.30922166e-03 -4.96328548e-02  3.74634303e-02\n",
            " -4.42487150e-02 -8.77882093e-02 -1.95525531e-02 -7.44620338e-02\n",
            " -5.28368028e-03 -8.59959051e-03  1.65658072e-02  1.99179072e-02\n",
            " -9.94191226e-03 -2.85210949e-03  7.21454099e-02 -1.99029427e-02\n",
            "  2.95140259e-02 -5.97201101e-02  5.00880852e-02 -2.54911445e-02\n",
            "  2.33916547e-02 -7.12676952e-03  7.38676172e-03 -7.17939883e-02\n",
            "  9.14974720e-04  2.19873618e-02  4.15913248e-03  1.79543961e-02\n",
            "  6.32213503e-02 -2.47940118e-03 -5.26577886e-03  2.34971289e-02\n",
            " -2.61955336e-02 -3.71229425e-02  2.15678941e-02 -5.85354939e-02\n",
            " -1.79577302e-02 -1.20005142e-02  8.96530633e-04 -1.47689451e-02\n",
            "  4.96944822e-02  6.97956607e-03  2.64367573e-02  4.61773798e-02\n",
            "  3.20434049e-02 -3.66006084e-02 -5.08423522e-03  6.88665509e-02\n",
            "  5.68004549e-02 -1.46778096e-02 -4.78474237e-02  1.21871941e-02\n",
            " -2.50420608e-02  3.12442742e-02 -1.79439671e-02 -3.05826366e-02\n",
            "  1.71713636e-03  7.02127069e-02  5.67383505e-02 -1.79368295e-02\n",
            "  2.44000275e-02 -2.86525711e-02 -1.15867369e-02 -2.70408466e-02\n",
            "  3.95130701e-02  4.29957472e-02  2.90972274e-02  2.80838553e-02\n",
            " -4.62749116e-02 -4.28294763e-03  1.19901784e-02 -1.20225083e-02\n",
            " -9.46938526e-03  2.35065967e-02 -3.00627723e-02 -1.69608071e-02\n",
            " -1.59737177e-03 -1.30610643e-02  5.35884239e-02  2.53782775e-02\n",
            "  2.60250308e-02  6.27413169e-02 -2.26463489e-02  6.58664899e-03\n",
            " -3.48779187e-02 -8.88992473e-03 -3.32267024e-02 -1.81600377e-02\n",
            " -6.45450177e-03  1.02021070e-02 -1.25164092e-02  4.20163721e-02\n",
            "  1.12152128e-02 -2.13345382e-02  1.05620828e-02  1.99820697e-02\n",
            "  1.83803905e-02  3.29688261e-03 -8.70437827e-03  1.90762449e-02\n",
            " -4.41013835e-02  9.57714990e-02  2.73615606e-02  1.76533926e-02\n",
            " -2.20417734e-02  3.70631181e-02 -6.52668125e-04 -1.44511657e-02\n",
            "  1.09790824e-02 -8.40488076e-03 -3.26200016e-03 -2.20720433e-02\n",
            " -1.90347210e-02 -1.60558317e-02 -4.08147909e-02  1.11608747e-02\n",
            " -6.02423176e-02 -6.96681067e-02 -1.73304435e-02  2.87935324e-02\n",
            " -6.79623410e-02 -3.13759260e-02 -5.51356375e-02 -2.03582328e-02\n",
            "  2.89012920e-02  1.37794167e-02  6.80508884e-03 -2.43212865e-03\n",
            "  7.21530989e-02 -1.17463304e-03 -3.57214846e-02  3.54787223e-02\n",
            " -1.96369877e-03 -7.76637346e-03  3.01939119e-02  1.85422171e-02\n",
            " -5.39994314e-02  3.32430042e-02  5.73032070e-03  1.33993374e-02\n",
            "  4.51610517e-03  4.88920286e-02 -3.14346962e-02  3.62168662e-02\n",
            "  3.65448818e-02 -4.79209572e-02 -1.44876353e-02  4.93126065e-02\n",
            "  2.86978912e-02 -5.51462546e-02  2.74743773e-02  1.27805080e-02\n",
            " -7.04631805e-02  7.69066252e-03 -5.24688140e-03 -5.33922538e-02\n",
            " -1.70808565e-02  4.77676541e-02  2.38064677e-02 -4.09797169e-02\n",
            " -1.27406251e-02  4.66342606e-02  5.03480108e-03  6.60548871e-03\n",
            "  2.90571563e-02  4.15974036e-02 -3.82126048e-02 -1.14388410e-02\n",
            "  1.71640385e-02  5.70875453e-03  1.07285399e-02 -1.80592556e-02\n",
            " -5.06379940e-02  4.54925224e-02  1.40738254e-02  4.25583422e-02\n",
            " -3.22351344e-02  4.17672731e-02  1.14987576e-02  3.92398611e-03\n",
            "  2.04459503e-02  1.52545655e-02  3.80402580e-02  2.54581086e-02\n",
            " -4.69272258e-03  1.83214974e-02  2.76016295e-02 -2.89157219e-02\n",
            " -4.98980917e-02 -1.61939692e-02  9.87022594e-02 -4.26361710e-02\n",
            " -1.88477840e-02 -1.07012242e-02 -3.21415327e-02  4.15321887e-02\n",
            " -2.38699429e-02  8.39928631e-03 -1.00906473e-03 -3.11340354e-02\n",
            " -3.86489891e-02 -3.06742713e-02 -3.88901308e-02 -3.65616195e-02\n",
            "  3.29429912e-03  2.00938489e-02  2.30732393e-02 -4.77465428e-02\n",
            "  8.55972432e-03  2.21941005e-02  1.49231136e-01 -1.91771965e-02\n",
            "  1.43476706e-02  4.39949185e-02 -2.27760198e-03  1.38110237e-03\n",
            "  3.23159769e-02  6.57534823e-02  2.26997007e-02  2.18100529e-02\n",
            " -3.00689079e-02  1.54185947e-02  6.95953518e-02 -3.88419256e-02\n",
            " -1.09261826e-01 -7.51071796e-03  1.19599281e-02  1.27546890e-02\n",
            "  1.89589951e-02  4.54232544e-02 -4.60909456e-02 -5.17162681e-03\n",
            " -1.17528439e-02 -8.67661834e-03 -2.08859071e-02  4.49374802e-02\n",
            "  1.55425202e-02  1.32863913e-02 -3.67460884e-02  1.40869487e-02\n",
            "  2.77769100e-03  2.77874339e-03  2.99189668e-02 -3.01352460e-02\n",
            " -4.63992506e-02 -5.60870990e-02 -7.94623513e-03  3.58323082e-02\n",
            " -2.37628724e-02  3.04555837e-02  4.38168505e-03 -1.49128800e-02\n",
            " -2.00193170e-02  4.84520756e-03 -1.40721234e-03 -3.53151448e-02\n",
            "  5.58813801e-03  7.45545281e-03  1.51487533e-03  4.03528735e-02\n",
            " -6.45007240e-03 -2.26508547e-03 -3.91197689e-02  1.05104130e-02\n",
            "  1.14451684e-02  2.85172500e-02  2.43227798e-02 -8.16608816e-02\n",
            " -4.06114124e-02  4.48722318e-02  5.76143211e-04  3.66367288e-02\n",
            " -5.07901348e-02  3.42644230e-02  2.49840543e-02  1.17401695e-02\n",
            "  1.71504766e-02  2.12810952e-02 -1.83073413e-02 -5.08700386e-02\n",
            " -1.79200042e-02  2.44996287e-02 -8.84232391e-03  1.70267150e-02\n",
            " -2.69821007e-03 -7.86308274e-02  5.88882156e-02  2.79413210e-03\n",
            "  1.18669663e-02 -3.29488963e-02  2.49917507e-02 -3.39025594e-02\n",
            " -7.46754110e-02  2.85453885e-03 -4.59518423e-03  1.36553345e-03\n",
            " -6.91540912e-02  3.54950759e-03 -1.40170688e-02  6.54009636e-03\n",
            " -5.49735241e-02  4.28330973e-02 -5.33593707e-02  3.18165426e-03\n",
            "  1.04328550e-01  3.42742130e-02  4.07343432e-02  1.89621635e-02\n",
            "  2.44270917e-02 -1.29662910e-02  6.00199699e-02  3.92833278e-02\n",
            "  7.58032426e-02 -1.51842786e-02 -7.98324216e-03  3.47589515e-02\n",
            " -1.86614189e-02 -6.96071684e-02 -7.13097677e-02  2.77238265e-02\n",
            " -3.20368409e-02  3.10048331e-02  1.26679568e-03 -6.69391209e-33\n",
            " -3.91474441e-02 -3.46212573e-02  2.06936919e-03  6.21102527e-02\n",
            " -4.16611545e-02 -9.90157761e-03 -1.67432856e-02  7.94496015e-03\n",
            " -1.07791380e-03  2.85014324e-02 -3.19683477e-02  1.79132901e-03\n",
            "  3.13649736e-02 -1.40697146e-02  1.93634573e-02  7.51156313e-03\n",
            "  3.52904573e-02 -1.16606001e-02 -2.80548213e-03 -1.19964574e-02\n",
            " -2.97140274e-02 -1.76579747e-02  4.52527963e-02 -1.38791418e-03\n",
            " -7.87151791e-03 -8.17413628e-03 -5.47759905e-02 -1.12036802e-02\n",
            " -6.26672581e-02 -2.15537865e-02  5.16275642e-03 -2.60673687e-02\n",
            " -1.97687503e-02 -2.41160542e-02 -3.39964703e-02  4.55973558e-02\n",
            " -5.38015040e-03 -5.15832528e-02  2.78135538e-02  3.86534147e-02\n",
            " -9.17188749e-02 -5.43298572e-02 -2.38128621e-02  8.47344380e-03\n",
            " -2.56150570e-02 -1.94258951e-02 -5.79075841e-03 -3.53576653e-02\n",
            "  3.68123353e-02 -4.75911759e-02 -3.93513143e-02  1.03634957e-03\n",
            " -3.56919989e-02  4.05900702e-02 -3.41657177e-03  2.35696621e-02\n",
            " -1.65533684e-02 -1.51567662e-03 -4.22695316e-02  1.85887087e-02\n",
            "  4.51937914e-02  5.00864387e-02 -3.62452604e-02 -3.38022374e-02\n",
            " -2.15226971e-02  7.74864992e-03  3.47935478e-03  8.42247799e-04\n",
            "  1.18840886e-02  6.97643608e-02  8.02961551e-03  1.04670994e-01\n",
            " -4.34278473e-02  1.09933414e-01  2.27688700e-02 -3.14176567e-02\n",
            " -1.14897517e-02 -3.55335674e-03  2.82176025e-02 -1.62151959e-02\n",
            "  6.32873997e-02  1.12804640e-02 -4.53990102e-02 -4.23893034e-02\n",
            " -4.77064066e-02 -4.93459404e-02 -3.72874225e-03  3.38707939e-02\n",
            " -3.09105814e-02  2.06780881e-02  3.08634862e-02  6.29141629e-02\n",
            "  1.70472059e-02 -1.72119867e-02 -3.77116799e-02  3.45212109e-02\n",
            " -4.09610495e-02  4.88857972e-03 -3.00612785e-02 -8.41371436e-03\n",
            " -4.09953594e-02 -3.98016684e-02 -5.39269932e-02  1.65642966e-02\n",
            "  5.96864708e-02  3.61519791e-02  4.98929285e-02  1.44997388e-02\n",
            " -1.09169699e-01 -1.43747712e-02 -1.36371767e-02  1.62526146e-02\n",
            " -1.17083604e-03 -3.09679173e-02 -2.90011670e-02 -6.66360464e-03\n",
            "  9.04126279e-03  4.31807004e-02 -2.07463894e-02 -5.69087490e-02\n",
            " -2.79608220e-02  4.16314080e-02 -6.23095371e-02  2.17974577e-02\n",
            "  2.10568844e-03  1.54057099e-02  3.57554592e-02  2.54537519e-02\n",
            "  3.60637642e-02 -7.28387088e-02 -5.19868592e-03 -2.23384751e-03\n",
            "  2.51205563e-07  4.48061107e-03  6.26779720e-02  2.36657374e-02\n",
            "  6.45827726e-02  1.77587308e-02  4.13445644e-02 -3.67186889e-02\n",
            "  5.56979626e-02 -4.12960388e-02  3.65489051e-02  7.52831325e-02\n",
            " -3.72791253e-02 -2.12006811e-02 -1.76451895e-02 -2.88425870e-02\n",
            "  2.56824028e-02 -4.92919348e-02 -8.79911482e-02 -2.83661131e-02\n",
            " -2.19023973e-02  3.70794684e-02  4.11574319e-02  7.84277320e-02\n",
            " -1.48524754e-02  6.14959607e-03 -4.01153192e-02 -2.02855803e-02\n",
            " -2.90953126e-02  6.01125974e-03  3.68368700e-02  7.31772650e-03\n",
            " -8.81805830e-03  4.70297039e-03  3.01264320e-02 -3.82541749e-03\n",
            " -6.81489799e-03  3.72341350e-02  8.78985971e-02 -2.90227029e-03\n",
            "  3.33461538e-02 -3.84543501e-02 -5.78215495e-02 -2.74080709e-02\n",
            "  1.45640299e-02  1.58607997e-02  1.84694044e-02  3.52275521e-02\n",
            " -5.63630424e-02  2.07085274e-02  3.22306566e-02 -2.99263764e-02\n",
            "  5.92910908e-02 -3.01268022e-03 -2.28287233e-03  2.80254930e-02\n",
            " -7.59407207e-02  4.06447146e-03  1.21565703e-02  1.28566185e-02\n",
            " -1.73890195e-03 -2.95145568e-02  3.77574861e-02  1.94634702e-02\n",
            "  4.80340235e-02  1.52996620e-02  5.04777804e-02 -8.81988462e-03\n",
            "  1.64886868e-34  4.77930680e-02 -6.48033759e-03 -3.31388996e-03\n",
            "  1.02901375e-02 -3.30804065e-02 -2.55397521e-02  3.78654487e-02\n",
            " -1.35550629e-02 -8.27928446e-03  2.65268851e-02 -2.01898161e-03]\n"
          ]
        }
      ]
    },
    {
      "cell_type": "code",
      "source": [
        "class TransformerFeaturizer(BaseEstimator, TransformerMixin):\n",
        "    def __init__(self, dim, sentence_transformer_model):\n",
        "        self.dim = dim\n",
        "        self.sentence_transformer_model = sentence_transformer_model\n",
        "        # you can add any other params to be passed to the constructor here\n",
        "\n",
        "    #estimator. Since we don't have to learn anything in the featurizer, this is a no-op\n",
        "    def fit(self, X, y=None):\n",
        "        return self\n",
        "\n",
        "    #transformation: return the encoding of the document as returned by the transformer model\n",
        "    def transform(self, X, y=None):\n",
        "        X_t = []\n",
        "        \"\"\"\n",
        "        [TO BE IMPLEMENTED]\n",
        "\n",
        "        Goal: TransformerFeaturizer's transform() method converts the raw text document\n",
        "        into a feature vector to be passed as input to the classifier.\n",
        "\n",
        "        Given below is a dummy implementation that always maps it to a zero vector.\n",
        "        You have to implement this function so it uses computes a document embedding\n",
        "        of the input document using self.sentence_transformer_model.\n",
        "        This will be our feature representation of the document\n",
        "        \"\"\"\n",
        "        for doc in X:\n",
        "            # TODO: replace this dummy implementation\n",
        "            X_t.append(self.sentence_transformer_model.encode(doc, normalize_embeddings=True))\n",
        "        return X_t"
      ],
      "metadata": {
        "id": "de0oQW1raJzY"
      },
      "execution_count": null,
      "outputs": []
    },
    {
      "cell_type": "code",
      "source": [
        "models_v2 = {}\n",
        "embedding_dim = 768\n",
        "for n in TRAIN_SIZE_EVALS:\n",
        "    print(\"Evaluating for training data size = {}\".format(n))\n",
        "    X_train_i = X_train[:n]\n",
        "    Y_train_i = Y_train[:n]\n",
        "\n",
        "    \"\"\"\n",
        "    [TO BE IMPLEMENTED]\n",
        "\n",
        "    Goal: initialized below is a dummy sklearn Pipeline object with no steps.\n",
        "    You have to replace it with a pipeline object which contains at least two steps:\n",
        "    (1) mapping the input document to a feature vector (using TransformerFeaturizer)\n",
        "    (2) a classifier that predicts the class label using the feature output of first step\n",
        "\n",
        "    You can add other steps to preproces, post-process your data as you see fit.\n",
        "    You can also try any sklearn model architecture you want, but a linear classifier\n",
        "    will do just fine to start with\n",
        "\n",
        "    e.g.\n",
        "    pipeline = Pipeline([\n",
        "        ('featurizer', <your TransformerFeaturizer class instance here>),\n",
        "        ('classifier', <your sklearn classifier class instance here>)\n",
        "    ])\n",
        "    \"\"\"\n",
        "    pipeline = Pipeline([\n",
        "        ('featurizer', TransformerFeaturizer(embedding_dim, sentence_transformer_model)),\n",
        "        # (\"scaler\", StandardScaler(with_mean=False)),\n",
        "        ('classifier', LogisticRegression(max_iter=1000))\n",
        "    ])\n",
        "\n",
        "    # train\n",
        "    pipeline.fit(X_train_i, Y_train_i)\n",
        "    # predict\n",
        "    Y_pred_i = pipeline.predict(X_test)\n",
        "    # record results\n",
        "    models_v2[n] = {\n",
        "        'pipeline': pipeline,\n",
        "        'test_predictions': Y_pred_i,\n",
        "        'accuracy': accuracy_score(Y_true, Y_pred_i),\n",
        "        'f1': f1_score(Y_true, Y_pred_i, average='weighted'),\n",
        "        'errors': sum([x != y for (x, y) in zip(Y_true, Y_pred_i)])\n",
        "    }\n",
        "    print(\"Accuracy on test set: {}\".format(accuracy_score(Y_true, Y_pred_i)))\n"
      ],
      "metadata": {
        "id": "n1nwMri8aeFi",
        "colab": {
          "base_uri": "https://localhost:8080/"
        },
        "outputId": "06b69eec-dfaf-44b4-9ee4-0a1b6a762f36"
      },
      "execution_count": null,
      "outputs": [
        {
          "output_type": "stream",
          "name": "stdout",
          "text": [
            "Evaluating for training data size = 500\n",
            "Accuracy on test set: 0.717\n",
            "Evaluating for training data size = 1000\n",
            "Accuracy on test set: 0.74\n",
            "Evaluating for training data size = 10000\n",
            "Accuracy on test set: 0.771\n",
            "Evaluating for training data size = 25000\n",
            "Accuracy on test set: 0.789\n"
          ]
        }
      ]
    },
    {
      "cell_type": "markdown",
      "source": [
        "## Step 5: [Modeling part 3] Large Language Models"
      ],
      "metadata": {
        "id": "xw89vQkE5woo"
      }
    },
    {
      "cell_type": "code",
      "source": [
        "!pip install asyncio\n",
        "!pip install nest_asyncio\n",
        "!pip install tiktoken"
      ],
      "metadata": {
        "colab": {
          "base_uri": "https://localhost:8080/",
          "height": 482
        },
        "id": "UR3sSXMXLzMi",
        "outputId": "e46e4444-3c4e-4635-c989-8b10fd421a05"
      },
      "execution_count": null,
      "outputs": [
        {
          "output_type": "stream",
          "name": "stdout",
          "text": [
            "Looking in indexes: https://pypi.org/simple, https://us-python.pkg.dev/colab-wheels/public/simple/\n",
            "Collecting asyncio\n",
            "  Downloading asyncio-3.4.3-py3-none-any.whl (101 kB)\n",
            "\u001b[2K     \u001b[90m━━━━━━━━━━━━━━━━━━━━━━━━━━━━━━━━━━━━━━\u001b[0m \u001b[32m101.8/101.8 kB\u001b[0m \u001b[31m11.5 MB/s\u001b[0m eta \u001b[36m0:00:00\u001b[0m\n",
            "\u001b[?25hInstalling collected packages: asyncio\n",
            "Successfully installed asyncio-3.4.3\n"
          ]
        },
        {
          "output_type": "display_data",
          "data": {
            "application/vnd.colab-display-data+json": {
              "pip_warning": {
                "packages": [
                  "asyncio"
                ]
              }
            }
          },
          "metadata": {}
        },
        {
          "output_type": "stream",
          "name": "stdout",
          "text": [
            "Looking in indexes: https://pypi.org/simple, https://us-python.pkg.dev/colab-wheels/public/simple/\n",
            "Requirement already satisfied: nest_asyncio in /usr/local/lib/python3.10/dist-packages (1.5.6)\n",
            "Looking in indexes: https://pypi.org/simple, https://us-python.pkg.dev/colab-wheels/public/simple/\n",
            "Collecting tiktoken\n",
            "  Downloading tiktoken-0.4.0-cp310-cp310-manylinux_2_17_x86_64.manylinux2014_x86_64.whl (1.7 MB)\n",
            "\u001b[2K     \u001b[90m━━━━━━━━━━━━━━━━━━━━━━━━━━━━━━━━━━━━━━━━\u001b[0m \u001b[32m1.7/1.7 MB\u001b[0m \u001b[31m66.1 MB/s\u001b[0m eta \u001b[36m0:00:00\u001b[0m\n",
            "\u001b[?25hRequirement already satisfied: regex>=2022.1.18 in /usr/local/lib/python3.10/dist-packages (from tiktoken) (2022.10.31)\n",
            "Requirement already satisfied: requests>=2.26.0 in /usr/local/lib/python3.10/dist-packages (from tiktoken) (2.27.1)\n",
            "Requirement already satisfied: urllib3<1.27,>=1.21.1 in /usr/local/lib/python3.10/dist-packages (from requests>=2.26.0->tiktoken) (1.26.15)\n",
            "Requirement already satisfied: certifi>=2017.4.17 in /usr/local/lib/python3.10/dist-packages (from requests>=2.26.0->tiktoken) (2022.12.7)\n",
            "Requirement already satisfied: charset-normalizer~=2.0.0 in /usr/local/lib/python3.10/dist-packages (from requests>=2.26.0->tiktoken) (2.0.12)\n",
            "Requirement already satisfied: idna<4,>=2.5 in /usr/local/lib/python3.10/dist-packages (from requests>=2.26.0->tiktoken) (3.4)\n",
            "Installing collected packages: tiktoken\n",
            "Successfully installed tiktoken-0.4.0\n"
          ]
        }
      ]
    },
    {
      "cell_type": "code",
      "source": [
        "import nest_asyncio\n",
        "\n",
        "nest_asyncio.apply()"
      ],
      "metadata": {
        "id": "TSGhhf6AL2Ep"
      },
      "execution_count": null,
      "outputs": []
    },
    {
      "cell_type": "code",
      "source": [
        "from langchain.chat_models import ChatOpenAI\n",
        "from langchain.schema import LLMResult, HumanMessage, Generation\n",
        "import tiktoken\n",
        "\n",
        "MODEL_NAME = \"gpt-3.5-turbo\"\n",
        "encoding = tiktoken.encoding_for_model(MODEL_NAME)\n",
        "\n",
        "def num_tokens_from_string(string, encoding_name = encoding) -> int:\n",
        "    \"\"\"Returns the number of tokens in a text string.\"\"\"\n",
        "    num_tokens = len(encoding.encode(string))\n",
        "    return num_tokens\n",
        "\n",
        "MAX_TOKENS = max(num_tokens_from_string(label) for label in LABEL_SET)\n",
        "\n",
        "llm = ChatOpenAI(\n",
        "    model_name=MODEL_NAME,\n",
        "    max_tokens=MAX_TOKENS,\n",
        "    temperature=0.0\n",
        ")"
      ],
      "metadata": {
        "id": "3WrYKUE9Lz-A"
      },
      "execution_count": null,
      "outputs": []
    },
    {
      "cell_type": "code",
      "source": [
        "from sklearn.base import BaseEstimator, ClassifierMixin\n",
        "from langchain.callbacks import get_openai_callback\n",
        "import asyncio\n",
        "from asyncio import Semaphore\n",
        "\n",
        "class LLMClassifier(BaseEstimator, ClassifierMixin):\n",
        "    def __init__(self, llm_model, prompt_template, semaphore):\n",
        "        self.llm_model = llm_model\n",
        "        self.prompt_template = prompt_template\n",
        "        self.semaphore = semaphore\n",
        "\n",
        "    # This will be called during the training step\n",
        "    def fit(self, X, y):\n",
        "        return self\n",
        "\n",
        "    # This will be called during inference.\n",
        "    def predict(self, X):\n",
        "        \"\"\"\n",
        "        [TO BE IMPLEMENTED]\n",
        "\n",
        "        Goal: LLMClassifier's predict() method constructs the final prompt input\n",
        "        for the LLM for each x in X, using the prompt template.\n",
        "\n",
        "        You have to implement this function so it does the following:\n",
        "        1. Construct the final prompt for the LLM\n",
        "        2. Call `self.llm_model` to generate the completion (label) for the prompt\n",
        "        3. Do any post-processing/response parsing to fetch the label from the LLM response\n",
        "        \"\"\"\n",
        "        with get_openai_callback() as cb:\n",
        "          prompts = [\n",
        "              [[HumanMessage(content=self.prompt_template.format(article=document))]]\n",
        "              for document in X\n",
        "          ]\n",
        "          result = asyncio.run(self.__generate_labels(prompts))\n",
        "          print(f\"Total Tokens: {cb.total_tokens}\")\n",
        "          print(f\"Prompt Tokens: {cb.prompt_tokens}\")\n",
        "          print(f\"Completion Tokens: {cb.completion_tokens}\")\n",
        "          print(f\"Total Cost (USD): ${cb.total_cost}\")\n",
        "          print(result)\n",
        "          return result\n",
        "\n",
        "    async def __async_generate(self, prompt):\n",
        "        async with self.semaphore:\n",
        "          response = await self.llm_model.agenerate(prompt)\n",
        "          label = response.generations[0][0].text\n",
        "          print(label)\n",
        "          return label\n",
        "\n",
        "    async def __generate_labels(self, prompts):\n",
        "        tasks = [self.__async_generate(prompt) for prompt in prompts]\n",
        "        labels = await asyncio.gather(*tasks)\n",
        "        return labels"
      ],
      "metadata": {
        "id": "uyuUCvSOLz6X"
      },
      "execution_count": null,
      "outputs": []
    },
    {
      "cell_type": "code",
      "source": [
        "semaphore = Semaphore(2)"
      ],
      "metadata": {
        "id": "HztL9G3RLz3e"
      },
      "execution_count": null,
      "outputs": []
    },
    {
      "cell_type": "code",
      "source": [
        "\n",
        "zero_shot_prompt_template = \"\"\"\n",
        "You are an expert at judging the classification of articles.\n",
        "Your job is to categorize the classification of a given article into one of eight categories: Business, Sci/Tech, Software and Developement, Entertainment, Sports, Health, Toons, Music Feeds.\n",
        "\n",
        "Article: {article}\n",
        "Classification:\n",
        "\"\"\"\n",
        "\n",
        "prompt = zero_shot_prompt_template.format(\n",
        "    article=\"A capsule carrying solar material from the Genesis space probe has made a crash landing at a US Air Force training facility in the US state of Utah.\"\n",
        ")\n",
        "\n",
        "result = llm.generate([[HumanMessage(content=prompt)]])\n",
        "print(result.generations[0][0])\n"
      ],
      "metadata": {
        "id": "l5-u93SS50ip",
        "colab": {
          "base_uri": "https://localhost:8080/"
        },
        "outputId": "5ba6e006-64e7-4774-ad9d-055d0fe63a17"
      },
      "execution_count": null,
      "outputs": [
        {
          "output_type": "stream",
          "name": "stdout",
          "text": [
            "text='Sci/Tech' generation_info=None message=AIMessage(content='Sci/Tech', additional_kwargs={}, example=False)\n"
          ]
        }
      ]
    },
    {
      "cell_type": "code",
      "source": [
        "\n",
        "few_shot_prompt_template = \"\"\"\n",
        "You are an expert at judging the classification of tweets.\n",
        "Your job is to categorize the classification of a given article into one of eight categories: Business, Sci/Tech, Software and Developement, Entertainment, Sports, Health, Toons, Music Feeds.\n",
        "\n",
        "Some example articles along with the correct classification are shown below.\n",
        "\n",
        "Article: Apple Computer Apple announced Thursday that music fans have purchased and downloaded more than 200 million songs from the iTunes Music Store since its launch in April of 2003.\n",
        "Classification: Entertainment\n",
        "\n",
        "Article: A capsule carrying solar material from the Genesis space probe has made a crash landing at a US Air Force training facility in the US state of Utah.\n",
        "Classification: Sci/Tech\n",
        "\n",
        "Article: A suspended physician working at a clinic in Oakland Park, Fla., injected himself and three other people with botulinum toxin that he had prepared as if it were Botox, a licensed drug, rather than the far more potent, raw toxin it was, according to\n",
        "Classification: Health\n",
        "\n",
        "Now I want you to label the following example:\n",
        "Article: {article}\n",
        "Classification:\n",
        "\"\"\"\n",
        "\n",
        "prompt = few_shot_prompt_template.format(\n",
        "    article=\"Beyonce will be performing in Toronto this weekend alongside Blue Ivy and Wizkid\"\n",
        ")\n",
        "\n",
        "result = llm.generate([[HumanMessage(content=prompt)]])\n",
        "print(result.generations[0][0])\n"
      ],
      "metadata": {
        "id": "OovRQRuE52Tm",
        "colab": {
          "base_uri": "https://localhost:8080/"
        },
        "outputId": "0ddff6c3-dd87-4b3f-b8d2-5794ca05b774"
      },
      "execution_count": null,
      "outputs": [
        {
          "output_type": "stream",
          "name": "stdout",
          "text": [
            "text='Entertainment' generation_info=None message=AIMessage(content='Entertainment', additional_kwargs={}, example=False)\n"
          ]
        }
      ]
    },
    {
      "cell_type": "code",
      "source": [
        "# Zero-shot classification pipeline with LLMs\n",
        "\n",
        "models_v3 = {}\n",
        "\n",
        "\"\"\"\n",
        "[TO BE IMPLEMENTED]\n",
        "\n",
        "Goal: initialized below is a dummy sklearn Pipeline object with no steps.\n",
        "You have to replace it with a pipeline object which uses the `LLMClassifier` you have implemented\n",
        "above to perform zero-shot classification on the test set.\n",
        "\n",
        "You can add other steps to preproces, post-process your data as you see fit.\n",
        "\n",
        "\"\"\"\n",
        "pipeline = Pipeline(\n",
        "    [\n",
        "      ('classifier', LLMClassifier(llm_model=llm, prompt_template=zero_shot_prompt_template, semaphore=semaphore))\n",
        "    ]\n",
        ")\n",
        "\n",
        "# train\n",
        "pipeline.fit(X_train_i, Y_train_i)\n",
        "# predict\n",
        "Y_pred_i = pipeline.predict(X_test)\n",
        "# record results\n",
        "models_v3[\"zero-shot\"] = {\n",
        "    'test_predictions': Y_pred_i,\n",
        "    'accuracy': accuracy_score(Y_true, Y_pred_i),\n",
        "    'f1': f1_score(Y_true, Y_pred_i, average='weighted'),\n",
        "    'errors': sum([x != y for (x, y) in zip(Y_true, Y_pred_i)])\n",
        "}\n",
        "print(\"Accuracy on test set: {}\".format(accuracy_score(Y_true, Y_pred_i)))"
      ],
      "metadata": {
        "id": "CVemE-2R5-xN",
        "colab": {
          "base_uri": "https://localhost:8080/"
        },
        "outputId": "0fdf5f3e-5e22-40fd-c464-4170c9398c62"
      },
      "execution_count": null,
      "outputs": [
        {
          "output_type": "stream",
          "name": "stdout",
          "text": [
            "Sports\n",
            "Sci/Tech\n",
            "Sports\n",
            "Business\n",
            "Sports\n",
            "Sports\n",
            "Business\n",
            "Sports\n",
            "Politics/Current Events\n",
            "Sports\n",
            "Entertainment\n",
            "Business\n",
            "Sports\n",
            "Business\n",
            "Business\n",
            "Business\n",
            "Business\n",
            "Health\n",
            "Sci/Tech\n",
            "Sci/Tech\n",
            "Business\n",
            "Sports\n",
            "Military/Politics\n",
            "None of the above categories. This article is related to politics or current events.\n",
            "Sports\n",
            "Politics/Current Events\n",
            "None of the given categories fit this article. It may be classified as Politics/Current Events.\n",
            "Entertainment\n",
            "Sports\n",
            "Sports\n",
            "Business\n",
            "Business\n",
            "Crime/Justice (not one of the given categories)\n",
            "Music Feeds\n",
            "Business\n",
            "Sports\n",
            "Sports\n",
            "Health\n",
            "Health\n",
            "Health\n",
            "Software and Development\n",
            "Music Feeds\n",
            "Business\n",
            "Sci/Tech\n",
            "Business\n",
            "Sci/Tech\n",
            "Business\n",
            "Business\n",
            "Sports\n",
            "Sci/Tech\n",
            "Sports\n",
            "Business\n",
            "Sci/Tech\n",
            "Entertainment\n",
            "Sports\n",
            "Sci/Tech\n",
            "Sports\n",
            "Business\n",
            "Politics/International Affairs\n",
            "Business\n",
            "Health\n",
            "Sports\n"
          ]
        },
        {
          "output_type": "stream",
          "name": "stderr",
          "text": [
            "WARNING:langchain.chat_models.openai:Retrying langchain.chat_models.openai.acompletion_with_retry.<locals>._completion_with_retry in 1.0 seconds as it raised RateLimitError: That model is currently overloaded with other requests. You can retry your request, or contact us through our help center at help.openai.com if the error persists. (Please include the request ID 23b2293bd33b8ee6986c757e7a4a651c in your message.).\n"
          ]
        },
        {
          "output_type": "stream",
          "name": "stdout",
          "text": [
            "Business\n",
            "Business\n",
            "Entertainment\n",
            "Business\n",
            "Health\n",
            "Entertainment\n",
            "Sci/Tech\n",
            "Sci/Tech\n",
            "Sci/Tech\n",
            "Software and Development\n",
            "Sports\n",
            "Health\n",
            "Sci/Tech\n",
            "Health\n",
            "Entertainment\n",
            "Health\n",
            "Sports\n",
            "Politics/Current Events\n",
            "Sports\n",
            "Health\n",
            "Sports\n",
            "Sci/Tech\n",
            "Sports\n",
            "Sports\n",
            "Sports\n",
            "Entertainment\n",
            "Health\n",
            "Software and Development\n",
            "Sports\n",
            "Business\n",
            "Sports\n",
            "Politics/Government\n",
            "None of the given categories fit this article. It is a news article about military operations in Iraq and does not fit into any of the provided categories.\n",
            "Sports\n",
            "Sports\n",
            "Politics\n",
            "Sports\n",
            "Sci/Tech\n",
            "Entertainment\n",
            "Business\n",
            "Sports\n",
            "Sports\n",
            "Sports\n",
            "Business\n",
            "Health\n",
            "Animals/Pets\n",
            "Entertainment\n",
            "Sports\n",
            "Entertainment\n"
          ]
        },
        {
          "output_type": "stream",
          "name": "stderr",
          "text": [
            "WARNING:langchain.chat_models.openai:Retrying langchain.chat_models.openai.acompletion_with_retry.<locals>._completion_with_retry in 2.0 seconds as it raised RateLimitError: That model is currently overloaded with other requests. You can retry your request, or contact us through our help center at help.openai.com if the error persists. (Please include the request ID ffb3086fbeed7992f5dc2ff48e6209b4 in your message.).\n"
          ]
        },
        {
          "output_type": "stream",
          "name": "stdout",
          "text": [
            "Sports\n",
            "Sports\n",
            "Sports\n",
            "Business\n",
            "Health\n",
            "Sports\n",
            "Weather/Natural Disasters\n",
            "Sci/Tech\n",
            "Sports\n",
            "Sci/Tech\n",
            "Politics/International Relations\n",
            "Entertainment\n",
            "Sports\n",
            "Business\n",
            "Politics\n",
            "Business\n",
            "Business\n",
            "Business\n",
            "Software and Development\n",
            "Sports\n",
            "Politics/Law\n",
            "Software and Development\n",
            "Business\n",
            "Business\n",
            "Sci/Tech\n",
            "Health\n",
            "Business\n",
            "Sci/Tech\n",
            "Sports\n",
            "Sci/Tech\n",
            "Sports\n",
            "Politics\n",
            "Business\n",
            "Sports\n",
            "Sports\n",
            "Business\n",
            "Sports\n",
            "Sci/Tech\n",
            "Sci/Tech\n",
            "Sports\n",
            "Entertainment\n",
            "Business\n",
            "Sports\n",
            "Sports\n",
            "Business\n",
            "Music Feeds\n",
            "Sci/Tech\n",
            "Sports\n",
            "Sports\n",
            "Health\n",
            "Entertainment\n",
            "Politics/Current Events\n",
            "Business\n",
            "Business\n",
            "Sports\n",
            "Sports\n",
            "Software and Development\n",
            "Entertainment\n",
            "Health\n",
            "Business\n",
            "Sports\n",
            "Sports\n",
            "Toons\n",
            "Sports\n"
          ]
        },
        {
          "output_type": "stream",
          "name": "stderr",
          "text": [
            "WARNING:langchain.chat_models.openai:Retrying langchain.chat_models.openai.acompletion_with_retry.<locals>._completion_with_retry in 1.0 seconds as it raised RateLimitError: That model is currently overloaded with other requests. You can retry your request, or contact us through our help center at help.openai.com if the error persists. (Please include the request ID 7300d01c1ee5ad7e3b20915686716bd7 in your message.).\n"
          ]
        },
        {
          "output_type": "stream",
          "name": "stdout",
          "text": [
            "Entertainment\n",
            "Entertainment\n",
            "Sports\n",
            "Sci/Tech\n",
            "Business\n",
            "Sports\n",
            "Entertainment\n",
            "Health\n",
            "Sports\n",
            "Software and Development\n",
            "Sports\n",
            "Sports\n",
            "Sci/Tech\n",
            "Sports\n",
            "Sci/Tech\n",
            "Sports\n",
            "Business\n",
            "Sports\n",
            "Health\n",
            "Sports\n",
            "Music Feeds\n",
            "Entertainment\n",
            "Entertainment\n",
            "Sci/Tech\n",
            "Health\n",
            "Sci/Tech\n",
            "Business\n",
            "Health\n",
            "Sports\n",
            "Sci/Tech\n",
            "Terrorism/International Affairs\n",
            "Sports\n",
            "Business\n",
            "Sci/Tech\n",
            "Health\n",
            "Politics/Current Events\n",
            "Sports\n",
            "Health\n",
            "Business\n",
            "Entertainment\n",
            "Health\n",
            "Sports\n",
            "Music Feeds\n",
            "Sports\n",
            "Sports\n",
            "Sports\n",
            "Sci/Tech\n",
            "Entertainment\n",
            "Sports\n"
          ]
        },
        {
          "output_type": "stream",
          "name": "stderr",
          "text": [
            "WARNING:langchain.chat_models.openai:Retrying langchain.chat_models.openai.acompletion_with_retry.<locals>._completion_with_retry in 1.0 seconds as it raised RateLimitError: Rate limit reached for default-gpt-3.5-turbo in organization org-fUMgGI6gSqUWLozt4nlYWmsL on tokens per min. Limit: 90000 / min. Current: 88962 / min. Contact us through our help center at help.openai.com if you continue to have issues..\n"
          ]
        },
        {
          "output_type": "stream",
          "name": "stdout",
          "text": [
            "Sports\n",
            "I'm sorry, but there is no article provided for me to classify. Please provide the article for me to categorize.\n",
            "Sports\n"
          ]
        },
        {
          "output_type": "stream",
          "name": "stderr",
          "text": [
            "WARNING:langchain.chat_models.openai:Retrying langchain.chat_models.openai.acompletion_with_retry.<locals>._completion_with_retry in 1.0 seconds as it raised RateLimitError: Rate limit reached for default-gpt-3.5-turbo in organization org-fUMgGI6gSqUWLozt4nlYWmsL on tokens per min. Limit: 90000 / min. Current: 89742 / min. Contact us through our help center at help.openai.com if you continue to have issues..\n"
          ]
        },
        {
          "output_type": "stream",
          "name": "stdout",
          "text": [
            "Sci/Tech\n"
          ]
        },
        {
          "output_type": "stream",
          "name": "stderr",
          "text": [
            "WARNING:langchain.chat_models.openai:Retrying langchain.chat_models.openai.acompletion_with_retry.<locals>._completion_with_retry in 1.0 seconds as it raised RateLimitError: Rate limit reached for default-gpt-3.5-turbo in organization org-fUMgGI6gSqUWLozt4nlYWmsL on tokens per min. Limit: 90000 / min. Current: 89112 / min. Contact us through our help center at help.openai.com if you continue to have issues..\n"
          ]
        },
        {
          "output_type": "stream",
          "name": "stdout",
          "text": [
            "Health\n"
          ]
        },
        {
          "output_type": "stream",
          "name": "stderr",
          "text": [
            "WARNING:langchain.chat_models.openai:Retrying langchain.chat_models.openai.acompletion_with_retry.<locals>._completion_with_retry in 1.0 seconds as it raised RateLimitError: Rate limit reached for default-gpt-3.5-turbo in organization org-fUMgGI6gSqUWLozt4nlYWmsL on tokens per min. Limit: 90000 / min. Current: 89380 / min. Contact us through our help center at help.openai.com if you continue to have issues..\n"
          ]
        },
        {
          "output_type": "stream",
          "name": "stdout",
          "text": [
            "Sports\n",
            "Military/Conflict (not one of the given categories)\n"
          ]
        },
        {
          "output_type": "stream",
          "name": "stderr",
          "text": [
            "WARNING:langchain.chat_models.openai:Retrying langchain.chat_models.openai.acompletion_with_retry.<locals>._completion_with_retry in 1.0 seconds as it raised RateLimitError: Rate limit reached for default-gpt-3.5-turbo in organization org-fUMgGI6gSqUWLozt4nlYWmsL on tokens per min. Limit: 90000 / min. Current: 89771 / min. Contact us through our help center at help.openai.com if you continue to have issues..\n"
          ]
        },
        {
          "output_type": "stream",
          "name": "stdout",
          "text": [
            "Music Feeds\n",
            "Music Feeds\n"
          ]
        },
        {
          "output_type": "stream",
          "name": "stderr",
          "text": [
            "WARNING:langchain.chat_models.openai:Retrying langchain.chat_models.openai.acompletion_with_retry.<locals>._completion_with_retry in 1.0 seconds as it raised RateLimitError: Rate limit reached for default-gpt-3.5-turbo in organization org-fUMgGI6gSqUWLozt4nlYWmsL on tokens per min. Limit: 90000 / min. Current: 89228 / min. Contact us through our help center at help.openai.com if you continue to have issues..\n",
            "WARNING:langchain.chat_models.openai:Retrying langchain.chat_models.openai.acompletion_with_retry.<locals>._completion_with_retry in 2.0 seconds as it raised RateLimitError: Rate limit reached for default-gpt-3.5-turbo in organization org-fUMgGI6gSqUWLozt4nlYWmsL on tokens per min. Limit: 90000 / min. Current: 89040 / min. Contact us through our help center at help.openai.com if you continue to have issues..\n"
          ]
        },
        {
          "output_type": "stream",
          "name": "stdout",
          "text": [
            "Entertainment\n",
            "Business\n"
          ]
        },
        {
          "output_type": "stream",
          "name": "stderr",
          "text": [
            "WARNING:langchain.chat_models.openai:Retrying langchain.chat_models.openai.acompletion_with_retry.<locals>._completion_with_retry in 4.0 seconds as it raised RateLimitError: Rate limit reached for default-gpt-3.5-turbo in organization org-fUMgGI6gSqUWLozt4nlYWmsL on tokens per min. Limit: 90000 / min. Current: 89071 / min. Contact us through our help center at help.openai.com if you continue to have issues..\n"
          ]
        },
        {
          "output_type": "stream",
          "name": "stdout",
          "text": [
            "Sci/Tech\n",
            "Business\n",
            "Sports\n"
          ]
        },
        {
          "output_type": "stream",
          "name": "stderr",
          "text": [
            "WARNING:langchain.chat_models.openai:Retrying langchain.chat_models.openai.acompletion_with_retry.<locals>._completion_with_retry in 1.0 seconds as it raised RateLimitError: Rate limit reached for default-gpt-3.5-turbo in organization org-fUMgGI6gSqUWLozt4nlYWmsL on tokens per min. Limit: 90000 / min. Current: 89266 / min. Contact us through our help center at help.openai.com if you continue to have issues..\n"
          ]
        },
        {
          "output_type": "stream",
          "name": "stdout",
          "text": [
            "Entertainment\n",
            "Sports\n",
            "Entertainment\n"
          ]
        },
        {
          "output_type": "stream",
          "name": "stderr",
          "text": [
            "WARNING:langchain.chat_models.openai:Retrying langchain.chat_models.openai.acompletion_with_retry.<locals>._completion_with_retry in 1.0 seconds as it raised RateLimitError: Rate limit reached for default-gpt-3.5-turbo in organization org-fUMgGI6gSqUWLozt4nlYWmsL on tokens per min. Limit: 90000 / min. Current: 89164 / min. Contact us through our help center at help.openai.com if you continue to have issues..\n"
          ]
        },
        {
          "output_type": "stream",
          "name": "stdout",
          "text": [
            "Sci/Tech\n",
            "Sports\n"
          ]
        },
        {
          "output_type": "stream",
          "name": "stderr",
          "text": [
            "WARNING:langchain.chat_models.openai:Retrying langchain.chat_models.openai.acompletion_with_retry.<locals>._completion_with_retry in 1.0 seconds as it raised RateLimitError: Rate limit reached for default-gpt-3.5-turbo in organization org-fUMgGI6gSqUWLozt4nlYWmsL on tokens per min. Limit: 90000 / min. Current: 89066 / min. Contact us through our help center at help.openai.com if you continue to have issues..\n"
          ]
        },
        {
          "output_type": "stream",
          "name": "stdout",
          "text": [
            "Sports\n"
          ]
        },
        {
          "output_type": "stream",
          "name": "stderr",
          "text": [
            "WARNING:langchain.chat_models.openai:Retrying langchain.chat_models.openai.acompletion_with_retry.<locals>._completion_with_retry in 1.0 seconds as it raised RateLimitError: Rate limit reached for default-gpt-3.5-turbo in organization org-fUMgGI6gSqUWLozt4nlYWmsL on tokens per min. Limit: 90000 / min. Current: 89321 / min. Contact us through our help center at help.openai.com if you continue to have issues..\n"
          ]
        },
        {
          "output_type": "stream",
          "name": "stdout",
          "text": [
            "Business\n",
            "Software and Development\n"
          ]
        },
        {
          "output_type": "stream",
          "name": "stderr",
          "text": [
            "WARNING:langchain.chat_models.openai:Retrying langchain.chat_models.openai.acompletion_with_retry.<locals>._completion_with_retry in 1.0 seconds as it raised RateLimitError: Rate limit reached for default-gpt-3.5-turbo in organization org-fUMgGI6gSqUWLozt4nlYWmsL on tokens per min. Limit: 90000 / min. Current: 88982 / min. Contact us through our help center at help.openai.com if you continue to have issues..\n"
          ]
        },
        {
          "output_type": "stream",
          "name": "stdout",
          "text": [
            "Politics\n"
          ]
        },
        {
          "output_type": "stream",
          "name": "stderr",
          "text": [
            "WARNING:langchain.chat_models.openai:Retrying langchain.chat_models.openai.acompletion_with_retry.<locals>._completion_with_retry in 2.0 seconds as it raised RateLimitError: Rate limit reached for default-gpt-3.5-turbo in organization org-fUMgGI6gSqUWLozt4nlYWmsL on tokens per min. Limit: 90000 / min. Current: 89323 / min. Contact us through our help center at help.openai.com if you continue to have issues..\n"
          ]
        },
        {
          "output_type": "stream",
          "name": "stdout",
          "text": [
            "Business\n",
            "Sports\n"
          ]
        },
        {
          "output_type": "stream",
          "name": "stderr",
          "text": [
            "WARNING:langchain.chat_models.openai:Retrying langchain.chat_models.openai.acompletion_with_retry.<locals>._completion_with_retry in 1.0 seconds as it raised RateLimitError: Rate limit reached for default-gpt-3.5-turbo in organization org-fUMgGI6gSqUWLozt4nlYWmsL on tokens per min. Limit: 90000 / min. Current: 89161 / min. Contact us through our help center at help.openai.com if you continue to have issues..\n"
          ]
        },
        {
          "output_type": "stream",
          "name": "stdout",
          "text": [
            "Music Feeds\n",
            "Sports\n"
          ]
        },
        {
          "output_type": "stream",
          "name": "stderr",
          "text": [
            "WARNING:langchain.chat_models.openai:Retrying langchain.chat_models.openai.acompletion_with_retry.<locals>._completion_with_retry in 1.0 seconds as it raised RateLimitError: Rate limit reached for default-gpt-3.5-turbo in organization org-fUMgGI6gSqUWLozt4nlYWmsL on tokens per min. Limit: 90000 / min. Current: 89892 / min. Contact us through our help center at help.openai.com if you continue to have issues..\n"
          ]
        },
        {
          "output_type": "stream",
          "name": "stdout",
          "text": [
            "Sports\n"
          ]
        },
        {
          "output_type": "stream",
          "name": "stderr",
          "text": [
            "WARNING:langchain.chat_models.openai:Retrying langchain.chat_models.openai.acompletion_with_retry.<locals>._completion_with_retry in 1.0 seconds as it raised RateLimitError: Rate limit reached for default-gpt-3.5-turbo in organization org-fUMgGI6gSqUWLozt4nlYWmsL on tokens per min. Limit: 90000 / min. Current: 89349 / min. Contact us through our help center at help.openai.com if you continue to have issues..\n"
          ]
        },
        {
          "output_type": "stream",
          "name": "stdout",
          "text": [
            "Sports\n"
          ]
        },
        {
          "output_type": "stream",
          "name": "stderr",
          "text": [
            "WARNING:langchain.chat_models.openai:Retrying langchain.chat_models.openai.acompletion_with_retry.<locals>._completion_with_retry in 1.0 seconds as it raised RateLimitError: Rate limit reached for default-gpt-3.5-turbo in organization org-fUMgGI6gSqUWLozt4nlYWmsL on tokens per min. Limit: 90000 / min. Current: 89588 / min. Contact us through our help center at help.openai.com if you continue to have issues..\n"
          ]
        },
        {
          "output_type": "stream",
          "name": "stdout",
          "text": [
            "Sports\n"
          ]
        },
        {
          "output_type": "stream",
          "name": "stderr",
          "text": [
            "WARNING:langchain.chat_models.openai:Retrying langchain.chat_models.openai.acompletion_with_retry.<locals>._completion_with_retry in 1.0 seconds as it raised RateLimitError: Rate limit reached for default-gpt-3.5-turbo in organization org-fUMgGI6gSqUWLozt4nlYWmsL on tokens per min. Limit: 90000 / min. Current: 88947 / min. Contact us through our help center at help.openai.com if you continue to have issues..\n"
          ]
        },
        {
          "output_type": "stream",
          "name": "stdout",
          "text": [
            "Business\n",
            "Sports\n"
          ]
        },
        {
          "output_type": "stream",
          "name": "stderr",
          "text": [
            "WARNING:langchain.chat_models.openai:Retrying langchain.chat_models.openai.acompletion_with_retry.<locals>._completion_with_retry in 1.0 seconds as it raised RateLimitError: Rate limit reached for default-gpt-3.5-turbo in organization org-fUMgGI6gSqUWLozt4nlYWmsL on tokens per min. Limit: 90000 / min. Current: 89633 / min. Contact us through our help center at help.openai.com if you continue to have issues..\n"
          ]
        },
        {
          "output_type": "stream",
          "name": "stdout",
          "text": [
            "None of the given categories fit this article well. It may be classified as Crime or Terrorism.\n"
          ]
        },
        {
          "output_type": "stream",
          "name": "stderr",
          "text": [
            "WARNING:langchain.chat_models.openai:Retrying langchain.chat_models.openai.acompletion_with_retry.<locals>._completion_with_retry in 2.0 seconds as it raised RateLimitError: Rate limit reached for default-gpt-3.5-turbo in organization org-fUMgGI6gSqUWLozt4nlYWmsL on tokens per min. Limit: 90000 / min. Current: 88890 / min. Contact us through our help center at help.openai.com if you continue to have issues..\n"
          ]
        },
        {
          "output_type": "stream",
          "name": "stdout",
          "text": [
            "Sports\n",
            "Business\n",
            "Politics/Current Affairs\n",
            "Automotive\n"
          ]
        },
        {
          "output_type": "stream",
          "name": "stderr",
          "text": [
            "WARNING:langchain.chat_models.openai:Retrying langchain.chat_models.openai.acompletion_with_retry.<locals>._completion_with_retry in 1.0 seconds as it raised RateLimitError: Rate limit reached for default-gpt-3.5-turbo in organization org-fUMgGI6gSqUWLozt4nlYWmsL on tokens per min. Limit: 90000 / min. Current: 89255 / min. Contact us through our help center at help.openai.com if you continue to have issues..\n"
          ]
        },
        {
          "output_type": "stream",
          "name": "stdout",
          "text": [
            "Health\n"
          ]
        },
        {
          "output_type": "stream",
          "name": "stderr",
          "text": [
            "WARNING:langchain.chat_models.openai:Retrying langchain.chat_models.openai.acompletion_with_retry.<locals>._completion_with_retry in 1.0 seconds as it raised RateLimitError: Rate limit reached for default-gpt-3.5-turbo in organization org-fUMgGI6gSqUWLozt4nlYWmsL on tokens per min. Limit: 90000 / min. Current: 89245 / min. Contact us through our help center at help.openai.com if you continue to have issues..\n"
          ]
        },
        {
          "output_type": "stream",
          "name": "stdout",
          "text": [
            "Sci/Tech\n"
          ]
        },
        {
          "output_type": "stream",
          "name": "stderr",
          "text": [
            "WARNING:langchain.chat_models.openai:Retrying langchain.chat_models.openai.acompletion_with_retry.<locals>._completion_with_retry in 2.0 seconds as it raised RateLimitError: Rate limit reached for default-gpt-3.5-turbo in organization org-fUMgGI6gSqUWLozt4nlYWmsL on tokens per min. Limit: 90000 / min. Current: 89633 / min. Contact us through our help center at help.openai.com if you continue to have issues..\n"
          ]
        },
        {
          "output_type": "stream",
          "name": "stdout",
          "text": [
            "Business\n"
          ]
        },
        {
          "output_type": "stream",
          "name": "stderr",
          "text": [
            "WARNING:langchain.chat_models.openai:Retrying langchain.chat_models.openai.acompletion_with_retry.<locals>._completion_with_retry in 1.0 seconds as it raised RateLimitError: Rate limit reached for default-gpt-3.5-turbo in organization org-fUMgGI6gSqUWLozt4nlYWmsL on tokens per min. Limit: 90000 / min. Current: 89385 / min. Contact us through our help center at help.openai.com if you continue to have issues..\n"
          ]
        },
        {
          "output_type": "stream",
          "name": "stdout",
          "text": [
            "Sci/Tech\n",
            "Business\n"
          ]
        },
        {
          "output_type": "stream",
          "name": "stderr",
          "text": [
            "WARNING:langchain.chat_models.openai:Retrying langchain.chat_models.openai.acompletion_with_retry.<locals>._completion_with_retry in 1.0 seconds as it raised RateLimitError: Rate limit reached for default-gpt-3.5-turbo in organization org-fUMgGI6gSqUWLozt4nlYWmsL on tokens per min. Limit: 90000 / min. Current: 89452 / min. Contact us through our help center at help.openai.com if you continue to have issues..\n"
          ]
        },
        {
          "output_type": "stream",
          "name": "stdout",
          "text": [
            "None of the given categories fit this article. It is a news article about a current event in the Middle East.\n",
            "Sci/Tech\n",
            "Business\n"
          ]
        },
        {
          "output_type": "stream",
          "name": "stderr",
          "text": [
            "WARNING:langchain.chat_models.openai:Retrying langchain.chat_models.openai.acompletion_with_retry.<locals>._completion_with_retry in 1.0 seconds as it raised RateLimitError: Rate limit reached for default-gpt-3.5-turbo in organization org-fUMgGI6gSqUWLozt4nlYWmsL on tokens per min. Limit: 90000 / min. Current: 89124 / min. Contact us through our help center at help.openai.com if you continue to have issues..\n",
            "WARNING:langchain.chat_models.openai:Retrying langchain.chat_models.openai.acompletion_with_retry.<locals>._completion_with_retry in 1.0 seconds as it raised RateLimitError: Rate limit reached for default-gpt-3.5-turbo in organization org-fUMgGI6gSqUWLozt4nlYWmsL on tokens per min. Limit: 90000 / min. Current: 88947 / min. Contact us through our help center at help.openai.com if you continue to have issues..\n"
          ]
        },
        {
          "output_type": "stream",
          "name": "stdout",
          "text": [
            "Health\n",
            "Sci/Tech\n"
          ]
        },
        {
          "output_type": "stream",
          "name": "stderr",
          "text": [
            "WARNING:langchain.chat_models.openai:Retrying langchain.chat_models.openai.acompletion_with_retry.<locals>._completion_with_retry in 1.0 seconds as it raised RateLimitError: Rate limit reached for default-gpt-3.5-turbo in organization org-fUMgGI6gSqUWLozt4nlYWmsL on tokens per min. Limit: 90000 / min. Current: 89708 / min. Contact us through our help center at help.openai.com if you continue to have issues..\n"
          ]
        },
        {
          "output_type": "stream",
          "name": "stdout",
          "text": [
            "Sports\n"
          ]
        },
        {
          "output_type": "stream",
          "name": "stderr",
          "text": [
            "WARNING:langchain.chat_models.openai:Retrying langchain.chat_models.openai.acompletion_with_retry.<locals>._completion_with_retry in 1.0 seconds as it raised RateLimitError: Rate limit reached for default-gpt-3.5-turbo in organization org-fUMgGI6gSqUWLozt4nlYWmsL on tokens per min. Limit: 90000 / min. Current: 89244 / min. Contact us through our help center at help.openai.com if you continue to have issues..\n"
          ]
        },
        {
          "output_type": "stream",
          "name": "stdout",
          "text": [
            "Sports\n"
          ]
        },
        {
          "output_type": "stream",
          "name": "stderr",
          "text": [
            "WARNING:langchain.chat_models.openai:Retrying langchain.chat_models.openai.acompletion_with_retry.<locals>._completion_with_retry in 1.0 seconds as it raised RateLimitError: Rate limit reached for default-gpt-3.5-turbo in organization org-fUMgGI6gSqUWLozt4nlYWmsL on tokens per min. Limit: 90000 / min. Current: 89371 / min. Contact us through our help center at help.openai.com if you continue to have issues..\n"
          ]
        },
        {
          "output_type": "stream",
          "name": "stdout",
          "text": [
            "Sports\n",
            "Health\n"
          ]
        },
        {
          "output_type": "stream",
          "name": "stderr",
          "text": [
            "WARNING:langchain.chat_models.openai:Retrying langchain.chat_models.openai.acompletion_with_retry.<locals>._completion_with_retry in 2.0 seconds as it raised RateLimitError: Rate limit reached for default-gpt-3.5-turbo in organization org-fUMgGI6gSqUWLozt4nlYWmsL on tokens per min. Limit: 90000 / min. Current: 89790 / min. Contact us through our help center at help.openai.com if you continue to have issues..\n"
          ]
        },
        {
          "output_type": "stream",
          "name": "stdout",
          "text": [
            "Sports\n"
          ]
        },
        {
          "output_type": "stream",
          "name": "stderr",
          "text": [
            "WARNING:langchain.chat_models.openai:Retrying langchain.chat_models.openai.acompletion_with_retry.<locals>._completion_with_retry in 1.0 seconds as it raised RateLimitError: Rate limit reached for default-gpt-3.5-turbo in organization org-fUMgGI6gSqUWLozt4nlYWmsL on tokens per min. Limit: 90000 / min. Current: 89232 / min. Contact us through our help center at help.openai.com if you continue to have issues..\n"
          ]
        },
        {
          "output_type": "stream",
          "name": "stdout",
          "text": [
            "Entertainment\n",
            "Politics\n"
          ]
        },
        {
          "output_type": "stream",
          "name": "stderr",
          "text": [
            "WARNING:langchain.chat_models.openai:Retrying langchain.chat_models.openai.acompletion_with_retry.<locals>._completion_with_retry in 1.0 seconds as it raised RateLimitError: Rate limit reached for default-gpt-3.5-turbo in organization org-fUMgGI6gSqUWLozt4nlYWmsL on tokens per min. Limit: 90000 / min. Current: 89411 / min. Contact us through our help center at help.openai.com if you continue to have issues..\n"
          ]
        },
        {
          "output_type": "stream",
          "name": "stdout",
          "text": [
            "Health\n"
          ]
        },
        {
          "output_type": "stream",
          "name": "stderr",
          "text": [
            "WARNING:langchain.chat_models.openai:Retrying langchain.chat_models.openai.acompletion_with_retry.<locals>._completion_with_retry in 1.0 seconds as it raised RateLimitError: Rate limit reached for default-gpt-3.5-turbo in organization org-fUMgGI6gSqUWLozt4nlYWmsL on tokens per min. Limit: 90000 / min. Current: 89016 / min. Contact us through our help center at help.openai.com if you continue to have issues..\n"
          ]
        },
        {
          "output_type": "stream",
          "name": "stdout",
          "text": [
            "Business\n"
          ]
        },
        {
          "output_type": "stream",
          "name": "stderr",
          "text": [
            "WARNING:langchain.chat_models.openai:Retrying langchain.chat_models.openai.acompletion_with_retry.<locals>._completion_with_retry in 1.0 seconds as it raised RateLimitError: Rate limit reached for default-gpt-3.5-turbo in organization org-fUMgGI6gSqUWLozt4nlYWmsL on tokens per min. Limit: 90000 / min. Current: 89160 / min. Contact us through our help center at help.openai.com if you continue to have issues..\n"
          ]
        },
        {
          "output_type": "stream",
          "name": "stdout",
          "text": [
            "Entertainment\n",
            "Sports\n"
          ]
        },
        {
          "output_type": "stream",
          "name": "stderr",
          "text": [
            "WARNING:langchain.chat_models.openai:Retrying langchain.chat_models.openai.acompletion_with_retry.<locals>._completion_with_retry in 1.0 seconds as it raised RateLimitError: Rate limit reached for default-gpt-3.5-turbo in organization org-fUMgGI6gSqUWLozt4nlYWmsL on tokens per min. Limit: 90000 / min. Current: 89082 / min. Contact us through our help center at help.openai.com if you continue to have issues..\n"
          ]
        },
        {
          "output_type": "stream",
          "name": "stdout",
          "text": [
            "Business\n"
          ]
        },
        {
          "output_type": "stream",
          "name": "stderr",
          "text": [
            "WARNING:langchain.chat_models.openai:Retrying langchain.chat_models.openai.acompletion_with_retry.<locals>._completion_with_retry in 1.0 seconds as it raised RateLimitError: Rate limit reached for default-gpt-3.5-turbo in organization org-fUMgGI6gSqUWLozt4nlYWmsL on tokens per min. Limit: 90000 / min. Current: 88914 / min. Contact us through our help center at help.openai.com if you continue to have issues..\n"
          ]
        },
        {
          "output_type": "stream",
          "name": "stdout",
          "text": [
            "Sports\n"
          ]
        },
        {
          "output_type": "stream",
          "name": "stderr",
          "text": [
            "WARNING:langchain.chat_models.openai:Retrying langchain.chat_models.openai.acompletion_with_retry.<locals>._completion_with_retry in 2.0 seconds as it raised RateLimitError: Rate limit reached for default-gpt-3.5-turbo in organization org-fUMgGI6gSqUWLozt4nlYWmsL on tokens per min. Limit: 90000 / min. Current: 89331 / min. Contact us through our help center at help.openai.com if you continue to have issues..\n"
          ]
        },
        {
          "output_type": "stream",
          "name": "stdout",
          "text": [
            "Health\n"
          ]
        },
        {
          "output_type": "stream",
          "name": "stderr",
          "text": [
            "WARNING:langchain.chat_models.openai:Retrying langchain.chat_models.openai.acompletion_with_retry.<locals>._completion_with_retry in 1.0 seconds as it raised RateLimitError: Rate limit reached for default-gpt-3.5-turbo in organization org-fUMgGI6gSqUWLozt4nlYWmsL on tokens per min. Limit: 90000 / min. Current: 89118 / min. Contact us through our help center at help.openai.com if you continue to have issues..\n"
          ]
        },
        {
          "output_type": "stream",
          "name": "stdout",
          "text": [
            "Health\n",
            "Business\n",
            "Sports\n"
          ]
        },
        {
          "output_type": "stream",
          "name": "stderr",
          "text": [
            "WARNING:langchain.chat_models.openai:Retrying langchain.chat_models.openai.acompletion_with_retry.<locals>._completion_with_retry in 1.0 seconds as it raised RateLimitError: Rate limit reached for default-gpt-3.5-turbo in organization org-fUMgGI6gSqUWLozt4nlYWmsL on tokens per min. Limit: 90000 / min. Current: 89689 / min. Contact us through our help center at help.openai.com if you continue to have issues..\n"
          ]
        },
        {
          "output_type": "stream",
          "name": "stdout",
          "text": [
            "Sports\n"
          ]
        },
        {
          "output_type": "stream",
          "name": "stderr",
          "text": [
            "WARNING:langchain.chat_models.openai:Retrying langchain.chat_models.openai.acompletion_with_retry.<locals>._completion_with_retry in 1.0 seconds as it raised RateLimitError: Rate limit reached for default-gpt-3.5-turbo in organization org-fUMgGI6gSqUWLozt4nlYWmsL on tokens per min. Limit: 90000 / min. Current: 89146 / min. Contact us through our help center at help.openai.com if you continue to have issues..\n"
          ]
        },
        {
          "output_type": "stream",
          "name": "stdout",
          "text": [
            "Entertainment\n"
          ]
        },
        {
          "output_type": "stream",
          "name": "stderr",
          "text": [
            "WARNING:langchain.chat_models.openai:Retrying langchain.chat_models.openai.acompletion_with_retry.<locals>._completion_with_retry in 1.0 seconds as it raised RateLimitError: Rate limit reached for default-gpt-3.5-turbo in organization org-fUMgGI6gSqUWLozt4nlYWmsL on tokens per min. Limit: 90000 / min. Current: 89340 / min. Contact us through our help center at help.openai.com if you continue to have issues..\n"
          ]
        },
        {
          "output_type": "stream",
          "name": "stdout",
          "text": [
            "Weather/Natural Disaster\n",
            "Sci/Tech\n"
          ]
        },
        {
          "output_type": "stream",
          "name": "stderr",
          "text": [
            "WARNING:langchain.chat_models.openai:Retrying langchain.chat_models.openai.acompletion_with_retry.<locals>._completion_with_retry in 1.0 seconds as it raised RateLimitError: Rate limit reached for default-gpt-3.5-turbo in organization org-fUMgGI6gSqUWLozt4nlYWmsL on tokens per min. Limit: 90000 / min. Current: 88928 / min. Contact us through our help center at help.openai.com if you continue to have issues..\n"
          ]
        },
        {
          "output_type": "stream",
          "name": "stdout",
          "text": [
            "Entertainment\n"
          ]
        },
        {
          "output_type": "stream",
          "name": "stderr",
          "text": [
            "WARNING:langchain.chat_models.openai:Retrying langchain.chat_models.openai.acompletion_with_retry.<locals>._completion_with_retry in 1.0 seconds as it raised RateLimitError: Rate limit reached for default-gpt-3.5-turbo in organization org-fUMgGI6gSqUWLozt4nlYWmsL on tokens per min. Limit: 90000 / min. Current: 88985 / min. Contact us through our help center at help.openai.com if you continue to have issues..\n"
          ]
        },
        {
          "output_type": "stream",
          "name": "stdout",
          "text": [
            "Sports\n"
          ]
        },
        {
          "output_type": "stream",
          "name": "stderr",
          "text": [
            "WARNING:langchain.chat_models.openai:Retrying langchain.chat_models.openai.acompletion_with_retry.<locals>._completion_with_retry in 2.0 seconds as it raised RateLimitError: Rate limit reached for default-gpt-3.5-turbo in organization org-fUMgGI6gSqUWLozt4nlYWmsL on tokens per min. Limit: 90000 / min. Current: 89373 / min. Contact us through our help center at help.openai.com if you continue to have issues..\n"
          ]
        },
        {
          "output_type": "stream",
          "name": "stdout",
          "text": [
            "Business\n"
          ]
        },
        {
          "output_type": "stream",
          "name": "stderr",
          "text": [
            "WARNING:langchain.chat_models.openai:Retrying langchain.chat_models.openai.acompletion_with_retry.<locals>._completion_with_retry in 1.0 seconds as it raised RateLimitError: Rate limit reached for default-gpt-3.5-turbo in organization org-fUMgGI6gSqUWLozt4nlYWmsL on tokens per min. Limit: 90000 / min. Current: 88893 / min. Contact us through our help center at help.openai.com if you continue to have issues..\n"
          ]
        },
        {
          "output_type": "stream",
          "name": "stdout",
          "text": [
            "Sports\n",
            "Health\n"
          ]
        },
        {
          "output_type": "stream",
          "name": "stderr",
          "text": [
            "WARNING:langchain.chat_models.openai:Retrying langchain.chat_models.openai.acompletion_with_retry.<locals>._completion_with_retry in 1.0 seconds as it raised RateLimitError: Rate limit reached for default-gpt-3.5-turbo in organization org-fUMgGI6gSqUWLozt4nlYWmsL on tokens per min. Limit: 90000 / min. Current: 89177 / min. Contact us through our help center at help.openai.com if you continue to have issues..\n"
          ]
        },
        {
          "output_type": "stream",
          "name": "stdout",
          "text": [
            "Sports\n",
            "Business\n"
          ]
        },
        {
          "output_type": "stream",
          "name": "stderr",
          "text": [
            "WARNING:langchain.chat_models.openai:Retrying langchain.chat_models.openai.acompletion_with_retry.<locals>._completion_with_retry in 1.0 seconds as it raised RateLimitError: Rate limit reached for default-gpt-3.5-turbo in organization org-fUMgGI6gSqUWLozt4nlYWmsL on tokens per min. Limit: 90000 / min. Current: 89076 / min. Contact us through our help center at help.openai.com if you continue to have issues..\n"
          ]
        },
        {
          "output_type": "stream",
          "name": "stdout",
          "text": [
            "Entertainment\n"
          ]
        },
        {
          "output_type": "stream",
          "name": "stderr",
          "text": [
            "WARNING:langchain.chat_models.openai:Retrying langchain.chat_models.openai.acompletion_with_retry.<locals>._completion_with_retry in 2.0 seconds as it raised RateLimitError: Rate limit reached for default-gpt-3.5-turbo in organization org-fUMgGI6gSqUWLozt4nlYWmsL on tokens per min. Limit: 90000 / min. Current: 89483 / min. Contact us through our help center at help.openai.com if you continue to have issues..\n"
          ]
        },
        {
          "output_type": "stream",
          "name": "stdout",
          "text": [
            "None of the given categories fit this article. It is related to politics and conflict resolution in Northern Ireland.\n",
            "Health\n",
            "Sports\n",
            "Business\n"
          ]
        },
        {
          "output_type": "stream",
          "name": "stderr",
          "text": [
            "WARNING:langchain.chat_models.openai:Retrying langchain.chat_models.openai.acompletion_with_retry.<locals>._completion_with_retry in 1.0 seconds as it raised RateLimitError: Rate limit reached for default-gpt-3.5-turbo in organization org-fUMgGI6gSqUWLozt4nlYWmsL on tokens per min. Limit: 90000 / min. Current: 89268 / min. Contact us through our help center at help.openai.com if you continue to have issues..\n"
          ]
        },
        {
          "output_type": "stream",
          "name": "stdout",
          "text": [
            "None of the given categories fit this article perfectly, but the closest would be \"Business\" as it involves a coalmine and potential economic impact. However, it could also be classified as \"Health\" or \"Safety\" due to the danger posed to the trapped miners.\n",
            "Music Feeds\n"
          ]
        },
        {
          "output_type": "stream",
          "name": "stderr",
          "text": [
            "WARNING:langchain.chat_models.openai:Retrying langchain.chat_models.openai.acompletion_with_retry.<locals>._completion_with_retry in 1.0 seconds as it raised RateLimitError: Rate limit reached for default-gpt-3.5-turbo in organization org-fUMgGI6gSqUWLozt4nlYWmsL on tokens per min. Limit: 90000 / min. Current: 89468 / min. Contact us through our help center at help.openai.com if you continue to have issues..\n"
          ]
        },
        {
          "output_type": "stream",
          "name": "stdout",
          "text": [
            "Sports\n"
          ]
        },
        {
          "output_type": "stream",
          "name": "stderr",
          "text": [
            "WARNING:langchain.chat_models.openai:Retrying langchain.chat_models.openai.acompletion_with_retry.<locals>._completion_with_retry in 1.0 seconds as it raised RateLimitError: Rate limit reached for default-gpt-3.5-turbo in organization org-fUMgGI6gSqUWLozt4nlYWmsL on tokens per min. Limit: 90000 / min. Current: 89101 / min. Contact us through our help center at help.openai.com if you continue to have issues..\n"
          ]
        },
        {
          "output_type": "stream",
          "name": "stdout",
          "text": [
            "Health\n",
            "Business\n"
          ]
        },
        {
          "output_type": "stream",
          "name": "stderr",
          "text": [
            "WARNING:langchain.chat_models.openai:Retrying langchain.chat_models.openai.acompletion_with_retry.<locals>._completion_with_retry in 1.0 seconds as it raised RateLimitError: Rate limit reached for default-gpt-3.5-turbo in organization org-fUMgGI6gSqUWLozt4nlYWmsL on tokens per min. Limit: 90000 / min. Current: 88958 / min. Contact us through our help center at help.openai.com if you continue to have issues..\n"
          ]
        },
        {
          "output_type": "stream",
          "name": "stdout",
          "text": [
            "Sports\n"
          ]
        },
        {
          "output_type": "stream",
          "name": "stderr",
          "text": [
            "WARNING:langchain.chat_models.openai:Retrying langchain.chat_models.openai.acompletion_with_retry.<locals>._completion_with_retry in 1.0 seconds as it raised RateLimitError: Rate limit reached for default-gpt-3.5-turbo in organization org-fUMgGI6gSqUWLozt4nlYWmsL on tokens per min. Limit: 90000 / min. Current: 89165 / min. Contact us through our help center at help.openai.com if you continue to have issues..\n"
          ]
        },
        {
          "output_type": "stream",
          "name": "stdout",
          "text": [
            "Sci/Tech\n"
          ]
        },
        {
          "output_type": "stream",
          "name": "stderr",
          "text": [
            "WARNING:langchain.chat_models.openai:Retrying langchain.chat_models.openai.acompletion_with_retry.<locals>._completion_with_retry in 2.0 seconds as it raised RateLimitError: Rate limit reached for default-gpt-3.5-turbo in organization org-fUMgGI6gSqUWLozt4nlYWmsL on tokens per min. Limit: 90000 / min. Current: 89545 / min. Contact us through our help center at help.openai.com if you continue to have issues..\n"
          ]
        },
        {
          "output_type": "stream",
          "name": "stdout",
          "text": [
            "Business\n"
          ]
        },
        {
          "output_type": "stream",
          "name": "stderr",
          "text": [
            "WARNING:langchain.chat_models.openai:Retrying langchain.chat_models.openai.acompletion_with_retry.<locals>._completion_with_retry in 1.0 seconds as it raised RateLimitError: Rate limit reached for default-gpt-3.5-turbo in organization org-fUMgGI6gSqUWLozt4nlYWmsL on tokens per min. Limit: 90000 / min. Current: 89204 / min. Contact us through our help center at help.openai.com if you continue to have issues..\n"
          ]
        },
        {
          "output_type": "stream",
          "name": "stdout",
          "text": [
            "Business\n",
            "Entertainment\n"
          ]
        },
        {
          "output_type": "stream",
          "name": "stderr",
          "text": [
            "WARNING:langchain.chat_models.openai:Retrying langchain.chat_models.openai.acompletion_with_retry.<locals>._completion_with_retry in 1.0 seconds as it raised RateLimitError: Rate limit reached for default-gpt-3.5-turbo in organization org-fUMgGI6gSqUWLozt4nlYWmsL on tokens per min. Limit: 90000 / min. Current: 89252 / min. Contact us through our help center at help.openai.com if you continue to have issues..\n"
          ]
        },
        {
          "output_type": "stream",
          "name": "stdout",
          "text": [
            "Sports\n",
            "Sports\n"
          ]
        },
        {
          "output_type": "stream",
          "name": "stderr",
          "text": [
            "WARNING:langchain.chat_models.openai:Retrying langchain.chat_models.openai.acompletion_with_retry.<locals>._completion_with_retry in 1.0 seconds as it raised RateLimitError: Rate limit reached for default-gpt-3.5-turbo in organization org-fUMgGI6gSqUWLozt4nlYWmsL on tokens per min. Limit: 90000 / min. Current: 89296 / min. Contact us through our help center at help.openai.com if you continue to have issues..\n"
          ]
        },
        {
          "output_type": "stream",
          "name": "stdout",
          "text": [
            "Toons\n"
          ]
        },
        {
          "output_type": "stream",
          "name": "stderr",
          "text": [
            "WARNING:langchain.chat_models.openai:Retrying langchain.chat_models.openai.acompletion_with_retry.<locals>._completion_with_retry in 1.0 seconds as it raised RateLimitError: Rate limit reached for default-gpt-3.5-turbo in organization org-fUMgGI6gSqUWLozt4nlYWmsL on tokens per min. Limit: 90000 / min. Current: 88958 / min. Contact us through our help center at help.openai.com if you continue to have issues..\n"
          ]
        },
        {
          "output_type": "stream",
          "name": "stdout",
          "text": [
            "Business\n"
          ]
        },
        {
          "output_type": "stream",
          "name": "stderr",
          "text": [
            "WARNING:langchain.chat_models.openai:Retrying langchain.chat_models.openai.acompletion_with_retry.<locals>._completion_with_retry in 1.0 seconds as it raised RateLimitError: Rate limit reached for default-gpt-3.5-turbo in organization org-fUMgGI6gSqUWLozt4nlYWmsL on tokens per min. Limit: 90000 / min. Current: 88989 / min. Contact us through our help center at help.openai.com if you continue to have issues..\n"
          ]
        },
        {
          "output_type": "stream",
          "name": "stdout",
          "text": [
            "Sci/Tech\n"
          ]
        },
        {
          "output_type": "stream",
          "name": "stderr",
          "text": [
            "WARNING:langchain.chat_models.openai:Retrying langchain.chat_models.openai.acompletion_with_retry.<locals>._completion_with_retry in 1.0 seconds as it raised RateLimitError: Rate limit reached for default-gpt-3.5-turbo in organization org-fUMgGI6gSqUWLozt4nlYWmsL on tokens per min. Limit: 90000 / min. Current: 89028 / min. Contact us through our help center at help.openai.com if you continue to have issues..\n"
          ]
        },
        {
          "output_type": "stream",
          "name": "stdout",
          "text": [
            "Business\n",
            "Software and Development\n"
          ]
        },
        {
          "output_type": "stream",
          "name": "stderr",
          "text": [
            "WARNING:langchain.chat_models.openai:Retrying langchain.chat_models.openai.acompletion_with_retry.<locals>._completion_with_retry in 1.0 seconds as it raised RateLimitError: Rate limit reached for default-gpt-3.5-turbo in organization org-fUMgGI6gSqUWLozt4nlYWmsL on tokens per min. Limit: 90000 / min. Current: 89218 / min. Contact us through our help center at help.openai.com if you continue to have issues..\n"
          ]
        },
        {
          "output_type": "stream",
          "name": "stdout",
          "text": [
            "Sports\n",
            "Sports\n"
          ]
        },
        {
          "output_type": "stream",
          "name": "stderr",
          "text": [
            "WARNING:langchain.chat_models.openai:Retrying langchain.chat_models.openai.acompletion_with_retry.<locals>._completion_with_retry in 1.0 seconds as it raised RateLimitError: Rate limit reached for default-gpt-3.5-turbo in organization org-fUMgGI6gSqUWLozt4nlYWmsL on tokens per min. Limit: 90000 / min. Current: 89027 / min. Contact us through our help center at help.openai.com if you continue to have issues..\n"
          ]
        },
        {
          "output_type": "stream",
          "name": "stdout",
          "text": [
            "Business\n"
          ]
        },
        {
          "output_type": "stream",
          "name": "stderr",
          "text": [
            "WARNING:langchain.chat_models.openai:Retrying langchain.chat_models.openai.acompletion_with_retry.<locals>._completion_with_retry in 2.0 seconds as it raised RateLimitError: Rate limit reached for default-gpt-3.5-turbo in organization org-fUMgGI6gSqUWLozt4nlYWmsL on tokens per min. Limit: 90000 / min. Current: 89425 / min. Contact us through our help center at help.openai.com if you continue to have issues..\n"
          ]
        },
        {
          "output_type": "stream",
          "name": "stdout",
          "text": [
            "Sports\n",
            "Health\n"
          ]
        },
        {
          "output_type": "stream",
          "name": "stderr",
          "text": [
            "WARNING:langchain.chat_models.openai:Retrying langchain.chat_models.openai.acompletion_with_retry.<locals>._completion_with_retry in 1.0 seconds as it raised RateLimitError: Rate limit reached for default-gpt-3.5-turbo in organization org-fUMgGI6gSqUWLozt4nlYWmsL on tokens per min. Limit: 90000 / min. Current: 89030 / min. Contact us through our help center at help.openai.com if you continue to have issues..\n"
          ]
        },
        {
          "output_type": "stream",
          "name": "stdout",
          "text": [
            "Travel/Transportation\n",
            "Health\n"
          ]
        },
        {
          "output_type": "stream",
          "name": "stderr",
          "text": [
            "WARNING:langchain.chat_models.openai:Retrying langchain.chat_models.openai.acompletion_with_retry.<locals>._completion_with_retry in 1.0 seconds as it raised RateLimitError: Rate limit reached for default-gpt-3.5-turbo in organization org-fUMgGI6gSqUWLozt4nlYWmsL on tokens per min. Limit: 90000 / min. Current: 89718 / min. Contact us through our help center at help.openai.com if you continue to have issues..\n"
          ]
        },
        {
          "output_type": "stream",
          "name": "stdout",
          "text": [
            "Business\n"
          ]
        },
        {
          "output_type": "stream",
          "name": "stderr",
          "text": [
            "WARNING:langchain.chat_models.openai:Retrying langchain.chat_models.openai.acompletion_with_retry.<locals>._completion_with_retry in 1.0 seconds as it raised RateLimitError: Rate limit reached for default-gpt-3.5-turbo in organization org-fUMgGI6gSqUWLozt4nlYWmsL on tokens per min. Limit: 90000 / min. Current: 89094 / min. Contact us through our help center at help.openai.com if you continue to have issues..\n"
          ]
        },
        {
          "output_type": "stream",
          "name": "stdout",
          "text": [
            "Business\n"
          ]
        },
        {
          "output_type": "stream",
          "name": "stderr",
          "text": [
            "WARNING:langchain.chat_models.openai:Retrying langchain.chat_models.openai.acompletion_with_retry.<locals>._completion_with_retry in 1.0 seconds as it raised RateLimitError: Rate limit reached for default-gpt-3.5-turbo in organization org-fUMgGI6gSqUWLozt4nlYWmsL on tokens per min. Limit: 90000 / min. Current: 89515 / min. Contact us through our help center at help.openai.com if you continue to have issues..\n"
          ]
        },
        {
          "output_type": "stream",
          "name": "stdout",
          "text": [
            "Health\n"
          ]
        },
        {
          "output_type": "stream",
          "name": "stderr",
          "text": [
            "WARNING:langchain.chat_models.openai:Retrying langchain.chat_models.openai.acompletion_with_retry.<locals>._completion_with_retry in 1.0 seconds as it raised RateLimitError: Rate limit reached for default-gpt-3.5-turbo in organization org-fUMgGI6gSqUWLozt4nlYWmsL on tokens per min. Limit: 90000 / min. Current: 88913 / min. Contact us through our help center at help.openai.com if you continue to have issues..\n"
          ]
        },
        {
          "output_type": "stream",
          "name": "stdout",
          "text": [
            "Health\n",
            "Sci/Tech (incorrect classification) \n",
            "\n",
            "Correct classification: News/Current Events\n"
          ]
        },
        {
          "output_type": "stream",
          "name": "stderr",
          "text": [
            "WARNING:langchain.chat_models.openai:Retrying langchain.chat_models.openai.acompletion_with_retry.<locals>._completion_with_retry in 1.0 seconds as it raised RateLimitError: Rate limit reached for default-gpt-3.5-turbo in organization org-fUMgGI6gSqUWLozt4nlYWmsL on tokens per min. Limit: 90000 / min. Current: 89637 / min. Contact us through our help center at help.openai.com if you continue to have issues..\n"
          ]
        },
        {
          "output_type": "stream",
          "name": "stdout",
          "text": [
            "Business\n"
          ]
        },
        {
          "output_type": "stream",
          "name": "stderr",
          "text": [
            "WARNING:langchain.chat_models.openai:Retrying langchain.chat_models.openai.acompletion_with_retry.<locals>._completion_with_retry in 1.0 seconds as it raised RateLimitError: Rate limit reached for default-gpt-3.5-turbo in organization org-fUMgGI6gSqUWLozt4nlYWmsL on tokens per min. Limit: 90000 / min. Current: 88933 / min. Contact us through our help center at help.openai.com if you continue to have issues..\n"
          ]
        },
        {
          "output_type": "stream",
          "name": "stdout",
          "text": [
            "Sports\n"
          ]
        },
        {
          "output_type": "stream",
          "name": "stderr",
          "text": [
            "WARNING:langchain.chat_models.openai:Retrying langchain.chat_models.openai.acompletion_with_retry.<locals>._completion_with_retry in 2.0 seconds as it raised RateLimitError: Rate limit reached for default-gpt-3.5-turbo in organization org-fUMgGI6gSqUWLozt4nlYWmsL on tokens per min. Limit: 90000 / min. Current: 89303 / min. Contact us through our help center at help.openai.com if you continue to have issues..\n"
          ]
        },
        {
          "output_type": "stream",
          "name": "stdout",
          "text": [
            "Business\n",
            "Music Feeds\n"
          ]
        },
        {
          "output_type": "stream",
          "name": "stderr",
          "text": [
            "WARNING:langchain.chat_models.openai:Retrying langchain.chat_models.openai.acompletion_with_retry.<locals>._completion_with_retry in 1.0 seconds as it raised RateLimitError: Rate limit reached for default-gpt-3.5-turbo in organization org-fUMgGI6gSqUWLozt4nlYWmsL on tokens per min. Limit: 90000 / min. Current: 89030 / min. Contact us through our help center at help.openai.com if you continue to have issues..\n"
          ]
        },
        {
          "output_type": "stream",
          "name": "stdout",
          "text": [
            "Sports\n",
            "Business\n"
          ]
        },
        {
          "output_type": "stream",
          "name": "stderr",
          "text": [
            "WARNING:langchain.chat_models.openai:Retrying langchain.chat_models.openai.acompletion_with_retry.<locals>._completion_with_retry in 1.0 seconds as it raised RateLimitError: Rate limit reached for default-gpt-3.5-turbo in organization org-fUMgGI6gSqUWLozt4nlYWmsL on tokens per min. Limit: 90000 / min. Current: 89786 / min. Contact us through our help center at help.openai.com if you continue to have issues..\n"
          ]
        },
        {
          "output_type": "stream",
          "name": "stdout",
          "text": [
            "Sports\n"
          ]
        },
        {
          "output_type": "stream",
          "name": "stderr",
          "text": [
            "WARNING:langchain.chat_models.openai:Retrying langchain.chat_models.openai.acompletion_with_retry.<locals>._completion_with_retry in 1.0 seconds as it raised RateLimitError: Rate limit reached for default-gpt-3.5-turbo in organization org-fUMgGI6gSqUWLozt4nlYWmsL on tokens per min. Limit: 90000 / min. Current: 89114 / min. Contact us through our help center at help.openai.com if you continue to have issues..\n"
          ]
        },
        {
          "output_type": "stream",
          "name": "stdout",
          "text": [
            "Business\n"
          ]
        },
        {
          "output_type": "stream",
          "name": "stderr",
          "text": [
            "WARNING:langchain.chat_models.openai:Retrying langchain.chat_models.openai.acompletion_with_retry.<locals>._completion_with_retry in 2.0 seconds as it raised RateLimitError: Rate limit reached for default-gpt-3.5-turbo in organization org-fUMgGI6gSqUWLozt4nlYWmsL on tokens per min. Limit: 90000 / min. Current: 89508 / min. Contact us through our help center at help.openai.com if you continue to have issues..\n"
          ]
        },
        {
          "output_type": "stream",
          "name": "stdout",
          "text": [
            "Sports\n"
          ]
        },
        {
          "output_type": "stream",
          "name": "stderr",
          "text": [
            "WARNING:langchain.chat_models.openai:Retrying langchain.chat_models.openai.acompletion_with_retry.<locals>._completion_with_retry in 1.0 seconds as it raised RateLimitError: Rate limit reached for default-gpt-3.5-turbo in organization org-fUMgGI6gSqUWLozt4nlYWmsL on tokens per min. Limit: 90000 / min. Current: 88932 / min. Contact us through our help center at help.openai.com if you continue to have issues..\n"
          ]
        },
        {
          "output_type": "stream",
          "name": "stdout",
          "text": [
            "Sports\n",
            "Sports\n",
            "Sci/Tech\n"
          ]
        },
        {
          "output_type": "stream",
          "name": "stderr",
          "text": [
            "WARNING:langchain.chat_models.openai:Retrying langchain.chat_models.openai.acompletion_with_retry.<locals>._completion_with_retry in 1.0 seconds as it raised RateLimitError: Rate limit reached for default-gpt-3.5-turbo in organization org-fUMgGI6gSqUWLozt4nlYWmsL on tokens per min. Limit: 90000 / min. Current: 89039 / min. Contact us through our help center at help.openai.com if you continue to have issues..\n"
          ]
        },
        {
          "output_type": "stream",
          "name": "stdout",
          "text": [
            "Sports\n"
          ]
        },
        {
          "output_type": "stream",
          "name": "stderr",
          "text": [
            "WARNING:langchain.chat_models.openai:Retrying langchain.chat_models.openai.acompletion_with_retry.<locals>._completion_with_retry in 1.0 seconds as it raised RateLimitError: Rate limit reached for default-gpt-3.5-turbo in organization org-fUMgGI6gSqUWLozt4nlYWmsL on tokens per min. Limit: 90000 / min. Current: 89333 / min. Contact us through our help center at help.openai.com if you continue to have issues..\n"
          ]
        },
        {
          "output_type": "stream",
          "name": "stdout",
          "text": [
            "Sports\n"
          ]
        },
        {
          "output_type": "stream",
          "name": "stderr",
          "text": [
            "WARNING:langchain.chat_models.openai:Retrying langchain.chat_models.openai.acompletion_with_retry.<locals>._completion_with_retry in 2.0 seconds as it raised RateLimitError: Rate limit reached for default-gpt-3.5-turbo in organization org-fUMgGI6gSqUWLozt4nlYWmsL on tokens per min. Limit: 90000 / min. Current: 89692 / min. Contact us through our help center at help.openai.com if you continue to have issues..\n"
          ]
        },
        {
          "output_type": "stream",
          "name": "stdout",
          "text": [
            "Sports\n"
          ]
        },
        {
          "output_type": "stream",
          "name": "stderr",
          "text": [
            "WARNING:langchain.chat_models.openai:Retrying langchain.chat_models.openai.acompletion_with_retry.<locals>._completion_with_retry in 1.0 seconds as it raised RateLimitError: Rate limit reached for default-gpt-3.5-turbo in organization org-fUMgGI6gSqUWLozt4nlYWmsL on tokens per min. Limit: 90000 / min. Current: 89185 / min. Contact us through our help center at help.openai.com if you continue to have issues..\n"
          ]
        },
        {
          "output_type": "stream",
          "name": "stdout",
          "text": [
            "Health\n",
            "Health\n"
          ]
        },
        {
          "output_type": "stream",
          "name": "stderr",
          "text": [
            "WARNING:langchain.chat_models.openai:Retrying langchain.chat_models.openai.acompletion_with_retry.<locals>._completion_with_retry in 1.0 seconds as it raised RateLimitError: Rate limit reached for default-gpt-3.5-turbo in organization org-fUMgGI6gSqUWLozt4nlYWmsL on tokens per min. Limit: 90000 / min. Current: 89477 / min. Contact us through our help center at help.openai.com if you continue to have issues..\n"
          ]
        },
        {
          "output_type": "stream",
          "name": "stdout",
          "text": [
            "Sports\n"
          ]
        },
        {
          "output_type": "stream",
          "name": "stderr",
          "text": [
            "WARNING:langchain.chat_models.openai:Retrying langchain.chat_models.openai.acompletion_with_retry.<locals>._completion_with_retry in 1.0 seconds as it raised RateLimitError: Rate limit reached for default-gpt-3.5-turbo in organization org-fUMgGI6gSqUWLozt4nlYWmsL on tokens per min. Limit: 90000 / min. Current: 89101 / min. Contact us through our help center at help.openai.com if you continue to have issues..\n"
          ]
        },
        {
          "output_type": "stream",
          "name": "stdout",
          "text": [
            "Sports\n"
          ]
        },
        {
          "output_type": "stream",
          "name": "stderr",
          "text": [
            "WARNING:langchain.chat_models.openai:Retrying langchain.chat_models.openai.acompletion_with_retry.<locals>._completion_with_retry in 1.0 seconds as it raised RateLimitError: Rate limit reached for default-gpt-3.5-turbo in organization org-fUMgGI6gSqUWLozt4nlYWmsL on tokens per min. Limit: 90000 / min. Current: 89245 / min. Contact us through our help center at help.openai.com if you continue to have issues..\n"
          ]
        },
        {
          "output_type": "stream",
          "name": "stdout",
          "text": [
            "Entertainment\n",
            "Sci/Tech\n"
          ]
        },
        {
          "output_type": "stream",
          "name": "stderr",
          "text": [
            "WARNING:langchain.chat_models.openai:Retrying langchain.chat_models.openai.acompletion_with_retry.<locals>._completion_with_retry in 1.0 seconds as it raised RateLimitError: Rate limit reached for default-gpt-3.5-turbo in organization org-fUMgGI6gSqUWLozt4nlYWmsL on tokens per min. Limit: 90000 / min. Current: 89161 / min. Contact us through our help center at help.openai.com if you continue to have issues..\n"
          ]
        },
        {
          "output_type": "stream",
          "name": "stdout",
          "text": [
            "Business\n"
          ]
        },
        {
          "output_type": "stream",
          "name": "stderr",
          "text": [
            "WARNING:langchain.chat_models.openai:Retrying langchain.chat_models.openai.acompletion_with_retry.<locals>._completion_with_retry in 1.0 seconds as it raised RateLimitError: Rate limit reached for default-gpt-3.5-turbo in organization org-fUMgGI6gSqUWLozt4nlYWmsL on tokens per min. Limit: 90000 / min. Current: 89505 / min. Contact us through our help center at help.openai.com if you continue to have issues..\n"
          ]
        },
        {
          "output_type": "stream",
          "name": "stdout",
          "text": [
            "Health\n"
          ]
        },
        {
          "output_type": "stream",
          "name": "stderr",
          "text": [
            "WARNING:langchain.chat_models.openai:Retrying langchain.chat_models.openai.acompletion_with_retry.<locals>._completion_with_retry in 1.0 seconds as it raised RateLimitError: Rate limit reached for default-gpt-3.5-turbo in organization org-fUMgGI6gSqUWLozt4nlYWmsL on tokens per min. Limit: 90000 / min. Current: 88953 / min. Contact us through our help center at help.openai.com if you continue to have issues..\n"
          ]
        },
        {
          "output_type": "stream",
          "name": "stdout",
          "text": [
            "Sports\n"
          ]
        },
        {
          "output_type": "stream",
          "name": "stderr",
          "text": [
            "WARNING:langchain.chat_models.openai:Retrying langchain.chat_models.openai.acompletion_with_retry.<locals>._completion_with_retry in 1.0 seconds as it raised RateLimitError: Rate limit reached for default-gpt-3.5-turbo in organization org-fUMgGI6gSqUWLozt4nlYWmsL on tokens per min. Limit: 90000 / min. Current: 89260 / min. Contact us through our help center at help.openai.com if you continue to have issues..\n"
          ]
        },
        {
          "output_type": "stream",
          "name": "stdout",
          "text": [
            "Business\n",
            "Sports\n"
          ]
        },
        {
          "output_type": "stream",
          "name": "stderr",
          "text": [
            "WARNING:langchain.chat_models.openai:Retrying langchain.chat_models.openai.acompletion_with_retry.<locals>._completion_with_retry in 2.0 seconds as it raised RateLimitError: Rate limit reached for default-gpt-3.5-turbo in organization org-fUMgGI6gSqUWLozt4nlYWmsL on tokens per min. Limit: 90000 / min. Current: 89661 / min. Contact us through our help center at help.openai.com if you continue to have issues..\n"
          ]
        },
        {
          "output_type": "stream",
          "name": "stdout",
          "text": [
            "Entertainment\n"
          ]
        },
        {
          "output_type": "stream",
          "name": "stderr",
          "text": [
            "WARNING:langchain.chat_models.openai:Retrying langchain.chat_models.openai.acompletion_with_retry.<locals>._completion_with_retry in 1.0 seconds as it raised RateLimitError: Rate limit reached for default-gpt-3.5-turbo in organization org-fUMgGI6gSqUWLozt4nlYWmsL on tokens per min. Limit: 90000 / min. Current: 88984 / min. Contact us through our help center at help.openai.com if you continue to have issues..\n"
          ]
        },
        {
          "output_type": "stream",
          "name": "stdout",
          "text": [
            "Sports\n",
            "Sports\n",
            "Sports\n"
          ]
        },
        {
          "output_type": "stream",
          "name": "stderr",
          "text": [
            "WARNING:langchain.chat_models.openai:Retrying langchain.chat_models.openai.acompletion_with_retry.<locals>._completion_with_retry in 1.0 seconds as it raised RateLimitError: Rate limit reached for default-gpt-3.5-turbo in organization org-fUMgGI6gSqUWLozt4nlYWmsL on tokens per min. Limit: 90000 / min. Current: 89208 / min. Contact us through our help center at help.openai.com if you continue to have issues..\n",
            "WARNING:langchain.chat_models.openai:Retrying langchain.chat_models.openai.acompletion_with_retry.<locals>._completion_with_retry in 1.0 seconds as it raised RateLimitError: Rate limit reached for default-gpt-3.5-turbo in organization org-fUMgGI6gSqUWLozt4nlYWmsL on tokens per min. Limit: 90000 / min. Current: 89072 / min. Contact us through our help center at help.openai.com if you continue to have issues..\n"
          ]
        },
        {
          "output_type": "stream",
          "name": "stdout",
          "text": [
            "Sports\n",
            "Business\n"
          ]
        },
        {
          "output_type": "stream",
          "name": "stderr",
          "text": [
            "WARNING:langchain.chat_models.openai:Retrying langchain.chat_models.openai.acompletion_with_retry.<locals>._completion_with_retry in 1.0 seconds as it raised RateLimitError: Rate limit reached for default-gpt-3.5-turbo in organization org-fUMgGI6gSqUWLozt4nlYWmsL on tokens per min. Limit: 90000 / min. Current: 88951 / min. Contact us through our help center at help.openai.com if you continue to have issues..\n"
          ]
        },
        {
          "output_type": "stream",
          "name": "stdout",
          "text": [
            "Politics\n"
          ]
        },
        {
          "output_type": "stream",
          "name": "stderr",
          "text": [
            "WARNING:langchain.chat_models.openai:Retrying langchain.chat_models.openai.acompletion_with_retry.<locals>._completion_with_retry in 1.0 seconds as it raised RateLimitError: Rate limit reached for default-gpt-3.5-turbo in organization org-fUMgGI6gSqUWLozt4nlYWmsL on tokens per min. Limit: 90000 / min. Current: 89364 / min. Contact us through our help center at help.openai.com if you continue to have issues..\n"
          ]
        },
        {
          "output_type": "stream",
          "name": "stdout",
          "text": [
            "Sports\n"
          ]
        },
        {
          "output_type": "stream",
          "name": "stderr",
          "text": [
            "WARNING:langchain.chat_models.openai:Retrying langchain.chat_models.openai.acompletion_with_retry.<locals>._completion_with_retry in 2.0 seconds as it raised RateLimitError: Rate limit reached for default-gpt-3.5-turbo in organization org-fUMgGI6gSqUWLozt4nlYWmsL on tokens per min. Limit: 90000 / min. Current: 89783 / min. Contact us through our help center at help.openai.com if you continue to have issues..\n"
          ]
        },
        {
          "output_type": "stream",
          "name": "stdout",
          "text": [
            "Sports\n",
            "Sports\n"
          ]
        },
        {
          "output_type": "stream",
          "name": "stderr",
          "text": [
            "WARNING:langchain.chat_models.openai:Retrying langchain.chat_models.openai.acompletion_with_retry.<locals>._completion_with_retry in 1.0 seconds as it raised RateLimitError: Rate limit reached for default-gpt-3.5-turbo in organization org-fUMgGI6gSqUWLozt4nlYWmsL on tokens per min. Limit: 90000 / min. Current: 89034 / min. Contact us through our help center at help.openai.com if you continue to have issues..\n"
          ]
        },
        {
          "output_type": "stream",
          "name": "stdout",
          "text": [
            "Politics/Current Events\n",
            "Sports\n"
          ]
        },
        {
          "output_type": "stream",
          "name": "stderr",
          "text": [
            "WARNING:langchain.chat_models.openai:Retrying langchain.chat_models.openai.acompletion_with_retry.<locals>._completion_with_retry in 1.0 seconds as it raised RateLimitError: Rate limit reached for default-gpt-3.5-turbo in organization org-fUMgGI6gSqUWLozt4nlYWmsL on tokens per min. Limit: 90000 / min. Current: 88982 / min. Contact us through our help center at help.openai.com if you continue to have issues..\n"
          ]
        },
        {
          "output_type": "stream",
          "name": "stdout",
          "text": [
            "Entertainment\n"
          ]
        },
        {
          "output_type": "stream",
          "name": "stderr",
          "text": [
            "WARNING:langchain.chat_models.openai:Retrying langchain.chat_models.openai.acompletion_with_retry.<locals>._completion_with_retry in 1.0 seconds as it raised RateLimitError: Rate limit reached for default-gpt-3.5-turbo in organization org-fUMgGI6gSqUWLozt4nlYWmsL on tokens per min. Limit: 90000 / min. Current: 88968 / min. Contact us through our help center at help.openai.com if you continue to have issues..\n"
          ]
        },
        {
          "output_type": "stream",
          "name": "stdout",
          "text": [
            "Business\n"
          ]
        },
        {
          "output_type": "stream",
          "name": "stderr",
          "text": [
            "WARNING:langchain.chat_models.openai:Retrying langchain.chat_models.openai.acompletion_with_retry.<locals>._completion_with_retry in 2.0 seconds as it raised RateLimitError: Rate limit reached for default-gpt-3.5-turbo in organization org-fUMgGI6gSqUWLozt4nlYWmsL on tokens per min. Limit: 90000 / min. Current: 89375 / min. Contact us through our help center at help.openai.com if you continue to have issues..\n"
          ]
        },
        {
          "output_type": "stream",
          "name": "stdout",
          "text": [
            "Sci/Tech\n"
          ]
        },
        {
          "output_type": "stream",
          "name": "stderr",
          "text": [
            "WARNING:langchain.chat_models.openai:Retrying langchain.chat_models.openai.acompletion_with_retry.<locals>._completion_with_retry in 1.0 seconds as it raised RateLimitError: Rate limit reached for default-gpt-3.5-turbo in organization org-fUMgGI6gSqUWLozt4nlYWmsL on tokens per min. Limit: 90000 / min. Current: 89032 / min. Contact us through our help center at help.openai.com if you continue to have issues..\n"
          ]
        },
        {
          "output_type": "stream",
          "name": "stdout",
          "text": [
            "Sci/Tech\n",
            "Sci/Tech\n",
            "Entertainment\n"
          ]
        },
        {
          "output_type": "stream",
          "name": "stderr",
          "text": [
            "WARNING:langchain.chat_models.openai:Retrying langchain.chat_models.openai.acompletion_with_retry.<locals>._completion_with_retry in 1.0 seconds as it raised RateLimitError: Rate limit reached for default-gpt-3.5-turbo in organization org-fUMgGI6gSqUWLozt4nlYWmsL on tokens per min. Limit: 90000 / min. Current: 89682 / min. Contact us through our help center at help.openai.com if you continue to have issues..\n"
          ]
        },
        {
          "output_type": "stream",
          "name": "stdout",
          "text": [
            "Sci/Tech\n"
          ]
        },
        {
          "output_type": "stream",
          "name": "stderr",
          "text": [
            "WARNING:langchain.chat_models.openai:Retrying langchain.chat_models.openai.acompletion_with_retry.<locals>._completion_with_retry in 1.0 seconds as it raised RateLimitError: Rate limit reached for default-gpt-3.5-turbo in organization org-fUMgGI6gSqUWLozt4nlYWmsL on tokens per min. Limit: 90000 / min. Current: 89126 / min. Contact us through our help center at help.openai.com if you continue to have issues..\n"
          ]
        },
        {
          "output_type": "stream",
          "name": "stdout",
          "text": [
            "Politics\n"
          ]
        },
        {
          "output_type": "stream",
          "name": "stderr",
          "text": [
            "WARNING:langchain.chat_models.openai:Retrying langchain.chat_models.openai.acompletion_with_retry.<locals>._completion_with_retry in 1.0 seconds as it raised RateLimitError: Rate limit reached for default-gpt-3.5-turbo in organization org-fUMgGI6gSqUWLozt4nlYWmsL on tokens per min. Limit: 90000 / min. Current: 89462 / min. Contact us through our help center at help.openai.com if you continue to have issues..\n"
          ]
        },
        {
          "output_type": "stream",
          "name": "stdout",
          "text": [
            "Health\n",
            "Sci/Tech\n"
          ]
        },
        {
          "output_type": "stream",
          "name": "stderr",
          "text": [
            "WARNING:langchain.chat_models.openai:Retrying langchain.chat_models.openai.acompletion_with_retry.<locals>._completion_with_retry in 1.0 seconds as it raised RateLimitError: Rate limit reached for default-gpt-3.5-turbo in organization org-fUMgGI6gSqUWLozt4nlYWmsL on tokens per min. Limit: 90000 / min. Current: 89096 / min. Contact us through our help center at help.openai.com if you continue to have issues..\n"
          ]
        },
        {
          "output_type": "stream",
          "name": "stdout",
          "text": [
            "Entertainment\n"
          ]
        },
        {
          "output_type": "stream",
          "name": "stderr",
          "text": [
            "WARNING:langchain.chat_models.openai:Retrying langchain.chat_models.openai.acompletion_with_retry.<locals>._completion_with_retry in 2.0 seconds as it raised RateLimitError: Rate limit reached for default-gpt-3.5-turbo in organization org-fUMgGI6gSqUWLozt4nlYWmsL on tokens per min. Limit: 90000 / min. Current: 89483 / min. Contact us through our help center at help.openai.com if you continue to have issues..\n"
          ]
        },
        {
          "output_type": "stream",
          "name": "stdout",
          "text": [
            "Business\n"
          ]
        },
        {
          "output_type": "stream",
          "name": "stderr",
          "text": [
            "WARNING:langchain.chat_models.openai:Retrying langchain.chat_models.openai.acompletion_with_retry.<locals>._completion_with_retry in 1.0 seconds as it raised RateLimitError: Rate limit reached for default-gpt-3.5-turbo in organization org-fUMgGI6gSqUWLozt4nlYWmsL on tokens per min. Limit: 90000 / min. Current: 89089 / min. Contact us through our help center at help.openai.com if you continue to have issues..\n"
          ]
        },
        {
          "output_type": "stream",
          "name": "stdout",
          "text": [
            "Sports\n",
            "Business\n"
          ]
        },
        {
          "output_type": "stream",
          "name": "stderr",
          "text": [
            "WARNING:langchain.chat_models.openai:Retrying langchain.chat_models.openai.acompletion_with_retry.<locals>._completion_with_retry in 1.0 seconds as it raised RateLimitError: Rate limit reached for default-gpt-3.5-turbo in organization org-fUMgGI6gSqUWLozt4nlYWmsL on tokens per min. Limit: 90000 / min. Current: 89439 / min. Contact us through our help center at help.openai.com if you continue to have issues..\n"
          ]
        },
        {
          "output_type": "stream",
          "name": "stdout",
          "text": [
            "Sports\n",
            "Sci/Tech\n"
          ]
        },
        {
          "output_type": "stream",
          "name": "stderr",
          "text": [
            "WARNING:langchain.chat_models.openai:Retrying langchain.chat_models.openai.acompletion_with_retry.<locals>._completion_with_retry in 1.0 seconds as it raised RateLimitError: Rate limit reached for default-gpt-3.5-turbo in organization org-fUMgGI6gSqUWLozt4nlYWmsL on tokens per min. Limit: 90000 / min. Current: 89041 / min. Contact us through our help center at help.openai.com if you continue to have issues..\n"
          ]
        },
        {
          "output_type": "stream",
          "name": "stdout",
          "text": [
            "Health\n"
          ]
        },
        {
          "output_type": "stream",
          "name": "stderr",
          "text": [
            "WARNING:langchain.chat_models.openai:Retrying langchain.chat_models.openai.acompletion_with_retry.<locals>._completion_with_retry in 1.0 seconds as it raised RateLimitError: Rate limit reached for default-gpt-3.5-turbo in organization org-fUMgGI6gSqUWLozt4nlYWmsL on tokens per min. Limit: 90000 / min. Current: 89102 / min. Contact us through our help center at help.openai.com if you continue to have issues..\n"
          ]
        },
        {
          "output_type": "stream",
          "name": "stdout",
          "text": [
            "Politics\n"
          ]
        },
        {
          "output_type": "stream",
          "name": "stderr",
          "text": [
            "WARNING:langchain.chat_models.openai:Retrying langchain.chat_models.openai.acompletion_with_retry.<locals>._completion_with_retry in 2.0 seconds as it raised RateLimitError: Rate limit reached for default-gpt-3.5-turbo in organization org-fUMgGI6gSqUWLozt4nlYWmsL on tokens per min. Limit: 90000 / min. Current: 89521 / min. Contact us through our help center at help.openai.com if you continue to have issues..\n"
          ]
        },
        {
          "output_type": "stream",
          "name": "stdout",
          "text": [
            "Business\n",
            "Entertainment\n"
          ]
        },
        {
          "output_type": "stream",
          "name": "stderr",
          "text": [
            "WARNING:langchain.chat_models.openai:Retrying langchain.chat_models.openai.acompletion_with_retry.<locals>._completion_with_retry in 1.0 seconds as it raised RateLimitError: Rate limit reached for default-gpt-3.5-turbo in organization org-fUMgGI6gSqUWLozt4nlYWmsL on tokens per min. Limit: 90000 / min. Current: 88907 / min. Contact us through our help center at help.openai.com if you continue to have issues..\n"
          ]
        },
        {
          "output_type": "stream",
          "name": "stdout",
          "text": [
            "Sports\n",
            "Politics/Law\n"
          ]
        },
        {
          "output_type": "stream",
          "name": "stderr",
          "text": [
            "WARNING:langchain.chat_models.openai:Retrying langchain.chat_models.openai.acompletion_with_retry.<locals>._completion_with_retry in 1.0 seconds as it raised RateLimitError: Rate limit reached for default-gpt-3.5-turbo in organization org-fUMgGI6gSqUWLozt4nlYWmsL on tokens per min. Limit: 90000 / min. Current: 89619 / min. Contact us through our help center at help.openai.com if you continue to have issues..\n"
          ]
        },
        {
          "output_type": "stream",
          "name": "stdout",
          "text": [
            "Music Feeds\n"
          ]
        },
        {
          "output_type": "stream",
          "name": "stderr",
          "text": [
            "WARNING:langchain.chat_models.openai:Retrying langchain.chat_models.openai.acompletion_with_retry.<locals>._completion_with_retry in 1.0 seconds as it raised RateLimitError: Rate limit reached for default-gpt-3.5-turbo in organization org-fUMgGI6gSqUWLozt4nlYWmsL on tokens per min. Limit: 90000 / min. Current: 89041 / min. Contact us through our help center at help.openai.com if you continue to have issues..\n"
          ]
        },
        {
          "output_type": "stream",
          "name": "stdout",
          "text": [
            "Business\n"
          ]
        },
        {
          "output_type": "stream",
          "name": "stderr",
          "text": [
            "WARNING:langchain.chat_models.openai:Retrying langchain.chat_models.openai.acompletion_with_retry.<locals>._completion_with_retry in 1.0 seconds as it raised RateLimitError: Rate limit reached for default-gpt-3.5-turbo in organization org-fUMgGI6gSqUWLozt4nlYWmsL on tokens per min. Limit: 90000 / min. Current: 89332 / min. Contact us through our help center at help.openai.com if you continue to have issues..\n"
          ]
        },
        {
          "output_type": "stream",
          "name": "stdout",
          "text": [
            "Sci/Tech\n",
            "Business\n"
          ]
        },
        {
          "output_type": "stream",
          "name": "stderr",
          "text": [
            "WARNING:langchain.chat_models.openai:Retrying langchain.chat_models.openai.acompletion_with_retry.<locals>._completion_with_retry in 1.0 seconds as it raised RateLimitError: Rate limit reached for default-gpt-3.5-turbo in organization org-fUMgGI6gSqUWLozt4nlYWmsL on tokens per min. Limit: 90000 / min. Current: 88897 / min. Contact us through our help center at help.openai.com if you continue to have issues..\n"
          ]
        },
        {
          "output_type": "stream",
          "name": "stdout",
          "text": [
            "Sports\n"
          ]
        },
        {
          "output_type": "stream",
          "name": "stderr",
          "text": [
            "WARNING:langchain.chat_models.openai:Retrying langchain.chat_models.openai.acompletion_with_retry.<locals>._completion_with_retry in 1.0 seconds as it raised RateLimitError: Rate limit reached for default-gpt-3.5-turbo in organization org-fUMgGI6gSqUWLozt4nlYWmsL on tokens per min. Limit: 90000 / min. Current: 89037 / min. Contact us through our help center at help.openai.com if you continue to have issues..\n"
          ]
        },
        {
          "output_type": "stream",
          "name": "stdout",
          "text": [
            "Sports\n"
          ]
        },
        {
          "output_type": "stream",
          "name": "stderr",
          "text": [
            "WARNING:langchain.chat_models.openai:Retrying langchain.chat_models.openai.acompletion_with_retry.<locals>._completion_with_retry in 2.0 seconds as it raised RateLimitError: Rate limit reached for default-gpt-3.5-turbo in organization org-fUMgGI6gSqUWLozt4nlYWmsL on tokens per min. Limit: 90000 / min. Current: 89446 / min. Contact us through our help center at help.openai.com if you continue to have issues..\n"
          ]
        },
        {
          "output_type": "stream",
          "name": "stdout",
          "text": [
            "Sports\n"
          ]
        },
        {
          "output_type": "stream",
          "name": "stderr",
          "text": [
            "WARNING:langchain.chat_models.openai:Retrying langchain.chat_models.openai.acompletion_with_retry.<locals>._completion_with_retry in 1.0 seconds as it raised RateLimitError: Rate limit reached for default-gpt-3.5-turbo in organization org-fUMgGI6gSqUWLozt4nlYWmsL on tokens per min. Limit: 90000 / min. Current: 89094 / min. Contact us through our help center at help.openai.com if you continue to have issues..\n"
          ]
        },
        {
          "output_type": "stream",
          "name": "stdout",
          "text": [
            "Sports\n",
            "Business\n"
          ]
        },
        {
          "output_type": "stream",
          "name": "stderr",
          "text": [
            "WARNING:langchain.chat_models.openai:Retrying langchain.chat_models.openai.acompletion_with_retry.<locals>._completion_with_retry in 1.0 seconds as it raised RateLimitError: Rate limit reached for default-gpt-3.5-turbo in organization org-fUMgGI6gSqUWLozt4nlYWmsL on tokens per min. Limit: 90000 / min. Current: 89196 / min. Contact us through our help center at help.openai.com if you continue to have issues..\n"
          ]
        },
        {
          "output_type": "stream",
          "name": "stdout",
          "text": [
            "Politics/International Affairs\n",
            "Entertainment\n"
          ]
        },
        {
          "output_type": "stream",
          "name": "stderr",
          "text": [
            "WARNING:langchain.chat_models.openai:Retrying langchain.chat_models.openai.acompletion_with_retry.<locals>._completion_with_retry in 1.0 seconds as it raised RateLimitError: Rate limit reached for default-gpt-3.5-turbo in organization org-fUMgGI6gSqUWLozt4nlYWmsL on tokens per min. Limit: 90000 / min. Current: 88930 / min. Contact us through our help center at help.openai.com if you continue to have issues..\n"
          ]
        },
        {
          "output_type": "stream",
          "name": "stdout",
          "text": [
            "Sports\n"
          ]
        },
        {
          "output_type": "stream",
          "name": "stderr",
          "text": [
            "WARNING:langchain.chat_models.openai:Retrying langchain.chat_models.openai.acompletion_with_retry.<locals>._completion_with_retry in 2.0 seconds as it raised RateLimitError: Rate limit reached for default-gpt-3.5-turbo in organization org-fUMgGI6gSqUWLozt4nlYWmsL on tokens per min. Limit: 90000 / min. Current: 89304 / min. Contact us through our help center at help.openai.com if you continue to have issues..\n"
          ]
        },
        {
          "output_type": "stream",
          "name": "stdout",
          "text": [
            "I'm sorry, but as an AI language model, I cannot categorize the classification of an article without having access to the article itself. Please provide me with the article so I can assist you better.\n",
            "Health\n",
            "Politics\n",
            "Health\n"
          ]
        },
        {
          "output_type": "stream",
          "name": "stderr",
          "text": [
            "WARNING:langchain.chat_models.openai:Retrying langchain.chat_models.openai.acompletion_with_retry.<locals>._completion_with_retry in 1.0 seconds as it raised RateLimitError: Rate limit reached for default-gpt-3.5-turbo in organization org-fUMgGI6gSqUWLozt4nlYWmsL on tokens per min. Limit: 90000 / min. Current: 89547 / min. Contact us through our help center at help.openai.com if you continue to have issues..\n"
          ]
        },
        {
          "output_type": "stream",
          "name": "stdout",
          "text": [
            "Sports\n"
          ]
        },
        {
          "output_type": "stream",
          "name": "stderr",
          "text": [
            "WARNING:langchain.chat_models.openai:Retrying langchain.chat_models.openai.acompletion_with_retry.<locals>._completion_with_retry in 1.0 seconds as it raised RateLimitError: Rate limit reached for default-gpt-3.5-turbo in organization org-fUMgGI6gSqUWLozt4nlYWmsL on tokens per min. Limit: 90000 / min. Current: 89119 / min. Contact us through our help center at help.openai.com if you continue to have issues..\n"
          ]
        },
        {
          "output_type": "stream",
          "name": "stdout",
          "text": [
            "Sports\n"
          ]
        },
        {
          "output_type": "stream",
          "name": "stderr",
          "text": [
            "WARNING:langchain.chat_models.openai:Retrying langchain.chat_models.openai.acompletion_with_retry.<locals>._completion_with_retry in 1.0 seconds as it raised RateLimitError: Rate limit reached for default-gpt-3.5-turbo in organization org-fUMgGI6gSqUWLozt4nlYWmsL on tokens per min. Limit: 90000 / min. Current: 89189 / min. Contact us through our help center at help.openai.com if you continue to have issues..\n"
          ]
        },
        {
          "output_type": "stream",
          "name": "stdout",
          "text": [
            "Sci/Tech\n",
            "Sci/Tech\n"
          ]
        },
        {
          "output_type": "stream",
          "name": "stderr",
          "text": [
            "WARNING:langchain.chat_models.openai:Retrying langchain.chat_models.openai.acompletion_with_retry.<locals>._completion_with_retry in 1.0 seconds as it raised RateLimitError: Rate limit reached for default-gpt-3.5-turbo in organization org-fUMgGI6gSqUWLozt4nlYWmsL on tokens per min. Limit: 90000 / min. Current: 88957 / min. Contact us through our help center at help.openai.com if you continue to have issues..\n"
          ]
        },
        {
          "output_type": "stream",
          "name": "stdout",
          "text": [
            "Entertainment\n"
          ]
        },
        {
          "output_type": "stream",
          "name": "stderr",
          "text": [
            "WARNING:langchain.chat_models.openai:Retrying langchain.chat_models.openai.acompletion_with_retry.<locals>._completion_with_retry in 1.0 seconds as it raised RateLimitError: Rate limit reached for default-gpt-3.5-turbo in organization org-fUMgGI6gSqUWLozt4nlYWmsL on tokens per min. Limit: 90000 / min. Current: 89057 / min. Contact us through our help center at help.openai.com if you continue to have issues..\n"
          ]
        },
        {
          "output_type": "stream",
          "name": "stdout",
          "text": [
            "None of the given categories fit this article as it is about weapons and not related to any of the specified topics.\n",
            "Sports\n"
          ]
        },
        {
          "output_type": "stream",
          "name": "stderr",
          "text": [
            "WARNING:langchain.chat_models.openai:Retrying langchain.chat_models.openai.acompletion_with_retry.<locals>._completion_with_retry in 1.0 seconds as it raised RateLimitError: Rate limit reached for default-gpt-3.5-turbo in organization org-fUMgGI6gSqUWLozt4nlYWmsL on tokens per min. Limit: 90000 / min. Current: 89166 / min. Contact us through our help center at help.openai.com if you continue to have issues..\n"
          ]
        },
        {
          "output_type": "stream",
          "name": "stdout",
          "text": [
            "Politics/International Affairs\n",
            "Sports\n"
          ]
        },
        {
          "output_type": "stream",
          "name": "stderr",
          "text": [
            "WARNING:langchain.chat_models.openai:Retrying langchain.chat_models.openai.acompletion_with_retry.<locals>._completion_with_retry in 1.0 seconds as it raised RateLimitError: Rate limit reached for default-gpt-3.5-turbo in organization org-fUMgGI6gSqUWLozt4nlYWmsL on tokens per min. Limit: 90000 / min. Current: 89290 / min. Contact us through our help center at help.openai.com if you continue to have issues..\n"
          ]
        },
        {
          "output_type": "stream",
          "name": "stdout",
          "text": [
            "Sports\n"
          ]
        },
        {
          "output_type": "stream",
          "name": "stderr",
          "text": [
            "WARNING:langchain.chat_models.openai:Retrying langchain.chat_models.openai.acompletion_with_retry.<locals>._completion_with_retry in 1.0 seconds as it raised RateLimitError: Rate limit reached for default-gpt-3.5-turbo in organization org-fUMgGI6gSqUWLozt4nlYWmsL on tokens per min. Limit: 90000 / min. Current: 88979 / min. Contact us through our help center at help.openai.com if you continue to have issues..\n"
          ]
        },
        {
          "output_type": "stream",
          "name": "stdout",
          "text": [
            "Business\n"
          ]
        },
        {
          "output_type": "stream",
          "name": "stderr",
          "text": [
            "WARNING:langchain.chat_models.openai:Retrying langchain.chat_models.openai.acompletion_with_retry.<locals>._completion_with_retry in 1.0 seconds as it raised RateLimitError: Rate limit reached for default-gpt-3.5-turbo in organization org-fUMgGI6gSqUWLozt4nlYWmsL on tokens per min. Limit: 90000 / min. Current: 88971 / min. Contact us through our help center at help.openai.com if you continue to have issues..\n"
          ]
        },
        {
          "output_type": "stream",
          "name": "stdout",
          "text": [
            "Sci/Tech\n"
          ]
        },
        {
          "output_type": "stream",
          "name": "stderr",
          "text": [
            "WARNING:langchain.chat_models.openai:Retrying langchain.chat_models.openai.acompletion_with_retry.<locals>._completion_with_retry in 2.0 seconds as it raised RateLimitError: Rate limit reached for default-gpt-3.5-turbo in organization org-fUMgGI6gSqUWLozt4nlYWmsL on tokens per min. Limit: 90000 / min. Current: 89459 / min. Contact us through our help center at help.openai.com if you continue to have issues..\n"
          ]
        },
        {
          "output_type": "stream",
          "name": "stdout",
          "text": [
            "Health\n"
          ]
        },
        {
          "output_type": "stream",
          "name": "stderr",
          "text": [
            "WARNING:langchain.chat_models.openai:Retrying langchain.chat_models.openai.acompletion_with_retry.<locals>._completion_with_retry in 1.0 seconds as it raised RateLimitError: Rate limit reached for default-gpt-3.5-turbo in organization org-fUMgGI6gSqUWLozt4nlYWmsL on tokens per min. Limit: 90000 / min. Current: 89105 / min. Contact us through our help center at help.openai.com if you continue to have issues..\n"
          ]
        },
        {
          "output_type": "stream",
          "name": "stdout",
          "text": [
            "Business\n",
            "Business\n",
            "Sports\n"
          ]
        },
        {
          "output_type": "stream",
          "name": "stderr",
          "text": [
            "WARNING:langchain.chat_models.openai:Retrying langchain.chat_models.openai.acompletion_with_retry.<locals>._completion_with_retry in 1.0 seconds as it raised RateLimitError: Rate limit reached for default-gpt-3.5-turbo in organization org-fUMgGI6gSqUWLozt4nlYWmsL on tokens per min. Limit: 90000 / min. Current: 89165 / min. Contact us through our help center at help.openai.com if you continue to have issues..\n",
            "WARNING:langchain.chat_models.openai:Retrying langchain.chat_models.openai.acompletion_with_retry.<locals>._completion_with_retry in 1.0 seconds as it raised RateLimitError: Rate limit reached for default-gpt-3.5-turbo in organization org-fUMgGI6gSqUWLozt4nlYWmsL on tokens per min. Limit: 90000 / min. Current: 88928 / min. Contact us through our help center at help.openai.com if you continue to have issues..\n"
          ]
        },
        {
          "output_type": "stream",
          "name": "stdout",
          "text": [
            "Software and Development\n",
            "Sci/Tech\n"
          ]
        },
        {
          "output_type": "stream",
          "name": "stderr",
          "text": [
            "WARNING:langchain.chat_models.openai:Retrying langchain.chat_models.openai.acompletion_with_retry.<locals>._completion_with_retry in 1.0 seconds as it raised RateLimitError: Rate limit reached for default-gpt-3.5-turbo in organization org-fUMgGI6gSqUWLozt4nlYWmsL on tokens per min. Limit: 90000 / min. Current: 89690 / min. Contact us through our help center at help.openai.com if you continue to have issues..\n"
          ]
        },
        {
          "output_type": "stream",
          "name": "stdout",
          "text": [
            "Sports\n"
          ]
        },
        {
          "output_type": "stream",
          "name": "stderr",
          "text": [
            "WARNING:langchain.chat_models.openai:Retrying langchain.chat_models.openai.acompletion_with_retry.<locals>._completion_with_retry in 1.0 seconds as it raised RateLimitError: Rate limit reached for default-gpt-3.5-turbo in organization org-fUMgGI6gSqUWLozt4nlYWmsL on tokens per min. Limit: 90000 / min. Current: 89236 / min. Contact us through our help center at help.openai.com if you continue to have issues..\n"
          ]
        },
        {
          "output_type": "stream",
          "name": "stdout",
          "text": [
            "Sports\n"
          ]
        },
        {
          "output_type": "stream",
          "name": "stderr",
          "text": [
            "WARNING:langchain.chat_models.openai:Retrying langchain.chat_models.openai.acompletion_with_retry.<locals>._completion_with_retry in 1.0 seconds as it raised RateLimitError: Rate limit reached for default-gpt-3.5-turbo in organization org-fUMgGI6gSqUWLozt4nlYWmsL on tokens per min. Limit: 90000 / min. Current: 89402 / min. Contact us through our help center at help.openai.com if you continue to have issues..\n"
          ]
        },
        {
          "output_type": "stream",
          "name": "stdout",
          "text": [
            "Business\n"
          ]
        },
        {
          "output_type": "stream",
          "name": "stderr",
          "text": [
            "WARNING:langchain.chat_models.openai:Retrying langchain.chat_models.openai.acompletion_with_retry.<locals>._completion_with_retry in 1.0 seconds as it raised RateLimitError: Rate limit reached for default-gpt-3.5-turbo in organization org-fUMgGI6gSqUWLozt4nlYWmsL on tokens per min. Limit: 90000 / min. Current: 89076 / min. Contact us through our help center at help.openai.com if you continue to have issues..\n"
          ]
        },
        {
          "output_type": "stream",
          "name": "stdout",
          "text": [
            "Toons\n",
            "Business\n"
          ]
        },
        {
          "output_type": "stream",
          "name": "stderr",
          "text": [
            "WARNING:langchain.chat_models.openai:Retrying langchain.chat_models.openai.acompletion_with_retry.<locals>._completion_with_retry in 1.0 seconds as it raised RateLimitError: Rate limit reached for default-gpt-3.5-turbo in organization org-fUMgGI6gSqUWLozt4nlYWmsL on tokens per min. Limit: 90000 / min. Current: 88920 / min. Contact us through our help center at help.openai.com if you continue to have issues..\n"
          ]
        },
        {
          "output_type": "stream",
          "name": "stdout",
          "text": [
            "Entertainment\n"
          ]
        },
        {
          "output_type": "stream",
          "name": "stderr",
          "text": [
            "WARNING:langchain.chat_models.openai:Retrying langchain.chat_models.openai.acompletion_with_retry.<locals>._completion_with_retry in 2.0 seconds as it raised RateLimitError: Rate limit reached for default-gpt-3.5-turbo in organization org-fUMgGI6gSqUWLozt4nlYWmsL on tokens per min. Limit: 90000 / min. Current: 89336 / min. Contact us through our help center at help.openai.com if you continue to have issues..\n"
          ]
        },
        {
          "output_type": "stream",
          "name": "stdout",
          "text": [
            "Entertainment\n"
          ]
        },
        {
          "output_type": "stream",
          "name": "stderr",
          "text": [
            "WARNING:langchain.chat_models.openai:Retrying langchain.chat_models.openai.acompletion_with_retry.<locals>._completion_with_retry in 1.0 seconds as it raised RateLimitError: Rate limit reached for default-gpt-3.5-turbo in organization org-fUMgGI6gSqUWLozt4nlYWmsL on tokens per min. Limit: 90000 / min. Current: 88958 / min. Contact us through our help center at help.openai.com if you continue to have issues..\n"
          ]
        },
        {
          "output_type": "stream",
          "name": "stdout",
          "text": [
            "Entertainment\n",
            "Business\n",
            "Sports\n"
          ]
        },
        {
          "output_type": "stream",
          "name": "stderr",
          "text": [
            "WARNING:langchain.chat_models.openai:Retrying langchain.chat_models.openai.acompletion_with_retry.<locals>._completion_with_retry in 1.0 seconds as it raised RateLimitError: Rate limit reached for default-gpt-3.5-turbo in organization org-fUMgGI6gSqUWLozt4nlYWmsL on tokens per min. Limit: 90000 / min. Current: 89738 / min. Contact us through our help center at help.openai.com if you continue to have issues..\n"
          ]
        },
        {
          "output_type": "stream",
          "name": "stdout",
          "text": [
            "Politics\n"
          ]
        },
        {
          "output_type": "stream",
          "name": "stderr",
          "text": [
            "WARNING:langchain.chat_models.openai:Retrying langchain.chat_models.openai.acompletion_with_retry.<locals>._completion_with_retry in 1.0 seconds as it raised RateLimitError: Rate limit reached for default-gpt-3.5-turbo in organization org-fUMgGI6gSqUWLozt4nlYWmsL on tokens per min. Limit: 90000 / min. Current: 89193 / min. Contact us through our help center at help.openai.com if you continue to have issues..\n"
          ]
        },
        {
          "output_type": "stream",
          "name": "stdout",
          "text": [
            "Sports\n"
          ]
        },
        {
          "output_type": "stream",
          "name": "stderr",
          "text": [
            "WARNING:langchain.chat_models.openai:Retrying langchain.chat_models.openai.acompletion_with_retry.<locals>._completion_with_retry in 1.0 seconds as it raised RateLimitError: Rate limit reached for default-gpt-3.5-turbo in organization org-fUMgGI6gSqUWLozt4nlYWmsL on tokens per min. Limit: 90000 / min. Current: 89321 / min. Contact us through our help center at help.openai.com if you continue to have issues..\n"
          ]
        },
        {
          "output_type": "stream",
          "name": "stdout",
          "text": [
            "Business\n"
          ]
        },
        {
          "output_type": "stream",
          "name": "stderr",
          "text": [
            "WARNING:langchain.chat_models.openai:Retrying langchain.chat_models.openai.acompletion_with_retry.<locals>._completion_with_retry in 1.0 seconds as it raised RateLimitError: Rate limit reached for default-gpt-3.5-turbo in organization org-fUMgGI6gSqUWLozt4nlYWmsL on tokens per min. Limit: 90000 / min. Current: 89001 / min. Contact us through our help center at help.openai.com if you continue to have issues..\n"
          ]
        },
        {
          "output_type": "stream",
          "name": "stdout",
          "text": [
            "Health\n",
            "Sci/Tech\n",
            "None of the given categories fit this article. It may be classified as \"World News\" or \"Current Events\".\n"
          ]
        },
        {
          "output_type": "stream",
          "name": "stderr",
          "text": [
            "WARNING:langchain.chat_models.openai:Retrying langchain.chat_models.openai.acompletion_with_retry.<locals>._completion_with_retry in 1.0 seconds as it raised RateLimitError: Rate limit reached for default-gpt-3.5-turbo in organization org-fUMgGI6gSqUWLozt4nlYWmsL on tokens per min. Limit: 90000 / min. Current: 88957 / min. Contact us through our help center at help.openai.com if you continue to have issues..\n",
            "WARNING:langchain.chat_models.openai:Retrying langchain.chat_models.openai.acompletion_with_retry.<locals>._completion_with_retry in 1.0 seconds as it raised RateLimitError: Rate limit reached for default-gpt-3.5-turbo in organization org-fUMgGI6gSqUWLozt4nlYWmsL on tokens per min. Limit: 90000 / min. Current: 88938 / min. Contact us through our help center at help.openai.com if you continue to have issues..\n"
          ]
        },
        {
          "output_type": "stream",
          "name": "stdout",
          "text": [
            "Sports\n",
            "Politics/LGBTQ+ Rights\n"
          ]
        },
        {
          "output_type": "stream",
          "name": "stderr",
          "text": [
            "WARNING:langchain.chat_models.openai:Retrying langchain.chat_models.openai.acompletion_with_retry.<locals>._completion_with_retry in 1.0 seconds as it raised RateLimitError: Rate limit reached for default-gpt-3.5-turbo in organization org-fUMgGI6gSqUWLozt4nlYWmsL on tokens per min. Limit: 90000 / min. Current: 89516 / min. Contact us through our help center at help.openai.com if you continue to have issues..\n"
          ]
        },
        {
          "output_type": "stream",
          "name": "stdout",
          "text": [
            "Sports\n"
          ]
        },
        {
          "output_type": "stream",
          "name": "stderr",
          "text": [
            "WARNING:langchain.chat_models.openai:Retrying langchain.chat_models.openai.acompletion_with_retry.<locals>._completion_with_retry in 1.0 seconds as it raised RateLimitError: Rate limit reached for default-gpt-3.5-turbo in organization org-fUMgGI6gSqUWLozt4nlYWmsL on tokens per min. Limit: 90000 / min. Current: 89055 / min. Contact us through our help center at help.openai.com if you continue to have issues..\n"
          ]
        },
        {
          "output_type": "stream",
          "name": "stdout",
          "text": [
            "Sci/Tech\n"
          ]
        },
        {
          "output_type": "stream",
          "name": "stderr",
          "text": [
            "WARNING:langchain.chat_models.openai:Retrying langchain.chat_models.openai.acompletion_with_retry.<locals>._completion_with_retry in 1.0 seconds as it raised RateLimitError: Rate limit reached for default-gpt-3.5-turbo in organization org-fUMgGI6gSqUWLozt4nlYWmsL on tokens per min. Limit: 90000 / min. Current: 89118 / min. Contact us through our help center at help.openai.com if you continue to have issues..\n"
          ]
        },
        {
          "output_type": "stream",
          "name": "stdout",
          "text": [
            "Politics\n",
            "Business\n",
            "Sports\n"
          ]
        },
        {
          "output_type": "stream",
          "name": "stderr",
          "text": [
            "WARNING:langchain.chat_models.openai:Retrying langchain.chat_models.openai.acompletion_with_retry.<locals>._completion_with_retry in 1.0 seconds as it raised RateLimitError: Rate limit reached for default-gpt-3.5-turbo in organization org-fUMgGI6gSqUWLozt4nlYWmsL on tokens per min. Limit: 90000 / min. Current: 89108 / min. Contact us through our help center at help.openai.com if you continue to have issues..\n"
          ]
        },
        {
          "output_type": "stream",
          "name": "stdout",
          "text": [
            "Entertainment\n",
            "Sports\n",
            "Politics/International Affairs\n",
            "Sports\n",
            "Politics\n",
            "Sci/Tech\n",
            "This article would fall under the category of Crime or Law, which is not one of the given categories. However, if we had to choose from the given categories, it could potentially fall under Health (as it discusses the emotional trauma of the victim) or Entertainment (as it involves a high-profile trial).\n",
            "Sports\n",
            "Sports\n",
            "Sports\n",
            "Business\n",
            "Sports\n",
            "Sports\n",
            "Sports\n",
            "Business\n"
          ]
        },
        {
          "output_type": "stream",
          "name": "stderr",
          "text": [
            "WARNING:langchain.chat_models.openai:Retrying langchain.chat_models.openai.acompletion_with_retry.<locals>._completion_with_retry in 1.0 seconds as it raised RateLimitError: Rate limit reached for default-gpt-3.5-turbo in organization org-fUMgGI6gSqUWLozt4nlYWmsL on tokens per min. Limit: 90000 / min. Current: 89060 / min. Contact us through our help center at help.openai.com if you continue to have issues..\n"
          ]
        },
        {
          "output_type": "stream",
          "name": "stdout",
          "text": [
            "Sports\n",
            "Health\n",
            "None of the given categories fit this article. It could potentially fall under the category of \"World News\" or \"Crime/Justice.\"\n",
            "Sports\n",
            "Health\n",
            "Travel/Transportation\n",
            "News/Current Events (not one of the given categories)\n",
            "Sci/Tech\n",
            "Business\n",
            "Sports\n",
            "Sci/Tech\n",
            "Sci/Tech\n",
            "War/Conflict (not one of the given categories)\n",
            "Sports\n",
            "Business\n"
          ]
        },
        {
          "output_type": "stream",
          "name": "stderr",
          "text": [
            "WARNING:langchain.chat_models.openai:Retrying langchain.chat_models.openai.acompletion_with_retry.<locals>._completion_with_retry in 1.0 seconds as it raised RateLimitError: Rate limit reached for default-gpt-3.5-turbo in organization org-fUMgGI6gSqUWLozt4nlYWmsL on tokens per min. Limit: 90000 / min. Current: 89114 / min. Contact us through our help center at help.openai.com if you continue to have issues..\n"
          ]
        },
        {
          "output_type": "stream",
          "name": "stdout",
          "text": [
            "Sports\n",
            "Sports\n",
            "Charity/Philanthropy (not one of the given categories)\n",
            "Sports\n",
            "Health\n",
            "Sports\n",
            "Health\n"
          ]
        },
        {
          "output_type": "stream",
          "name": "stderr",
          "text": [
            "WARNING:langchain.chat_models.openai:Retrying langchain.chat_models.openai.acompletion_with_retry.<locals>._completion_with_retry in 1.0 seconds as it raised RateLimitError: Rate limit reached for default-gpt-3.5-turbo in organization org-fUMgGI6gSqUWLozt4nlYWmsL on tokens per min. Limit: 90000 / min. Current: 89315 / min. Contact us through our help center at help.openai.com if you continue to have issues..\n",
            "WARNING:langchain.chat_models.openai:Retrying langchain.chat_models.openai.acompletion_with_retry.<locals>._completion_with_retry in 1.0 seconds as it raised RateLimitError: That model is currently overloaded with other requests. You can retry your request, or contact us through our help center at help.openai.com if the error persists. (Please include the request ID 6352c7fcc11e5cbf56c5f358102ae7bc in your message.).\n"
          ]
        },
        {
          "output_type": "stream",
          "name": "stdout",
          "text": [
            "Sports\n",
            "Sports\n"
          ]
        },
        {
          "output_type": "stream",
          "name": "stderr",
          "text": [
            "WARNING:langchain.chat_models.openai:Retrying langchain.chat_models.openai.acompletion_with_retry.<locals>._completion_with_retry in 1.0 seconds as it raised RateLimitError: Rate limit reached for default-gpt-3.5-turbo in organization org-fUMgGI6gSqUWLozt4nlYWmsL on tokens per min. Limit: 90000 / min. Current: 89372 / min. Contact us through our help center at help.openai.com if you continue to have issues..\n"
          ]
        },
        {
          "output_type": "stream",
          "name": "stdout",
          "text": [
            "News/International Affairs\n"
          ]
        },
        {
          "output_type": "stream",
          "name": "stderr",
          "text": [
            "WARNING:langchain.chat_models.openai:Retrying langchain.chat_models.openai.acompletion_with_retry.<locals>._completion_with_retry in 1.0 seconds as it raised RateLimitError: Rate limit reached for default-gpt-3.5-turbo in organization org-fUMgGI6gSqUWLozt4nlYWmsL on tokens per min. Limit: 90000 / min. Current: 88991 / min. Contact us through our help center at help.openai.com if you continue to have issues..\n"
          ]
        },
        {
          "output_type": "stream",
          "name": "stdout",
          "text": [
            "Software and Development\n",
            "Sports\n"
          ]
        },
        {
          "output_type": "stream",
          "name": "stderr",
          "text": [
            "WARNING:langchain.chat_models.openai:Retrying langchain.chat_models.openai.acompletion_with_retry.<locals>._completion_with_retry in 1.0 seconds as it raised RateLimitError: Rate limit reached for default-gpt-3.5-turbo in organization org-fUMgGI6gSqUWLozt4nlYWmsL on tokens per min. Limit: 90000 / min. Current: 88952 / min. Contact us through our help center at help.openai.com if you continue to have issues..\n"
          ]
        },
        {
          "output_type": "stream",
          "name": "stdout",
          "text": [
            "Business\n"
          ]
        },
        {
          "output_type": "stream",
          "name": "stderr",
          "text": [
            "WARNING:langchain.chat_models.openai:Retrying langchain.chat_models.openai.acompletion_with_retry.<locals>._completion_with_retry in 1.0 seconds as it raised RateLimitError: Rate limit reached for default-gpt-3.5-turbo in organization org-fUMgGI6gSqUWLozt4nlYWmsL on tokens per min. Limit: 90000 / min. Current: 89277 / min. Contact us through our help center at help.openai.com if you continue to have issues..\n"
          ]
        },
        {
          "output_type": "stream",
          "name": "stdout",
          "text": [
            "Business\n"
          ]
        },
        {
          "output_type": "stream",
          "name": "stderr",
          "text": [
            "WARNING:langchain.chat_models.openai:Retrying langchain.chat_models.openai.acompletion_with_retry.<locals>._completion_with_retry in 2.0 seconds as it raised RateLimitError: Rate limit reached for default-gpt-3.5-turbo in organization org-fUMgGI6gSqUWLozt4nlYWmsL on tokens per min. Limit: 90000 / min. Current: 89684 / min. Contact us through our help center at help.openai.com if you continue to have issues..\n"
          ]
        },
        {
          "output_type": "stream",
          "name": "stdout",
          "text": [
            "Business\n"
          ]
        },
        {
          "output_type": "stream",
          "name": "stderr",
          "text": [
            "WARNING:langchain.chat_models.openai:Retrying langchain.chat_models.openai.acompletion_with_retry.<locals>._completion_with_retry in 1.0 seconds as it raised RateLimitError: Rate limit reached for default-gpt-3.5-turbo in organization org-fUMgGI6gSqUWLozt4nlYWmsL on tokens per min. Limit: 90000 / min. Current: 89169 / min. Contact us through our help center at help.openai.com if you continue to have issues..\n"
          ]
        },
        {
          "output_type": "stream",
          "name": "stdout",
          "text": [
            "Sci/Tech\n",
            "Business\n"
          ]
        },
        {
          "output_type": "stream",
          "name": "stderr",
          "text": [
            "WARNING:langchain.chat_models.openai:Retrying langchain.chat_models.openai.acompletion_with_retry.<locals>._completion_with_retry in 1.0 seconds as it raised RateLimitError: Rate limit reached for default-gpt-3.5-turbo in organization org-fUMgGI6gSqUWLozt4nlYWmsL on tokens per min. Limit: 90000 / min. Current: 89065 / min. Contact us through our help center at help.openai.com if you continue to have issues..\n"
          ]
        },
        {
          "output_type": "stream",
          "name": "stdout",
          "text": [
            "Natural Disaster/Weather (not one of the given categories)\n",
            "Entertainment\n",
            "Business\n"
          ]
        },
        {
          "output_type": "stream",
          "name": "stderr",
          "text": [
            "WARNING:langchain.chat_models.openai:Retrying langchain.chat_models.openai.acompletion_with_retry.<locals>._completion_with_retry in 1.0 seconds as it raised RateLimitError: Rate limit reached for default-gpt-3.5-turbo in organization org-fUMgGI6gSqUWLozt4nlYWmsL on tokens per min. Limit: 90000 / min. Current: 89004 / min. Contact us through our help center at help.openai.com if you continue to have issues..\n"
          ]
        },
        {
          "output_type": "stream",
          "name": "stdout",
          "text": [
            "Business\n",
            "Politics/Current Events\n",
            "Military/Conflict (not one of the given categories)\n",
            "Politics\n",
            "Business\n"
          ]
        },
        {
          "output_type": "stream",
          "name": "stderr",
          "text": [
            "WARNING:langchain.chat_models.openai:Retrying langchain.chat_models.openai.acompletion_with_retry.<locals>._completion_with_retry in 1.0 seconds as it raised RateLimitError: Rate limit reached for default-gpt-3.5-turbo in organization org-fUMgGI6gSqUWLozt4nlYWmsL on tokens per min. Limit: 90000 / min. Current: 88965 / min. Contact us through our help center at help.openai.com if you continue to have issues..\n"
          ]
        },
        {
          "output_type": "stream",
          "name": "stdout",
          "text": [
            "Health\n",
            "Sports\n",
            "War/Conflict (not one of the given categories)\n",
            "Sports\n",
            "Entertainment\n",
            "Health\n"
          ]
        },
        {
          "output_type": "stream",
          "name": "stderr",
          "text": [
            "WARNING:langchain.chat_models.openai:Retrying langchain.chat_models.openai.acompletion_with_retry.<locals>._completion_with_retry in 1.0 seconds as it raised RateLimitError: Rate limit reached for default-gpt-3.5-turbo in organization org-fUMgGI6gSqUWLozt4nlYWmsL on tokens per min. Limit: 90000 / min. Current: 89068 / min. Contact us through our help center at help.openai.com if you continue to have issues..\n"
          ]
        },
        {
          "output_type": "stream",
          "name": "stdout",
          "text": [
            "Business\n",
            "Business\n",
            "Sci/Tech\n",
            "Health\n",
            "Health\n"
          ]
        },
        {
          "output_type": "stream",
          "name": "stderr",
          "text": [
            "WARNING:langchain.chat_models.openai:Retrying langchain.chat_models.openai.acompletion_with_retry.<locals>._completion_with_retry in 1.0 seconds as it raised RateLimitError: Rate limit reached for default-gpt-3.5-turbo in organization org-fUMgGI6gSqUWLozt4nlYWmsL on tokens per min. Limit: 90000 / min. Current: 89195 / min. Contact us through our help center at help.openai.com if you continue to have issues..\n"
          ]
        },
        {
          "output_type": "stream",
          "name": "stdout",
          "text": [
            "Politics/Government\n",
            "Sports\n",
            "Sports\n",
            "Sports\n"
          ]
        },
        {
          "output_type": "stream",
          "name": "stderr",
          "text": [
            "WARNING:langchain.chat_models.openai:Retrying langchain.chat_models.openai.acompletion_with_retry.<locals>._completion_with_retry in 1.0 seconds as it raised RateLimitError: Rate limit reached for default-gpt-3.5-turbo in organization org-fUMgGI6gSqUWLozt4nlYWmsL on tokens per min. Limit: 90000 / min. Current: 88917 / min. Contact us through our help center at help.openai.com if you continue to have issues..\n"
          ]
        },
        {
          "output_type": "stream",
          "name": "stdout",
          "text": [
            "Sports\n",
            "Business\n",
            "Business\n",
            "Sports\n",
            "Software and Development\n"
          ]
        },
        {
          "output_type": "stream",
          "name": "stderr",
          "text": [
            "WARNING:langchain.chat_models.openai:Retrying langchain.chat_models.openai.acompletion_with_retry.<locals>._completion_with_retry in 1.0 seconds as it raised RateLimitError: Rate limit reached for default-gpt-3.5-turbo in organization org-fUMgGI6gSqUWLozt4nlYWmsL on tokens per min. Limit: 90000 / min. Current: 89021 / min. Contact us through our help center at help.openai.com if you continue to have issues..\n"
          ]
        },
        {
          "output_type": "stream",
          "name": "stdout",
          "text": [
            "Sports\n",
            "Sports\n",
            "Sci/Tech\n",
            "Politics/International Affairs\n",
            "Sports\n",
            "Business\n"
          ]
        },
        {
          "output_type": "stream",
          "name": "stderr",
          "text": [
            "WARNING:langchain.chat_models.openai:Retrying langchain.chat_models.openai.acompletion_with_retry.<locals>._completion_with_retry in 1.0 seconds as it raised RateLimitError: Rate limit reached for default-gpt-3.5-turbo in organization org-fUMgGI6gSqUWLozt4nlYWmsL on tokens per min. Limit: 90000 / min. Current: 88992 / min. Contact us through our help center at help.openai.com if you continue to have issues..\n"
          ]
        },
        {
          "output_type": "stream",
          "name": "stdout",
          "text": [
            "Business\n",
            "Business\n",
            "Sports\n",
            "Sports\n",
            "Business\n",
            "Sci/Tech\n"
          ]
        },
        {
          "output_type": "stream",
          "name": "stderr",
          "text": [
            "WARNING:langchain.chat_models.openai:Retrying langchain.chat_models.openai.acompletion_with_retry.<locals>._completion_with_retry in 1.0 seconds as it raised RateLimitError: Rate limit reached for default-gpt-3.5-turbo in organization org-fUMgGI6gSqUWLozt4nlYWmsL on tokens per min. Limit: 90000 / min. Current: 89035 / min. Contact us through our help center at help.openai.com if you continue to have issues..\n",
            "WARNING:langchain.chat_models.openai:Retrying langchain.chat_models.openai.acompletion_with_retry.<locals>._completion_with_retry in 1.0 seconds as it raised RateLimitError: That model is currently overloaded with other requests. You can retry your request, or contact us through our help center at help.openai.com if the error persists. (Please include the request ID 7e33a88c03da26a891e71953ad4e5a9d in your message.).\n"
          ]
        },
        {
          "output_type": "stream",
          "name": "stdout",
          "text": [
            "Business\n",
            "Business\n"
          ]
        },
        {
          "output_type": "stream",
          "name": "stderr",
          "text": [
            "WARNING:langchain.chat_models.openai:Retrying langchain.chat_models.openai.acompletion_with_retry.<locals>._completion_with_retry in 1.0 seconds as it raised RateLimitError: Rate limit reached for default-gpt-3.5-turbo in organization org-fUMgGI6gSqUWLozt4nlYWmsL on tokens per min. Limit: 90000 / min. Current: 88896 / min. Contact us through our help center at help.openai.com if you continue to have issues..\n"
          ]
        },
        {
          "output_type": "stream",
          "name": "stdout",
          "text": [
            "Sci/Tech\n",
            "I'm sorry, but as an AI language model, I cannot categorize the classification of an article without having access to the article itself. Please provide me with the article so I can assist you better.\n",
            "Entertainment\n",
            "Sci/Tech\n",
            "Sports\n",
            "News (not one of the given categories)\n",
            "Sports\n",
            "Sports\n",
            "Music Feeds\n",
            "Sports\n",
            "Sci/Tech\n",
            "Business\n",
            "Sports\n"
          ]
        },
        {
          "output_type": "stream",
          "name": "stderr",
          "text": [
            "WARNING:langchain.chat_models.openai:Retrying langchain.chat_models.openai.acompletion_with_retry.<locals>._completion_with_retry in 1.0 seconds as it raised RateLimitError: Rate limit reached for default-gpt-3.5-turbo in organization org-fUMgGI6gSqUWLozt4nlYWmsL on tokens per min. Limit: 90000 / min. Current: 88909 / min. Contact us through our help center at help.openai.com if you continue to have issues..\n"
          ]
        },
        {
          "output_type": "stream",
          "name": "stdout",
          "text": [
            "Business\n",
            "Sports\n",
            "Sports\n",
            "Health\n",
            "Sports\n"
          ]
        },
        {
          "output_type": "stream",
          "name": "stderr",
          "text": [
            "WARNING:langchain.chat_models.openai:Retrying langchain.chat_models.openai.acompletion_with_retry.<locals>._completion_with_retry in 1.0 seconds as it raised RateLimitError: Rate limit reached for default-gpt-3.5-turbo in organization org-fUMgGI6gSqUWLozt4nlYWmsL on tokens per min. Limit: 90000 / min. Current: 89184 / min. Contact us through our help center at help.openai.com if you continue to have issues..\n"
          ]
        },
        {
          "output_type": "stream",
          "name": "stdout",
          "text": [
            "Sports\n",
            "None of the given categories fit this article well. It may be more appropriate for a general news or human interest section.\n",
            "Sci/Tech\n",
            "Sports\n",
            "Politics\n",
            "Travel/Tourism\n",
            "Business\n",
            "Sports\n"
          ]
        },
        {
          "output_type": "stream",
          "name": "stderr",
          "text": [
            "WARNING:langchain.chat_models.openai:Retrying langchain.chat_models.openai.acompletion_with_retry.<locals>._completion_with_retry in 1.0 seconds as it raised RateLimitError: Rate limit reached for default-gpt-3.5-turbo in organization org-fUMgGI6gSqUWLozt4nlYWmsL on tokens per min. Limit: 90000 / min. Current: 88985 / min. Contact us through our help center at help.openai.com if you continue to have issues..\n"
          ]
        },
        {
          "output_type": "stream",
          "name": "stdout",
          "text": [
            "Politics\n",
            "Business\n",
            "Politics/Current Events\n",
            "Sports\n",
            "Business\n"
          ]
        },
        {
          "output_type": "stream",
          "name": "stderr",
          "text": [
            "WARNING:langchain.chat_models.openai:Retrying langchain.chat_models.openai.acompletion_with_retry.<locals>._completion_with_retry in 1.0 seconds as it raised RateLimitError: Rate limit reached for default-gpt-3.5-turbo in organization org-fUMgGI6gSqUWLozt4nlYWmsL on tokens per min. Limit: 90000 / min. Current: 89132 / min. Contact us through our help center at help.openai.com if you continue to have issues..\n"
          ]
        },
        {
          "output_type": "stream",
          "name": "stdout",
          "text": [
            "Politics/International Affairs\n",
            "Business\n",
            "Sci/Tech\n",
            "Software and Development\n",
            "Sci/Tech\n",
            "Sports\n"
          ]
        },
        {
          "output_type": "stream",
          "name": "stderr",
          "text": [
            "WARNING:langchain.chat_models.openai:Retrying langchain.chat_models.openai.acompletion_with_retry.<locals>._completion_with_retry in 1.0 seconds as it raised RateLimitError: Rate limit reached for default-gpt-3.5-turbo in organization org-fUMgGI6gSqUWLozt4nlYWmsL on tokens per min. Limit: 90000 / min. Current: 89256 / min. Contact us through our help center at help.openai.com if you continue to have issues..\n"
          ]
        },
        {
          "output_type": "stream",
          "name": "stdout",
          "text": [
            "Sports\n",
            "Entertainment\n",
            "Business\n",
            "Sports\n",
            "Health\n",
            "Sports\n"
          ]
        },
        {
          "output_type": "stream",
          "name": "stderr",
          "text": [
            "WARNING:langchain.chat_models.openai:Retrying langchain.chat_models.openai.acompletion_with_retry.<locals>._completion_with_retry in 1.0 seconds as it raised RateLimitError: Rate limit reached for default-gpt-3.5-turbo in organization org-fUMgGI6gSqUWLozt4nlYWmsL on tokens per min. Limit: 90000 / min. Current: 89189 / min. Contact us through our help center at help.openai.com if you continue to have issues..\n",
            "WARNING:langchain.chat_models.openai:Retrying langchain.chat_models.openai.acompletion_with_retry.<locals>._completion_with_retry in 1.0 seconds as it raised RateLimitError: That model is currently overloaded with other requests. You can retry your request, or contact us through our help center at help.openai.com if the error persists. (Please include the request ID e99ccf8991738a1d4a245991a8225428 in your message.).\n"
          ]
        },
        {
          "output_type": "stream",
          "name": "stdout",
          "text": [
            "Sci/Tech\n",
            "Business\n",
            "Business\n",
            "Business\n",
            "Business\n"
          ]
        },
        {
          "output_type": "stream",
          "name": "stderr",
          "text": [
            "WARNING:langchain.chat_models.openai:Retrying langchain.chat_models.openai.acompletion_with_retry.<locals>._completion_with_retry in 1.0 seconds as it raised RateLimitError: Rate limit reached for default-gpt-3.5-turbo in organization org-fUMgGI6gSqUWLozt4nlYWmsL on tokens per min. Limit: 90000 / min. Current: 89262 / min. Contact us through our help center at help.openai.com if you continue to have issues..\n",
            "WARNING:langchain.chat_models.openai:Retrying langchain.chat_models.openai.acompletion_with_retry.<locals>._completion_with_retry in 1.0 seconds as it raised RateLimitError: Rate limit reached for default-gpt-3.5-turbo in organization org-fUMgGI6gSqUWLozt4nlYWmsL on tokens per min. Limit: 90000 / min. Current: 89244 / min. Contact us through our help center at help.openai.com if you continue to have issues..\n"
          ]
        },
        {
          "output_type": "stream",
          "name": "stdout",
          "text": [
            "Business\n",
            "Business\n"
          ]
        },
        {
          "output_type": "stream",
          "name": "stderr",
          "text": [
            "WARNING:langchain.chat_models.openai:Retrying langchain.chat_models.openai.acompletion_with_retry.<locals>._completion_with_retry in 1.0 seconds as it raised RateLimitError: Rate limit reached for default-gpt-3.5-turbo in organization org-fUMgGI6gSqUWLozt4nlYWmsL on tokens per min. Limit: 90000 / min. Current: 89024 / min. Contact us through our help center at help.openai.com if you continue to have issues..\n",
            "WARNING:langchain.chat_models.openai:Retrying langchain.chat_models.openai.acompletion_with_retry.<locals>._completion_with_retry in 1.0 seconds as it raised RateLimitError: Rate limit reached for default-gpt-3.5-turbo in organization org-fUMgGI6gSqUWLozt4nlYWmsL on tokens per min. Limit: 90000 / min. Current: 88972 / min. Contact us through our help center at help.openai.com if you continue to have issues..\n"
          ]
        },
        {
          "output_type": "stream",
          "name": "stdout",
          "text": [
            "Entertainment\n",
            "Business\n"
          ]
        },
        {
          "output_type": "stream",
          "name": "stderr",
          "text": [
            "WARNING:langchain.chat_models.openai:Retrying langchain.chat_models.openai.acompletion_with_retry.<locals>._completion_with_retry in 1.0 seconds as it raised RateLimitError: Rate limit reached for default-gpt-3.5-turbo in organization org-fUMgGI6gSqUWLozt4nlYWmsL on tokens per min. Limit: 90000 / min. Current: 89783 / min. Contact us through our help center at help.openai.com if you continue to have issues..\n"
          ]
        },
        {
          "output_type": "stream",
          "name": "stdout",
          "text": [
            "Business\n"
          ]
        },
        {
          "output_type": "stream",
          "name": "stderr",
          "text": [
            "WARNING:langchain.chat_models.openai:Retrying langchain.chat_models.openai.acompletion_with_retry.<locals>._completion_with_retry in 1.0 seconds as it raised RateLimitError: Rate limit reached for default-gpt-3.5-turbo in organization org-fUMgGI6gSqUWLozt4nlYWmsL on tokens per min. Limit: 90000 / min. Current: 89269 / min. Contact us through our help center at help.openai.com if you continue to have issues..\n"
          ]
        },
        {
          "output_type": "stream",
          "name": "stdout",
          "text": [
            "Sports\n"
          ]
        },
        {
          "output_type": "stream",
          "name": "stderr",
          "text": [
            "WARNING:langchain.chat_models.openai:Retrying langchain.chat_models.openai.acompletion_with_retry.<locals>._completion_with_retry in 1.0 seconds as it raised RateLimitError: Rate limit reached for default-gpt-3.5-turbo in organization org-fUMgGI6gSqUWLozt4nlYWmsL on tokens per min. Limit: 90000 / min. Current: 89443 / min. Contact us through our help center at help.openai.com if you continue to have issues..\n"
          ]
        },
        {
          "output_type": "stream",
          "name": "stdout",
          "text": [
            "Sports\n"
          ]
        },
        {
          "output_type": "stream",
          "name": "stderr",
          "text": [
            "WARNING:langchain.chat_models.openai:Retrying langchain.chat_models.openai.acompletion_with_retry.<locals>._completion_with_retry in 1.0 seconds as it raised RateLimitError: Rate limit reached for default-gpt-3.5-turbo in organization org-fUMgGI6gSqUWLozt4nlYWmsL on tokens per min. Limit: 90000 / min. Current: 89046 / min. Contact us through our help center at help.openai.com if you continue to have issues..\n"
          ]
        },
        {
          "output_type": "stream",
          "name": "stdout",
          "text": [
            "Sci/Tech\n"
          ]
        },
        {
          "output_type": "stream",
          "name": "stderr",
          "text": [
            "WARNING:langchain.chat_models.openai:Retrying langchain.chat_models.openai.acompletion_with_retry.<locals>._completion_with_retry in 1.0 seconds as it raised RateLimitError: Rate limit reached for default-gpt-3.5-turbo in organization org-fUMgGI6gSqUWLozt4nlYWmsL on tokens per min. Limit: 90000 / min. Current: 89097 / min. Contact us through our help center at help.openai.com if you continue to have issues..\n"
          ]
        },
        {
          "output_type": "stream",
          "name": "stdout",
          "text": [
            "Business\n",
            "Politics/Current Events\n"
          ]
        },
        {
          "output_type": "stream",
          "name": "stderr",
          "text": [
            "WARNING:langchain.chat_models.openai:Retrying langchain.chat_models.openai.acompletion_with_retry.<locals>._completion_with_retry in 1.0 seconds as it raised RateLimitError: Rate limit reached for default-gpt-3.5-turbo in organization org-fUMgGI6gSqUWLozt4nlYWmsL on tokens per min. Limit: 90000 / min. Current: 88925 / min. Contact us through our help center at help.openai.com if you continue to have issues..\n"
          ]
        },
        {
          "output_type": "stream",
          "name": "stdout",
          "text": [
            "Health\n",
            "Health\n"
          ]
        },
        {
          "output_type": "stream",
          "name": "stderr",
          "text": [
            "WARNING:langchain.chat_models.openai:Retrying langchain.chat_models.openai.acompletion_with_retry.<locals>._completion_with_retry in 1.0 seconds as it raised RateLimitError: Rate limit reached for default-gpt-3.5-turbo in organization org-fUMgGI6gSqUWLozt4nlYWmsL on tokens per min. Limit: 90000 / min. Current: 89320 / min. Contact us through our help center at help.openai.com if you continue to have issues..\n",
            "WARNING:langchain.chat_models.openai:Retrying langchain.chat_models.openai.acompletion_with_retry.<locals>._completion_with_retry in 2.0 seconds as it raised RateLimitError: Rate limit reached for default-gpt-3.5-turbo in organization org-fUMgGI6gSqUWLozt4nlYWmsL on tokens per min. Limit: 90000 / min. Current: 89319 / min. Contact us through our help center at help.openai.com if you continue to have issues..\n"
          ]
        },
        {
          "output_type": "stream",
          "name": "stdout",
          "text": [
            "Business\n",
            "Health\n"
          ]
        },
        {
          "output_type": "stream",
          "name": "stderr",
          "text": [
            "WARNING:langchain.chat_models.openai:Retrying langchain.chat_models.openai.acompletion_with_retry.<locals>._completion_with_retry in 4.0 seconds as it raised RateLimitError: Rate limit reached for default-gpt-3.5-turbo in organization org-fUMgGI6gSqUWLozt4nlYWmsL on tokens per min. Limit: 90000 / min. Current: 89335 / min. Contact us through our help center at help.openai.com if you continue to have issues..\n"
          ]
        },
        {
          "output_type": "stream",
          "name": "stdout",
          "text": [
            "Sports\n"
          ]
        },
        {
          "output_type": "stream",
          "name": "stderr",
          "text": [
            "WARNING:langchain.chat_models.openai:Retrying langchain.chat_models.openai.acompletion_with_retry.<locals>._completion_with_retry in 1.0 seconds as it raised RateLimitError: Rate limit reached for default-gpt-3.5-turbo in organization org-fUMgGI6gSqUWLozt4nlYWmsL on tokens per min. Limit: 90000 / min. Current: 89117 / min. Contact us through our help center at help.openai.com if you continue to have issues..\n"
          ]
        },
        {
          "output_type": "stream",
          "name": "stdout",
          "text": [
            "Sports\n",
            "Sports\n",
            "Sci/Tech\n",
            "Business\n"
          ]
        },
        {
          "output_type": "stream",
          "name": "stderr",
          "text": [
            "WARNING:langchain.chat_models.openai:Retrying langchain.chat_models.openai.acompletion_with_retry.<locals>._completion_with_retry in 1.0 seconds as it raised RateLimitError: Rate limit reached for default-gpt-3.5-turbo in organization org-fUMgGI6gSqUWLozt4nlYWmsL on tokens per min. Limit: 90000 / min. Current: 88970 / min. Contact us through our help center at help.openai.com if you continue to have issues..\n"
          ]
        },
        {
          "output_type": "stream",
          "name": "stdout",
          "text": [
            "Animals/Wildlife\n",
            "Health\n"
          ]
        },
        {
          "output_type": "stream",
          "name": "stderr",
          "text": [
            "WARNING:langchain.chat_models.openai:Retrying langchain.chat_models.openai.acompletion_with_retry.<locals>._completion_with_retry in 1.0 seconds as it raised RateLimitError: Rate limit reached for default-gpt-3.5-turbo in organization org-fUMgGI6gSqUWLozt4nlYWmsL on tokens per min. Limit: 90000 / min. Current: 88919 / min. Contact us through our help center at help.openai.com if you continue to have issues..\n"
          ]
        },
        {
          "output_type": "stream",
          "name": "stdout",
          "text": [
            "Health\n"
          ]
        },
        {
          "output_type": "stream",
          "name": "stderr",
          "text": [
            "WARNING:langchain.chat_models.openai:Retrying langchain.chat_models.openai.acompletion_with_retry.<locals>._completion_with_retry in 1.0 seconds as it raised RateLimitError: Rate limit reached for default-gpt-3.5-turbo in organization org-fUMgGI6gSqUWLozt4nlYWmsL on tokens per min. Limit: 90000 / min. Current: 89325 / min. Contact us through our help center at help.openai.com if you continue to have issues..\n"
          ]
        },
        {
          "output_type": "stream",
          "name": "stdout",
          "text": [
            "Sci/Tech\n"
          ]
        },
        {
          "output_type": "stream",
          "name": "stderr",
          "text": [
            "WARNING:langchain.chat_models.openai:Retrying langchain.chat_models.openai.acompletion_with_retry.<locals>._completion_with_retry in 1.0 seconds as it raised RateLimitError: Rate limit reached for default-gpt-3.5-turbo in organization org-fUMgGI6gSqUWLozt4nlYWmsL on tokens per min. Limit: 90000 / min. Current: 89726 / min. Contact us through our help center at help.openai.com if you continue to have issues..\n"
          ]
        },
        {
          "output_type": "stream",
          "name": "stdout",
          "text": [
            "Software and Development\n"
          ]
        },
        {
          "output_type": "stream",
          "name": "stderr",
          "text": [
            "WARNING:langchain.chat_models.openai:Retrying langchain.chat_models.openai.acompletion_with_retry.<locals>._completion_with_retry in 1.0 seconds as it raised RateLimitError: Rate limit reached for default-gpt-3.5-turbo in organization org-fUMgGI6gSqUWLozt4nlYWmsL on tokens per min. Limit: 90000 / min. Current: 89007 / min. Contact us through our help center at help.openai.com if you continue to have issues..\n"
          ]
        },
        {
          "output_type": "stream",
          "name": "stdout",
          "text": [
            "Politics/Elections (not one of the given categories)\n",
            "Sports\n"
          ]
        },
        {
          "output_type": "stream",
          "name": "stderr",
          "text": [
            "WARNING:langchain.chat_models.openai:Retrying langchain.chat_models.openai.acompletion_with_retry.<locals>._completion_with_retry in 1.0 seconds as it raised RateLimitError: Rate limit reached for default-gpt-3.5-turbo in organization org-fUMgGI6gSqUWLozt4nlYWmsL on tokens per min. Limit: 90000 / min. Current: 89053 / min. Contact us through our help center at help.openai.com if you continue to have issues..\n"
          ]
        },
        {
          "output_type": "stream",
          "name": "stdout",
          "text": [
            "Business\n"
          ]
        },
        {
          "output_type": "stream",
          "name": "stderr",
          "text": [
            "WARNING:langchain.chat_models.openai:Retrying langchain.chat_models.openai.acompletion_with_retry.<locals>._completion_with_retry in 1.0 seconds as it raised RateLimitError: Rate limit reached for default-gpt-3.5-turbo in organization org-fUMgGI6gSqUWLozt4nlYWmsL on tokens per min. Limit: 90000 / min. Current: 89165 / min. Contact us through our help center at help.openai.com if you continue to have issues..\n"
          ]
        },
        {
          "output_type": "stream",
          "name": "stdout",
          "text": [
            "Business\n"
          ]
        },
        {
          "output_type": "stream",
          "name": "stderr",
          "text": [
            "WARNING:langchain.chat_models.openai:Retrying langchain.chat_models.openai.acompletion_with_retry.<locals>._completion_with_retry in 1.0 seconds as it raised RateLimitError: Rate limit reached for default-gpt-3.5-turbo in organization org-fUMgGI6gSqUWLozt4nlYWmsL on tokens per min. Limit: 90000 / min. Current: 88929 / min. Contact us through our help center at help.openai.com if you continue to have issues..\n"
          ]
        },
        {
          "output_type": "stream",
          "name": "stdout",
          "text": [
            "Business\n"
          ]
        },
        {
          "output_type": "stream",
          "name": "stderr",
          "text": [
            "WARNING:langchain.chat_models.openai:Retrying langchain.chat_models.openai.acompletion_with_retry.<locals>._completion_with_retry in 1.0 seconds as it raised RateLimitError: Rate limit reached for default-gpt-3.5-turbo in organization org-fUMgGI6gSqUWLozt4nlYWmsL on tokens per min. Limit: 90000 / min. Current: 88942 / min. Contact us through our help center at help.openai.com if you continue to have issues..\n"
          ]
        },
        {
          "output_type": "stream",
          "name": "stdout",
          "text": [
            "Entertainment\n"
          ]
        },
        {
          "output_type": "stream",
          "name": "stderr",
          "text": [
            "WARNING:langchain.chat_models.openai:Retrying langchain.chat_models.openai.acompletion_with_retry.<locals>._completion_with_retry in 2.0 seconds as it raised RateLimitError: Rate limit reached for default-gpt-3.5-turbo in organization org-fUMgGI6gSqUWLozt4nlYWmsL on tokens per min. Limit: 90000 / min. Current: 89339 / min. Contact us through our help center at help.openai.com if you continue to have issues..\n"
          ]
        },
        {
          "output_type": "stream",
          "name": "stdout",
          "text": [
            "Sports\n"
          ]
        },
        {
          "output_type": "stream",
          "name": "stderr",
          "text": [
            "WARNING:langchain.chat_models.openai:Retrying langchain.chat_models.openai.acompletion_with_retry.<locals>._completion_with_retry in 1.0 seconds as it raised RateLimitError: Rate limit reached for default-gpt-3.5-turbo in organization org-fUMgGI6gSqUWLozt4nlYWmsL on tokens per min. Limit: 90000 / min. Current: 89085 / min. Contact us through our help center at help.openai.com if you continue to have issues..\n"
          ]
        },
        {
          "output_type": "stream",
          "name": "stdout",
          "text": [
            "Politics/World News\n",
            "Software and Development\n",
            "Sci/Tech\n",
            "Sports\n"
          ]
        },
        {
          "output_type": "stream",
          "name": "stderr",
          "text": [
            "WARNING:langchain.chat_models.openai:Retrying langchain.chat_models.openai.acompletion_with_retry.<locals>._completion_with_retry in 1.0 seconds as it raised RateLimitError: Rate limit reached for default-gpt-3.5-turbo in organization org-fUMgGI6gSqUWLozt4nlYWmsL on tokens per min. Limit: 90000 / min. Current: 89372 / min. Contact us through our help center at help.openai.com if you continue to have issues..\n",
            "WARNING:langchain.chat_models.openai:Retrying langchain.chat_models.openai.acompletion_with_retry.<locals>._completion_with_retry in 1.0 seconds as it raised RateLimitError: Rate limit reached for default-gpt-3.5-turbo in organization org-fUMgGI6gSqUWLozt4nlYWmsL on tokens per min. Limit: 90000 / min. Current: 89201 / min. Contact us through our help center at help.openai.com if you continue to have issues..\n"
          ]
        },
        {
          "output_type": "stream",
          "name": "stdout",
          "text": [
            "Sports\n",
            "Sci/Tech\n"
          ]
        },
        {
          "output_type": "stream",
          "name": "stderr",
          "text": [
            "WARNING:langchain.chat_models.openai:Retrying langchain.chat_models.openai.acompletion_with_retry.<locals>._completion_with_retry in 1.0 seconds as it raised RateLimitError: Rate limit reached for default-gpt-3.5-turbo in organization org-fUMgGI6gSqUWLozt4nlYWmsL on tokens per min. Limit: 90000 / min. Current: 89037 / min. Contact us through our help center at help.openai.com if you continue to have issues..\n",
            "WARNING:langchain.chat_models.openai:Retrying langchain.chat_models.openai.acompletion_with_retry.<locals>._completion_with_retry in 1.0 seconds as it raised RateLimitError: Rate limit reached for default-gpt-3.5-turbo in organization org-fUMgGI6gSqUWLozt4nlYWmsL on tokens per min. Limit: 90000 / min. Current: 88913 / min. Contact us through our help center at help.openai.com if you continue to have issues..\n"
          ]
        },
        {
          "output_type": "stream",
          "name": "stdout",
          "text": [
            "Health\n"
          ]
        },
        {
          "output_type": "stream",
          "name": "stderr",
          "text": [
            "WARNING:langchain.chat_models.openai:Retrying langchain.chat_models.openai.acompletion_with_retry.<locals>._completion_with_retry in 1.0 seconds as it raised RateLimitError: Rate limit reached for default-gpt-3.5-turbo in organization org-fUMgGI6gSqUWLozt4nlYWmsL on tokens per min. Limit: 90000 / min. Current: 88926 / min. Contact us through our help center at help.openai.com if you continue to have issues..\n"
          ]
        },
        {
          "output_type": "stream",
          "name": "stdout",
          "text": [
            "Health\n",
            "Entertainment\n"
          ]
        },
        {
          "output_type": "stream",
          "name": "stderr",
          "text": [
            "WARNING:langchain.chat_models.openai:Retrying langchain.chat_models.openai.acompletion_with_retry.<locals>._completion_with_retry in 1.0 seconds as it raised RateLimitError: Rate limit reached for default-gpt-3.5-turbo in organization org-fUMgGI6gSqUWLozt4nlYWmsL on tokens per min. Limit: 90000 / min. Current: 88889 / min. Contact us through our help center at help.openai.com if you continue to have issues..\n"
          ]
        },
        {
          "output_type": "stream",
          "name": "stdout",
          "text": [
            "Sports\n"
          ]
        },
        {
          "output_type": "stream",
          "name": "stderr",
          "text": [
            "WARNING:langchain.chat_models.openai:Retrying langchain.chat_models.openai.acompletion_with_retry.<locals>._completion_with_retry in 2.0 seconds as it raised RateLimitError: Rate limit reached for default-gpt-3.5-turbo in organization org-fUMgGI6gSqUWLozt4nlYWmsL on tokens per min. Limit: 90000 / min. Current: 89298 / min. Contact us through our help center at help.openai.com if you continue to have issues..\n"
          ]
        },
        {
          "output_type": "stream",
          "name": "stdout",
          "text": [
            "Sports\n"
          ]
        },
        {
          "output_type": "stream",
          "name": "stderr",
          "text": [
            "WARNING:langchain.chat_models.openai:Retrying langchain.chat_models.openai.acompletion_with_retry.<locals>._completion_with_retry in 1.0 seconds as it raised RateLimitError: Rate limit reached for default-gpt-3.5-turbo in organization org-fUMgGI6gSqUWLozt4nlYWmsL on tokens per min. Limit: 90000 / min. Current: 89047 / min. Contact us through our help center at help.openai.com if you continue to have issues..\n"
          ]
        },
        {
          "output_type": "stream",
          "name": "stdout",
          "text": [
            "Entertainment\n",
            "Sci/Tech\n"
          ]
        },
        {
          "output_type": "stream",
          "name": "stderr",
          "text": [
            "WARNING:langchain.chat_models.openai:Retrying langchain.chat_models.openai.acompletion_with_retry.<locals>._completion_with_retry in 1.0 seconds as it raised RateLimitError: Rate limit reached for default-gpt-3.5-turbo in organization org-fUMgGI6gSqUWLozt4nlYWmsL on tokens per min. Limit: 90000 / min. Current: 88959 / min. Contact us through our help center at help.openai.com if you continue to have issues..\n"
          ]
        },
        {
          "output_type": "stream",
          "name": "stdout",
          "text": [
            "Entertainment\n",
            "Sports\n"
          ]
        },
        {
          "output_type": "stream",
          "name": "stderr",
          "text": [
            "WARNING:langchain.chat_models.openai:Retrying langchain.chat_models.openai.acompletion_with_retry.<locals>._completion_with_retry in 2.0 seconds as it raised RateLimitError: Rate limit reached for default-gpt-3.5-turbo in organization org-fUMgGI6gSqUWLozt4nlYWmsL on tokens per min. Limit: 90000 / min. Current: 89365 / min. Contact us through our help center at help.openai.com if you continue to have issues..\n"
          ]
        },
        {
          "output_type": "stream",
          "name": "stdout",
          "text": [
            "Sports\n",
            "Sci/Tech\n"
          ]
        },
        {
          "output_type": "stream",
          "name": "stderr",
          "text": [
            "WARNING:langchain.chat_models.openai:Retrying langchain.chat_models.openai.acompletion_with_retry.<locals>._completion_with_retry in 1.0 seconds as it raised RateLimitError: Rate limit reached for default-gpt-3.5-turbo in organization org-fUMgGI6gSqUWLozt4nlYWmsL on tokens per min. Limit: 90000 / min. Current: 89129 / min. Contact us through our help center at help.openai.com if you continue to have issues..\n"
          ]
        },
        {
          "output_type": "stream",
          "name": "stdout",
          "text": [
            "Health\n",
            "Sports\n",
            "None of the given categories fit this article. It may be classified as Politics or Current Affairs.\n"
          ]
        },
        {
          "output_type": "stream",
          "name": "stderr",
          "text": [
            "WARNING:langchain.chat_models.openai:Retrying langchain.chat_models.openai.acompletion_with_retry.<locals>._completion_with_retry in 1.0 seconds as it raised RateLimitError: Rate limit reached for default-gpt-3.5-turbo in organization org-fUMgGI6gSqUWLozt4nlYWmsL on tokens per min. Limit: 90000 / min. Current: 89260 / min. Contact us through our help center at help.openai.com if you continue to have issues..\n",
            "WARNING:langchain.chat_models.openai:Retrying langchain.chat_models.openai.acompletion_with_retry.<locals>._completion_with_retry in 1.0 seconds as it raised RateLimitError: Rate limit reached for default-gpt-3.5-turbo in organization org-fUMgGI6gSqUWLozt4nlYWmsL on tokens per min. Limit: 90000 / min. Current: 89127 / min. Contact us through our help center at help.openai.com if you continue to have issues..\n"
          ]
        },
        {
          "output_type": "stream",
          "name": "stdout",
          "text": [
            "Politics/International Relations\n",
            "Sports\n"
          ]
        },
        {
          "output_type": "stream",
          "name": "stderr",
          "text": [
            "WARNING:langchain.chat_models.openai:Retrying langchain.chat_models.openai.acompletion_with_retry.<locals>._completion_with_retry in 1.0 seconds as it raised RateLimitError: Rate limit reached for default-gpt-3.5-turbo in organization org-fUMgGI6gSqUWLozt4nlYWmsL on tokens per min. Limit: 90000 / min. Current: 88908 / min. Contact us through our help center at help.openai.com if you continue to have issues..\n"
          ]
        },
        {
          "output_type": "stream",
          "name": "stdout",
          "text": [
            "Health\n"
          ]
        },
        {
          "output_type": "stream",
          "name": "stderr",
          "text": [
            "WARNING:langchain.chat_models.openai:Retrying langchain.chat_models.openai.acompletion_with_retry.<locals>._completion_with_retry in 1.0 seconds as it raised RateLimitError: Rate limit reached for default-gpt-3.5-turbo in organization org-fUMgGI6gSqUWLozt4nlYWmsL on tokens per min. Limit: 90000 / min. Current: 89253 / min. Contact us through our help center at help.openai.com if you continue to have issues..\n"
          ]
        },
        {
          "output_type": "stream",
          "name": "stdout",
          "text": [
            "Business\n"
          ]
        },
        {
          "output_type": "stream",
          "name": "stderr",
          "text": [
            "WARNING:langchain.chat_models.openai:Retrying langchain.chat_models.openai.acompletion_with_retry.<locals>._completion_with_retry in 2.0 seconds as it raised RateLimitError: Rate limit reached for default-gpt-3.5-turbo in organization org-fUMgGI6gSqUWLozt4nlYWmsL on tokens per min. Limit: 90000 / min. Current: 89648 / min. Contact us through our help center at help.openai.com if you continue to have issues..\n"
          ]
        },
        {
          "output_type": "stream",
          "name": "stdout",
          "text": [
            "Sports\n",
            "Sports\n"
          ]
        },
        {
          "output_type": "stream",
          "name": "stderr",
          "text": [
            "WARNING:langchain.chat_models.openai:Retrying langchain.chat_models.openai.acompletion_with_retry.<locals>._completion_with_retry in 1.0 seconds as it raised RateLimitError: Rate limit reached for default-gpt-3.5-turbo in organization org-fUMgGI6gSqUWLozt4nlYWmsL on tokens per min. Limit: 90000 / min. Current: 88913 / min. Contact us through our help center at help.openai.com if you continue to have issues..\n"
          ]
        },
        {
          "output_type": "stream",
          "name": "stdout",
          "text": [
            "Health\n",
            "Business\n"
          ]
        },
        {
          "output_type": "stream",
          "name": "stderr",
          "text": [
            "WARNING:langchain.chat_models.openai:Retrying langchain.chat_models.openai.acompletion_with_retry.<locals>._completion_with_retry in 1.0 seconds as it raised RateLimitError: Rate limit reached for default-gpt-3.5-turbo in organization org-fUMgGI6gSqUWLozt4nlYWmsL on tokens per min. Limit: 90000 / min. Current: 89058 / min. Contact us through our help center at help.openai.com if you continue to have issues..\n"
          ]
        },
        {
          "output_type": "stream",
          "name": "stdout",
          "text": [
            "Entertainment\n"
          ]
        },
        {
          "output_type": "stream",
          "name": "stderr",
          "text": [
            "WARNING:langchain.chat_models.openai:Retrying langchain.chat_models.openai.acompletion_with_retry.<locals>._completion_with_retry in 1.0 seconds as it raised RateLimitError: Rate limit reached for default-gpt-3.5-turbo in organization org-fUMgGI6gSqUWLozt4nlYWmsL on tokens per min. Limit: 90000 / min. Current: 89139 / min. Contact us through our help center at help.openai.com if you continue to have issues..\n"
          ]
        },
        {
          "output_type": "stream",
          "name": "stdout",
          "text": [
            "Sports\n"
          ]
        },
        {
          "output_type": "stream",
          "name": "stderr",
          "text": [
            "WARNING:langchain.chat_models.openai:Retrying langchain.chat_models.openai.acompletion_with_retry.<locals>._completion_with_retry in 2.0 seconds as it raised RateLimitError: Rate limit reached for default-gpt-3.5-turbo in organization org-fUMgGI6gSqUWLozt4nlYWmsL on tokens per min. Limit: 90000 / min. Current: 89565 / min. Contact us through our help center at help.openai.com if you continue to have issues..\n"
          ]
        },
        {
          "output_type": "stream",
          "name": "stdout",
          "text": [
            "Sci/Tech\n"
          ]
        },
        {
          "output_type": "stream",
          "name": "stderr",
          "text": [
            "WARNING:langchain.chat_models.openai:Retrying langchain.chat_models.openai.acompletion_with_retry.<locals>._completion_with_retry in 1.0 seconds as it raised RateLimitError: Rate limit reached for default-gpt-3.5-turbo in organization org-fUMgGI6gSqUWLozt4nlYWmsL on tokens per min. Limit: 90000 / min. Current: 88965 / min. Contact us through our help center at help.openai.com if you continue to have issues..\n"
          ]
        },
        {
          "output_type": "stream",
          "name": "stdout",
          "text": [
            "Music Feeds\n",
            "Health\n"
          ]
        },
        {
          "output_type": "stream",
          "name": "stderr",
          "text": [
            "WARNING:langchain.chat_models.openai:Retrying langchain.chat_models.openai.acompletion_with_retry.<locals>._completion_with_retry in 1.0 seconds as it raised RateLimitError: Rate limit reached for default-gpt-3.5-turbo in organization org-fUMgGI6gSqUWLozt4nlYWmsL on tokens per min. Limit: 90000 / min. Current: 88899 / min. Contact us through our help center at help.openai.com if you continue to have issues..\n"
          ]
        },
        {
          "output_type": "stream",
          "name": "stdout",
          "text": [
            "Crime/Assault (not one of the given categories)\n",
            "Business\n"
          ]
        },
        {
          "output_type": "stream",
          "name": "stderr",
          "text": [
            "WARNING:langchain.chat_models.openai:Retrying langchain.chat_models.openai.acompletion_with_retry.<locals>._completion_with_retry in 1.0 seconds as it raised RateLimitError: Rate limit reached for default-gpt-3.5-turbo in organization org-fUMgGI6gSqUWLozt4nlYWmsL on tokens per min. Limit: 90000 / min. Current: 88890 / min. Contact us through our help center at help.openai.com if you continue to have issues..\n"
          ]
        },
        {
          "output_type": "stream",
          "name": "stdout",
          "text": [
            "Sci/Tech\n"
          ]
        },
        {
          "output_type": "stream",
          "name": "stderr",
          "text": [
            "WARNING:langchain.chat_models.openai:Retrying langchain.chat_models.openai.acompletion_with_retry.<locals>._completion_with_retry in 2.0 seconds as it raised RateLimitError: Rate limit reached for default-gpt-3.5-turbo in organization org-fUMgGI6gSqUWLozt4nlYWmsL on tokens per min. Limit: 90000 / min. Current: 89296 / min. Contact us through our help center at help.openai.com if you continue to have issues..\n"
          ]
        },
        {
          "output_type": "stream",
          "name": "stdout",
          "text": [
            "Business\n",
            "Business\n"
          ]
        },
        {
          "output_type": "stream",
          "name": "stderr",
          "text": [
            "WARNING:langchain.chat_models.openai:Retrying langchain.chat_models.openai.acompletion_with_retry.<locals>._completion_with_retry in 1.0 seconds as it raised RateLimitError: Rate limit reached for default-gpt-3.5-turbo in organization org-fUMgGI6gSqUWLozt4nlYWmsL on tokens per min. Limit: 90000 / min. Current: 89191 / min. Contact us through our help center at help.openai.com if you continue to have issues..\n"
          ]
        },
        {
          "output_type": "stream",
          "name": "stdout",
          "text": [
            "Politics/International Affairs\n",
            "Business\n",
            "Sports\n"
          ]
        },
        {
          "output_type": "stream",
          "name": "stderr",
          "text": [
            "WARNING:langchain.chat_models.openai:Retrying langchain.chat_models.openai.acompletion_with_retry.<locals>._completion_with_retry in 1.0 seconds as it raised RateLimitError: Rate limit reached for default-gpt-3.5-turbo in organization org-fUMgGI6gSqUWLozt4nlYWmsL on tokens per min. Limit: 90000 / min. Current: 89362 / min. Contact us through our help center at help.openai.com if you continue to have issues..\n",
            "WARNING:langchain.chat_models.openai:Retrying langchain.chat_models.openai.acompletion_with_retry.<locals>._completion_with_retry in 1.0 seconds as it raised RateLimitError: Rate limit reached for default-gpt-3.5-turbo in organization org-fUMgGI6gSqUWLozt4nlYWmsL on tokens per min. Limit: 90000 / min. Current: 89189 / min. Contact us through our help center at help.openai.com if you continue to have issues..\n"
          ]
        },
        {
          "output_type": "stream",
          "name": "stdout",
          "text": [
            "Sports\n",
            "Software and Development\n"
          ]
        },
        {
          "output_type": "stream",
          "name": "stderr",
          "text": [
            "WARNING:langchain.chat_models.openai:Retrying langchain.chat_models.openai.acompletion_with_retry.<locals>._completion_with_retry in 1.0 seconds as it raised RateLimitError: Rate limit reached for default-gpt-3.5-turbo in organization org-fUMgGI6gSqUWLozt4nlYWmsL on tokens per min. Limit: 90000 / min. Current: 89165 / min. Contact us through our help center at help.openai.com if you continue to have issues..\n",
            "WARNING:langchain.chat_models.openai:Retrying langchain.chat_models.openai.acompletion_with_retry.<locals>._completion_with_retry in 1.0 seconds as it raised RateLimitError: Rate limit reached for default-gpt-3.5-turbo in organization org-fUMgGI6gSqUWLozt4nlYWmsL on tokens per min. Limit: 90000 / min. Current: 88912 / min. Contact us through our help center at help.openai.com if you continue to have issues..\n"
          ]
        },
        {
          "output_type": "stream",
          "name": "stdout",
          "text": [
            "Business\n"
          ]
        },
        {
          "output_type": "stream",
          "name": "stderr",
          "text": [
            "WARNING:langchain.chat_models.openai:Retrying langchain.chat_models.openai.acompletion_with_retry.<locals>._completion_with_retry in 1.0 seconds as it raised RateLimitError: Rate limit reached for default-gpt-3.5-turbo in organization org-fUMgGI6gSqUWLozt4nlYWmsL on tokens per min. Limit: 90000 / min. Current: 88994 / min. Contact us through our help center at help.openai.com if you continue to have issues..\n"
          ]
        },
        {
          "output_type": "stream",
          "name": "stdout",
          "text": [
            "Sports\n",
            "Health\n"
          ]
        },
        {
          "output_type": "stream",
          "name": "stderr",
          "text": [
            "WARNING:langchain.chat_models.openai:Retrying langchain.chat_models.openai.acompletion_with_retry.<locals>._completion_with_retry in 1.0 seconds as it raised RateLimitError: Rate limit reached for default-gpt-3.5-turbo in organization org-fUMgGI6gSqUWLozt4nlYWmsL on tokens per min. Limit: 90000 / min. Current: 89217 / min. Contact us through our help center at help.openai.com if you continue to have issues..\n"
          ]
        },
        {
          "output_type": "stream",
          "name": "stdout",
          "text": [
            "Sports\n"
          ]
        },
        {
          "output_type": "stream",
          "name": "stderr",
          "text": [
            "WARNING:langchain.chat_models.openai:Retrying langchain.chat_models.openai.acompletion_with_retry.<locals>._completion_with_retry in 2.0 seconds as it raised RateLimitError: Rate limit reached for default-gpt-3.5-turbo in organization org-fUMgGI6gSqUWLozt4nlYWmsL on tokens per min. Limit: 90000 / min. Current: 89607 / min. Contact us through our help center at help.openai.com if you continue to have issues..\n"
          ]
        },
        {
          "output_type": "stream",
          "name": "stdout",
          "text": [
            "Sports\n"
          ]
        },
        {
          "output_type": "stream",
          "name": "stderr",
          "text": [
            "WARNING:langchain.chat_models.openai:Retrying langchain.chat_models.openai.acompletion_with_retry.<locals>._completion_with_retry in 1.0 seconds as it raised RateLimitError: Rate limit reached for default-gpt-3.5-turbo in organization org-fUMgGI6gSqUWLozt4nlYWmsL on tokens per min. Limit: 90000 / min. Current: 89270 / min. Contact us through our help center at help.openai.com if you continue to have issues..\n"
          ]
        },
        {
          "output_type": "stream",
          "name": "stdout",
          "text": [
            "Entertainment\n",
            "Sci/Tech\n",
            "Business\n"
          ]
        },
        {
          "output_type": "stream",
          "name": "stderr",
          "text": [
            "WARNING:langchain.chat_models.openai:Retrying langchain.chat_models.openai.acompletion_with_retry.<locals>._completion_with_retry in 1.0 seconds as it raised RateLimitError: Rate limit reached for default-gpt-3.5-turbo in organization org-fUMgGI6gSqUWLozt4nlYWmsL on tokens per min. Limit: 90000 / min. Current: 89191 / min. Contact us through our help center at help.openai.com if you continue to have issues..\n",
            "WARNING:langchain.chat_models.openai:Retrying langchain.chat_models.openai.acompletion_with_retry.<locals>._completion_with_retry in 1.0 seconds as it raised RateLimitError: Rate limit reached for default-gpt-3.5-turbo in organization org-fUMgGI6gSqUWLozt4nlYWmsL on tokens per min. Limit: 90000 / min. Current: 89039 / min. Contact us through our help center at help.openai.com if you continue to have issues..\n"
          ]
        },
        {
          "output_type": "stream",
          "name": "stdout",
          "text": [
            "Sports\n",
            "Entertainment\n"
          ]
        },
        {
          "output_type": "stream",
          "name": "stderr",
          "text": [
            "WARNING:langchain.chat_models.openai:Retrying langchain.chat_models.openai.acompletion_with_retry.<locals>._completion_with_retry in 1.0 seconds as it raised RateLimitError: Rate limit reached for default-gpt-3.5-turbo in organization org-fUMgGI6gSqUWLozt4nlYWmsL on tokens per min. Limit: 90000 / min. Current: 89831 / min. Contact us through our help center at help.openai.com if you continue to have issues..\n"
          ]
        },
        {
          "output_type": "stream",
          "name": "stdout",
          "text": [
            "Entertainment\n"
          ]
        },
        {
          "output_type": "stream",
          "name": "stderr",
          "text": [
            "WARNING:langchain.chat_models.openai:Retrying langchain.chat_models.openai.acompletion_with_retry.<locals>._completion_with_retry in 1.0 seconds as it raised RateLimitError: Rate limit reached for default-gpt-3.5-turbo in organization org-fUMgGI6gSqUWLozt4nlYWmsL on tokens per min. Limit: 90000 / min. Current: 89292 / min. Contact us through our help center at help.openai.com if you continue to have issues..\n"
          ]
        },
        {
          "output_type": "stream",
          "name": "stdout",
          "text": [
            "Health\n"
          ]
        },
        {
          "output_type": "stream",
          "name": "stderr",
          "text": [
            "WARNING:langchain.chat_models.openai:Retrying langchain.chat_models.openai.acompletion_with_retry.<locals>._completion_with_retry in 1.0 seconds as it raised RateLimitError: Rate limit reached for default-gpt-3.5-turbo in organization org-fUMgGI6gSqUWLozt4nlYWmsL on tokens per min. Limit: 90000 / min. Current: 89674 / min. Contact us through our help center at help.openai.com if you continue to have issues..\n"
          ]
        },
        {
          "output_type": "stream",
          "name": "stdout",
          "text": [
            "Sports\n"
          ]
        },
        {
          "output_type": "stream",
          "name": "stderr",
          "text": [
            "WARNING:langchain.chat_models.openai:Retrying langchain.chat_models.openai.acompletion_with_retry.<locals>._completion_with_retry in 1.0 seconds as it raised RateLimitError: Rate limit reached for default-gpt-3.5-turbo in organization org-fUMgGI6gSqUWLozt4nlYWmsL on tokens per min. Limit: 90000 / min. Current: 88937 / min. Contact us through our help center at help.openai.com if you continue to have issues..\n"
          ]
        },
        {
          "output_type": "stream",
          "name": "stdout",
          "text": [
            "Entertainment\n",
            "Sports\n"
          ]
        },
        {
          "output_type": "stream",
          "name": "stderr",
          "text": [
            "WARNING:langchain.chat_models.openai:Retrying langchain.chat_models.openai.acompletion_with_retry.<locals>._completion_with_retry in 1.0 seconds as it raised RateLimitError: Rate limit reached for default-gpt-3.5-turbo in organization org-fUMgGI6gSqUWLozt4nlYWmsL on tokens per min. Limit: 90000 / min. Current: 89718 / min. Contact us through our help center at help.openai.com if you continue to have issues..\n"
          ]
        },
        {
          "output_type": "stream",
          "name": "stdout",
          "text": [
            "Sports\n"
          ]
        },
        {
          "output_type": "stream",
          "name": "stderr",
          "text": [
            "WARNING:langchain.chat_models.openai:Retrying langchain.chat_models.openai.acompletion_with_retry.<locals>._completion_with_retry in 1.0 seconds as it raised RateLimitError: Rate limit reached for default-gpt-3.5-turbo in organization org-fUMgGI6gSqUWLozt4nlYWmsL on tokens per min. Limit: 90000 / min. Current: 89086 / min. Contact us through our help center at help.openai.com if you continue to have issues..\n"
          ]
        },
        {
          "output_type": "stream",
          "name": "stdout",
          "text": [
            "Sci/Tech\n"
          ]
        },
        {
          "output_type": "stream",
          "name": "stderr",
          "text": [
            "WARNING:langchain.chat_models.openai:Retrying langchain.chat_models.openai.acompletion_with_retry.<locals>._completion_with_retry in 1.0 seconds as it raised RateLimitError: Rate limit reached for default-gpt-3.5-turbo in organization org-fUMgGI6gSqUWLozt4nlYWmsL on tokens per min. Limit: 90000 / min. Current: 89313 / min. Contact us through our help center at help.openai.com if you continue to have issues..\n"
          ]
        },
        {
          "output_type": "stream",
          "name": "stdout",
          "text": [
            "Business\n"
          ]
        },
        {
          "output_type": "stream",
          "name": "stderr",
          "text": [
            "WARNING:langchain.chat_models.openai:Retrying langchain.chat_models.openai.acompletion_with_retry.<locals>._completion_with_retry in 1.0 seconds as it raised RateLimitError: Rate limit reached for default-gpt-3.5-turbo in organization org-fUMgGI6gSqUWLozt4nlYWmsL on tokens per min. Limit: 90000 / min. Current: 88897 / min. Contact us through our help center at help.openai.com if you continue to have issues..\n"
          ]
        },
        {
          "output_type": "stream",
          "name": "stdout",
          "text": [
            "Sports\n"
          ]
        },
        {
          "output_type": "stream",
          "name": "stderr",
          "text": [
            "WARNING:langchain.chat_models.openai:Retrying langchain.chat_models.openai.acompletion_with_retry.<locals>._completion_with_retry in 1.0 seconds as it raised RateLimitError: Rate limit reached for default-gpt-3.5-turbo in organization org-fUMgGI6gSqUWLozt4nlYWmsL on tokens per min. Limit: 90000 / min. Current: 89174 / min. Contact us through our help center at help.openai.com if you continue to have issues..\n"
          ]
        },
        {
          "output_type": "stream",
          "name": "stdout",
          "text": [
            "Health\n",
            "Business\n"
          ]
        },
        {
          "output_type": "stream",
          "name": "stderr",
          "text": [
            "WARNING:langchain.chat_models.openai:Retrying langchain.chat_models.openai.acompletion_with_retry.<locals>._completion_with_retry in 1.0 seconds as it raised RateLimitError: Rate limit reached for default-gpt-3.5-turbo in organization org-fUMgGI6gSqUWLozt4nlYWmsL on tokens per min. Limit: 90000 / min. Current: 89257 / min. Contact us through our help center at help.openai.com if you continue to have issues..\n"
          ]
        },
        {
          "output_type": "stream",
          "name": "stdout",
          "text": [
            "Health\n"
          ]
        },
        {
          "output_type": "stream",
          "name": "stderr",
          "text": [
            "WARNING:langchain.chat_models.openai:Retrying langchain.chat_models.openai.acompletion_with_retry.<locals>._completion_with_retry in 2.0 seconds as it raised RateLimitError: Rate limit reached for default-gpt-3.5-turbo in organization org-fUMgGI6gSqUWLozt4nlYWmsL on tokens per min. Limit: 90000 / min. Current: 89649 / min. Contact us through our help center at help.openai.com if you continue to have issues..\n"
          ]
        },
        {
          "output_type": "stream",
          "name": "stdout",
          "text": [
            "Health\n"
          ]
        },
        {
          "output_type": "stream",
          "name": "stderr",
          "text": [
            "WARNING:langchain.chat_models.openai:Retrying langchain.chat_models.openai.acompletion_with_retry.<locals>._completion_with_retry in 1.0 seconds as it raised RateLimitError: Rate limit reached for default-gpt-3.5-turbo in organization org-fUMgGI6gSqUWLozt4nlYWmsL on tokens per min. Limit: 90000 / min. Current: 89234 / min. Contact us through our help center at help.openai.com if you continue to have issues..\n"
          ]
        },
        {
          "output_type": "stream",
          "name": "stdout",
          "text": [
            "Sci/Tech\n",
            "Software and Development\n",
            "Sci/Tech\n"
          ]
        },
        {
          "output_type": "stream",
          "name": "stderr",
          "text": [
            "WARNING:langchain.chat_models.openai:Retrying langchain.chat_models.openai.acompletion_with_retry.<locals>._completion_with_retry in 1.0 seconds as it raised RateLimitError: Rate limit reached for default-gpt-3.5-turbo in organization org-fUMgGI6gSqUWLozt4nlYWmsL on tokens per min. Limit: 90000 / min. Current: 89444 / min. Contact us through our help center at help.openai.com if you continue to have issues..\n"
          ]
        },
        {
          "output_type": "stream",
          "name": "stdout",
          "text": [
            "Business\n"
          ]
        },
        {
          "output_type": "stream",
          "name": "stderr",
          "text": [
            "WARNING:langchain.chat_models.openai:Retrying langchain.chat_models.openai.acompletion_with_retry.<locals>._completion_with_retry in 1.0 seconds as it raised RateLimitError: Rate limit reached for default-gpt-3.5-turbo in organization org-fUMgGI6gSqUWLozt4nlYWmsL on tokens per min. Limit: 90000 / min. Current: 89032 / min. Contact us through our help center at help.openai.com if you continue to have issues..\n"
          ]
        },
        {
          "output_type": "stream",
          "name": "stdout",
          "text": [
            "Sports\n"
          ]
        },
        {
          "output_type": "stream",
          "name": "stderr",
          "text": [
            "WARNING:langchain.chat_models.openai:Retrying langchain.chat_models.openai.acompletion_with_retry.<locals>._completion_with_retry in 1.0 seconds as it raised RateLimitError: Rate limit reached for default-gpt-3.5-turbo in organization org-fUMgGI6gSqUWLozt4nlYWmsL on tokens per min. Limit: 90000 / min. Current: 89276 / min. Contact us through our help center at help.openai.com if you continue to have issues..\n"
          ]
        },
        {
          "output_type": "stream",
          "name": "stdout",
          "text": [
            "Sports\n",
            "Business\n"
          ]
        },
        {
          "output_type": "stream",
          "name": "stderr",
          "text": [
            "WARNING:langchain.chat_models.openai:Retrying langchain.chat_models.openai.acompletion_with_retry.<locals>._completion_with_retry in 1.0 seconds as it raised RateLimitError: Rate limit reached for default-gpt-3.5-turbo in organization org-fUMgGI6gSqUWLozt4nlYWmsL on tokens per min. Limit: 90000 / min. Current: 89236 / min. Contact us through our help center at help.openai.com if you continue to have issues..\n"
          ]
        },
        {
          "output_type": "stream",
          "name": "stdout",
          "text": [
            "Sports\n"
          ]
        },
        {
          "output_type": "stream",
          "name": "stderr",
          "text": [
            "WARNING:langchain.chat_models.openai:Retrying langchain.chat_models.openai.acompletion_with_retry.<locals>._completion_with_retry in 1.0 seconds as it raised RateLimitError: Rate limit reached for default-gpt-3.5-turbo in organization org-fUMgGI6gSqUWLozt4nlYWmsL on tokens per min. Limit: 90000 / min. Current: 89009 / min. Contact us through our help center at help.openai.com if you continue to have issues..\n"
          ]
        },
        {
          "output_type": "stream",
          "name": "stdout",
          "text": [
            "Politics/Government\n"
          ]
        },
        {
          "output_type": "stream",
          "name": "stderr",
          "text": [
            "WARNING:langchain.chat_models.openai:Retrying langchain.chat_models.openai.acompletion_with_retry.<locals>._completion_with_retry in 1.0 seconds as it raised RateLimitError: Rate limit reached for default-gpt-3.5-turbo in organization org-fUMgGI6gSqUWLozt4nlYWmsL on tokens per min. Limit: 90000 / min. Current: 88925 / min. Contact us through our help center at help.openai.com if you continue to have issues..\n"
          ]
        },
        {
          "output_type": "stream",
          "name": "stdout",
          "text": [
            "Animals/Wildlife (not one of the given categories)\n"
          ]
        },
        {
          "output_type": "stream",
          "name": "stderr",
          "text": [
            "WARNING:langchain.chat_models.openai:Retrying langchain.chat_models.openai.acompletion_with_retry.<locals>._completion_with_retry in 1.0 seconds as it raised RateLimitError: Rate limit reached for default-gpt-3.5-turbo in organization org-fUMgGI6gSqUWLozt4nlYWmsL on tokens per min. Limit: 90000 / min. Current: 89173 / min. Contact us through our help center at help.openai.com if you continue to have issues..\n"
          ]
        },
        {
          "output_type": "stream",
          "name": "stdout",
          "text": [
            "Business\n",
            "Politics/International Affairs\n"
          ]
        },
        {
          "output_type": "stream",
          "name": "stderr",
          "text": [
            "WARNING:langchain.chat_models.openai:Retrying langchain.chat_models.openai.acompletion_with_retry.<locals>._completion_with_retry in 2.0 seconds as it raised RateLimitError: Rate limit reached for default-gpt-3.5-turbo in organization org-fUMgGI6gSqUWLozt4nlYWmsL on tokens per min. Limit: 90000 / min. Current: 89587 / min. Contact us through our help center at help.openai.com if you continue to have issues..\n"
          ]
        },
        {
          "output_type": "stream",
          "name": "stdout",
          "text": [
            "Sports\n"
          ]
        },
        {
          "output_type": "stream",
          "name": "stderr",
          "text": [
            "WARNING:langchain.chat_models.openai:Retrying langchain.chat_models.openai.acompletion_with_retry.<locals>._completion_with_retry in 1.0 seconds as it raised RateLimitError: Rate limit reached for default-gpt-3.5-turbo in organization org-fUMgGI6gSqUWLozt4nlYWmsL on tokens per min. Limit: 90000 / min. Current: 89357 / min. Contact us through our help center at help.openai.com if you continue to have issues..\n"
          ]
        },
        {
          "output_type": "stream",
          "name": "stdout",
          "text": [
            "Sports\n",
            "Sci/Tech\n"
          ]
        },
        {
          "output_type": "stream",
          "name": "stderr",
          "text": [
            "WARNING:langchain.chat_models.openai:Retrying langchain.chat_models.openai.acompletion_with_retry.<locals>._completion_with_retry in 1.0 seconds as it raised RateLimitError: Rate limit reached for default-gpt-3.5-turbo in organization org-fUMgGI6gSqUWLozt4nlYWmsL on tokens per min. Limit: 90000 / min. Current: 89383 / min. Contact us through our help center at help.openai.com if you continue to have issues..\n"
          ]
        },
        {
          "output_type": "stream",
          "name": "stdout",
          "text": [
            "Health\n",
            "Business\n"
          ]
        },
        {
          "output_type": "stream",
          "name": "stderr",
          "text": [
            "WARNING:langchain.chat_models.openai:Retrying langchain.chat_models.openai.acompletion_with_retry.<locals>._completion_with_retry in 1.0 seconds as it raised RateLimitError: Rate limit reached for default-gpt-3.5-turbo in organization org-fUMgGI6gSqUWLozt4nlYWmsL on tokens per min. Limit: 90000 / min. Current: 89239 / min. Contact us through our help center at help.openai.com if you continue to have issues..\n"
          ]
        },
        {
          "output_type": "stream",
          "name": "stdout",
          "text": [
            "Business\n"
          ]
        },
        {
          "output_type": "stream",
          "name": "stderr",
          "text": [
            "WARNING:langchain.chat_models.openai:Retrying langchain.chat_models.openai.acompletion_with_retry.<locals>._completion_with_retry in 1.0 seconds as it raised RateLimitError: Rate limit reached for default-gpt-3.5-turbo in organization org-fUMgGI6gSqUWLozt4nlYWmsL on tokens per min. Limit: 90000 / min. Current: 89554 / min. Contact us through our help center at help.openai.com if you continue to have issues..\n"
          ]
        },
        {
          "output_type": "stream",
          "name": "stdout",
          "text": [
            "Weather/Natural Disasters\n",
            "Sports\n"
          ]
        },
        {
          "output_type": "stream",
          "name": "stderr",
          "text": [
            "WARNING:langchain.chat_models.openai:Retrying langchain.chat_models.openai.acompletion_with_retry.<locals>._completion_with_retry in 1.0 seconds as it raised RateLimitError: Rate limit reached for default-gpt-3.5-turbo in organization org-fUMgGI6gSqUWLozt4nlYWmsL on tokens per min. Limit: 90000 / min. Current: 88948 / min. Contact us through our help center at help.openai.com if you continue to have issues..\n"
          ]
        },
        {
          "output_type": "stream",
          "name": "stdout",
          "text": [
            "Toons\n"
          ]
        },
        {
          "output_type": "stream",
          "name": "stderr",
          "text": [
            "WARNING:langchain.chat_models.openai:Retrying langchain.chat_models.openai.acompletion_with_retry.<locals>._completion_with_retry in 1.0 seconds as it raised RateLimitError: Rate limit reached for default-gpt-3.5-turbo in organization org-fUMgGI6gSqUWLozt4nlYWmsL on tokens per min. Limit: 90000 / min. Current: 89297 / min. Contact us through our help center at help.openai.com if you continue to have issues..\n"
          ]
        },
        {
          "output_type": "stream",
          "name": "stdout",
          "text": [
            "Health\n"
          ]
        },
        {
          "output_type": "stream",
          "name": "stderr",
          "text": [
            "WARNING:langchain.chat_models.openai:Retrying langchain.chat_models.openai.acompletion_with_retry.<locals>._completion_with_retry in 2.0 seconds as it raised RateLimitError: Rate limit reached for default-gpt-3.5-turbo in organization org-fUMgGI6gSqUWLozt4nlYWmsL on tokens per min. Limit: 90000 / min. Current: 89723 / min. Contact us through our help center at help.openai.com if you continue to have issues..\n"
          ]
        },
        {
          "output_type": "stream",
          "name": "stdout",
          "text": [
            "Sports\n"
          ]
        },
        {
          "output_type": "stream",
          "name": "stderr",
          "text": [
            "WARNING:langchain.chat_models.openai:Retrying langchain.chat_models.openai.acompletion_with_retry.<locals>._completion_with_retry in 1.0 seconds as it raised RateLimitError: Rate limit reached for default-gpt-3.5-turbo in organization org-fUMgGI6gSqUWLozt4nlYWmsL on tokens per min. Limit: 90000 / min. Current: 89104 / min. Contact us through our help center at help.openai.com if you continue to have issues..\n"
          ]
        },
        {
          "output_type": "stream",
          "name": "stdout",
          "text": [
            "Sci/Tech\n",
            "Sports\n",
            "Politics/International Affairs\n"
          ]
        },
        {
          "output_type": "stream",
          "name": "stderr",
          "text": [
            "WARNING:langchain.chat_models.openai:Retrying langchain.chat_models.openai.acompletion_with_retry.<locals>._completion_with_retry in 1.0 seconds as it raised RateLimitError: Rate limit reached for default-gpt-3.5-turbo in organization org-fUMgGI6gSqUWLozt4nlYWmsL on tokens per min. Limit: 90000 / min. Current: 89052 / min. Contact us through our help center at help.openai.com if you continue to have issues..\n"
          ]
        },
        {
          "output_type": "stream",
          "name": "stdout",
          "text": [
            "None of the given categories fit this article perfectly, but the closest would be \"News\" or \"Current Events\".\n",
            "Business\n"
          ]
        },
        {
          "output_type": "stream",
          "name": "stderr",
          "text": [
            "WARNING:langchain.chat_models.openai:Retrying langchain.chat_models.openai.acompletion_with_retry.<locals>._completion_with_retry in 1.0 seconds as it raised RateLimitError: Rate limit reached for default-gpt-3.5-turbo in organization org-fUMgGI6gSqUWLozt4nlYWmsL on tokens per min. Limit: 90000 / min. Current: 89085 / min. Contact us through our help center at help.openai.com if you continue to have issues..\n"
          ]
        },
        {
          "output_type": "stream",
          "name": "stdout",
          "text": [
            "Sports\n"
          ]
        },
        {
          "output_type": "stream",
          "name": "stderr",
          "text": [
            "WARNING:langchain.chat_models.openai:Retrying langchain.chat_models.openai.acompletion_with_retry.<locals>._completion_with_retry in 1.0 seconds as it raised RateLimitError: Rate limit reached for default-gpt-3.5-turbo in organization org-fUMgGI6gSqUWLozt4nlYWmsL on tokens per min. Limit: 90000 / min. Current: 89079 / min. Contact us through our help center at help.openai.com if you continue to have issues..\n"
          ]
        },
        {
          "output_type": "stream",
          "name": "stdout",
          "text": [
            "Sci/Tech\n"
          ]
        },
        {
          "output_type": "stream",
          "name": "stderr",
          "text": [
            "WARNING:langchain.chat_models.openai:Retrying langchain.chat_models.openai.acompletion_with_retry.<locals>._completion_with_retry in 2.0 seconds as it raised RateLimitError: Rate limit reached for default-gpt-3.5-turbo in organization org-fUMgGI6gSqUWLozt4nlYWmsL on tokens per min. Limit: 90000 / min. Current: 89472 / min. Contact us through our help center at help.openai.com if you continue to have issues..\n"
          ]
        },
        {
          "output_type": "stream",
          "name": "stdout",
          "text": [
            "Sports\n"
          ]
        },
        {
          "output_type": "stream",
          "name": "stderr",
          "text": [
            "WARNING:langchain.chat_models.openai:Retrying langchain.chat_models.openai.acompletion_with_retry.<locals>._completion_with_retry in 1.0 seconds as it raised RateLimitError: Rate limit reached for default-gpt-3.5-turbo in organization org-fUMgGI6gSqUWLozt4nlYWmsL on tokens per min. Limit: 90000 / min. Current: 89327 / min. Contact us through our help center at help.openai.com if you continue to have issues..\n"
          ]
        },
        {
          "output_type": "stream",
          "name": "stdout",
          "text": [
            "Business\n",
            "Health\n"
          ]
        },
        {
          "output_type": "stream",
          "name": "stderr",
          "text": [
            "WARNING:langchain.chat_models.openai:Retrying langchain.chat_models.openai.acompletion_with_retry.<locals>._completion_with_retry in 1.0 seconds as it raised RateLimitError: Rate limit reached for default-gpt-3.5-turbo in organization org-fUMgGI6gSqUWLozt4nlYWmsL on tokens per min. Limit: 90000 / min. Current: 89435 / min. Contact us through our help center at help.openai.com if you continue to have issues..\n"
          ]
        },
        {
          "output_type": "stream",
          "name": "stdout",
          "text": [
            "Sci/Tech\n",
            "Business\n",
            "I'm sorry, but there is no article provided for me to classify. Please provide the article for me to categorize.\n"
          ]
        },
        {
          "output_type": "stream",
          "name": "stderr",
          "text": [
            "WARNING:langchain.chat_models.openai:Retrying langchain.chat_models.openai.acompletion_with_retry.<locals>._completion_with_retry in 1.0 seconds as it raised RateLimitError: Rate limit reached for default-gpt-3.5-turbo in organization org-fUMgGI6gSqUWLozt4nlYWmsL on tokens per min. Limit: 90000 / min. Current: 89082 / min. Contact us through our help center at help.openai.com if you continue to have issues..\n"
          ]
        },
        {
          "output_type": "stream",
          "name": "stdout",
          "text": [
            "Sci/Tech\n"
          ]
        },
        {
          "output_type": "stream",
          "name": "stderr",
          "text": [
            "WARNING:langchain.chat_models.openai:Retrying langchain.chat_models.openai.acompletion_with_retry.<locals>._completion_with_retry in 1.0 seconds as it raised RateLimitError: Rate limit reached for default-gpt-3.5-turbo in organization org-fUMgGI6gSqUWLozt4nlYWmsL on tokens per min. Limit: 90000 / min. Current: 89251 / min. Contact us through our help center at help.openai.com if you continue to have issues..\n"
          ]
        },
        {
          "output_type": "stream",
          "name": "stdout",
          "text": [
            "Entertainment\n"
          ]
        },
        {
          "output_type": "stream",
          "name": "stderr",
          "text": [
            "WARNING:langchain.chat_models.openai:Retrying langchain.chat_models.openai.acompletion_with_retry.<locals>._completion_with_retry in 2.0 seconds as it raised RateLimitError: Rate limit reached for default-gpt-3.5-turbo in organization org-fUMgGI6gSqUWLozt4nlYWmsL on tokens per min. Limit: 90000 / min. Current: 89585 / min. Contact us through our help center at help.openai.com if you continue to have issues..\n"
          ]
        },
        {
          "output_type": "stream",
          "name": "stdout",
          "text": [
            "Music Feeds\n"
          ]
        },
        {
          "output_type": "stream",
          "name": "stderr",
          "text": [
            "WARNING:langchain.chat_models.openai:Retrying langchain.chat_models.openai.acompletion_with_retry.<locals>._completion_with_retry in 1.0 seconds as it raised RateLimitError: Rate limit reached for default-gpt-3.5-turbo in organization org-fUMgGI6gSqUWLozt4nlYWmsL on tokens per min. Limit: 90000 / min. Current: 88897 / min. Contact us through our help center at help.openai.com if you continue to have issues..\n"
          ]
        },
        {
          "output_type": "stream",
          "name": "stdout",
          "text": [
            "Sports\n",
            "Sports\n",
            "Business\n"
          ]
        },
        {
          "output_type": "stream",
          "name": "stderr",
          "text": [
            "WARNING:langchain.chat_models.openai:Retrying langchain.chat_models.openai.acompletion_with_retry.<locals>._completion_with_retry in 1.0 seconds as it raised RateLimitError: Rate limit reached for default-gpt-3.5-turbo in organization org-fUMgGI6gSqUWLozt4nlYWmsL on tokens per min. Limit: 90000 / min. Current: 88977 / min. Contact us through our help center at help.openai.com if you continue to have issues..\n",
            "WARNING:langchain.chat_models.openai:Retrying langchain.chat_models.openai.acompletion_with_retry.<locals>._completion_with_retry in 1.0 seconds as it raised RateLimitError: Rate limit reached for default-gpt-3.5-turbo in organization org-fUMgGI6gSqUWLozt4nlYWmsL on tokens per min. Limit: 90000 / min. Current: 88899 / min. Contact us through our help center at help.openai.com if you continue to have issues..\n"
          ]
        },
        {
          "output_type": "stream",
          "name": "stdout",
          "text": [
            "Business\n",
            "Politics\n"
          ]
        },
        {
          "output_type": "stream",
          "name": "stderr",
          "text": [
            "WARNING:langchain.chat_models.openai:Retrying langchain.chat_models.openai.acompletion_with_retry.<locals>._completion_with_retry in 1.0 seconds as it raised RateLimitError: Rate limit reached for default-gpt-3.5-turbo in organization org-fUMgGI6gSqUWLozt4nlYWmsL on tokens per min. Limit: 90000 / min. Current: 89756 / min. Contact us through our help center at help.openai.com if you continue to have issues..\n"
          ]
        },
        {
          "output_type": "stream",
          "name": "stdout",
          "text": [
            "Business\n"
          ]
        },
        {
          "output_type": "stream",
          "name": "stderr",
          "text": [
            "WARNING:langchain.chat_models.openai:Retrying langchain.chat_models.openai.acompletion_with_retry.<locals>._completion_with_retry in 1.0 seconds as it raised RateLimitError: Rate limit reached for default-gpt-3.5-turbo in organization org-fUMgGI6gSqUWLozt4nlYWmsL on tokens per min. Limit: 90000 / min. Current: 88998 / min. Contact us through our help center at help.openai.com if you continue to have issues..\n"
          ]
        },
        {
          "output_type": "stream",
          "name": "stdout",
          "text": [
            "Sports\n"
          ]
        },
        {
          "output_type": "stream",
          "name": "stderr",
          "text": [
            "WARNING:langchain.chat_models.openai:Retrying langchain.chat_models.openai.acompletion_with_retry.<locals>._completion_with_retry in 2.0 seconds as it raised RateLimitError: Rate limit reached for default-gpt-3.5-turbo in organization org-fUMgGI6gSqUWLozt4nlYWmsL on tokens per min. Limit: 90000 / min. Current: 89386 / min. Contact us through our help center at help.openai.com if you continue to have issues..\n"
          ]
        },
        {
          "output_type": "stream",
          "name": "stdout",
          "text": [
            "Health\n",
            "Sports\n"
          ]
        },
        {
          "output_type": "stream",
          "name": "stderr",
          "text": [
            "WARNING:langchain.chat_models.openai:Retrying langchain.chat_models.openai.acompletion_with_retry.<locals>._completion_with_retry in 1.0 seconds as it raised RateLimitError: Rate limit reached for default-gpt-3.5-turbo in organization org-fUMgGI6gSqUWLozt4nlYWmsL on tokens per min. Limit: 90000 / min. Current: 89278 / min. Contact us through our help center at help.openai.com if you continue to have issues..\n"
          ]
        },
        {
          "output_type": "stream",
          "name": "stdout",
          "text": [
            "Business\n"
          ]
        },
        {
          "output_type": "stream",
          "name": "stderr",
          "text": [
            "WARNING:langchain.chat_models.openai:Retrying langchain.chat_models.openai.acompletion_with_retry.<locals>._completion_with_retry in 1.0 seconds as it raised RateLimitError: Rate limit reached for default-gpt-3.5-turbo in organization org-fUMgGI6gSqUWLozt4nlYWmsL on tokens per min. Limit: 90000 / min. Current: 89093 / min. Contact us through our help center at help.openai.com if you continue to have issues..\n"
          ]
        },
        {
          "output_type": "stream",
          "name": "stdout",
          "text": [
            "Health\n",
            "Entertainment\n"
          ]
        },
        {
          "output_type": "stream",
          "name": "stderr",
          "text": [
            "WARNING:langchain.chat_models.openai:Retrying langchain.chat_models.openai.acompletion_with_retry.<locals>._completion_with_retry in 1.0 seconds as it raised RateLimitError: Rate limit reached for default-gpt-3.5-turbo in organization org-fUMgGI6gSqUWLozt4nlYWmsL on tokens per min. Limit: 90000 / min. Current: 89184 / min. Contact us through our help center at help.openai.com if you continue to have issues..\n"
          ]
        },
        {
          "output_type": "stream",
          "name": "stdout",
          "text": [
            "Health\n"
          ]
        },
        {
          "output_type": "stream",
          "name": "stderr",
          "text": [
            "WARNING:langchain.chat_models.openai:Retrying langchain.chat_models.openai.acompletion_with_retry.<locals>._completion_with_retry in 1.0 seconds as it raised RateLimitError: Rate limit reached for default-gpt-3.5-turbo in organization org-fUMgGI6gSqUWLozt4nlYWmsL on tokens per min. Limit: 90000 / min. Current: 88907 / min. Contact us through our help center at help.openai.com if you continue to have issues..\n"
          ]
        },
        {
          "output_type": "stream",
          "name": "stdout",
          "text": [
            "Sci/Tech\n"
          ]
        },
        {
          "output_type": "stream",
          "name": "stderr",
          "text": [
            "WARNING:langchain.chat_models.openai:Retrying langchain.chat_models.openai.acompletion_with_retry.<locals>._completion_with_retry in 2.0 seconds as it raised RateLimitError: Rate limit reached for default-gpt-3.5-turbo in organization org-fUMgGI6gSqUWLozt4nlYWmsL on tokens per min. Limit: 90000 / min. Current: 89328 / min. Contact us through our help center at help.openai.com if you continue to have issues..\n"
          ]
        },
        {
          "output_type": "stream",
          "name": "stdout",
          "text": [
            "Entertainment\n"
          ]
        },
        {
          "output_type": "stream",
          "name": "stderr",
          "text": [
            "WARNING:langchain.chat_models.openai:Retrying langchain.chat_models.openai.acompletion_with_retry.<locals>._completion_with_retry in 1.0 seconds as it raised RateLimitError: Rate limit reached for default-gpt-3.5-turbo in organization org-fUMgGI6gSqUWLozt4nlYWmsL on tokens per min. Limit: 90000 / min. Current: 89248 / min. Contact us through our help center at help.openai.com if you continue to have issues..\n"
          ]
        },
        {
          "output_type": "stream",
          "name": "stdout",
          "text": [
            "Sports\n",
            "Sci/Tech\n"
          ]
        },
        {
          "output_type": "stream",
          "name": "stderr",
          "text": [
            "WARNING:langchain.chat_models.openai:Retrying langchain.chat_models.openai.acompletion_with_retry.<locals>._completion_with_retry in 1.0 seconds as it raised RateLimitError: Rate limit reached for default-gpt-3.5-turbo in organization org-fUMgGI6gSqUWLozt4nlYWmsL on tokens per min. Limit: 90000 / min. Current: 89147 / min. Contact us through our help center at help.openai.com if you continue to have issues..\n"
          ]
        },
        {
          "output_type": "stream",
          "name": "stdout",
          "text": [
            "Business\n",
            "Sports\n"
          ]
        },
        {
          "output_type": "stream",
          "name": "stderr",
          "text": [
            "WARNING:langchain.chat_models.openai:Retrying langchain.chat_models.openai.acompletion_with_retry.<locals>._completion_with_retry in 1.0 seconds as it raised RateLimitError: Rate limit reached for default-gpt-3.5-turbo in organization org-fUMgGI6gSqUWLozt4nlYWmsL on tokens per min. Limit: 90000 / min. Current: 89006 / min. Contact us through our help center at help.openai.com if you continue to have issues..\n"
          ]
        },
        {
          "output_type": "stream",
          "name": "stdout",
          "text": [
            "Sports\n"
          ]
        },
        {
          "output_type": "stream",
          "name": "stderr",
          "text": [
            "WARNING:langchain.chat_models.openai:Retrying langchain.chat_models.openai.acompletion_with_retry.<locals>._completion_with_retry in 2.0 seconds as it raised RateLimitError: Rate limit reached for default-gpt-3.5-turbo in organization org-fUMgGI6gSqUWLozt4nlYWmsL on tokens per min. Limit: 90000 / min. Current: 89372 / min. Contact us through our help center at help.openai.com if you continue to have issues..\n"
          ]
        },
        {
          "output_type": "stream",
          "name": "stdout",
          "text": [
            "Sports\n"
          ]
        },
        {
          "output_type": "stream",
          "name": "stderr",
          "text": [
            "WARNING:langchain.chat_models.openai:Retrying langchain.chat_models.openai.acompletion_with_retry.<locals>._completion_with_retry in 1.0 seconds as it raised RateLimitError: Rate limit reached for default-gpt-3.5-turbo in organization org-fUMgGI6gSqUWLozt4nlYWmsL on tokens per min. Limit: 90000 / min. Current: 89041 / min. Contact us through our help center at help.openai.com if you continue to have issues..\n"
          ]
        },
        {
          "output_type": "stream",
          "name": "stdout",
          "text": [
            "Sports\n",
            "Sports\n",
            "Business\n"
          ]
        },
        {
          "output_type": "stream",
          "name": "stderr",
          "text": [
            "WARNING:langchain.chat_models.openai:Retrying langchain.chat_models.openai.acompletion_with_retry.<locals>._completion_with_retry in 1.0 seconds as it raised RateLimitError: Rate limit reached for default-gpt-3.5-turbo in organization org-fUMgGI6gSqUWLozt4nlYWmsL on tokens per min. Limit: 90000 / min. Current: 88933 / min. Contact us through our help center at help.openai.com if you continue to have issues..\n"
          ]
        },
        {
          "output_type": "stream",
          "name": "stdout",
          "text": [
            "Software and Development\n"
          ]
        },
        {
          "output_type": "stream",
          "name": "stderr",
          "text": [
            "WARNING:langchain.chat_models.openai:Retrying langchain.chat_models.openai.acompletion_with_retry.<locals>._completion_with_retry in 1.0 seconds as it raised RateLimitError: Rate limit reached for default-gpt-3.5-turbo in organization org-fUMgGI6gSqUWLozt4nlYWmsL on tokens per min. Limit: 90000 / min. Current: 89020 / min. Contact us through our help center at help.openai.com if you continue to have issues..\n"
          ]
        },
        {
          "output_type": "stream",
          "name": "stdout",
          "text": [
            "Business\n"
          ]
        },
        {
          "output_type": "stream",
          "name": "stderr",
          "text": [
            "WARNING:langchain.chat_models.openai:Retrying langchain.chat_models.openai.acompletion_with_retry.<locals>._completion_with_retry in 2.0 seconds as it raised RateLimitError: Rate limit reached for default-gpt-3.5-turbo in organization org-fUMgGI6gSqUWLozt4nlYWmsL on tokens per min. Limit: 90000 / min. Current: 89397 / min. Contact us through our help center at help.openai.com if you continue to have issues..\n"
          ]
        },
        {
          "output_type": "stream",
          "name": "stdout",
          "text": [
            "Health\n"
          ]
        },
        {
          "output_type": "stream",
          "name": "stderr",
          "text": [
            "WARNING:langchain.chat_models.openai:Retrying langchain.chat_models.openai.acompletion_with_retry.<locals>._completion_with_retry in 1.0 seconds as it raised RateLimitError: Rate limit reached for default-gpt-3.5-turbo in organization org-fUMgGI6gSqUWLozt4nlYWmsL on tokens per min. Limit: 90000 / min. Current: 89086 / min. Contact us through our help center at help.openai.com if you continue to have issues..\n"
          ]
        },
        {
          "output_type": "stream",
          "name": "stdout",
          "text": [
            "Sci/Tech\n",
            "Software and Development\n",
            "Sports\n"
          ]
        },
        {
          "output_type": "stream",
          "name": "stderr",
          "text": [
            "WARNING:langchain.chat_models.openai:Retrying langchain.chat_models.openai.acompletion_with_retry.<locals>._completion_with_retry in 1.0 seconds as it raised RateLimitError: Rate limit reached for default-gpt-3.5-turbo in organization org-fUMgGI6gSqUWLozt4nlYWmsL on tokens per min. Limit: 90000 / min. Current: 89173 / min. Contact us through our help center at help.openai.com if you continue to have issues..\n"
          ]
        },
        {
          "output_type": "stream",
          "name": "stdout",
          "text": [
            "I'm sorry, but there is no article provided for me to classify. Please provide the article for me to categorize.\n",
            "Sports\n"
          ]
        },
        {
          "output_type": "stream",
          "name": "stderr",
          "text": [
            "WARNING:langchain.chat_models.openai:Retrying langchain.chat_models.openai.acompletion_with_retry.<locals>._completion_with_retry in 1.0 seconds as it raised RateLimitError: Rate limit reached for default-gpt-3.5-turbo in organization org-fUMgGI6gSqUWLozt4nlYWmsL on tokens per min. Limit: 90000 / min. Current: 89127 / min. Contact us through our help center at help.openai.com if you continue to have issues..\n"
          ]
        },
        {
          "output_type": "stream",
          "name": "stdout",
          "text": [
            "Military/Politics\n"
          ]
        },
        {
          "output_type": "stream",
          "name": "stderr",
          "text": [
            "WARNING:langchain.chat_models.openai:Retrying langchain.chat_models.openai.acompletion_with_retry.<locals>._completion_with_retry in 2.0 seconds as it raised RateLimitError: Rate limit reached for default-gpt-3.5-turbo in organization org-fUMgGI6gSqUWLozt4nlYWmsL on tokens per min. Limit: 90000 / min. Current: 89527 / min. Contact us through our help center at help.openai.com if you continue to have issues..\n"
          ]
        },
        {
          "output_type": "stream",
          "name": "stdout",
          "text": [
            "Sports\n"
          ]
        },
        {
          "output_type": "stream",
          "name": "stderr",
          "text": [
            "WARNING:langchain.chat_models.openai:Retrying langchain.chat_models.openai.acompletion_with_retry.<locals>._completion_with_retry in 1.0 seconds as it raised RateLimitError: Rate limit reached for default-gpt-3.5-turbo in organization org-fUMgGI6gSqUWLozt4nlYWmsL on tokens per min. Limit: 90000 / min. Current: 89310 / min. Contact us through our help center at help.openai.com if you continue to have issues..\n"
          ]
        },
        {
          "output_type": "stream",
          "name": "stdout",
          "text": [
            "Software and Development\n",
            "Business\n"
          ]
        },
        {
          "output_type": "stream",
          "name": "stderr",
          "text": [
            "WARNING:langchain.chat_models.openai:Retrying langchain.chat_models.openai.acompletion_with_retry.<locals>._completion_with_retry in 1.0 seconds as it raised RateLimitError: Rate limit reached for default-gpt-3.5-turbo in organization org-fUMgGI6gSqUWLozt4nlYWmsL on tokens per min. Limit: 90000 / min. Current: 89246 / min. Contact us through our help center at help.openai.com if you continue to have issues..\n"
          ]
        },
        {
          "output_type": "stream",
          "name": "stdout",
          "text": [
            "Business\n"
          ]
        },
        {
          "output_type": "stream",
          "name": "stderr",
          "text": [
            "WARNING:langchain.chat_models.openai:Retrying langchain.chat_models.openai.acompletion_with_retry.<locals>._completion_with_retry in 1.0 seconds as it raised RateLimitError: Rate limit reached for default-gpt-3.5-turbo in organization org-fUMgGI6gSqUWLozt4nlYWmsL on tokens per min. Limit: 90000 / min. Current: 88922 / min. Contact us through our help center at help.openai.com if you continue to have issues..\n"
          ]
        },
        {
          "output_type": "stream",
          "name": "stdout",
          "text": [
            "Sports\n",
            "Health\n",
            "Sports\n"
          ]
        },
        {
          "output_type": "stream",
          "name": "stderr",
          "text": [
            "WARNING:langchain.chat_models.openai:Retrying langchain.chat_models.openai.acompletion_with_retry.<locals>._completion_with_retry in 1.0 seconds as it raised RateLimitError: Rate limit reached for default-gpt-3.5-turbo in organization org-fUMgGI6gSqUWLozt4nlYWmsL on tokens per min. Limit: 90000 / min. Current: 89494 / min. Contact us through our help center at help.openai.com if you continue to have issues..\n",
            "WARNING:langchain.chat_models.openai:Retrying langchain.chat_models.openai.acompletion_with_retry.<locals>._completion_with_retry in 1.0 seconds as it raised RateLimitError: Rate limit reached for default-gpt-3.5-turbo in organization org-fUMgGI6gSqUWLozt4nlYWmsL on tokens per min. Limit: 90000 / min. Current: 89261 / min. Contact us through our help center at help.openai.com if you continue to have issues..\n"
          ]
        },
        {
          "output_type": "stream",
          "name": "stdout",
          "text": [
            "Sci/Tech\n",
            "Business\n"
          ]
        },
        {
          "output_type": "stream",
          "name": "stderr",
          "text": [
            "WARNING:langchain.chat_models.openai:Retrying langchain.chat_models.openai.acompletion_with_retry.<locals>._completion_with_retry in 1.0 seconds as it raised RateLimitError: Rate limit reached for default-gpt-3.5-turbo in organization org-fUMgGI6gSqUWLozt4nlYWmsL on tokens per min. Limit: 90000 / min. Current: 89158 / min. Contact us through our help center at help.openai.com if you continue to have issues..\n",
            "WARNING:langchain.chat_models.openai:Retrying langchain.chat_models.openai.acompletion_with_retry.<locals>._completion_with_retry in 1.0 seconds as it raised RateLimitError: Rate limit reached for default-gpt-3.5-turbo in organization org-fUMgGI6gSqUWLozt4nlYWmsL on tokens per min. Limit: 90000 / min. Current: 88998 / min. Contact us through our help center at help.openai.com if you continue to have issues..\n"
          ]
        },
        {
          "output_type": "stream",
          "name": "stdout",
          "text": [
            "Sports\n",
            "Sci/Tech\n"
          ]
        },
        {
          "output_type": "stream",
          "name": "stderr",
          "text": [
            "WARNING:langchain.chat_models.openai:Retrying langchain.chat_models.openai.acompletion_with_retry.<locals>._completion_with_retry in 1.0 seconds as it raised RateLimitError: Rate limit reached for default-gpt-3.5-turbo in organization org-fUMgGI6gSqUWLozt4nlYWmsL on tokens per min. Limit: 90000 / min. Current: 89804 / min. Contact us through our help center at help.openai.com if you continue to have issues..\n"
          ]
        },
        {
          "output_type": "stream",
          "name": "stdout",
          "text": [
            "Weather/Natural Disasters\n",
            "Entertainment\n"
          ]
        },
        {
          "output_type": "stream",
          "name": "stderr",
          "text": [
            "WARNING:langchain.chat_models.openai:Retrying langchain.chat_models.openai.acompletion_with_retry.<locals>._completion_with_retry in 1.0 seconds as it raised RateLimitError: Rate limit reached for default-gpt-3.5-turbo in organization org-fUMgGI6gSqUWLozt4nlYWmsL on tokens per min. Limit: 90000 / min. Current: 89099 / min. Contact us through our help center at help.openai.com if you continue to have issues..\n"
          ]
        },
        {
          "output_type": "stream",
          "name": "stdout",
          "text": [
            "Music Feeds\n"
          ]
        },
        {
          "output_type": "stream",
          "name": "stderr",
          "text": [
            "WARNING:langchain.chat_models.openai:Retrying langchain.chat_models.openai.acompletion_with_retry.<locals>._completion_with_retry in 2.0 seconds as it raised RateLimitError: Rate limit reached for default-gpt-3.5-turbo in organization org-fUMgGI6gSqUWLozt4nlYWmsL on tokens per min. Limit: 90000 / min. Current: 89505 / min. Contact us through our help center at help.openai.com if you continue to have issues..\n"
          ]
        },
        {
          "output_type": "stream",
          "name": "stdout",
          "text": [
            "Business\n"
          ]
        },
        {
          "output_type": "stream",
          "name": "stderr",
          "text": [
            "WARNING:langchain.chat_models.openai:Retrying langchain.chat_models.openai.acompletion_with_retry.<locals>._completion_with_retry in 1.0 seconds as it raised RateLimitError: Rate limit reached for default-gpt-3.5-turbo in organization org-fUMgGI6gSqUWLozt4nlYWmsL on tokens per min. Limit: 90000 / min. Current: 89293 / min. Contact us through our help center at help.openai.com if you continue to have issues..\n"
          ]
        },
        {
          "output_type": "stream",
          "name": "stdout",
          "text": [
            "Business\n",
            "Politics\n"
          ]
        },
        {
          "output_type": "stream",
          "name": "stderr",
          "text": [
            "WARNING:langchain.chat_models.openai:Retrying langchain.chat_models.openai.acompletion_with_retry.<locals>._completion_with_retry in 4.0 seconds as it raised RateLimitError: Rate limit reached for default-gpt-3.5-turbo in organization org-fUMgGI6gSqUWLozt4nlYWmsL on tokens per min. Limit: 90000 / min. Current: 89570 / min. Contact us through our help center at help.openai.com if you continue to have issues..\n"
          ]
        },
        {
          "output_type": "stream",
          "name": "stdout",
          "text": [
            "Politics/Current Events\n",
            "Business\n"
          ]
        },
        {
          "output_type": "stream",
          "name": "stderr",
          "text": [
            "WARNING:langchain.chat_models.openai:Retrying langchain.chat_models.openai.acompletion_with_retry.<locals>._completion_with_retry in 1.0 seconds as it raised RateLimitError: Rate limit reached for default-gpt-3.5-turbo in organization org-fUMgGI6gSqUWLozt4nlYWmsL on tokens per min. Limit: 90000 / min. Current: 89258 / min. Contact us through our help center at help.openai.com if you continue to have issues..\n"
          ]
        },
        {
          "output_type": "stream",
          "name": "stdout",
          "text": [
            "Business\n",
            "Sports\n",
            "Sports\n",
            "Entertainment\n"
          ]
        },
        {
          "output_type": "stream",
          "name": "stderr",
          "text": [
            "WARNING:langchain.chat_models.openai:Retrying langchain.chat_models.openai.acompletion_with_retry.<locals>._completion_with_retry in 1.0 seconds as it raised RateLimitError: Rate limit reached for default-gpt-3.5-turbo in organization org-fUMgGI6gSqUWLozt4nlYWmsL on tokens per min. Limit: 90000 / min. Current: 89043 / min. Contact us through our help center at help.openai.com if you continue to have issues..\n",
            "WARNING:langchain.chat_models.openai:Retrying langchain.chat_models.openai.acompletion_with_retry.<locals>._completion_with_retry in 8.0 seconds as it raised RateLimitError: Rate limit reached for default-gpt-3.5-turbo in organization org-fUMgGI6gSqUWLozt4nlYWmsL on tokens per min. Limit: 90000 / min. Current: 88906 / min. Contact us through our help center at help.openai.com if you continue to have issues..\n"
          ]
        },
        {
          "output_type": "stream",
          "name": "stdout",
          "text": [
            "Sports\n",
            "Entertainment\n",
            "Sports\n",
            "Business\n",
            "Business\n"
          ]
        },
        {
          "output_type": "stream",
          "name": "stderr",
          "text": [
            "WARNING:langchain.chat_models.openai:Retrying langchain.chat_models.openai.acompletion_with_retry.<locals>._completion_with_retry in 1.0 seconds as it raised RateLimitError: Rate limit reached for default-gpt-3.5-turbo in organization org-fUMgGI6gSqUWLozt4nlYWmsL on tokens per min. Limit: 90000 / min. Current: 88934 / min. Contact us through our help center at help.openai.com if you continue to have issues..\n"
          ]
        },
        {
          "output_type": "stream",
          "name": "stdout",
          "text": [
            "Business\n",
            "Sports\n",
            "Travel/Transportation\n",
            "Sports\n",
            "News/Politics (not one of the given categories)\n",
            "Business\n"
          ]
        },
        {
          "output_type": "stream",
          "name": "stderr",
          "text": [
            "WARNING:langchain.chat_models.openai:Retrying langchain.chat_models.openai.acompletion_with_retry.<locals>._completion_with_retry in 1.0 seconds as it raised RateLimitError: Rate limit reached for default-gpt-3.5-turbo in organization org-fUMgGI6gSqUWLozt4nlYWmsL on tokens per min. Limit: 90000 / min. Current: 89934 / min. Contact us through our help center at help.openai.com if you continue to have issues..\n"
          ]
        },
        {
          "output_type": "stream",
          "name": "stdout",
          "text": [
            "Business\n"
          ]
        },
        {
          "output_type": "stream",
          "name": "stderr",
          "text": [
            "WARNING:langchain.chat_models.openai:Retrying langchain.chat_models.openai.acompletion_with_retry.<locals>._completion_with_retry in 1.0 seconds as it raised RateLimitError: Rate limit reached for default-gpt-3.5-turbo in organization org-fUMgGI6gSqUWLozt4nlYWmsL on tokens per min. Limit: 90000 / min. Current: 89366 / min. Contact us through our help center at help.openai.com if you continue to have issues..\n"
          ]
        },
        {
          "output_type": "stream",
          "name": "stdout",
          "text": [
            "Health\n"
          ]
        },
        {
          "output_type": "stream",
          "name": "stderr",
          "text": [
            "WARNING:langchain.chat_models.openai:Retrying langchain.chat_models.openai.acompletion_with_retry.<locals>._completion_with_retry in 2.0 seconds as it raised RateLimitError: Rate limit reached for default-gpt-3.5-turbo in organization org-fUMgGI6gSqUWLozt4nlYWmsL on tokens per min. Limit: 90000 / min. Current: 89587 / min. Contact us through our help center at help.openai.com if you continue to have issues..\n"
          ]
        },
        {
          "output_type": "stream",
          "name": "stdout",
          "text": [
            "Business\n"
          ]
        },
        {
          "output_type": "stream",
          "name": "stderr",
          "text": [
            "WARNING:langchain.chat_models.openai:Retrying langchain.chat_models.openai.acompletion_with_retry.<locals>._completion_with_retry in 1.0 seconds as it raised RateLimitError: Rate limit reached for default-gpt-3.5-turbo in organization org-fUMgGI6gSqUWLozt4nlYWmsL on tokens per min. Limit: 90000 / min. Current: 89112 / min. Contact us through our help center at help.openai.com if you continue to have issues..\n"
          ]
        },
        {
          "output_type": "stream",
          "name": "stdout",
          "text": [
            "Sports\n",
            "Business\n"
          ]
        },
        {
          "output_type": "stream",
          "name": "stderr",
          "text": [
            "WARNING:langchain.chat_models.openai:Retrying langchain.chat_models.openai.acompletion_with_retry.<locals>._completion_with_retry in 1.0 seconds as it raised RateLimitError: Rate limit reached for default-gpt-3.5-turbo in organization org-fUMgGI6gSqUWLozt4nlYWmsL on tokens per min. Limit: 90000 / min. Current: 89247 / min. Contact us through our help center at help.openai.com if you continue to have issues..\n"
          ]
        },
        {
          "output_type": "stream",
          "name": "stdout",
          "text": [
            "Sports\n",
            "Entertainment\n"
          ]
        },
        {
          "output_type": "stream",
          "name": "stderr",
          "text": [
            "WARNING:langchain.chat_models.openai:Retrying langchain.chat_models.openai.acompletion_with_retry.<locals>._completion_with_retry in 1.0 seconds as it raised RateLimitError: Rate limit reached for default-gpt-3.5-turbo in organization org-fUMgGI6gSqUWLozt4nlYWmsL on tokens per min. Limit: 90000 / min. Current: 88993 / min. Contact us through our help center at help.openai.com if you continue to have issues..\n"
          ]
        },
        {
          "output_type": "stream",
          "name": "stdout",
          "text": [
            "Business\n"
          ]
        },
        {
          "output_type": "stream",
          "name": "stderr",
          "text": [
            "WARNING:langchain.chat_models.openai:Retrying langchain.chat_models.openai.acompletion_with_retry.<locals>._completion_with_retry in 1.0 seconds as it raised RateLimitError: Rate limit reached for default-gpt-3.5-turbo in organization org-fUMgGI6gSqUWLozt4nlYWmsL on tokens per min. Limit: 90000 / min. Current: 88938 / min. Contact us through our help center at help.openai.com if you continue to have issues..\n"
          ]
        },
        {
          "output_type": "stream",
          "name": "stdout",
          "text": [
            "Sci/Tech\n"
          ]
        },
        {
          "output_type": "stream",
          "name": "stderr",
          "text": [
            "WARNING:langchain.chat_models.openai:Retrying langchain.chat_models.openai.acompletion_with_retry.<locals>._completion_with_retry in 2.0 seconds as it raised RateLimitError: Rate limit reached for default-gpt-3.5-turbo in organization org-fUMgGI6gSqUWLozt4nlYWmsL on tokens per min. Limit: 90000 / min. Current: 89315 / min. Contact us through our help center at help.openai.com if you continue to have issues..\n"
          ]
        },
        {
          "output_type": "stream",
          "name": "stdout",
          "text": [
            "I'm sorry, but there is no article provided for me to classify. Please provide the article for me to categorize.\n",
            "Sports\n",
            "Sports\n"
          ]
        },
        {
          "output_type": "stream",
          "name": "stderr",
          "text": [
            "WARNING:langchain.chat_models.openai:Retrying langchain.chat_models.openai.acompletion_with_retry.<locals>._completion_with_retry in 4.0 seconds as it raised RateLimitError: Rate limit reached for default-gpt-3.5-turbo in organization org-fUMgGI6gSqUWLozt4nlYWmsL on tokens per min. Limit: 90000 / min. Current: 89310 / min. Contact us through our help center at help.openai.com if you continue to have issues..\n"
          ]
        },
        {
          "output_type": "stream",
          "name": "stdout",
          "text": [
            "Sports\n"
          ]
        },
        {
          "output_type": "stream",
          "name": "stderr",
          "text": [
            "WARNING:langchain.chat_models.openai:Retrying langchain.chat_models.openai.acompletion_with_retry.<locals>._completion_with_retry in 1.0 seconds as it raised RateLimitError: Rate limit reached for default-gpt-3.5-turbo in organization org-fUMgGI6gSqUWLozt4nlYWmsL on tokens per min. Limit: 90000 / min. Current: 89067 / min. Contact us through our help center at help.openai.com if you continue to have issues..\n"
          ]
        },
        {
          "output_type": "stream",
          "name": "stdout",
          "text": [
            "Software and Development\n",
            "Sci/Tech\n",
            "Business\n",
            "Sports\n",
            "Sci/Tech\n"
          ]
        },
        {
          "output_type": "stream",
          "name": "stderr",
          "text": [
            "WARNING:langchain.chat_models.openai:Retrying langchain.chat_models.openai.acompletion_with_retry.<locals>._completion_with_retry in 1.0 seconds as it raised RateLimitError: Rate limit reached for default-gpt-3.5-turbo in organization org-fUMgGI6gSqUWLozt4nlYWmsL on tokens per min. Limit: 90000 / min. Current: 89309 / min. Contact us through our help center at help.openai.com if you continue to have issues..\n"
          ]
        },
        {
          "output_type": "stream",
          "name": "stdout",
          "text": [
            "Business\n",
            "Health\n"
          ]
        },
        {
          "output_type": "stream",
          "name": "stderr",
          "text": [
            "WARNING:langchain.chat_models.openai:Retrying langchain.chat_models.openai.acompletion_with_retry.<locals>._completion_with_retry in 1.0 seconds as it raised RateLimitError: Rate limit reached for default-gpt-3.5-turbo in organization org-fUMgGI6gSqUWLozt4nlYWmsL on tokens per min. Limit: 90000 / min. Current: 89351 / min. Contact us through our help center at help.openai.com if you continue to have issues..\n"
          ]
        },
        {
          "output_type": "stream",
          "name": "stdout",
          "text": [
            "Entertainment\n"
          ]
        },
        {
          "output_type": "stream",
          "name": "stderr",
          "text": [
            "WARNING:langchain.chat_models.openai:Retrying langchain.chat_models.openai.acompletion_with_retry.<locals>._completion_with_retry in 1.0 seconds as it raised RateLimitError: Rate limit reached for default-gpt-3.5-turbo in organization org-fUMgGI6gSqUWLozt4nlYWmsL on tokens per min. Limit: 90000 / min. Current: 88989 / min. Contact us through our help center at help.openai.com if you continue to have issues..\n"
          ]
        },
        {
          "output_type": "stream",
          "name": "stdout",
          "text": [
            "Sci/Tech\n"
          ]
        },
        {
          "output_type": "stream",
          "name": "stderr",
          "text": [
            "WARNING:langchain.chat_models.openai:Retrying langchain.chat_models.openai.acompletion_with_retry.<locals>._completion_with_retry in 1.0 seconds as it raised RateLimitError: Rate limit reached for default-gpt-3.5-turbo in organization org-fUMgGI6gSqUWLozt4nlYWmsL on tokens per min. Limit: 90000 / min. Current: 88986 / min. Contact us through our help center at help.openai.com if you continue to have issues..\n"
          ]
        },
        {
          "output_type": "stream",
          "name": "stdout",
          "text": [
            "Business\n"
          ]
        },
        {
          "output_type": "stream",
          "name": "stderr",
          "text": [
            "WARNING:langchain.chat_models.openai:Retrying langchain.chat_models.openai.acompletion_with_retry.<locals>._completion_with_retry in 2.0 seconds as it raised RateLimitError: Rate limit reached for default-gpt-3.5-turbo in organization org-fUMgGI6gSqUWLozt4nlYWmsL on tokens per min. Limit: 90000 / min. Current: 89372 / min. Contact us through our help center at help.openai.com if you continue to have issues..\n"
          ]
        },
        {
          "output_type": "stream",
          "name": "stdout",
          "text": [
            "Business\n"
          ]
        },
        {
          "output_type": "stream",
          "name": "stderr",
          "text": [
            "WARNING:langchain.chat_models.openai:Retrying langchain.chat_models.openai.acompletion_with_retry.<locals>._completion_with_retry in 1.0 seconds as it raised RateLimitError: Rate limit reached for default-gpt-3.5-turbo in organization org-fUMgGI6gSqUWLozt4nlYWmsL on tokens per min. Limit: 90000 / min. Current: 89175 / min. Contact us through our help center at help.openai.com if you continue to have issues..\n"
          ]
        },
        {
          "output_type": "stream",
          "name": "stdout",
          "text": [
            "Sports\n",
            "Sports\n",
            "Sports\n"
          ]
        },
        {
          "output_type": "stream",
          "name": "stderr",
          "text": [
            "WARNING:langchain.chat_models.openai:Retrying langchain.chat_models.openai.acompletion_with_retry.<locals>._completion_with_retry in 1.0 seconds as it raised RateLimitError: Rate limit reached for default-gpt-3.5-turbo in organization org-fUMgGI6gSqUWLozt4nlYWmsL on tokens per min. Limit: 90000 / min. Current: 89280 / min. Contact us through our help center at help.openai.com if you continue to have issues..\n"
          ]
        },
        {
          "output_type": "stream",
          "name": "stdout",
          "text": [
            "Sports\n",
            "Politics/International Affairs\n",
            "Sports\n",
            "Sports\n"
          ]
        },
        {
          "output_type": "stream",
          "name": "stderr",
          "text": [
            "WARNING:langchain.chat_models.openai:Retrying langchain.chat_models.openai.acompletion_with_retry.<locals>._completion_with_retry in 1.0 seconds as it raised RateLimitError: Rate limit reached for default-gpt-3.5-turbo in organization org-fUMgGI6gSqUWLozt4nlYWmsL on tokens per min. Limit: 90000 / min. Current: 89263 / min. Contact us through our help center at help.openai.com if you continue to have issues..\n"
          ]
        },
        {
          "output_type": "stream",
          "name": "stdout",
          "text": [
            "Sci/Tech\n",
            "Sports\n",
            "Weather/Natural Disasters\n",
            "Music Feeds\n",
            "Entertainment\n",
            "Sports\n"
          ]
        },
        {
          "output_type": "stream",
          "name": "stderr",
          "text": [
            "WARNING:langchain.chat_models.openai:Retrying langchain.chat_models.openai.acompletion_with_retry.<locals>._completion_with_retry in 1.0 seconds as it raised RateLimitError: Rate limit reached for default-gpt-3.5-turbo in organization org-fUMgGI6gSqUWLozt4nlYWmsL on tokens per min. Limit: 90000 / min. Current: 89116 / min. Contact us through our help center at help.openai.com if you continue to have issues..\n"
          ]
        },
        {
          "output_type": "stream",
          "name": "stdout",
          "text": [
            "Entertainment\n",
            "Business\n",
            "Sci/Tech\n",
            "Business\n",
            "Health\n",
            "Toons\n"
          ]
        },
        {
          "output_type": "stream",
          "name": "stderr",
          "text": [
            "WARNING:langchain.chat_models.openai:Retrying langchain.chat_models.openai.acompletion_with_retry.<locals>._completion_with_retry in 1.0 seconds as it raised RateLimitError: Rate limit reached for default-gpt-3.5-turbo in organization org-fUMgGI6gSqUWLozt4nlYWmsL on tokens per min. Limit: 90000 / min. Current: 89222 / min. Contact us through our help center at help.openai.com if you continue to have issues..\n"
          ]
        },
        {
          "output_type": "stream",
          "name": "stdout",
          "text": [
            "Sports\n",
            "Politics/Foreign Policy\n",
            "Business\n",
            "Software and Development\n"
          ]
        },
        {
          "output_type": "stream",
          "name": "stderr",
          "text": [
            "WARNING:langchain.chat_models.openai:Retrying langchain.chat_models.openai.acompletion_with_retry.<locals>._completion_with_retry in 1.0 seconds as it raised RateLimitError: Rate limit reached for default-gpt-3.5-turbo in organization org-fUMgGI6gSqUWLozt4nlYWmsL on tokens per min. Limit: 90000 / min. Current: 88994 / min. Contact us through our help center at help.openai.com if you continue to have issues..\n"
          ]
        },
        {
          "output_type": "stream",
          "name": "stdout",
          "text": [
            "Health\n",
            "None of the given categories fit this article. It may be classified as \"Politics\" or \"Current Events\".\n",
            "Sports\n",
            "Sports\n",
            "Business\n",
            "Sports\n"
          ]
        },
        {
          "output_type": "stream",
          "name": "stderr",
          "text": [
            "WARNING:langchain.chat_models.openai:Retrying langchain.chat_models.openai.acompletion_with_retry.<locals>._completion_with_retry in 1.0 seconds as it raised RateLimitError: Rate limit reached for default-gpt-3.5-turbo in organization org-fUMgGI6gSqUWLozt4nlYWmsL on tokens per min. Limit: 90000 / min. Current: 88898 / min. Contact us through our help center at help.openai.com if you continue to have issues..\n"
          ]
        },
        {
          "output_type": "stream",
          "name": "stdout",
          "text": [
            "Health\n",
            "Sci/Tech\n",
            "This article does not fit into any of the given categories.\n",
            "Sci/Tech\n",
            "Business\n",
            "Health\n",
            "Business\n",
            "Health\n"
          ]
        },
        {
          "output_type": "stream",
          "name": "stderr",
          "text": [
            "WARNING:langchain.chat_models.openai:Retrying langchain.chat_models.openai.acompletion_with_retry.<locals>._completion_with_retry in 1.0 seconds as it raised RateLimitError: Rate limit reached for default-gpt-3.5-turbo in organization org-fUMgGI6gSqUWLozt4nlYWmsL on tokens per min. Limit: 90000 / min. Current: 89143 / min. Contact us through our help center at help.openai.com if you continue to have issues..\n"
          ]
        },
        {
          "output_type": "stream",
          "name": "stdout",
          "text": [
            "Business\n",
            "Health\n",
            "Sports\n",
            "Business\n"
          ]
        },
        {
          "output_type": "stream",
          "name": "stderr",
          "text": [
            "WARNING:langchain.chat_models.openai:Retrying langchain.chat_models.openai.acompletion_with_retry.<locals>._completion_with_retry in 1.0 seconds as it raised RateLimitError: Rate limit reached for default-gpt-3.5-turbo in organization org-fUMgGI6gSqUWLozt4nlYWmsL on tokens per min. Limit: 90000 / min. Current: 89090 / min. Contact us through our help center at help.openai.com if you continue to have issues..\n",
            "WARNING:langchain.chat_models.openai:Retrying langchain.chat_models.openai.acompletion_with_retry.<locals>._completion_with_retry in 1.0 seconds as it raised RateLimitError: That model is currently overloaded with other requests. You can retry your request, or contact us through our help center at help.openai.com if the error persists. (Please include the request ID cc1f4947d94a9f07ebac5ab97fc4b3c6 in your message.).\n"
          ]
        },
        {
          "output_type": "stream",
          "name": "stdout",
          "text": [
            "Sports\n",
            "Sports\n"
          ]
        },
        {
          "output_type": "stream",
          "name": "stderr",
          "text": [
            "WARNING:langchain.chat_models.openai:Retrying langchain.chat_models.openai.acompletion_with_retry.<locals>._completion_with_retry in 1.0 seconds as it raised RateLimitError: Rate limit reached for default-gpt-3.5-turbo in organization org-fUMgGI6gSqUWLozt4nlYWmsL on tokens per min. Limit: 90000 / min. Current: 89391 / min. Contact us through our help center at help.openai.com if you continue to have issues..\n"
          ]
        },
        {
          "output_type": "stream",
          "name": "stdout",
          "text": [
            "Sports\n",
            "Business\n"
          ]
        },
        {
          "output_type": "stream",
          "name": "stderr",
          "text": [
            "WARNING:langchain.chat_models.openai:Retrying langchain.chat_models.openai.acompletion_with_retry.<locals>._completion_with_retry in 1.0 seconds as it raised RateLimitError: Rate limit reached for default-gpt-3.5-turbo in organization org-fUMgGI6gSqUWLozt4nlYWmsL on tokens per min. Limit: 90000 / min. Current: 89343 / min. Contact us through our help center at help.openai.com if you continue to have issues..\n"
          ]
        },
        {
          "output_type": "stream",
          "name": "stdout",
          "text": [
            "Sci/Tech\n"
          ]
        },
        {
          "output_type": "stream",
          "name": "stderr",
          "text": [
            "WARNING:langchain.chat_models.openai:Retrying langchain.chat_models.openai.acompletion_with_retry.<locals>._completion_with_retry in 2.0 seconds as it raised RateLimitError: Rate limit reached for default-gpt-3.5-turbo in organization org-fUMgGI6gSqUWLozt4nlYWmsL on tokens per min. Limit: 90000 / min. Current: 89725 / min. Contact us through our help center at help.openai.com if you continue to have issues..\n"
          ]
        },
        {
          "output_type": "stream",
          "name": "stdout",
          "text": [
            "Business\n"
          ]
        },
        {
          "output_type": "stream",
          "name": "stderr",
          "text": [
            "WARNING:langchain.chat_models.openai:Retrying langchain.chat_models.openai.acompletion_with_retry.<locals>._completion_with_retry in 1.0 seconds as it raised RateLimitError: Rate limit reached for default-gpt-3.5-turbo in organization org-fUMgGI6gSqUWLozt4nlYWmsL on tokens per min. Limit: 90000 / min. Current: 89275 / min. Contact us through our help center at help.openai.com if you continue to have issues..\n"
          ]
        },
        {
          "output_type": "stream",
          "name": "stdout",
          "text": [
            "Politics/Current Affairs\n",
            "Business\n"
          ]
        },
        {
          "output_type": "stream",
          "name": "stderr",
          "text": [
            "WARNING:langchain.chat_models.openai:Retrying langchain.chat_models.openai.acompletion_with_retry.<locals>._completion_with_retry in 1.0 seconds as it raised RateLimitError: Rate limit reached for default-gpt-3.5-turbo in organization org-fUMgGI6gSqUWLozt4nlYWmsL on tokens per min. Limit: 90000 / min. Current: 89073 / min. Contact us through our help center at help.openai.com if you continue to have issues..\n"
          ]
        },
        {
          "output_type": "stream",
          "name": "stdout",
          "text": [
            "I'm sorry, but there is no article provided for me to classify. Please provide the article for me to categorize.\n",
            "Sports\n"
          ]
        },
        {
          "output_type": "stream",
          "name": "stderr",
          "text": [
            "WARNING:langchain.chat_models.openai:Retrying langchain.chat_models.openai.acompletion_with_retry.<locals>._completion_with_retry in 2.0 seconds as it raised RateLimitError: Rate limit reached for default-gpt-3.5-turbo in organization org-fUMgGI6gSqUWLozt4nlYWmsL on tokens per min. Limit: 90000 / min. Current: 89454 / min. Contact us through our help center at help.openai.com if you continue to have issues..\n"
          ]
        },
        {
          "output_type": "stream",
          "name": "stdout",
          "text": [
            "I'm sorry, but there is no article provided for me to classify. Please provide the article for me to categorize.\n",
            "Sports\n",
            "Health\n"
          ]
        },
        {
          "output_type": "stream",
          "name": "stderr",
          "text": [
            "WARNING:langchain.chat_models.openai:Retrying langchain.chat_models.openai.acompletion_with_retry.<locals>._completion_with_retry in 4.0 seconds as it raised RateLimitError: Rate limit reached for default-gpt-3.5-turbo in organization org-fUMgGI6gSqUWLozt4nlYWmsL on tokens per min. Limit: 90000 / min. Current: 89451 / min. Contact us through our help center at help.openai.com if you continue to have issues..\n"
          ]
        },
        {
          "output_type": "stream",
          "name": "stdout",
          "text": [
            "Business\n",
            "Sports\n",
            "Sports\n",
            "Sports\n"
          ]
        },
        {
          "output_type": "stream",
          "name": "stderr",
          "text": [
            "WARNING:langchain.chat_models.openai:Retrying langchain.chat_models.openai.acompletion_with_retry.<locals>._completion_with_retry in 1.0 seconds as it raised RateLimitError: Rate limit reached for default-gpt-3.5-turbo in organization org-fUMgGI6gSqUWLozt4nlYWmsL on tokens per min. Limit: 90000 / min. Current: 88965 / min. Contact us through our help center at help.openai.com if you continue to have issues..\n"
          ]
        },
        {
          "output_type": "stream",
          "name": "stdout",
          "text": [
            "Music Feeds\n",
            "Business\n",
            "Sports\n"
          ]
        },
        {
          "output_type": "stream",
          "name": "stderr",
          "text": [
            "WARNING:langchain.chat_models.openai:Retrying langchain.chat_models.openai.acompletion_with_retry.<locals>._completion_with_retry in 1.0 seconds as it raised RateLimitError: Rate limit reached for default-gpt-3.5-turbo in organization org-fUMgGI6gSqUWLozt4nlYWmsL on tokens per min. Limit: 90000 / min. Current: 89130 / min. Contact us through our help center at help.openai.com if you continue to have issues..\n"
          ]
        },
        {
          "output_type": "stream",
          "name": "stdout",
          "text": [
            "Weather/Natural Disasters\n"
          ]
        },
        {
          "output_type": "stream",
          "name": "stderr",
          "text": [
            "WARNING:langchain.chat_models.openai:Retrying langchain.chat_models.openai.acompletion_with_retry.<locals>._completion_with_retry in 1.0 seconds as it raised RateLimitError: Rate limit reached for default-gpt-3.5-turbo in organization org-fUMgGI6gSqUWLozt4nlYWmsL on tokens per min. Limit: 90000 / min. Current: 89076 / min. Contact us through our help center at help.openai.com if you continue to have issues..\n"
          ]
        },
        {
          "output_type": "stream",
          "name": "stdout",
          "text": [
            "Sports\n"
          ]
        },
        {
          "output_type": "stream",
          "name": "stderr",
          "text": [
            "WARNING:langchain.chat_models.openai:Retrying langchain.chat_models.openai.acompletion_with_retry.<locals>._completion_with_retry in 1.0 seconds as it raised RateLimitError: Rate limit reached for default-gpt-3.5-turbo in organization org-fUMgGI6gSqUWLozt4nlYWmsL on tokens per min. Limit: 90000 / min. Current: 88898 / min. Contact us through our help center at help.openai.com if you continue to have issues..\n"
          ]
        },
        {
          "output_type": "stream",
          "name": "stdout",
          "text": [
            "Sports\n"
          ]
        },
        {
          "output_type": "stream",
          "name": "stderr",
          "text": [
            "WARNING:langchain.chat_models.openai:Retrying langchain.chat_models.openai.acompletion_with_retry.<locals>._completion_with_retry in 2.0 seconds as it raised RateLimitError: Rate limit reached for default-gpt-3.5-turbo in organization org-fUMgGI6gSqUWLozt4nlYWmsL on tokens per min. Limit: 90000 / min. Current: 89322 / min. Contact us through our help center at help.openai.com if you continue to have issues..\n"
          ]
        },
        {
          "output_type": "stream",
          "name": "stdout",
          "text": [
            "Software and Development\n"
          ]
        },
        {
          "output_type": "stream",
          "name": "stderr",
          "text": [
            "WARNING:langchain.chat_models.openai:Retrying langchain.chat_models.openai.acompletion_with_retry.<locals>._completion_with_retry in 1.0 seconds as it raised RateLimitError: Rate limit reached for default-gpt-3.5-turbo in organization org-fUMgGI6gSqUWLozt4nlYWmsL on tokens per min. Limit: 90000 / min. Current: 89261 / min. Contact us through our help center at help.openai.com if you continue to have issues..\n"
          ]
        },
        {
          "output_type": "stream",
          "name": "stdout",
          "text": [
            "Sci/Tech\n",
            "Music Feeds\n"
          ]
        },
        {
          "output_type": "stream",
          "name": "stderr",
          "text": [
            "WARNING:langchain.chat_models.openai:Retrying langchain.chat_models.openai.acompletion_with_retry.<locals>._completion_with_retry in 4.0 seconds as it raised RateLimitError: Rate limit reached for default-gpt-3.5-turbo in organization org-fUMgGI6gSqUWLozt4nlYWmsL on tokens per min. Limit: 90000 / min. Current: 89288 / min. Contact us through our help center at help.openai.com if you continue to have issues..\n"
          ]
        },
        {
          "output_type": "stream",
          "name": "stdout",
          "text": [
            "Sports\n",
            "Business\n"
          ]
        },
        {
          "output_type": "stream",
          "name": "stderr",
          "text": [
            "WARNING:langchain.chat_models.openai:Retrying langchain.chat_models.openai.acompletion_with_retry.<locals>._completion_with_retry in 1.0 seconds as it raised RateLimitError: Rate limit reached for default-gpt-3.5-turbo in organization org-fUMgGI6gSqUWLozt4nlYWmsL on tokens per min. Limit: 90000 / min. Current: 89041 / min. Contact us through our help center at help.openai.com if you continue to have issues..\n"
          ]
        },
        {
          "output_type": "stream",
          "name": "stdout",
          "text": [
            "None of the given categories fit this article. It may be classified as \"Military/Politics\" or \"Current Events/News\".\n",
            "Health\n",
            "Entertainment\n",
            "Sports\n",
            "Politics/Human Rights\n",
            "Business\n"
          ]
        },
        {
          "output_type": "stream",
          "name": "stderr",
          "text": [
            "WARNING:langchain.chat_models.openai:Retrying langchain.chat_models.openai.acompletion_with_retry.<locals>._completion_with_retry in 1.0 seconds as it raised RateLimitError: Rate limit reached for default-gpt-3.5-turbo in organization org-fUMgGI6gSqUWLozt4nlYWmsL on tokens per min. Limit: 90000 / min. Current: 89358 / min. Contact us through our help center at help.openai.com if you continue to have issues..\n",
            "WARNING:langchain.chat_models.openai:Retrying langchain.chat_models.openai.acompletion_with_retry.<locals>._completion_with_retry in 1.0 seconds as it raised RateLimitError: Rate limit reached for default-gpt-3.5-turbo in organization org-fUMgGI6gSqUWLozt4nlYWmsL on tokens per min. Limit: 90000 / min. Current: 89072 / min. Contact us through our help center at help.openai.com if you continue to have issues..\n"
          ]
        },
        {
          "output_type": "stream",
          "name": "stdout",
          "text": [
            "Sports\n",
            "Politics\n"
          ]
        },
        {
          "output_type": "stream",
          "name": "stderr",
          "text": [
            "WARNING:langchain.chat_models.openai:Retrying langchain.chat_models.openai.acompletion_with_retry.<locals>._completion_with_retry in 1.0 seconds as it raised RateLimitError: Rate limit reached for default-gpt-3.5-turbo in organization org-fUMgGI6gSqUWLozt4nlYWmsL on tokens per min. Limit: 90000 / min. Current: 89093 / min. Contact us through our help center at help.openai.com if you continue to have issues..\n"
          ]
        },
        {
          "output_type": "stream",
          "name": "stdout",
          "text": [
            "Music Feeds\n"
          ]
        },
        {
          "output_type": "stream",
          "name": "stderr",
          "text": [
            "WARNING:langchain.chat_models.openai:Retrying langchain.chat_models.openai.acompletion_with_retry.<locals>._completion_with_retry in 1.0 seconds as it raised RateLimitError: Rate limit reached for default-gpt-3.5-turbo in organization org-fUMgGI6gSqUWLozt4nlYWmsL on tokens per min. Limit: 90000 / min. Current: 89161 / min. Contact us through our help center at help.openai.com if you continue to have issues..\n"
          ]
        },
        {
          "output_type": "stream",
          "name": "stdout",
          "text": [
            "Sports\n"
          ]
        },
        {
          "output_type": "stream",
          "name": "stderr",
          "text": [
            "WARNING:langchain.chat_models.openai:Retrying langchain.chat_models.openai.acompletion_with_retry.<locals>._completion_with_retry in 2.0 seconds as it raised RateLimitError: Rate limit reached for default-gpt-3.5-turbo in organization org-fUMgGI6gSqUWLozt4nlYWmsL on tokens per min. Limit: 90000 / min. Current: 89551 / min. Contact us through our help center at help.openai.com if you continue to have issues..\n"
          ]
        },
        {
          "output_type": "stream",
          "name": "stdout",
          "text": [
            "Sci/Tech\n"
          ]
        },
        {
          "output_type": "stream",
          "name": "stderr",
          "text": [
            "WARNING:langchain.chat_models.openai:Retrying langchain.chat_models.openai.acompletion_with_retry.<locals>._completion_with_retry in 1.0 seconds as it raised RateLimitError: Rate limit reached for default-gpt-3.5-turbo in organization org-fUMgGI6gSqUWLozt4nlYWmsL on tokens per min. Limit: 90000 / min. Current: 89104 / min. Contact us through our help center at help.openai.com if you continue to have issues..\n"
          ]
        },
        {
          "output_type": "stream",
          "name": "stdout",
          "text": [
            "Sports\n",
            "Entertainment\n"
          ]
        },
        {
          "output_type": "stream",
          "name": "stderr",
          "text": [
            "WARNING:langchain.chat_models.openai:Retrying langchain.chat_models.openai.acompletion_with_retry.<locals>._completion_with_retry in 1.0 seconds as it raised RateLimitError: Rate limit reached for default-gpt-3.5-turbo in organization org-fUMgGI6gSqUWLozt4nlYWmsL on tokens per min. Limit: 90000 / min. Current: 89332 / min. Contact us through our help center at help.openai.com if you continue to have issues..\n"
          ]
        },
        {
          "output_type": "stream",
          "name": "stdout",
          "text": [
            "Business\n",
            "Entertainment\n"
          ]
        },
        {
          "output_type": "stream",
          "name": "stderr",
          "text": [
            "WARNING:langchain.chat_models.openai:Retrying langchain.chat_models.openai.acompletion_with_retry.<locals>._completion_with_retry in 1.0 seconds as it raised RateLimitError: Rate limit reached for default-gpt-3.5-turbo in organization org-fUMgGI6gSqUWLozt4nlYWmsL on tokens per min. Limit: 90000 / min. Current: 89280 / min. Contact us through our help center at help.openai.com if you continue to have issues..\n"
          ]
        },
        {
          "output_type": "stream",
          "name": "stdout",
          "text": [
            "Software and Development\n"
          ]
        },
        {
          "output_type": "stream",
          "name": "stderr",
          "text": [
            "WARNING:langchain.chat_models.openai:Retrying langchain.chat_models.openai.acompletion_with_retry.<locals>._completion_with_retry in 1.0 seconds as it raised RateLimitError: Rate limit reached for default-gpt-3.5-turbo in organization org-fUMgGI6gSqUWLozt4nlYWmsL on tokens per min. Limit: 90000 / min. Current: 88977 / min. Contact us through our help center at help.openai.com if you continue to have issues..\n"
          ]
        },
        {
          "output_type": "stream",
          "name": "stdout",
          "text": [
            "Health\n"
          ]
        },
        {
          "output_type": "stream",
          "name": "stderr",
          "text": [
            "WARNING:langchain.chat_models.openai:Retrying langchain.chat_models.openai.acompletion_with_retry.<locals>._completion_with_retry in 1.0 seconds as it raised RateLimitError: Rate limit reached for default-gpt-3.5-turbo in organization org-fUMgGI6gSqUWLozt4nlYWmsL on tokens per min. Limit: 90000 / min. Current: 89089 / min. Contact us through our help center at help.openai.com if you continue to have issues..\n"
          ]
        },
        {
          "output_type": "stream",
          "name": "stdout",
          "text": [
            "Politics\n"
          ]
        },
        {
          "output_type": "stream",
          "name": "stderr",
          "text": [
            "WARNING:langchain.chat_models.openai:Retrying langchain.chat_models.openai.acompletion_with_retry.<locals>._completion_with_retry in 2.0 seconds as it raised RateLimitError: Rate limit reached for default-gpt-3.5-turbo in organization org-fUMgGI6gSqUWLozt4nlYWmsL on tokens per min. Limit: 90000 / min. Current: 89455 / min. Contact us through our help center at help.openai.com if you continue to have issues..\n"
          ]
        },
        {
          "output_type": "stream",
          "name": "stdout",
          "text": [
            "I'm sorry, but there is no article provided for me to classify. Please provide the article for me to categorize.\n",
            "Sports\n",
            "Sci/Tech\n"
          ]
        },
        {
          "output_type": "stream",
          "name": "stderr",
          "text": [
            "WARNING:langchain.chat_models.openai:Retrying langchain.chat_models.openai.acompletion_with_retry.<locals>._completion_with_retry in 1.0 seconds as it raised RateLimitError: Rate limit reached for default-gpt-3.5-turbo in organization org-fUMgGI6gSqUWLozt4nlYWmsL on tokens per min. Limit: 90000 / min. Current: 89426 / min. Contact us through our help center at help.openai.com if you continue to have issues..\n"
          ]
        },
        {
          "output_type": "stream",
          "name": "stdout",
          "text": [
            "Health\n"
          ]
        },
        {
          "output_type": "stream",
          "name": "stderr",
          "text": [
            "WARNING:langchain.chat_models.openai:Retrying langchain.chat_models.openai.acompletion_with_retry.<locals>._completion_with_retry in 1.0 seconds as it raised RateLimitError: Rate limit reached for default-gpt-3.5-turbo in organization org-fUMgGI6gSqUWLozt4nlYWmsL on tokens per min. Limit: 90000 / min. Current: 88900 / min. Contact us through our help center at help.openai.com if you continue to have issues..\n"
          ]
        },
        {
          "output_type": "stream",
          "name": "stdout",
          "text": [
            "Entertainment\n"
          ]
        },
        {
          "output_type": "stream",
          "name": "stderr",
          "text": [
            "WARNING:langchain.chat_models.openai:Retrying langchain.chat_models.openai.acompletion_with_retry.<locals>._completion_with_retry in 1.0 seconds as it raised RateLimitError: Rate limit reached for default-gpt-3.5-turbo in organization org-fUMgGI6gSqUWLozt4nlYWmsL on tokens per min. Limit: 90000 / min. Current: 89263 / min. Contact us through our help center at help.openai.com if you continue to have issues..\n"
          ]
        },
        {
          "output_type": "stream",
          "name": "stdout",
          "text": [
            "Sports\n",
            "Health (as it involves a tragic incident resulting in loss of life and injury)\n"
          ]
        },
        {
          "output_type": "stream",
          "name": "stderr",
          "text": [
            "WARNING:langchain.chat_models.openai:Retrying langchain.chat_models.openai.acompletion_with_retry.<locals>._completion_with_retry in 1.0 seconds as it raised RateLimitError: Rate limit reached for default-gpt-3.5-turbo in organization org-fUMgGI6gSqUWLozt4nlYWmsL on tokens per min. Limit: 90000 / min. Current: 88977 / min. Contact us through our help center at help.openai.com if you continue to have issues..\n"
          ]
        },
        {
          "output_type": "stream",
          "name": "stdout",
          "text": [
            "Sci/Tech\n",
            "Business\n"
          ]
        },
        {
          "output_type": "stream",
          "name": "stderr",
          "text": [
            "WARNING:langchain.chat_models.openai:Retrying langchain.chat_models.openai.acompletion_with_retry.<locals>._completion_with_retry in 1.0 seconds as it raised RateLimitError: Rate limit reached for default-gpt-3.5-turbo in organization org-fUMgGI6gSqUWLozt4nlYWmsL on tokens per min. Limit: 90000 / min. Current: 89336 / min. Contact us through our help center at help.openai.com if you continue to have issues..\n"
          ]
        },
        {
          "output_type": "stream",
          "name": "stdout",
          "text": [
            "Business\n"
          ]
        },
        {
          "output_type": "stream",
          "name": "stderr",
          "text": [
            "WARNING:langchain.chat_models.openai:Retrying langchain.chat_models.openai.acompletion_with_retry.<locals>._completion_with_retry in 2.0 seconds as it raised RateLimitError: Rate limit reached for default-gpt-3.5-turbo in organization org-fUMgGI6gSqUWLozt4nlYWmsL on tokens per min. Limit: 90000 / min. Current: 89755 / min. Contact us through our help center at help.openai.com if you continue to have issues..\n"
          ]
        },
        {
          "output_type": "stream",
          "name": "stdout",
          "text": [
            "Sci/Tech\n"
          ]
        },
        {
          "output_type": "stream",
          "name": "stderr",
          "text": [
            "WARNING:langchain.chat_models.openai:Retrying langchain.chat_models.openai.acompletion_with_retry.<locals>._completion_with_retry in 1.0 seconds as it raised RateLimitError: Rate limit reached for default-gpt-3.5-turbo in organization org-fUMgGI6gSqUWLozt4nlYWmsL on tokens per min. Limit: 90000 / min. Current: 89020 / min. Contact us through our help center at help.openai.com if you continue to have issues..\n"
          ]
        },
        {
          "output_type": "stream",
          "name": "stdout",
          "text": [
            "Sports\n",
            "Sports\n"
          ]
        },
        {
          "output_type": "stream",
          "name": "stderr",
          "text": [
            "WARNING:langchain.chat_models.openai:Retrying langchain.chat_models.openai.acompletion_with_retry.<locals>._completion_with_retry in 1.0 seconds as it raised RateLimitError: Rate limit reached for default-gpt-3.5-turbo in organization org-fUMgGI6gSqUWLozt4nlYWmsL on tokens per min. Limit: 90000 / min. Current: 89027 / min. Contact us through our help center at help.openai.com if you continue to have issues..\n"
          ]
        },
        {
          "output_type": "stream",
          "name": "stdout",
          "text": [
            "Business\n",
            "Sports\n"
          ]
        },
        {
          "output_type": "stream",
          "name": "stderr",
          "text": [
            "WARNING:langchain.chat_models.openai:Retrying langchain.chat_models.openai.acompletion_with_retry.<locals>._completion_with_retry in 1.0 seconds as it raised RateLimitError: Rate limit reached for default-gpt-3.5-turbo in organization org-fUMgGI6gSqUWLozt4nlYWmsL on tokens per min. Limit: 90000 / min. Current: 89145 / min. Contact us through our help center at help.openai.com if you continue to have issues..\n"
          ]
        },
        {
          "output_type": "stream",
          "name": "stdout",
          "text": [
            "Business\n",
            "Sports\n"
          ]
        },
        {
          "output_type": "stream",
          "name": "stderr",
          "text": [
            "WARNING:langchain.chat_models.openai:Retrying langchain.chat_models.openai.acompletion_with_retry.<locals>._completion_with_retry in 1.0 seconds as it raised RateLimitError: Rate limit reached for default-gpt-3.5-turbo in organization org-fUMgGI6gSqUWLozt4nlYWmsL on tokens per min. Limit: 90000 / min. Current: 89079 / min. Contact us through our help center at help.openai.com if you continue to have issues..\n"
          ]
        },
        {
          "output_type": "stream",
          "name": "stdout",
          "text": [
            "Business\n"
          ]
        },
        {
          "output_type": "stream",
          "name": "stderr",
          "text": [
            "WARNING:langchain.chat_models.openai:Retrying langchain.chat_models.openai.acompletion_with_retry.<locals>._completion_with_retry in 1.0 seconds as it raised RateLimitError: Rate limit reached for default-gpt-3.5-turbo in organization org-fUMgGI6gSqUWLozt4nlYWmsL on tokens per min. Limit: 90000 / min. Current: 88904 / min. Contact us through our help center at help.openai.com if you continue to have issues..\n"
          ]
        },
        {
          "output_type": "stream",
          "name": "stdout",
          "text": [
            "Politics\n"
          ]
        },
        {
          "output_type": "stream",
          "name": "stderr",
          "text": [
            "WARNING:langchain.chat_models.openai:Retrying langchain.chat_models.openai.acompletion_with_retry.<locals>._completion_with_retry in 1.0 seconds as it raised RateLimitError: Rate limit reached for default-gpt-3.5-turbo in organization org-fUMgGI6gSqUWLozt4nlYWmsL on tokens per min. Limit: 90000 / min. Current: 88919 / min. Contact us through our help center at help.openai.com if you continue to have issues..\n"
          ]
        },
        {
          "output_type": "stream",
          "name": "stdout",
          "text": [
            "Sports\n"
          ]
        },
        {
          "output_type": "stream",
          "name": "stderr",
          "text": [
            "WARNING:langchain.chat_models.openai:Retrying langchain.chat_models.openai.acompletion_with_retry.<locals>._completion_with_retry in 2.0 seconds as it raised RateLimitError: Rate limit reached for default-gpt-3.5-turbo in organization org-fUMgGI6gSqUWLozt4nlYWmsL on tokens per min. Limit: 90000 / min. Current: 89307 / min. Contact us through our help center at help.openai.com if you continue to have issues..\n"
          ]
        },
        {
          "output_type": "stream",
          "name": "stdout",
          "text": [
            "Music Feeds\n"
          ]
        },
        {
          "output_type": "stream",
          "name": "stderr",
          "text": [
            "WARNING:langchain.chat_models.openai:Retrying langchain.chat_models.openai.acompletion_with_retry.<locals>._completion_with_retry in 1.0 seconds as it raised RateLimitError: Rate limit reached for default-gpt-3.5-turbo in organization org-fUMgGI6gSqUWLozt4nlYWmsL on tokens per min. Limit: 90000 / min. Current: 89004 / min. Contact us through our help center at help.openai.com if you continue to have issues..\n"
          ]
        },
        {
          "output_type": "stream",
          "name": "stdout",
          "text": [
            "Business\n",
            "Sci/Tech\n",
            "Health\n"
          ]
        },
        {
          "output_type": "stream",
          "name": "stderr",
          "text": [
            "WARNING:langchain.chat_models.openai:Retrying langchain.chat_models.openai.acompletion_with_retry.<locals>._completion_with_retry in 1.0 seconds as it raised RateLimitError: Rate limit reached for default-gpt-3.5-turbo in organization org-fUMgGI6gSqUWLozt4nlYWmsL on tokens per min. Limit: 90000 / min. Current: 89727 / min. Contact us through our help center at help.openai.com if you continue to have issues..\n"
          ]
        },
        {
          "output_type": "stream",
          "name": "stdout",
          "text": [
            "News (could fall under either Business or Health, depending on the focus of the article)\n"
          ]
        },
        {
          "output_type": "stream",
          "name": "stderr",
          "text": [
            "WARNING:langchain.chat_models.openai:Retrying langchain.chat_models.openai.acompletion_with_retry.<locals>._completion_with_retry in 2.0 seconds as it raised RateLimitError: Rate limit reached for default-gpt-3.5-turbo in organization org-fUMgGI6gSqUWLozt4nlYWmsL on tokens per min. Limit: 90000 / min. Current: 89005 / min. Contact us through our help center at help.openai.com if you continue to have issues..\n"
          ]
        },
        {
          "output_type": "stream",
          "name": "stdout",
          "text": [
            "Entertainment\n",
            "Business\n"
          ]
        },
        {
          "output_type": "stream",
          "name": "stderr",
          "text": [
            "WARNING:langchain.chat_models.openai:Retrying langchain.chat_models.openai.acompletion_with_retry.<locals>._completion_with_retry in 1.0 seconds as it raised RateLimitError: Rate limit reached for default-gpt-3.5-turbo in organization org-fUMgGI6gSqUWLozt4nlYWmsL on tokens per min. Limit: 90000 / min. Current: 88937 / min. Contact us through our help center at help.openai.com if you continue to have issues..\n"
          ]
        },
        {
          "output_type": "stream",
          "name": "stdout",
          "text": [
            "Sports\n",
            "Sports\n",
            "Sports\n"
          ]
        },
        {
          "output_type": "stream",
          "name": "stderr",
          "text": [
            "WARNING:langchain.chat_models.openai:Retrying langchain.chat_models.openai.acompletion_with_retry.<locals>._completion_with_retry in 1.0 seconds as it raised RateLimitError: Rate limit reached for default-gpt-3.5-turbo in organization org-fUMgGI6gSqUWLozt4nlYWmsL on tokens per min. Limit: 90000 / min. Current: 89787 / min. Contact us through our help center at help.openai.com if you continue to have issues..\n"
          ]
        },
        {
          "output_type": "stream",
          "name": "stdout",
          "text": [
            "Music Feeds\n"
          ]
        },
        {
          "output_type": "stream",
          "name": "stderr",
          "text": [
            "WARNING:langchain.chat_models.openai:Retrying langchain.chat_models.openai.acompletion_with_retry.<locals>._completion_with_retry in 1.0 seconds as it raised RateLimitError: Rate limit reached for default-gpt-3.5-turbo in organization org-fUMgGI6gSqUWLozt4nlYWmsL on tokens per min. Limit: 90000 / min. Current: 89182 / min. Contact us through our help center at help.openai.com if you continue to have issues..\n"
          ]
        },
        {
          "output_type": "stream",
          "name": "stdout",
          "text": [
            "Business\n"
          ]
        },
        {
          "output_type": "stream",
          "name": "stderr",
          "text": [
            "WARNING:langchain.chat_models.openai:Retrying langchain.chat_models.openai.acompletion_with_retry.<locals>._completion_with_retry in 1.0 seconds as it raised RateLimitError: Rate limit reached for default-gpt-3.5-turbo in organization org-fUMgGI6gSqUWLozt4nlYWmsL on tokens per min. Limit: 90000 / min. Current: 89436 / min. Contact us through our help center at help.openai.com if you continue to have issues..\n"
          ]
        },
        {
          "output_type": "stream",
          "name": "stdout",
          "text": [
            "Business\n",
            "Entertainment\n"
          ]
        },
        {
          "output_type": "stream",
          "name": "stderr",
          "text": [
            "WARNING:langchain.chat_models.openai:Retrying langchain.chat_models.openai.acompletion_with_retry.<locals>._completion_with_retry in 1.0 seconds as it raised RateLimitError: Rate limit reached for default-gpt-3.5-turbo in organization org-fUMgGI6gSqUWLozt4nlYWmsL on tokens per min. Limit: 90000 / min. Current: 89300 / min. Contact us through our help center at help.openai.com if you continue to have issues..\n"
          ]
        },
        {
          "output_type": "stream",
          "name": "stdout",
          "text": [
            "Business\n"
          ]
        },
        {
          "output_type": "stream",
          "name": "stderr",
          "text": [
            "WARNING:langchain.chat_models.openai:Retrying langchain.chat_models.openai.acompletion_with_retry.<locals>._completion_with_retry in 1.0 seconds as it raised RateLimitError: Rate limit reached for default-gpt-3.5-turbo in organization org-fUMgGI6gSqUWLozt4nlYWmsL on tokens per min. Limit: 90000 / min. Current: 89230 / min. Contact us through our help center at help.openai.com if you continue to have issues..\n"
          ]
        },
        {
          "output_type": "stream",
          "name": "stdout",
          "text": [
            "Business\n"
          ]
        },
        {
          "output_type": "stream",
          "name": "stderr",
          "text": [
            "WARNING:langchain.chat_models.openai:Retrying langchain.chat_models.openai.acompletion_with_retry.<locals>._completion_with_retry in 1.0 seconds as it raised RateLimitError: Rate limit reached for default-gpt-3.5-turbo in organization org-fUMgGI6gSqUWLozt4nlYWmsL on tokens per min. Limit: 90000 / min. Current: 88987 / min. Contact us through our help center at help.openai.com if you continue to have issues..\n"
          ]
        },
        {
          "output_type": "stream",
          "name": "stdout",
          "text": [
            "Sports\n"
          ]
        },
        {
          "output_type": "stream",
          "name": "stderr",
          "text": [
            "WARNING:langchain.chat_models.openai:Retrying langchain.chat_models.openai.acompletion_with_retry.<locals>._completion_with_retry in 1.0 seconds as it raised RateLimitError: Rate limit reached for default-gpt-3.5-turbo in organization org-fUMgGI6gSqUWLozt4nlYWmsL on tokens per min. Limit: 90000 / min. Current: 88859 / min. Contact us through our help center at help.openai.com if you continue to have issues..\n"
          ]
        },
        {
          "output_type": "stream",
          "name": "stdout",
          "text": [
            "Sci/Tech\n"
          ]
        },
        {
          "output_type": "stream",
          "name": "stderr",
          "text": [
            "WARNING:langchain.chat_models.openai:Retrying langchain.chat_models.openai.acompletion_with_retry.<locals>._completion_with_retry in 2.0 seconds as it raised RateLimitError: Rate limit reached for default-gpt-3.5-turbo in organization org-fUMgGI6gSqUWLozt4nlYWmsL on tokens per min. Limit: 90000 / min. Current: 89245 / min. Contact us through our help center at help.openai.com if you continue to have issues..\n"
          ]
        },
        {
          "output_type": "stream",
          "name": "stdout",
          "text": [
            "Business\n"
          ]
        },
        {
          "output_type": "stream",
          "name": "stderr",
          "text": [
            "WARNING:langchain.chat_models.openai:Retrying langchain.chat_models.openai.acompletion_with_retry.<locals>._completion_with_retry in 1.0 seconds as it raised RateLimitError: Rate limit reached for default-gpt-3.5-turbo in organization org-fUMgGI6gSqUWLozt4nlYWmsL on tokens per min. Limit: 90000 / min. Current: 88965 / min. Contact us through our help center at help.openai.com if you continue to have issues..\n"
          ]
        },
        {
          "output_type": "stream",
          "name": "stdout",
          "text": [
            "Entertainment\n",
            "Sci/Tech\n"
          ]
        },
        {
          "output_type": "stream",
          "name": "stderr",
          "text": [
            "WARNING:langchain.chat_models.openai:Retrying langchain.chat_models.openai.acompletion_with_retry.<locals>._completion_with_retry in 1.0 seconds as it raised RateLimitError: Rate limit reached for default-gpt-3.5-turbo in organization org-fUMgGI6gSqUWLozt4nlYWmsL on tokens per min. Limit: 90000 / min. Current: 89053 / min. Contact us through our help center at help.openai.com if you continue to have issues..\n"
          ]
        },
        {
          "output_type": "stream",
          "name": "stdout",
          "text": [
            "Business\n",
            "Entertainment\n"
          ]
        },
        {
          "output_type": "stream",
          "name": "stderr",
          "text": [
            "WARNING:langchain.chat_models.openai:Retrying langchain.chat_models.openai.acompletion_with_retry.<locals>._completion_with_retry in 1.0 seconds as it raised RateLimitError: Rate limit reached for default-gpt-3.5-turbo in organization org-fUMgGI6gSqUWLozt4nlYWmsL on tokens per min. Limit: 90000 / min. Current: 89155 / min. Contact us through our help center at help.openai.com if you continue to have issues..\n"
          ]
        },
        {
          "output_type": "stream",
          "name": "stdout",
          "text": [
            "Business\n"
          ]
        },
        {
          "output_type": "stream",
          "name": "stderr",
          "text": [
            "WARNING:langchain.chat_models.openai:Retrying langchain.chat_models.openai.acompletion_with_retry.<locals>._completion_with_retry in 1.0 seconds as it raised RateLimitError: Rate limit reached for default-gpt-3.5-turbo in organization org-fUMgGI6gSqUWLozt4nlYWmsL on tokens per min. Limit: 90000 / min. Current: 88897 / min. Contact us through our help center at help.openai.com if you continue to have issues..\n"
          ]
        },
        {
          "output_type": "stream",
          "name": "stdout",
          "text": [
            "Sports\n"
          ]
        },
        {
          "output_type": "stream",
          "name": "stderr",
          "text": [
            "WARNING:langchain.chat_models.openai:Retrying langchain.chat_models.openai.acompletion_with_retry.<locals>._completion_with_retry in 1.0 seconds as it raised RateLimitError: Rate limit reached for default-gpt-3.5-turbo in organization org-fUMgGI6gSqUWLozt4nlYWmsL on tokens per min. Limit: 90000 / min. Current: 88952 / min. Contact us through our help center at help.openai.com if you continue to have issues..\n"
          ]
        },
        {
          "output_type": "stream",
          "name": "stdout",
          "text": [
            "Business\n"
          ]
        },
        {
          "output_type": "stream",
          "name": "stderr",
          "text": [
            "WARNING:langchain.chat_models.openai:Retrying langchain.chat_models.openai.acompletion_with_retry.<locals>._completion_with_retry in 2.0 seconds as it raised RateLimitError: Rate limit reached for default-gpt-3.5-turbo in organization org-fUMgGI6gSqUWLozt4nlYWmsL on tokens per min. Limit: 90000 / min. Current: 89351 / min. Contact us through our help center at help.openai.com if you continue to have issues..\n"
          ]
        },
        {
          "output_type": "stream",
          "name": "stdout",
          "text": [
            "None of the given categories fit this article. It may be classified as \"World News\" or \"Politics\".\n",
            "Business\n",
            "Business\n"
          ]
        },
        {
          "output_type": "stream",
          "name": "stderr",
          "text": [
            "WARNING:langchain.chat_models.openai:Retrying langchain.chat_models.openai.acompletion_with_retry.<locals>._completion_with_retry in 4.0 seconds as it raised RateLimitError: Rate limit reached for default-gpt-3.5-turbo in organization org-fUMgGI6gSqUWLozt4nlYWmsL on tokens per min. Limit: 90000 / min. Current: 89209 / min. Contact us through our help center at help.openai.com if you continue to have issues..\n"
          ]
        },
        {
          "output_type": "stream",
          "name": "stdout",
          "text": [
            "Sports\n"
          ]
        },
        {
          "output_type": "stream",
          "name": "stderr",
          "text": [
            "WARNING:langchain.chat_models.openai:Retrying langchain.chat_models.openai.acompletion_with_retry.<locals>._completion_with_retry in 1.0 seconds as it raised RateLimitError: Rate limit reached for default-gpt-3.5-turbo in organization org-fUMgGI6gSqUWLozt4nlYWmsL on tokens per min. Limit: 90000 / min. Current: 88886 / min. Contact us through our help center at help.openai.com if you continue to have issues..\n"
          ]
        },
        {
          "output_type": "stream",
          "name": "stdout",
          "text": [
            "Sci/Tech (as it pertains to security and terrorism)\n",
            "None of the given categories are appropriate for this article. It is a news article about a kidnapping and threat, and does not fit into any of the provided categories.\n",
            "Business\n",
            "Software and Development\n",
            "Health\n",
            "Sports\n",
            "Business\n"
          ]
        },
        {
          "output_type": "stream",
          "name": "stderr",
          "text": [
            "WARNING:langchain.chat_models.openai:Retrying langchain.chat_models.openai.acompletion_with_retry.<locals>._completion_with_retry in 1.0 seconds as it raised RateLimitError: Rate limit reached for default-gpt-3.5-turbo in organization org-fUMgGI6gSqUWLozt4nlYWmsL on tokens per min. Limit: 90000 / min. Current: 89289 / min. Contact us through our help center at help.openai.com if you continue to have issues..\n",
            "WARNING:langchain.chat_models.openai:Retrying langchain.chat_models.openai.acompletion_with_retry.<locals>._completion_with_retry in 1.0 seconds as it raised RateLimitError: Rate limit reached for default-gpt-3.5-turbo in organization org-fUMgGI6gSqUWLozt4nlYWmsL on tokens per min. Limit: 90000 / min. Current: 89185 / min. Contact us through our help center at help.openai.com if you continue to have issues..\n"
          ]
        },
        {
          "output_type": "stream",
          "name": "stdout",
          "text": [
            "Business\n",
            "Business\n"
          ]
        },
        {
          "output_type": "stream",
          "name": "stderr",
          "text": [
            "WARNING:langchain.chat_models.openai:Retrying langchain.chat_models.openai.acompletion_with_retry.<locals>._completion_with_retry in 1.0 seconds as it raised RateLimitError: Rate limit reached for default-gpt-3.5-turbo in organization org-fUMgGI6gSqUWLozt4nlYWmsL on tokens per min. Limit: 90000 / min. Current: 88962 / min. Contact us through our help center at help.openai.com if you continue to have issues..\n",
            "WARNING:langchain.chat_models.openai:Retrying langchain.chat_models.openai.acompletion_with_retry.<locals>._completion_with_retry in 1.0 seconds as it raised RateLimitError: Rate limit reached for default-gpt-3.5-turbo in organization org-fUMgGI6gSqUWLozt4nlYWmsL on tokens per min. Limit: 90000 / min. Current: 88903 / min. Contact us through our help center at help.openai.com if you continue to have issues..\n"
          ]
        },
        {
          "output_type": "stream",
          "name": "stdout",
          "text": [
            "Health\n",
            "Sports\n"
          ]
        },
        {
          "output_type": "stream",
          "name": "stderr",
          "text": [
            "WARNING:langchain.chat_models.openai:Retrying langchain.chat_models.openai.acompletion_with_retry.<locals>._completion_with_retry in 1.0 seconds as it raised RateLimitError: Rate limit reached for default-gpt-3.5-turbo in organization org-fUMgGI6gSqUWLozt4nlYWmsL on tokens per min. Limit: 90000 / min. Current: 89709 / min. Contact us through our help center at help.openai.com if you continue to have issues..\n"
          ]
        },
        {
          "output_type": "stream",
          "name": "stdout",
          "text": [
            "Software and Development\n",
            "Sports\n"
          ]
        },
        {
          "output_type": "stream",
          "name": "stderr",
          "text": [
            "WARNING:langchain.chat_models.openai:Retrying langchain.chat_models.openai.acompletion_with_retry.<locals>._completion_with_retry in 1.0 seconds as it raised RateLimitError: Rate limit reached for default-gpt-3.5-turbo in organization org-fUMgGI6gSqUWLozt4nlYWmsL on tokens per min. Limit: 90000 / min. Current: 89136 / min. Contact us through our help center at help.openai.com if you continue to have issues..\n",
            "WARNING:langchain.chat_models.openai:Retrying langchain.chat_models.openai.acompletion_with_retry.<locals>._completion_with_retry in 2.0 seconds as it raised RateLimitError: Rate limit reached for default-gpt-3.5-turbo in organization org-fUMgGI6gSqUWLozt4nlYWmsL on tokens per min. Limit: 90000 / min. Current: 89001 / min. Contact us through our help center at help.openai.com if you continue to have issues..\n"
          ]
        },
        {
          "output_type": "stream",
          "name": "stdout",
          "text": [
            "Health\n",
            "Health\n"
          ]
        },
        {
          "output_type": "stream",
          "name": "stderr",
          "text": [
            "WARNING:langchain.chat_models.openai:Retrying langchain.chat_models.openai.acompletion_with_retry.<locals>._completion_with_retry in 4.0 seconds as it raised RateLimitError: Rate limit reached for default-gpt-3.5-turbo in organization org-fUMgGI6gSqUWLozt4nlYWmsL on tokens per min. Limit: 90000 / min. Current: 89041 / min. Contact us through our help center at help.openai.com if you continue to have issues..\n"
          ]
        },
        {
          "output_type": "stream",
          "name": "stdout",
          "text": [
            "Sports\n",
            "Health\n",
            "Business\n",
            "Sports\n",
            "Sports\n",
            "Entertainment\n",
            "Health\n",
            "Politics/International Relations\n",
            "None of the given categories fit this article. It may be classified as \"Research/Study\" or \"Psychology\".\n",
            "Business\n",
            "Health\n",
            "Sci/Tech\n",
            "Sci/Tech\n",
            "Health\n",
            "Health\n",
            "None of the given categories fit this article. It may be classified as \"World News\" or \"Politics\".\n",
            "Entertainment\n",
            "Sports\n",
            "Sports\n",
            "Business\n",
            "Sports\n",
            "Entertainment\n",
            "Sports\n"
          ]
        },
        {
          "output_type": "stream",
          "name": "stderr",
          "text": [
            "WARNING:langchain.chat_models.openai:Retrying langchain.chat_models.openai.acompletion_with_retry.<locals>._completion_with_retry in 1.0 seconds as it raised RateLimitError: Rate limit reached for default-gpt-3.5-turbo in organization org-fUMgGI6gSqUWLozt4nlYWmsL on tokens per min. Limit: 90000 / min. Current: 89227 / min. Contact us through our help center at help.openai.com if you continue to have issues..\n"
          ]
        },
        {
          "output_type": "stream",
          "name": "stdout",
          "text": [
            "Politics/Law\n",
            "Entertainment\n",
            "Software and Development\n",
            "Software and Development\n"
          ]
        },
        {
          "output_type": "stream",
          "name": "stderr",
          "text": [
            "WARNING:langchain.chat_models.openai:Retrying langchain.chat_models.openai.acompletion_with_retry.<locals>._completion_with_retry in 1.0 seconds as it raised RateLimitError: Rate limit reached for default-gpt-3.5-turbo in organization org-fUMgGI6gSqUWLozt4nlYWmsL on tokens per min. Limit: 90000 / min. Current: 89036 / min. Contact us through our help center at help.openai.com if you continue to have issues..\n"
          ]
        },
        {
          "output_type": "stream",
          "name": "stdout",
          "text": [
            "Software and Development\n",
            "Sci/Tech\n",
            "Automotive\n",
            "Sports\n",
            "Business\n",
            "Business\n"
          ]
        },
        {
          "output_type": "stream",
          "name": "stderr",
          "text": [
            "WARNING:langchain.chat_models.openai:Retrying langchain.chat_models.openai.acompletion_with_retry.<locals>._completion_with_retry in 1.0 seconds as it raised RateLimitError: That model is currently overloaded with other requests. You can retry your request, or contact us through our help center at help.openai.com if the error persists. (Please include the request ID 9d1091b09eb1071f3d811a50d2f43f42 in your message.).\n"
          ]
        },
        {
          "output_type": "stream",
          "name": "stdout",
          "text": [
            "Health\n",
            "Total Tokens: 109129\n",
            "Prompt Tokens: 106599\n",
            "Completion Tokens: 2530\n",
            "Total Cost (USD): $0.218258\n",
            "['Sports', 'Sci/Tech', 'Sports', 'Business', 'Sports', 'Sports', 'Business', 'Sports', 'Politics/Current Events', 'Sports', 'Health', 'Entertainment', 'Business', 'Sports', 'Business', 'Business', 'Business', 'Business', 'Health', 'Sci/Tech', 'Sci/Tech', 'Business', 'Sports', 'Military/Politics', 'None of the above categories. This article is related to politics or current events.', 'Sports', 'Politics/Current Events', 'None of the given categories fit this article. It may be classified as Politics/Current Events.', 'Entertainment', 'Sports', 'Sports', 'Business', 'Business', 'Crime/Justice (not one of the given categories)', 'Music Feeds', 'Business', 'Sports', 'Sports', 'Health', 'Health', 'Health', 'Software and Development', 'Music Feeds', 'Business', 'Sci/Tech', 'Business', 'Sci/Tech', 'Business', 'Business', 'Sports', 'Sci/Tech', 'Sports', 'Business', 'Sci/Tech', 'Entertainment', 'Sports', 'Sci/Tech', 'Sports', 'Business', 'Politics/International Affairs', 'Business', 'Health', 'Sports', 'Business', 'Business', 'Entertainment', 'Business', 'Health', 'Entertainment', 'Sci/Tech', 'Sci/Tech', 'Sci/Tech', 'Software and Development', 'Sports', 'Health', 'Sci/Tech', 'Health', 'Entertainment', 'Health', 'Sports', 'Politics/Current Events', 'Sports', 'Health', 'Sports', 'Sci/Tech', 'Sports', 'Sports', 'Sports', 'Entertainment', 'Health', 'Software and Development', 'Sports', 'Business', 'Sports', 'Politics/Government', 'None of the given categories fit this article. It is a news article about military operations in Iraq and does not fit into any of the provided categories.', 'Sports', 'Sports', 'Politics', 'Sports', 'Sci/Tech', 'Entertainment', 'Business', 'Sports', 'Sports', 'Sports', 'Business', 'Health', 'Animals/Pets', 'Entertainment', 'Sports', 'Entertainment', 'Sports', 'Sports', 'Sports', 'Business', 'Sports', 'Weather/Natural Disasters', 'Sci/Tech', 'Business', 'Sports', 'Sci/Tech', 'Politics/International Relations', 'Entertainment', 'Sports', 'Business', 'Politics', 'Business', 'Business', 'Business', 'Software and Development', 'Sports', 'Politics/Law', 'Software and Development', 'Business', 'Business', 'Sci/Tech', 'Health', 'Business', 'Sci/Tech', 'Sports', 'Sci/Tech', 'Sports', 'Politics', 'Business', 'Sports', 'Sports', 'Business', 'Sports', 'Sci/Tech', 'Sci/Tech', 'Sports', 'Entertainment', 'Business', 'Sports', 'Sports', 'Business', 'Music Feeds', 'Sci/Tech', 'Sports', 'Sports', 'Health', 'Entertainment', 'Politics/Current Events', 'Business', 'Business', 'Sports', 'Sports', 'Software and Development', 'Entertainment', 'Health', 'Business', 'Sports', 'Sports', 'Toons', 'Sports', 'Entertainment', 'Entertainment', 'Sports', 'Sci/Tech', 'Entertainment', 'Sports', 'Health', 'Sports', 'Software and Development', 'Sports', 'Sci/Tech', 'Sports', 'Sports', 'Sci/Tech', 'Sports', 'Business', 'Health', 'Sports', 'Music Feeds', 'Sports', 'Entertainment', 'Entertainment', 'Sci/Tech', 'Health', 'Sci/Tech', 'Business', 'Health', 'Sports', 'Terrorism/International Affairs', 'Sci/Tech', 'Sci/Tech', 'Sports', 'Business', 'Politics/Current Events', 'Health', 'Health', 'Sports', 'Business', 'Entertainment', 'Health', 'Sports', 'Music Feeds', 'Sports', 'Sports', 'Sports', 'Sci/Tech', 'Entertainment', 'Sports', 'Sports', 'Sports', \"I'm sorry, but there is no article provided for me to classify. Please provide the article for me to categorize.\", 'Sci/Tech', 'Health', 'Sports', 'Music Feeds', 'Military/Conflict (not one of the given categories)', 'Sci/Tech', 'Music Feeds', 'Entertainment', 'Business', 'Sci/Tech', 'Business', 'Sports', 'Entertainment', 'Sports', 'Entertainment', 'Sports', 'Sports', 'Business', 'Politics', 'Software and Development', 'Sports', 'Business', 'Sports', 'Music Feeds', 'Sports', 'Sports', 'Sports', 'Business', 'Sports', 'None of the given categories fit this article well. It may be classified as Crime or Terrorism.', 'Health', 'Sports', 'Business', 'Politics/Current Affairs', 'Automotive', 'Sci/Tech', 'None of the given categories fit this article. It is a news article about a current event in the Middle East.', 'Business', 'Sci/Tech', 'Business', 'Sci/Tech', 'Business', 'Health', 'Sci/Tech', 'Sports', 'Sports', 'Sports', 'Health', 'Health', 'Sports', 'Entertainment', 'Politics', 'Business', 'Entertainment', 'Business', 'Sports', 'Sports', 'Sports', 'Health', 'Health', 'Business', 'Sports', 'Entertainment', 'Weather/Natural Disaster', 'Entertainment', 'Sci/Tech', 'Sports', 'Sports', 'Business', 'Sports', 'Health', 'Entertainment', 'Business', 'Sports', 'None of the given categories fit this article. It is related to politics and conflict resolution in Northern Ireland.', 'Health', 'None of the given categories fit this article perfectly, but the closest would be \"Business\" as it involves a coalmine and potential economic impact. However, it could also be classified as \"Health\" or \"Safety\" due to the danger posed to the trapped miners.', 'Business', 'Sports', 'Music Feeds', 'Health', 'Business', 'Sci/Tech', 'Sports', 'Sports', 'Business', 'Business', 'Entertainment', 'Toons', 'Sports', 'Business', 'Sci/Tech', 'Business', 'Sports', 'Software and Development', 'Business', 'Sports', 'Health', 'Sports', 'Health', 'Travel/Transportation', 'Business', 'Business', 'Health', 'Sci/Tech (incorrect classification) \\n\\nCorrect classification: News/Current Events', 'Health', 'Business', 'Sports', 'Sports', 'Business', 'Music Feeds', 'Business', 'Sports', 'Business', 'Sci/Tech', 'Sports', 'Sports', 'Sports', 'Sports', 'Sports', 'Sports', 'Sports', 'Health', 'Health', 'Sports', 'Entertainment', 'Business', 'Sci/Tech', 'Health', 'Sports', 'Business', 'Sports', 'Sports', 'Entertainment', 'Sports', 'Sports', 'Sports', 'Business', 'Sports', 'Politics', 'Politics/Current Events', 'Sports', 'Sports', 'Sports', 'Business', 'Entertainment', 'Entertainment', 'Sci/Tech', 'Sci/Tech', 'Sci/Tech', 'Sci/Tech', 'Politics', 'Health', 'Entertainment', 'Sci/Tech', 'Sports', 'Business', 'Sports', 'Business', 'Health', 'Sci/Tech', 'Politics', 'Sports', 'Business', 'Entertainment', 'Politics/Law', 'Music Feeds', 'Business', 'Sci/Tech', 'Sports', 'Business', 'Sports', 'Politics/International Affairs', 'Sports', 'Sports', 'Business', 'Sports', 'Entertainment', 'Politics', \"I'm sorry, but as an AI language model, I cannot categorize the classification of an article without having access to the article itself. Please provide me with the article so I can assist you better.\", 'Health', 'Health', 'Sports', 'Sports', 'Sci/Tech', 'Entertainment', 'Sci/Tech', 'None of the given categories fit this article as it is about weapons and not related to any of the specified topics.', 'Politics/International Affairs', 'Sports', 'Sports', 'Sports', 'Business', 'Sci/Tech', 'Sports', 'Health', 'Business', 'Business', 'Software and Development', 'Sci/Tech', 'Sports', 'Sports', 'Business', 'Toons', 'Business', 'Sports', 'Entertainment', 'Entertainment', 'Entertainment', 'Business', 'Politics', 'Sports', 'Business', 'None of the given categories fit this article. It may be classified as \"World News\" or \"Current Events\".', 'Health', 'Sci/Tech', 'Politics/LGBTQ+ Rights', 'Sports', 'Sports', 'Sci/Tech', 'Politics', 'Business', 'News/International Affairs', 'Sports', 'Entertainment', 'Sports', 'Politics/International Affairs', 'Sports', 'Politics', 'Sci/Tech', 'This article would fall under the category of Crime or Law, which is not one of the given categories. However, if we had to choose from the given categories, it could potentially fall under Health (as it discusses the emotional trauma of the victim) or Entertainment (as it involves a high-profile trial).', 'Sports', 'Sports', 'Sports', 'Business', 'Sports', 'Sports', 'Sports', 'Business', 'Sports', 'Health', 'None of the given categories fit this article. It could potentially fall under the category of \"World News\" or \"Crime/Justice.\"', 'Sports', 'Health', 'Travel/Transportation', 'News/Current Events (not one of the given categories)', 'Sci/Tech', 'Business', 'Sports', 'Sci/Tech', 'Sci/Tech', 'War/Conflict (not one of the given categories)', 'Sports', 'Business', 'Sports', 'Sports', 'Charity/Philanthropy (not one of the given categories)', 'Sports', 'Health', 'Sports', 'Health', 'Sports', 'Sports', 'Software and Development', 'Sports', 'Business', 'Business', 'Business', 'Business', 'Sci/Tech', 'Natural Disaster/Weather (not one of the given categories)', 'Entertainment', 'Business', 'Business', 'Business', 'Politics/Current Events', 'Military/Conflict (not one of the given categories)', 'Politics', 'Business', 'Health', 'Sports', 'War/Conflict (not one of the given categories)', 'Sports', 'Entertainment', 'Health', 'Business', 'Business', 'Sci/Tech', 'Health', 'Health', 'Politics/Government', 'Sports', 'Sports', 'Sports', 'Sports', 'Business', 'Business', 'Sports', 'Software and Development', 'Sports', 'Sports', 'Sci/Tech', 'Politics/International Affairs', 'Sports', 'Business', 'Business', 'Business', 'Sports', 'Sports', 'Business', 'Sci/Tech', 'Business', 'Entertainment', 'Sci/Tech', \"I'm sorry, but as an AI language model, I cannot categorize the classification of an article without having access to the article itself. Please provide me with the article so I can assist you better.\", 'Business', 'Sci/Tech', 'Sports', 'News (not one of the given categories)', 'Sports', 'Sports', 'Music Feeds', 'Sports', 'Sci/Tech', 'Business', 'Sports', 'Business', 'Sports', 'Sports', 'Health', 'Sports', 'Sports', 'None of the given categories fit this article well. It may be more appropriate for a general news or human interest section.', 'Sci/Tech', 'Sports', 'Politics', 'Travel/Tourism', 'Business', 'Sports', 'Politics', 'Business', 'Politics/Current Events', 'Sports', 'Business', 'Politics/International Affairs', 'Business', 'Sci/Tech', 'Software and Development', 'Sci/Tech', 'Sports', 'Sports', 'Entertainment', 'Business', 'Sports', 'Health', 'Sports', 'Sci/Tech', 'Business', 'Business', 'Business', 'Business', 'Business', 'Entertainment', 'Business', 'Business', 'Sports', 'Sports', 'Sci/Tech', 'Business', 'Health', 'Politics/Current Events', 'Animals/Wildlife', 'Health', 'Business', 'Health', 'Sports', 'Sports', 'Sports', 'Sci/Tech', 'Business', 'Health', 'Sci/Tech', 'Health', 'Software and Development', 'Politics/Elections (not one of the given categories)', 'Sports', 'Business', 'Business', 'Business', 'Entertainment', 'Sports', 'Sports', 'Politics/World News', 'Software and Development', 'Sci/Tech', 'Sports', 'Sci/Tech', 'Health', 'Health', 'Sports', 'Entertainment', 'Entertainment', 'Sports', 'Entertainment', 'Sci/Tech', 'Health', 'Sports', 'Sports', 'Sci/Tech', 'None of the given categories fit this article. It may be classified as Politics or Current Affairs.', 'Sports', 'Politics/International Relations', 'Sports', 'Business', 'Health', 'Health', 'Sports', 'Sports', 'Business', 'Sports', 'Entertainment', 'Health', 'Sci/Tech', 'Music Feeds', 'Crime/Assault (not one of the given categories)', 'Sci/Tech', 'Business', 'Business', 'Business', 'Business', 'Politics/International Affairs', 'Sports', 'Sports', 'Software and Development', 'Business', 'Sports', 'Sports', 'Health', 'Business', 'Sports', 'Entertainment', 'Sci/Tech', 'Sports', 'Entertainment', 'Entertainment', 'Health', 'Sports', 'Entertainment', 'Sports', 'Sports', 'Sci/Tech', 'Business', 'Sports', 'Health', 'Health', 'Business', 'Software and Development', 'Health', 'Sci/Tech', 'Sci/Tech', 'Sports', 'Business', 'Sports', 'Sports', 'Business', 'Politics/Government', 'Animals/Wildlife (not one of the given categories)', 'Business', 'Health', 'Politics/International Affairs', 'Sports', 'Sports', 'Sci/Tech', 'Business', 'Business', 'Weather/Natural Disasters', 'Toons', 'Sports', 'Health', 'Politics/International Affairs', 'Sports', 'Sci/Tech', 'Sports', 'Business', 'None of the given categories fit this article perfectly, but the closest would be \"News\" or \"Current Events\".', 'Sci/Tech', 'Sports', 'Sci/Tech', 'Sports', 'Business', 'Health', 'Business', \"I'm sorry, but there is no article provided for me to classify. Please provide the article for me to categorize.\", 'Entertainment', 'Sci/Tech', 'Sports', 'Music Feeds', 'Sports', 'Business', 'Business', 'Politics', 'Business', 'Sports', 'Health', 'Health', 'Sports', 'Business', 'Health', 'Entertainment', 'Sci/Tech', 'Business', 'Entertainment', 'Sports', 'Sci/Tech', 'Sports', 'Sports', 'Business', 'Sports', 'Sports', 'Sports', 'Business', 'Software and Development', \"I'm sorry, but there is no article provided for me to classify. Please provide the article for me to categorize.\", 'Health', 'Sci/Tech', 'Software and Development', 'Sports', 'Military/Politics', 'Sports', 'Business', 'Sports', 'Software and Development', 'Business', 'Health', 'Sports', 'Sports', 'Sci/Tech', 'Business', 'Sci/Tech', 'Sports', 'Weather/Natural Disasters', 'Music Feeds', 'Entertainment', 'Business', 'Business', 'Business', 'Politics', 'Politics/Current Events', 'Business', 'Business', 'Sports', 'Sports', 'Entertainment', 'Sports', 'Entertainment', 'Sports', 'Business', 'Business', 'Business', 'Sports', 'Travel/Transportation', 'Sports', 'News/Politics (not one of the given categories)', 'Business', 'Health', 'Sports', 'Business', 'Sports', 'Business', 'Business', 'Entertainment', 'Sci/Tech', 'Business', \"I'm sorry, but there is no article provided for me to classify. Please provide the article for me to categorize.\", 'Sports', 'Sports', 'Sports', 'Software and Development', 'Sci/Tech', 'Business', 'Sports', 'Sci/Tech', 'Entertainment', 'Health', 'Sci/Tech', 'Business', 'Sports', 'Business', 'Sports', 'Sports', 'Sports', 'Sports', 'Politics/International Affairs', 'Sports', 'Sports', 'Sci/Tech', 'Sports', 'Weather/Natural Disasters', 'Music Feeds', 'Entertainment', 'Sports', 'Entertainment', 'Business', 'Sci/Tech', 'Business', 'Health', 'Toons', 'Sports', 'Politics/Foreign Policy', 'Business', 'Software and Development', 'Health', 'None of the given categories fit this article. It may be classified as \"Politics\" or \"Current Events\".', 'Sports', 'Sports', 'Business', 'Sports', 'Health', 'Sci/Tech', 'This article does not fit into any of the given categories.', 'Sci/Tech', 'Business', 'Health', 'Business', 'Health', 'Business', 'Health', 'Sports', 'Business', 'Sports', 'Sports', 'Sci/Tech', 'Business', 'Business', 'Business', 'Politics/Current Affairs', \"I'm sorry, but there is no article provided for me to classify. Please provide the article for me to categorize.\", 'Business', 'Sports', \"I'm sorry, but there is no article provided for me to classify. Please provide the article for me to categorize.\", 'Sports', 'Health', 'Business', 'Sports', 'Sports', 'Sports', 'Music Feeds', 'Sports', 'Sports', 'Weather/Natural Disasters', 'Sports', 'Sports', 'Software and Development', 'Sci/Tech', 'Music Feeds', 'Sports', 'Business', 'None of the given categories fit this article. It may be classified as \"Military/Politics\" or \"Current Events/News\".', 'Health', 'Entertainment', 'Politics/Human Rights', 'Business', 'Sports', 'Politics', 'Sports', 'Music Feeds', 'Business', 'Sci/Tech', 'Sports', 'Entertainment', 'Software and Development', 'Entertainment', 'Health', 'Politics', 'Health', \"I'm sorry, but there is no article provided for me to classify. Please provide the article for me to categorize.\", 'Sports', 'Sci/Tech', 'Entertainment', 'Sports', 'Sci/Tech', 'Health (as it involves a tragic incident resulting in loss of life and injury)', 'Business', 'Business', 'Sports', 'Sci/Tech', 'Sports', 'Business', 'Business', 'Sports', 'Business', 'Sports', 'Politics', 'Sports', 'Health', 'Music Feeds', 'Business', 'Sci/Tech', 'News (could fall under either Business or Health, depending on the focus of the article)', 'Sports', 'Entertainment', 'Business', 'Sports', 'Sports', 'Music Feeds', 'Business', 'Business', 'Business', 'Entertainment', 'Business', 'Sports', 'Sci/Tech', 'Business', 'Business', 'Entertainment', 'Sci/Tech', 'Business', 'Entertainment', 'Sports', 'Business', 'Software and Development', 'None of the given categories fit this article. It may be classified as \"World News\" or \"Politics\".', 'Business', 'Business', 'Sports', 'Sci/Tech (as it pertains to security and terrorism)', 'None of the given categories are appropriate for this article. It is a news article about a kidnapping and threat, and does not fit into any of the provided categories.', 'Business', 'Health', 'Sports', 'Business', 'Business', 'Business', 'Health', 'Sports', 'Software and Development', 'Sports', 'Sports', 'Health', 'Health', 'Health', 'Health', 'Business', 'Sports', 'Sports', 'Entertainment', 'Health', 'Politics/International Relations', 'None of the given categories fit this article. It may be classified as \"Research/Study\" or \"Psychology\".', 'Business', 'Health', 'Sci/Tech', 'Sci/Tech', 'Health', 'Health', 'None of the given categories fit this article. It may be classified as \"World News\" or \"Politics\".', 'Entertainment', 'Sports', 'Sports', 'Business', 'Sports', 'Entertainment', 'Sports', 'Politics/Law', 'Entertainment', 'Software and Development', 'Software and Development', 'Software and Development', 'Sci/Tech', 'Automotive', 'Sports', 'Business', 'Business']\n",
            "Accuracy on test set: 0.647\n"
          ]
        }
      ]
    },
    {
      "cell_type": "code",
      "source": [
        "# Few-shot classification with LLMs\n",
        "\n",
        "\"\"\"\n",
        "[TO BE IMPLEMENTED]\n",
        "\n",
        "Goal: initialized below is a dummy sklearn Pipeline object with no steps.\n",
        "You have to replace it with a pipeline object which uses the `LLMClassifier` you have implemented\n",
        "above to perform few-shot classification on the test set.\n",
        "\n",
        "With few-shot classification, you can pass upto 5 demonstration examples as part of the prompt\n",
        "to the LLM. You can add other steps to preproces, post-process your data as you see fit.\n",
        "\n",
        "\"\"\"\n",
        "pipeline = Pipeline(\n",
        "    [\n",
        "      ('classifier', LLMClassifier(llm_model=llm, prompt_template=few_shot_prompt_template, semaphore=semaphore))\n",
        "    ]\n",
        ")\n",
        "\n",
        "# train\n",
        "pipeline.fit(X_train_i, Y_train_i)\n",
        "# predict\n",
        "Y_pred_i = pipeline.predict(X_test)\n",
        "# record results\n",
        "models_v3[\"few-shot\"] = {\n",
        "    'test_predictions': Y_pred_i,\n",
        "    'accuracy': accuracy_score(Y_true, Y_pred_i),\n",
        "    'f1': f1_score(Y_true, Y_pred_i, average='weighted'),\n",
        "    'errors': sum([x != y for (x, y) in zip(Y_true, Y_pred_i)])\n",
        "}\n",
        "print(\"Accuracy on test set: {}\".format(accuracy_score(Y_true, Y_pred_i)))\n"
      ],
      "metadata": {
        "id": "PvCbruqf6ASV",
        "colab": {
          "base_uri": "https://localhost:8080/"
        },
        "outputId": "3b74c74e-849d-47b0-aa91-a07e4131d271"
      },
      "execution_count": null,
      "outputs": [
        {
          "output_type": "stream",
          "name": "stdout",
          "text": [
            "Sports\n",
            "Business\n",
            "Sports\n",
            "Business\n",
            "Sports\n",
            "Sports\n",
            "Business\n",
            "Sports\n",
            "Politics/Government\n"
          ]
        },
        {
          "output_type": "stream",
          "name": "stderr",
          "text": [
            "WARNING:langchain.chat_models.openai:Retrying langchain.chat_models.openai.acompletion_with_retry.<locals>._completion_with_retry in 1.0 seconds as it raised RateLimitError: Rate limit reached for default-gpt-3.5-turbo in organization org-fUMgGI6gSqUWLozt4nlYWmsL on tokens per min. Limit: 90000 / min. Current: 89531 / min. Contact us through our help center at help.openai.com if you continue to have issues..\n"
          ]
        },
        {
          "output_type": "stream",
          "name": "stdout",
          "text": [
            "Sports\n"
          ]
        },
        {
          "output_type": "stream",
          "name": "stderr",
          "text": [
            "WARNING:langchain.chat_models.openai:Retrying langchain.chat_models.openai.acompletion_with_retry.<locals>._completion_with_retry in 1.0 seconds as it raised RateLimitError: Rate limit reached for default-gpt-3.5-turbo in organization org-fUMgGI6gSqUWLozt4nlYWmsL on tokens per min. Limit: 90000 / min. Current: 89139 / min. Contact us through our help center at help.openai.com if you continue to have issues..\n"
          ]
        },
        {
          "output_type": "stream",
          "name": "stdout",
          "text": [
            "Health\n"
          ]
        },
        {
          "output_type": "stream",
          "name": "stderr",
          "text": [
            "WARNING:langchain.chat_models.openai:Retrying langchain.chat_models.openai.acompletion_with_retry.<locals>._completion_with_retry in 1.0 seconds as it raised RateLimitError: Rate limit reached for default-gpt-3.5-turbo in organization org-fUMgGI6gSqUWLozt4nlYWmsL on tokens per min. Limit: 90000 / min. Current: 89564 / min. Contact us through our help center at help.openai.com if you continue to have issues..\n"
          ]
        },
        {
          "output_type": "stream",
          "name": "stdout",
          "text": [
            "Entertainment\n"
          ]
        },
        {
          "output_type": "stream",
          "name": "stderr",
          "text": [
            "WARNING:langchain.chat_models.openai:Retrying langchain.chat_models.openai.acompletion_with_retry.<locals>._completion_with_retry in 1.0 seconds as it raised RateLimitError: Rate limit reached for default-gpt-3.5-turbo in organization org-fUMgGI6gSqUWLozt4nlYWmsL on tokens per min. Limit: 90000 / min. Current: 89178 / min. Contact us through our help center at help.openai.com if you continue to have issues..\n"
          ]
        },
        {
          "output_type": "stream",
          "name": "stdout",
          "text": [
            "Business\n"
          ]
        },
        {
          "output_type": "stream",
          "name": "stderr",
          "text": [
            "WARNING:langchain.chat_models.openai:Retrying langchain.chat_models.openai.acompletion_with_retry.<locals>._completion_with_retry in 1.0 seconds as it raised RateLimitError: Rate limit reached for default-gpt-3.5-turbo in organization org-fUMgGI6gSqUWLozt4nlYWmsL on tokens per min. Limit: 90000 / min. Current: 89778 / min. Contact us through our help center at help.openai.com if you continue to have issues..\n"
          ]
        },
        {
          "output_type": "stream",
          "name": "stdout",
          "text": [
            "Sports\n"
          ]
        },
        {
          "output_type": "stream",
          "name": "stderr",
          "text": [
            "WARNING:langchain.chat_models.openai:Retrying langchain.chat_models.openai.acompletion_with_retry.<locals>._completion_with_retry in 1.0 seconds as it raised RateLimitError: Rate limit reached for default-gpt-3.5-turbo in organization org-fUMgGI6gSqUWLozt4nlYWmsL on tokens per min. Limit: 90000 / min. Current: 89341 / min. Contact us through our help center at help.openai.com if you continue to have issues..\n",
            "WARNING:langchain.chat_models.openai:Retrying langchain.chat_models.openai.acompletion_with_retry.<locals>._completion_with_retry in 2.0 seconds as it raised RateLimitError: Rate limit reached for default-gpt-3.5-turbo in organization org-fUMgGI6gSqUWLozt4nlYWmsL on tokens per min. Limit: 90000 / min. Current: 88789 / min. Contact us through our help center at help.openai.com if you continue to have issues..\n"
          ]
        },
        {
          "output_type": "stream",
          "name": "stdout",
          "text": [
            "Business\n",
            "Business\n"
          ]
        },
        {
          "output_type": "stream",
          "name": "stderr",
          "text": [
            "WARNING:langchain.chat_models.openai:Retrying langchain.chat_models.openai.acompletion_with_retry.<locals>._completion_with_retry in 1.0 seconds as it raised RateLimitError: Rate limit reached for default-gpt-3.5-turbo in organization org-fUMgGI6gSqUWLozt4nlYWmsL on tokens per min. Limit: 90000 / min. Current: 89275 / min. Contact us through our help center at help.openai.com if you continue to have issues..\n"
          ]
        },
        {
          "output_type": "stream",
          "name": "stdout",
          "text": [
            "Business\n"
          ]
        },
        {
          "output_type": "stream",
          "name": "stderr",
          "text": [
            "WARNING:langchain.chat_models.openai:Retrying langchain.chat_models.openai.acompletion_with_retry.<locals>._completion_with_retry in 4.0 seconds as it raised RateLimitError: Rate limit reached for default-gpt-3.5-turbo in organization org-fUMgGI6gSqUWLozt4nlYWmsL on tokens per min. Limit: 90000 / min. Current: 89381 / min. Contact us through our help center at help.openai.com if you continue to have issues..\n"
          ]
        },
        {
          "output_type": "stream",
          "name": "stdout",
          "text": [
            "Health\n",
            "Software and Development\n"
          ]
        },
        {
          "output_type": "stream",
          "name": "stderr",
          "text": [
            "WARNING:langchain.chat_models.openai:Retrying langchain.chat_models.openai.acompletion_with_retry.<locals>._completion_with_retry in 1.0 seconds as it raised RateLimitError: Rate limit reached for default-gpt-3.5-turbo in organization org-fUMgGI6gSqUWLozt4nlYWmsL on tokens per min. Limit: 90000 / min. Current: 89146 / min. Contact us through our help center at help.openai.com if you continue to have issues..\n"
          ]
        },
        {
          "output_type": "stream",
          "name": "stdout",
          "text": [
            "Sci/Tech\n",
            "Business\n",
            "Sports\n"
          ]
        },
        {
          "output_type": "stream",
          "name": "stderr",
          "text": [
            "WARNING:langchain.chat_models.openai:Retrying langchain.chat_models.openai.acompletion_with_retry.<locals>._completion_with_retry in 1.0 seconds as it raised RateLimitError: Rate limit reached for default-gpt-3.5-turbo in organization org-fUMgGI6gSqUWLozt4nlYWmsL on tokens per min. Limit: 90000 / min. Current: 89320 / min. Contact us through our help center at help.openai.com if you continue to have issues..\n"
          ]
        },
        {
          "output_type": "stream",
          "name": "stdout",
          "text": [
            "Business\n"
          ]
        },
        {
          "output_type": "stream",
          "name": "stderr",
          "text": [
            "WARNING:langchain.chat_models.openai:Retrying langchain.chat_models.openai.acompletion_with_retry.<locals>._completion_with_retry in 1.0 seconds as it raised RateLimitError: Rate limit reached for default-gpt-3.5-turbo in organization org-fUMgGI6gSqUWLozt4nlYWmsL on tokens per min. Limit: 90000 / min. Current: 88908 / min. Contact us through our help center at help.openai.com if you continue to have issues..\n",
            "WARNING:langchain.chat_models.openai:Retrying langchain.chat_models.openai.acompletion_with_retry.<locals>._completion_with_retry in 2.0 seconds as it raised RateLimitError: Rate limit reached for default-gpt-3.5-turbo in organization org-fUMgGI6gSqUWLozt4nlYWmsL on tokens per min. Limit: 90000 / min. Current: 88815 / min. Contact us through our help center at help.openai.com if you continue to have issues..\n"
          ]
        },
        {
          "output_type": "stream",
          "name": "stdout",
          "text": [
            "Politics/Current Events\n",
            "Sports\n"
          ]
        },
        {
          "output_type": "stream",
          "name": "stderr",
          "text": [
            "WARNING:langchain.chat_models.openai:Retrying langchain.chat_models.openai.acompletion_with_retry.<locals>._completion_with_retry in 4.0 seconds as it raised RateLimitError: Rate limit reached for default-gpt-3.5-turbo in organization org-fUMgGI6gSqUWLozt4nlYWmsL on tokens per min. Limit: 90000 / min. Current: 89422 / min. Contact us through our help center at help.openai.com if you continue to have issues..\n"
          ]
        },
        {
          "output_type": "stream",
          "name": "stdout",
          "text": [
            "Politics/Current Events\n"
          ]
        },
        {
          "output_type": "stream",
          "name": "stderr",
          "text": [
            "WARNING:langchain.chat_models.openai:Retrying langchain.chat_models.openai.acompletion_with_retry.<locals>._completion_with_retry in 1.0 seconds as it raised RateLimitError: Rate limit reached for default-gpt-3.5-turbo in organization org-fUMgGI6gSqUWLozt4nlYWmsL on tokens per min. Limit: 90000 / min. Current: 88953 / min. Contact us through our help center at help.openai.com if you continue to have issues..\n"
          ]
        },
        {
          "output_type": "stream",
          "name": "stdout",
          "text": [
            "Politics/Current Events\n",
            "Fashion/Entertainment\n",
            "Sports\n"
          ]
        },
        {
          "output_type": "stream",
          "name": "stderr",
          "text": [
            "WARNING:langchain.chat_models.openai:Retrying langchain.chat_models.openai.acompletion_with_retry.<locals>._completion_with_retry in 1.0 seconds as it raised RateLimitError: Rate limit reached for default-gpt-3.5-turbo in organization org-fUMgGI6gSqUWLozt4nlYWmsL on tokens per min. Limit: 90000 / min. Current: 88955 / min. Contact us through our help center at help.openai.com if you continue to have issues..\n"
          ]
        },
        {
          "output_type": "stream",
          "name": "stdout",
          "text": [
            "Politics/Government\n"
          ]
        },
        {
          "output_type": "stream",
          "name": "stderr",
          "text": [
            "WARNING:langchain.chat_models.openai:Retrying langchain.chat_models.openai.acompletion_with_retry.<locals>._completion_with_retry in 1.0 seconds as it raised RateLimitError: Rate limit reached for default-gpt-3.5-turbo in organization org-fUMgGI6gSqUWLozt4nlYWmsL on tokens per min. Limit: 90000 / min. Current: 89150 / min. Contact us through our help center at help.openai.com if you continue to have issues..\n"
          ]
        },
        {
          "output_type": "stream",
          "name": "stdout",
          "text": [
            "Sports\n",
            "Business\n"
          ]
        },
        {
          "output_type": "stream",
          "name": "stderr",
          "text": [
            "WARNING:langchain.chat_models.openai:Retrying langchain.chat_models.openai.acompletion_with_retry.<locals>._completion_with_retry in 2.0 seconds as it raised RateLimitError: Rate limit reached for default-gpt-3.5-turbo in organization org-fUMgGI6gSqUWLozt4nlYWmsL on tokens per min. Limit: 90000 / min. Current: 89408 / min. Contact us through our help center at help.openai.com if you continue to have issues..\n"
          ]
        },
        {
          "output_type": "stream",
          "name": "stdout",
          "text": [
            "Crime/Justice\n"
          ]
        },
        {
          "output_type": "stream",
          "name": "stderr",
          "text": [
            "WARNING:langchain.chat_models.openai:Retrying langchain.chat_models.openai.acompletion_with_retry.<locals>._completion_with_retry in 1.0 seconds as it raised RateLimitError: Rate limit reached for default-gpt-3.5-turbo in organization org-fUMgGI6gSqUWLozt4nlYWmsL on tokens per min. Limit: 90000 / min. Current: 88915 / min. Contact us through our help center at help.openai.com if you continue to have issues..\n"
          ]
        },
        {
          "output_type": "stream",
          "name": "stdout",
          "text": [
            "Business\n"
          ]
        },
        {
          "output_type": "stream",
          "name": "stderr",
          "text": [
            "WARNING:langchain.chat_models.openai:Retrying langchain.chat_models.openai.acompletion_with_retry.<locals>._completion_with_retry in 4.0 seconds as it raised RateLimitError: Rate limit reached for default-gpt-3.5-turbo in organization org-fUMgGI6gSqUWLozt4nlYWmsL on tokens per min. Limit: 90000 / min. Current: 88721 / min. Contact us through our help center at help.openai.com if you continue to have issues..\n"
          ]
        },
        {
          "output_type": "stream",
          "name": "stdout",
          "text": [
            "Business\n",
            "Sports\n",
            "Sports\n"
          ]
        },
        {
          "output_type": "stream",
          "name": "stderr",
          "text": [
            "WARNING:langchain.chat_models.openai:Retrying langchain.chat_models.openai.acompletion_with_retry.<locals>._completion_with_retry in 1.0 seconds as it raised RateLimitError: Rate limit reached for default-gpt-3.5-turbo in organization org-fUMgGI6gSqUWLozt4nlYWmsL on tokens per min. Limit: 90000 / min. Current: 89077 / min. Contact us through our help center at help.openai.com if you continue to have issues..\n"
          ]
        },
        {
          "output_type": "stream",
          "name": "stdout",
          "text": [
            "Health\n",
            "Health\n",
            "Health\n"
          ]
        },
        {
          "output_type": "stream",
          "name": "stderr",
          "text": [
            "WARNING:langchain.chat_models.openai:Retrying langchain.chat_models.openai.acompletion_with_retry.<locals>._completion_with_retry in 1.0 seconds as it raised RateLimitError: Rate limit reached for default-gpt-3.5-turbo in organization org-fUMgGI6gSqUWLozt4nlYWmsL on tokens per min. Limit: 90000 / min. Current: 89037 / min. Contact us through our help center at help.openai.com if you continue to have issues..\n",
            "WARNING:langchain.chat_models.openai:Retrying langchain.chat_models.openai.acompletion_with_retry.<locals>._completion_with_retry in 8.0 seconds as it raised RateLimitError: Rate limit reached for default-gpt-3.5-turbo in organization org-fUMgGI6gSqUWLozt4nlYWmsL on tokens per min. Limit: 90000 / min. Current: 88985 / min. Contact us through our help center at help.openai.com if you continue to have issues..\n"
          ]
        },
        {
          "output_type": "stream",
          "name": "stdout",
          "text": [
            "Software and Development\n",
            "Music Feeds\n",
            "Business\n"
          ]
        },
        {
          "output_type": "stream",
          "name": "stderr",
          "text": [
            "WARNING:langchain.chat_models.openai:Retrying langchain.chat_models.openai.acompletion_with_retry.<locals>._completion_with_retry in 1.0 seconds as it raised RateLimitError: Rate limit reached for default-gpt-3.5-turbo in organization org-fUMgGI6gSqUWLozt4nlYWmsL on tokens per min. Limit: 90000 / min. Current: 88906 / min. Contact us through our help center at help.openai.com if you continue to have issues..\n"
          ]
        },
        {
          "output_type": "stream",
          "name": "stdout",
          "text": [
            "Technology/Sci-Tech\n",
            "Business\n",
            "Software and Development\n",
            "Business\n"
          ]
        },
        {
          "output_type": "stream",
          "name": "stderr",
          "text": [
            "WARNING:langchain.chat_models.openai:Retrying langchain.chat_models.openai.acompletion_with_retry.<locals>._completion_with_retry in 1.0 seconds as it raised RateLimitError: Rate limit reached for default-gpt-3.5-turbo in organization org-fUMgGI6gSqUWLozt4nlYWmsL on tokens per min. Limit: 90000 / min. Current: 89202 / min. Contact us through our help center at help.openai.com if you continue to have issues..\n"
          ]
        },
        {
          "output_type": "stream",
          "name": "stdout",
          "text": [
            "Business\n",
            "Sports\n"
          ]
        },
        {
          "output_type": "stream",
          "name": "stderr",
          "text": [
            "WARNING:langchain.chat_models.openai:Retrying langchain.chat_models.openai.acompletion_with_retry.<locals>._completion_with_retry in 16.0 seconds as it raised RateLimitError: Rate limit reached for default-gpt-3.5-turbo in organization org-fUMgGI6gSqUWLozt4nlYWmsL on tokens per min. Limit: 90000 / min. Current: 89890 / min. Contact us through our help center at help.openai.com if you continue to have issues..\n"
          ]
        },
        {
          "output_type": "stream",
          "name": "stdout",
          "text": [
            "Sci/Tech\n"
          ]
        },
        {
          "output_type": "stream",
          "name": "stderr",
          "text": [
            "WARNING:langchain.chat_models.openai:Retrying langchain.chat_models.openai.acompletion_with_retry.<locals>._completion_with_retry in 1.0 seconds as it raised RateLimitError: Rate limit reached for default-gpt-3.5-turbo in organization org-fUMgGI6gSqUWLozt4nlYWmsL on tokens per min. Limit: 90000 / min. Current: 89151 / min. Contact us through our help center at help.openai.com if you continue to have issues..\n"
          ]
        },
        {
          "output_type": "stream",
          "name": "stdout",
          "text": [
            "Sports\n",
            "Business\n",
            "Sci/Tech\n"
          ]
        },
        {
          "output_type": "stream",
          "name": "stderr",
          "text": [
            "WARNING:langchain.chat_models.openai:Retrying langchain.chat_models.openai.acompletion_with_retry.<locals>._completion_with_retry in 1.0 seconds as it raised RateLimitError: Rate limit reached for default-gpt-3.5-turbo in organization org-fUMgGI6gSqUWLozt4nlYWmsL on tokens per min. Limit: 90000 / min. Current: 88933 / min. Contact us through our help center at help.openai.com if you continue to have issues..\n"
          ]
        },
        {
          "output_type": "stream",
          "name": "stdout",
          "text": [
            "Software and Development\n",
            "Sports\n",
            "Business\n"
          ]
        },
        {
          "output_type": "stream",
          "name": "stderr",
          "text": [
            "WARNING:langchain.chat_models.openai:Retrying langchain.chat_models.openai.acompletion_with_retry.<locals>._completion_with_retry in 1.0 seconds as it raised RateLimitError: Rate limit reached for default-gpt-3.5-turbo in organization org-fUMgGI6gSqUWLozt4nlYWmsL on tokens per min. Limit: 90000 / min. Current: 89312 / min. Contact us through our help center at help.openai.com if you continue to have issues..\n"
          ]
        },
        {
          "output_type": "stream",
          "name": "stdout",
          "text": [
            "Sports\n",
            "Business\n"
          ]
        },
        {
          "output_type": "stream",
          "name": "stderr",
          "text": [
            "WARNING:langchain.chat_models.openai:Retrying langchain.chat_models.openai.acompletion_with_retry.<locals>._completion_with_retry in 1.0 seconds as it raised RateLimitError: Rate limit reached for default-gpt-3.5-turbo in organization org-fUMgGI6gSqUWLozt4nlYWmsL on tokens per min. Limit: 90000 / min. Current: 88752 / min. Contact us through our help center at help.openai.com if you continue to have issues..\n"
          ]
        },
        {
          "output_type": "stream",
          "name": "stdout",
          "text": [
            "Politics/International Affairs\n",
            "Business\n",
            "Health\n"
          ]
        },
        {
          "output_type": "stream",
          "name": "stderr",
          "text": [
            "WARNING:langchain.chat_models.openai:Retrying langchain.chat_models.openai.acompletion_with_retry.<locals>._completion_with_retry in 1.0 seconds as it raised RateLimitError: Rate limit reached for default-gpt-3.5-turbo in organization org-fUMgGI6gSqUWLozt4nlYWmsL on tokens per min. Limit: 90000 / min. Current: 88868 / min. Contact us through our help center at help.openai.com if you continue to have issues..\n"
          ]
        },
        {
          "output_type": "stream",
          "name": "stdout",
          "text": [
            "Business\n",
            "Business\n",
            "Business\n",
            "Software and Development\n",
            "Business\n",
            "Health\n",
            "Entertainment\n",
            "Software and Development\n",
            "Sci/Tech\n",
            "Entertainment\n",
            "Software and Development\n"
          ]
        },
        {
          "output_type": "stream",
          "name": "stderr",
          "text": [
            "WARNING:langchain.chat_models.openai:Retrying langchain.chat_models.openai.acompletion_with_retry.<locals>._completion_with_retry in 1.0 seconds as it raised RateLimitError: Rate limit reached for default-gpt-3.5-turbo in organization org-fUMgGI6gSqUWLozt4nlYWmsL on tokens per min. Limit: 90000 / min. Current: 88789 / min. Contact us through our help center at help.openai.com if you continue to have issues..\n"
          ]
        },
        {
          "output_type": "stream",
          "name": "stdout",
          "text": [
            "Sports\n",
            "Health\n",
            "Sci/Tech\n"
          ]
        },
        {
          "output_type": "stream",
          "name": "stderr",
          "text": [
            "WARNING:langchain.chat_models.openai:Retrying langchain.chat_models.openai.acompletion_with_retry.<locals>._completion_with_retry in 1.0 seconds as it raised RateLimitError: Rate limit reached for default-gpt-3.5-turbo in organization org-fUMgGI6gSqUWLozt4nlYWmsL on tokens per min. Limit: 90000 / min. Current: 88902 / min. Contact us through our help center at help.openai.com if you continue to have issues..\n"
          ]
        },
        {
          "output_type": "stream",
          "name": "stdout",
          "text": [
            "Health\n",
            "Entertainment\n",
            "Health\n"
          ]
        },
        {
          "output_type": "stream",
          "name": "stderr",
          "text": [
            "WARNING:langchain.chat_models.openai:Retrying langchain.chat_models.openai.acompletion_with_retry.<locals>._completion_with_retry in 1.0 seconds as it raised RateLimitError: Rate limit reached for default-gpt-3.5-turbo in organization org-fUMgGI6gSqUWLozt4nlYWmsL on tokens per min. Limit: 90000 / min. Current: 88881 / min. Contact us through our help center at help.openai.com if you continue to have issues..\n"
          ]
        },
        {
          "output_type": "stream",
          "name": "stdout",
          "text": [
            "Sports\n",
            "Politics\n",
            "Sports\n"
          ]
        },
        {
          "output_type": "stream",
          "name": "stderr",
          "text": [
            "WARNING:langchain.chat_models.openai:Retrying langchain.chat_models.openai.acompletion_with_retry.<locals>._completion_with_retry in 1.0 seconds as it raised RateLimitError: Rate limit reached for default-gpt-3.5-turbo in organization org-fUMgGI6gSqUWLozt4nlYWmsL on tokens per min. Limit: 90000 / min. Current: 89016 / min. Contact us through our help center at help.openai.com if you continue to have issues..\n"
          ]
        },
        {
          "output_type": "stream",
          "name": "stdout",
          "text": [
            "Health\n",
            "Sports\n",
            "Software and Development\n"
          ]
        },
        {
          "output_type": "stream",
          "name": "stderr",
          "text": [
            "WARNING:langchain.chat_models.openai:Retrying langchain.chat_models.openai.acompletion_with_retry.<locals>._completion_with_retry in 1.0 seconds as it raised RateLimitError: Rate limit reached for default-gpt-3.5-turbo in organization org-fUMgGI6gSqUWLozt4nlYWmsL on tokens per min. Limit: 90000 / min. Current: 89075 / min. Contact us through our help center at help.openai.com if you continue to have issues..\n"
          ]
        },
        {
          "output_type": "stream",
          "name": "stdout",
          "text": [
            "Sports\n",
            "Sports\n",
            "Sports\n"
          ]
        },
        {
          "output_type": "stream",
          "name": "stderr",
          "text": [
            "WARNING:langchain.chat_models.openai:Retrying langchain.chat_models.openai.acompletion_with_retry.<locals>._completion_with_retry in 1.0 seconds as it raised RateLimitError: Rate limit reached for default-gpt-3.5-turbo in organization org-fUMgGI6gSqUWLozt4nlYWmsL on tokens per min. Limit: 90000 / min. Current: 88846 / min. Contact us through our help center at help.openai.com if you continue to have issues..\n"
          ]
        },
        {
          "output_type": "stream",
          "name": "stdout",
          "text": [
            "Entertainment\n",
            "Health\n",
            "Software and Development\n"
          ]
        },
        {
          "output_type": "stream",
          "name": "stderr",
          "text": [
            "WARNING:langchain.chat_models.openai:Retrying langchain.chat_models.openai.acompletion_with_retry.<locals>._completion_with_retry in 1.0 seconds as it raised RateLimitError: Rate limit reached for default-gpt-3.5-turbo in organization org-fUMgGI6gSqUWLozt4nlYWmsL on tokens per min. Limit: 90000 / min. Current: 88886 / min. Contact us through our help center at help.openai.com if you continue to have issues..\n"
          ]
        },
        {
          "output_type": "stream",
          "name": "stdout",
          "text": [
            "Sports\n",
            "Business\n",
            "Sports\n"
          ]
        },
        {
          "output_type": "stream",
          "name": "stderr",
          "text": [
            "WARNING:langchain.chat_models.openai:Retrying langchain.chat_models.openai.acompletion_with_retry.<locals>._completion_with_retry in 1.0 seconds as it raised RateLimitError: Rate limit reached for default-gpt-3.5-turbo in organization org-fUMgGI6gSqUWLozt4nlYWmsL on tokens per min. Limit: 90000 / min. Current: 88945 / min. Contact us through our help center at help.openai.com if you continue to have issues..\n"
          ]
        },
        {
          "output_type": "stream",
          "name": "stdout",
          "text": [
            "Politics\n",
            "Sports\n"
          ]
        },
        {
          "output_type": "stream",
          "name": "stderr",
          "text": [
            "WARNING:langchain.chat_models.openai:Retrying langchain.chat_models.openai.acompletion_with_retry.<locals>._completion_with_retry in 2.0 seconds as it raised RateLimitError: That model is currently overloaded with other requests. You can retry your request, or contact us through our help center at help.openai.com if the error persists. (Please include the request ID 4036d993d097ad21c80140ed13d76f2d in your message.).\n"
          ]
        },
        {
          "output_type": "stream",
          "name": "stdout",
          "text": [
            "Sports\n"
          ]
        },
        {
          "output_type": "stream",
          "name": "stderr",
          "text": [
            "WARNING:langchain.chat_models.openai:Retrying langchain.chat_models.openai.acompletion_with_retry.<locals>._completion_with_retry in 1.0 seconds as it raised RateLimitError: Rate limit reached for default-gpt-3.5-turbo in organization org-fUMgGI6gSqUWLozt4nlYWmsL on tokens per min. Limit: 90000 / min. Current: 89081 / min. Contact us through our help center at help.openai.com if you continue to have issues..\n"
          ]
        },
        {
          "output_type": "stream",
          "name": "stdout",
          "text": [
            "Sports\n"
          ]
        },
        {
          "output_type": "stream",
          "name": "stderr",
          "text": [
            "WARNING:langchain.chat_models.openai:Retrying langchain.chat_models.openai.acompletion_with_retry.<locals>._completion_with_retry in 4.0 seconds as it raised RateLimitError: Rate limit reached for default-gpt-3.5-turbo in organization org-fUMgGI6gSqUWLozt4nlYWmsL on tokens per min. Limit: 90000 / min. Current: 88952 / min. Contact us through our help center at help.openai.com if you continue to have issues..\n"
          ]
        },
        {
          "output_type": "stream",
          "name": "stdout",
          "text": [
            "Politics\n",
            "Sports\n",
            "Software and Development\n",
            "Entertainment\n",
            "Business\n",
            "Sports\n",
            "Sports\n",
            "Sports\n",
            "Business\n",
            "Health\n"
          ]
        },
        {
          "output_type": "stream",
          "name": "stderr",
          "text": [
            "WARNING:langchain.chat_models.openai:Retrying langchain.chat_models.openai.acompletion_with_retry.<locals>._completion_with_retry in 1.0 seconds as it raised RateLimitError: Rate limit reached for default-gpt-3.5-turbo in organization org-fUMgGI6gSqUWLozt4nlYWmsL on tokens per min. Limit: 90000 / min. Current: 88862 / min. Contact us through our help center at help.openai.com if you continue to have issues..\n"
          ]
        },
        {
          "output_type": "stream",
          "name": "stdout",
          "text": [
            "Animals/Pets\n",
            "Entertainment\n",
            "Sports\n",
            "Entertainment\n"
          ]
        },
        {
          "output_type": "stream",
          "name": "stderr",
          "text": [
            "WARNING:langchain.chat_models.openai:Retrying langchain.chat_models.openai.acompletion_with_retry.<locals>._completion_with_retry in 1.0 seconds as it raised RateLimitError: Rate limit reached for default-gpt-3.5-turbo in organization org-fUMgGI6gSqUWLozt4nlYWmsL on tokens per min. Limit: 90000 / min. Current: 89138 / min. Contact us through our help center at help.openai.com if you continue to have issues..\n"
          ]
        },
        {
          "output_type": "stream",
          "name": "stdout",
          "text": [
            "Sports\n",
            "Sports\n",
            "Sports\n"
          ]
        },
        {
          "output_type": "stream",
          "name": "stderr",
          "text": [
            "WARNING:langchain.chat_models.openai:Retrying langchain.chat_models.openai.acompletion_with_retry.<locals>._completion_with_retry in 1.0 seconds as it raised RateLimitError: Rate limit reached for default-gpt-3.5-turbo in organization org-fUMgGI6gSqUWLozt4nlYWmsL on tokens per min. Limit: 90000 / min. Current: 89327 / min. Contact us through our help center at help.openai.com if you continue to have issues..\n"
          ]
        },
        {
          "output_type": "stream",
          "name": "stdout",
          "text": [
            "Business\n",
            "Sports\n"
          ]
        },
        {
          "output_type": "stream",
          "name": "stderr",
          "text": [
            "WARNING:langchain.chat_models.openai:Retrying langchain.chat_models.openai.acompletion_with_retry.<locals>._completion_with_retry in 1.0 seconds as it raised RateLimitError: Rate limit reached for default-gpt-3.5-turbo in organization org-fUMgGI6gSqUWLozt4nlYWmsL on tokens per min. Limit: 90000 / min. Current: 88806 / min. Contact us through our help center at help.openai.com if you continue to have issues..\n"
          ]
        },
        {
          "output_type": "stream",
          "name": "stdout",
          "text": [
            "Weather/Natural Disaster\n",
            "Sci/Tech\n",
            "Business\n",
            "Sports\n"
          ]
        },
        {
          "output_type": "stream",
          "name": "stderr",
          "text": [
            "WARNING:langchain.chat_models.openai:Retrying langchain.chat_models.openai.acompletion_with_retry.<locals>._completion_with_retry in 1.0 seconds as it raised RateLimitError: Rate limit reached for default-gpt-3.5-turbo in organization org-fUMgGI6gSqUWLozt4nlYWmsL on tokens per min. Limit: 90000 / min. Current: 89273 / min. Contact us through our help center at help.openai.com if you continue to have issues..\n"
          ]
        },
        {
          "output_type": "stream",
          "name": "stdout",
          "text": [
            "Software and Development\n",
            "Politics/International Relations\n",
            "Business\n"
          ]
        },
        {
          "output_type": "stream",
          "name": "stderr",
          "text": [
            "WARNING:langchain.chat_models.openai:Retrying langchain.chat_models.openai.acompletion_with_retry.<locals>._completion_with_retry in 1.0 seconds as it raised RateLimitError: Rate limit reached for default-gpt-3.5-turbo in organization org-fUMgGI6gSqUWLozt4nlYWmsL on tokens per min. Limit: 90000 / min. Current: 89131 / min. Contact us through our help center at help.openai.com if you continue to have issues..\n"
          ]
        },
        {
          "output_type": "stream",
          "name": "stdout",
          "text": [
            "Sports\n",
            "Business\n",
            "Politics\n"
          ]
        },
        {
          "output_type": "stream",
          "name": "stderr",
          "text": [
            "WARNING:langchain.chat_models.openai:Retrying langchain.chat_models.openai.acompletion_with_retry.<locals>._completion_with_retry in 1.0 seconds as it raised RateLimitError: Rate limit reached for default-gpt-3.5-turbo in organization org-fUMgGI6gSqUWLozt4nlYWmsL on tokens per min. Limit: 90000 / min. Current: 88837 / min. Contact us through our help center at help.openai.com if you continue to have issues..\n"
          ]
        },
        {
          "output_type": "stream",
          "name": "stdout",
          "text": [
            "Business\n",
            "Business\n",
            "Business\n"
          ]
        },
        {
          "output_type": "stream",
          "name": "stderr",
          "text": [
            "WARNING:langchain.chat_models.openai:Retrying langchain.chat_models.openai.acompletion_with_retry.<locals>._completion_with_retry in 1.0 seconds as it raised RateLimitError: Rate limit reached for default-gpt-3.5-turbo in organization org-fUMgGI6gSqUWLozt4nlYWmsL on tokens per min. Limit: 90000 / min. Current: 88919 / min. Contact us through our help center at help.openai.com if you continue to have issues..\n"
          ]
        },
        {
          "output_type": "stream",
          "name": "stdout",
          "text": [
            "Software and Development\n",
            "Sports\n"
          ]
        },
        {
          "output_type": "stream",
          "name": "stderr",
          "text": [
            "WARNING:langchain.chat_models.openai:Retrying langchain.chat_models.openai.acompletion_with_retry.<locals>._completion_with_retry in 1.0 seconds as it raised RateLimitError: That model is currently overloaded with other requests. You can retry your request, or contact us through our help center at help.openai.com if the error persists. (Please include the request ID c02983c2d79f0159186cca4652064a3a in your message.).\n"
          ]
        },
        {
          "output_type": "stream",
          "name": "stdout",
          "text": [
            "Politics/Law\n"
          ]
        },
        {
          "output_type": "stream",
          "name": "stderr",
          "text": [
            "WARNING:langchain.chat_models.openai:Retrying langchain.chat_models.openai.acompletion_with_retry.<locals>._completion_with_retry in 2.0 seconds as it raised RateLimitError: Rate limit reached for default-gpt-3.5-turbo in organization org-fUMgGI6gSqUWLozt4nlYWmsL on tokens per min. Limit: 90000 / min. Current: 89112 / min. Contact us through our help center at help.openai.com if you continue to have issues..\n"
          ]
        },
        {
          "output_type": "stream",
          "name": "stdout",
          "text": [
            "Software and Development\n"
          ]
        },
        {
          "output_type": "stream",
          "name": "stderr",
          "text": [
            "WARNING:langchain.chat_models.openai:Retrying langchain.chat_models.openai.acompletion_with_retry.<locals>._completion_with_retry in 1.0 seconds as it raised RateLimitError: Rate limit reached for default-gpt-3.5-turbo in organization org-fUMgGI6gSqUWLozt4nlYWmsL on tokens per min. Limit: 90000 / min. Current: 88841 / min. Contact us through our help center at help.openai.com if you continue to have issues..\n"
          ]
        },
        {
          "output_type": "stream",
          "name": "stdout",
          "text": [
            "Business\n",
            "Business\n"
          ]
        },
        {
          "output_type": "stream",
          "name": "stderr",
          "text": [
            "WARNING:langchain.chat_models.openai:Retrying langchain.chat_models.openai.acompletion_with_retry.<locals>._completion_with_retry in 1.0 seconds as it raised RateLimitError: Rate limit reached for default-gpt-3.5-turbo in organization org-fUMgGI6gSqUWLozt4nlYWmsL on tokens per min. Limit: 90000 / min. Current: 89693 / min. Contact us through our help center at help.openai.com if you continue to have issues..\n"
          ]
        },
        {
          "output_type": "stream",
          "name": "stdout",
          "text": [
            "Sports\n"
          ]
        },
        {
          "output_type": "stream",
          "name": "stderr",
          "text": [
            "WARNING:langchain.chat_models.openai:Retrying langchain.chat_models.openai.acompletion_with_retry.<locals>._completion_with_retry in 1.0 seconds as it raised RateLimitError: Rate limit reached for default-gpt-3.5-turbo in organization org-fUMgGI6gSqUWLozt4nlYWmsL on tokens per min. Limit: 90000 / min. Current: 89111 / min. Contact us through our help center at help.openai.com if you continue to have issues..\n"
          ]
        },
        {
          "output_type": "stream",
          "name": "stdout",
          "text": [
            "Sci/Tech\n"
          ]
        },
        {
          "output_type": "stream",
          "name": "stderr",
          "text": [
            "WARNING:langchain.chat_models.openai:Retrying langchain.chat_models.openai.acompletion_with_retry.<locals>._completion_with_retry in 1.0 seconds as it raised RateLimitError: Rate limit reached for default-gpt-3.5-turbo in organization org-fUMgGI6gSqUWLozt4nlYWmsL on tokens per min. Limit: 90000 / min. Current: 89838 / min. Contact us through our help center at help.openai.com if you continue to have issues..\n"
          ]
        },
        {
          "output_type": "stream",
          "name": "stdout",
          "text": [
            "Health\n"
          ]
        },
        {
          "output_type": "stream",
          "name": "stderr",
          "text": [
            "WARNING:langchain.chat_models.openai:Retrying langchain.chat_models.openai.acompletion_with_retry.<locals>._completion_with_retry in 1.0 seconds as it raised RateLimitError: Rate limit reached for default-gpt-3.5-turbo in organization org-fUMgGI6gSqUWLozt4nlYWmsL on tokens per min. Limit: 90000 / min. Current: 89237 / min. Contact us through our help center at help.openai.com if you continue to have issues..\n",
            "WARNING:langchain.chat_models.openai:Retrying langchain.chat_models.openai.acompletion_with_retry.<locals>._completion_with_retry in 2.0 seconds as it raised RateLimitError: Rate limit reached for default-gpt-3.5-turbo in organization org-fUMgGI6gSqUWLozt4nlYWmsL on tokens per min. Limit: 90000 / min. Current: 88723 / min. Contact us through our help center at help.openai.com if you continue to have issues..\n"
          ]
        },
        {
          "output_type": "stream",
          "name": "stdout",
          "text": [
            "Business\n",
            "Software and Development\n",
            "Business\n",
            "Sports\n"
          ]
        },
        {
          "output_type": "stream",
          "name": "stderr",
          "text": [
            "WARNING:langchain.chat_models.openai:Retrying langchain.chat_models.openai.acompletion_with_retry.<locals>._completion_with_retry in 1.0 seconds as it raised RateLimitError: Rate limit reached for default-gpt-3.5-turbo in organization org-fUMgGI6gSqUWLozt4nlYWmsL on tokens per min. Limit: 90000 / min. Current: 88703 / min. Contact us through our help center at help.openai.com if you continue to have issues..\n"
          ]
        },
        {
          "output_type": "stream",
          "name": "stdout",
          "text": [
            "Politics\n",
            "Business\n",
            "Sports\n",
            "Sports\n"
          ]
        },
        {
          "output_type": "stream",
          "name": "stderr",
          "text": [
            "WARNING:langchain.chat_models.openai:Retrying langchain.chat_models.openai.acompletion_with_retry.<locals>._completion_with_retry in 1.0 seconds as it raised RateLimitError: Rate limit reached for default-gpt-3.5-turbo in organization org-fUMgGI6gSqUWLozt4nlYWmsL on tokens per min. Limit: 90000 / min. Current: 88958 / min. Contact us through our help center at help.openai.com if you continue to have issues..\n"
          ]
        },
        {
          "output_type": "stream",
          "name": "stdout",
          "text": [
            "Business\n",
            "Sports\n",
            "Software and Development\n"
          ]
        },
        {
          "output_type": "stream",
          "name": "stderr",
          "text": [
            "WARNING:langchain.chat_models.openai:Retrying langchain.chat_models.openai.acompletion_with_retry.<locals>._completion_with_retry in 1.0 seconds as it raised RateLimitError: Rate limit reached for default-gpt-3.5-turbo in organization org-fUMgGI6gSqUWLozt4nlYWmsL on tokens per min. Limit: 90000 / min. Current: 88901 / min. Contact us through our help center at help.openai.com if you continue to have issues..\n"
          ]
        },
        {
          "output_type": "stream",
          "name": "stdout",
          "text": [
            "Software and Development\n"
          ]
        },
        {
          "output_type": "stream",
          "name": "stderr",
          "text": [
            "WARNING:langchain.chat_models.openai:Retrying langchain.chat_models.openai.acompletion_with_retry.<locals>._completion_with_retry in 1.0 seconds as it raised RateLimitError: That model is currently overloaded with other requests. You can retry your request, or contact us through our help center at help.openai.com if the error persists. (Please include the request ID b15e33e251d9c97b4c42c65d01a65381 in your message.).\n"
          ]
        },
        {
          "output_type": "stream",
          "name": "stdout",
          "text": [
            "Sports\n",
            "Entertainment\n",
            "Business\n",
            "Sports\n",
            "Sports\n",
            "Business\n",
            "Music Feeds\n",
            "Sci/Tech\n",
            "Sports\n",
            "Sports\n",
            "Health\n",
            "Entertainment\n",
            "Politics/Current Events\n",
            "Business\n",
            "Business\n",
            "Sports\n",
            "Sports\n",
            "Software and Development\n",
            "Business\n"
          ]
        },
        {
          "output_type": "stream",
          "name": "stderr",
          "text": [
            "WARNING:langchain.chat_models.openai:Retrying langchain.chat_models.openai.acompletion_with_retry.<locals>._completion_with_retry in 1.0 seconds as it raised RateLimitError: That model is currently overloaded with other requests. You can retry your request, or contact us through our help center at help.openai.com if the error persists. (Please include the request ID 4b334c209c3decc77ca390ec79bb7d27 in your message.).\n"
          ]
        },
        {
          "output_type": "stream",
          "name": "stdout",
          "text": [
            "Health\n",
            "Business\n",
            "Sports\n",
            "Sports\n",
            "Sports\n",
            "Toons\n",
            "Sports\n",
            "Entertainment\n",
            "Entertainment\n",
            "Sports\n",
            "Sci/Tech\n",
            "Entertainment\n",
            "Sports\n",
            "Health\n",
            "Sports\n",
            "Sports\n",
            "Software and Development\n",
            "Sci/Tech\n",
            "Sports\n",
            "Sports\n",
            "Sci/Tech\n",
            "Sports\n"
          ]
        },
        {
          "output_type": "stream",
          "name": "stderr",
          "text": [
            "WARNING:langchain.chat_models.openai:Retrying langchain.chat_models.openai.acompletion_with_retry.<locals>._completion_with_retry in 1.0 seconds as it raised RateLimitError: Rate limit reached for default-gpt-3.5-turbo in organization org-fUMgGI6gSqUWLozt4nlYWmsL on tokens per min. Limit: 90000 / min. Current: 89291 / min. Contact us through our help center at help.openai.com if you continue to have issues..\n",
            "WARNING:langchain.chat_models.openai:Retrying langchain.chat_models.openai.acompletion_with_retry.<locals>._completion_with_retry in 1.0 seconds as it raised RateLimitError: Rate limit reached for default-gpt-3.5-turbo in organization org-fUMgGI6gSqUWLozt4nlYWmsL on tokens per min. Limit: 90000 / min. Current: 89110 / min. Contact us through our help center at help.openai.com if you continue to have issues..\n"
          ]
        },
        {
          "output_type": "stream",
          "name": "stdout",
          "text": [
            "Business\n",
            "Health\n"
          ]
        },
        {
          "output_type": "stream",
          "name": "stderr",
          "text": [
            "WARNING:langchain.chat_models.openai:Retrying langchain.chat_models.openai.acompletion_with_retry.<locals>._completion_with_retry in 1.0 seconds as it raised RateLimitError: Rate limit reached for default-gpt-3.5-turbo in organization org-fUMgGI6gSqUWLozt4nlYWmsL on tokens per min. Limit: 90000 / min. Current: 89423 / min. Contact us through our help center at help.openai.com if you continue to have issues..\n",
            "WARNING:langchain.chat_models.openai:Retrying langchain.chat_models.openai.acompletion_with_retry.<locals>._completion_with_retry in 1.0 seconds as it raised RateLimitError: Rate limit reached for default-gpt-3.5-turbo in organization org-fUMgGI6gSqUWLozt4nlYWmsL on tokens per min. Limit: 90000 / min. Current: 89190 / min. Contact us through our help center at help.openai.com if you continue to have issues..\n"
          ]
        },
        {
          "output_type": "stream",
          "name": "stdout",
          "text": [
            "Sports\n",
            "Music Feeds\n"
          ]
        },
        {
          "output_type": "stream",
          "name": "stderr",
          "text": [
            "WARNING:langchain.chat_models.openai:Retrying langchain.chat_models.openai.acompletion_with_retry.<locals>._completion_with_retry in 1.0 seconds as it raised RateLimitError: Rate limit reached for default-gpt-3.5-turbo in organization org-fUMgGI6gSqUWLozt4nlYWmsL on tokens per min. Limit: 90000 / min. Current: 89562 / min. Contact us through our help center at help.openai.com if you continue to have issues..\n",
            "WARNING:langchain.chat_models.openai:Retrying langchain.chat_models.openai.acompletion_with_retry.<locals>._completion_with_retry in 1.0 seconds as it raised RateLimitError: Rate limit reached for default-gpt-3.5-turbo in organization org-fUMgGI6gSqUWLozt4nlYWmsL on tokens per min. Limit: 90000 / min. Current: 89300 / min. Contact us through our help center at help.openai.com if you continue to have issues..\n",
            "WARNING:langchain.chat_models.openai:Retrying langchain.chat_models.openai.acompletion_with_retry.<locals>._completion_with_retry in 2.0 seconds as it raised RateLimitError: Rate limit reached for default-gpt-3.5-turbo in organization org-fUMgGI6gSqUWLozt4nlYWmsL on tokens per min. Limit: 90000 / min. Current: 88809 / min. Contact us through our help center at help.openai.com if you continue to have issues..\n"
          ]
        },
        {
          "output_type": "stream",
          "name": "stdout",
          "text": [
            "Sports\n",
            "Entertainment\n"
          ]
        },
        {
          "output_type": "stream",
          "name": "stderr",
          "text": [
            "WARNING:langchain.chat_models.openai:Retrying langchain.chat_models.openai.acompletion_with_retry.<locals>._completion_with_retry in 1.0 seconds as it raised RateLimitError: Rate limit reached for default-gpt-3.5-turbo in organization org-fUMgGI6gSqUWLozt4nlYWmsL on tokens per min. Limit: 90000 / min. Current: 88939 / min. Contact us through our help center at help.openai.com if you continue to have issues..\n"
          ]
        },
        {
          "output_type": "stream",
          "name": "stdout",
          "text": [
            "Business\n"
          ]
        },
        {
          "output_type": "stream",
          "name": "stderr",
          "text": [
            "WARNING:langchain.chat_models.openai:Retrying langchain.chat_models.openai.acompletion_with_retry.<locals>._completion_with_retry in 1.0 seconds as it raised RateLimitError: Rate limit reached for default-gpt-3.5-turbo in organization org-fUMgGI6gSqUWLozt4nlYWmsL on tokens per min. Limit: 90000 / min. Current: 89100 / min. Contact us through our help center at help.openai.com if you continue to have issues..\n"
          ]
        },
        {
          "output_type": "stream",
          "name": "stdout",
          "text": [
            "Entertainment\n",
            "Sci/Tech\n"
          ]
        },
        {
          "output_type": "stream",
          "name": "stderr",
          "text": [
            "WARNING:langchain.chat_models.openai:Retrying langchain.chat_models.openai.acompletion_with_retry.<locals>._completion_with_retry in 1.0 seconds as it raised RateLimitError: Rate limit reached for default-gpt-3.5-turbo in organization org-fUMgGI6gSqUWLozt4nlYWmsL on tokens per min. Limit: 90000 / min. Current: 89121 / min. Contact us through our help center at help.openai.com if you continue to have issues..\n"
          ]
        },
        {
          "output_type": "stream",
          "name": "stdout",
          "text": [
            "Health\n"
          ]
        },
        {
          "output_type": "stream",
          "name": "stderr",
          "text": [
            "WARNING:langchain.chat_models.openai:Retrying langchain.chat_models.openai.acompletion_with_retry.<locals>._completion_with_retry in 1.0 seconds as it raised RateLimitError: Rate limit reached for default-gpt-3.5-turbo in organization org-fUMgGI6gSqUWLozt4nlYWmsL on tokens per min. Limit: 90000 / min. Current: 89266 / min. Contact us through our help center at help.openai.com if you continue to have issues..\n"
          ]
        },
        {
          "output_type": "stream",
          "name": "stdout",
          "text": [
            "Business\n"
          ]
        },
        {
          "output_type": "stream",
          "name": "stderr",
          "text": [
            "WARNING:langchain.chat_models.openai:Retrying langchain.chat_models.openai.acompletion_with_retry.<locals>._completion_with_retry in 1.0 seconds as it raised RateLimitError: Rate limit reached for default-gpt-3.5-turbo in organization org-fUMgGI6gSqUWLozt4nlYWmsL on tokens per min. Limit: 90000 / min. Current: 89158 / min. Contact us through our help center at help.openai.com if you continue to have issues..\n",
            "WARNING:langchain.chat_models.openai:Retrying langchain.chat_models.openai.acompletion_with_retry.<locals>._completion_with_retry in 2.0 seconds as it raised RateLimitError: Rate limit reached for default-gpt-3.5-turbo in organization org-fUMgGI6gSqUWLozt4nlYWmsL on tokens per min. Limit: 90000 / min. Current: 88734 / min. Contact us through our help center at help.openai.com if you continue to have issues..\n"
          ]
        },
        {
          "output_type": "stream",
          "name": "stdout",
          "text": [
            "Sports\n",
            "Terrorism/International Affairs\n"
          ]
        },
        {
          "output_type": "stream",
          "name": "stderr",
          "text": [
            "WARNING:langchain.chat_models.openai:Retrying langchain.chat_models.openai.acompletion_with_retry.<locals>._completion_with_retry in 4.0 seconds as it raised RateLimitError: Rate limit reached for default-gpt-3.5-turbo in organization org-fUMgGI6gSqUWLozt4nlYWmsL on tokens per min. Limit: 90000 / min. Current: 89329 / min. Contact us through our help center at help.openai.com if you continue to have issues..\n"
          ]
        },
        {
          "output_type": "stream",
          "name": "stdout",
          "text": [
            "Business\n"
          ]
        },
        {
          "output_type": "stream",
          "name": "stderr",
          "text": [
            "WARNING:langchain.chat_models.openai:Retrying langchain.chat_models.openai.acompletion_with_retry.<locals>._completion_with_retry in 1.0 seconds as it raised RateLimitError: Rate limit reached for default-gpt-3.5-turbo in organization org-fUMgGI6gSqUWLozt4nlYWmsL on tokens per min. Limit: 90000 / min. Current: 89149 / min. Contact us through our help center at help.openai.com if you continue to have issues..\n"
          ]
        },
        {
          "output_type": "stream",
          "name": "stdout",
          "text": [
            "Sci/Tech\n",
            "Sports\n",
            "Business\n"
          ]
        },
        {
          "output_type": "stream",
          "name": "stderr",
          "text": [
            "WARNING:langchain.chat_models.openai:Retrying langchain.chat_models.openai.acompletion_with_retry.<locals>._completion_with_retry in 1.0 seconds as it raised RateLimitError: Rate limit reached for default-gpt-3.5-turbo in organization org-fUMgGI6gSqUWLozt4nlYWmsL on tokens per min. Limit: 90000 / min. Current: 89102 / min. Contact us through our help center at help.openai.com if you continue to have issues..\n"
          ]
        },
        {
          "output_type": "stream",
          "name": "stdout",
          "text": [
            "Politics\n"
          ]
        },
        {
          "output_type": "stream",
          "name": "stderr",
          "text": [
            "WARNING:langchain.chat_models.openai:Retrying langchain.chat_models.openai.acompletion_with_retry.<locals>._completion_with_retry in 1.0 seconds as it raised RateLimitError: Rate limit reached for default-gpt-3.5-turbo in organization org-fUMgGI6gSqUWLozt4nlYWmsL on tokens per min. Limit: 90000 / min. Current: 89358 / min. Contact us through our help center at help.openai.com if you continue to have issues..\n"
          ]
        },
        {
          "output_type": "stream",
          "name": "stdout",
          "text": [
            "Health\n",
            "Health\n"
          ]
        },
        {
          "output_type": "stream",
          "name": "stderr",
          "text": [
            "WARNING:langchain.chat_models.openai:Retrying langchain.chat_models.openai.acompletion_with_retry.<locals>._completion_with_retry in 1.0 seconds as it raised RateLimitError: Rate limit reached for default-gpt-3.5-turbo in organization org-fUMgGI6gSqUWLozt4nlYWmsL on tokens per min. Limit: 90000 / min. Current: 88953 / min. Contact us through our help center at help.openai.com if you continue to have issues..\n",
            "WARNING:langchain.chat_models.openai:Retrying langchain.chat_models.openai.acompletion_with_retry.<locals>._completion_with_retry in 2.0 seconds as it raised RateLimitError: Rate limit reached for default-gpt-3.5-turbo in organization org-fUMgGI6gSqUWLozt4nlYWmsL on tokens per min. Limit: 90000 / min. Current: 88851 / min. Contact us through our help center at help.openai.com if you continue to have issues..\n"
          ]
        },
        {
          "output_type": "stream",
          "name": "stdout",
          "text": [
            "Sports\n",
            "Politics\n"
          ]
        },
        {
          "output_type": "stream",
          "name": "stderr",
          "text": [
            "WARNING:langchain.chat_models.openai:Retrying langchain.chat_models.openai.acompletion_with_retry.<locals>._completion_with_retry in 4.0 seconds as it raised RateLimitError: Rate limit reached for default-gpt-3.5-turbo in organization org-fUMgGI6gSqUWLozt4nlYWmsL on tokens per min. Limit: 90000 / min. Current: 89472 / min. Contact us through our help center at help.openai.com if you continue to have issues..\n"
          ]
        },
        {
          "output_type": "stream",
          "name": "stdout",
          "text": [
            "Health\n"
          ]
        },
        {
          "output_type": "stream",
          "name": "stderr",
          "text": [
            "WARNING:langchain.chat_models.openai:Retrying langchain.chat_models.openai.acompletion_with_retry.<locals>._completion_with_retry in 1.0 seconds as it raised RateLimitError: Rate limit reached for default-gpt-3.5-turbo in organization org-fUMgGI6gSqUWLozt4nlYWmsL on tokens per min. Limit: 90000 / min. Current: 89026 / min. Contact us through our help center at help.openai.com if you continue to have issues..\n"
          ]
        },
        {
          "output_type": "stream",
          "name": "stdout",
          "text": [
            "Health\n",
            "Sports\n",
            "Music Feeds\n"
          ]
        },
        {
          "output_type": "stream",
          "name": "stderr",
          "text": [
            "WARNING:langchain.chat_models.openai:Retrying langchain.chat_models.openai.acompletion_with_retry.<locals>._completion_with_retry in 1.0 seconds as it raised RateLimitError: Rate limit reached for default-gpt-3.5-turbo in organization org-fUMgGI6gSqUWLozt4nlYWmsL on tokens per min. Limit: 90000 / min. Current: 89000 / min. Contact us through our help center at help.openai.com if you continue to have issues..\n"
          ]
        },
        {
          "output_type": "stream",
          "name": "stdout",
          "text": [
            "Sports\n",
            "Health\n"
          ]
        },
        {
          "output_type": "stream",
          "name": "stderr",
          "text": [
            "WARNING:langchain.chat_models.openai:Retrying langchain.chat_models.openai.acompletion_with_retry.<locals>._completion_with_retry in 1.0 seconds as it raised RateLimitError: Rate limit reached for default-gpt-3.5-turbo in organization org-fUMgGI6gSqUWLozt4nlYWmsL on tokens per min. Limit: 90000 / min. Current: 89143 / min. Contact us through our help center at help.openai.com if you continue to have issues..\n"
          ]
        },
        {
          "output_type": "stream",
          "name": "stdout",
          "text": [
            "Sports\n"
          ]
        },
        {
          "output_type": "stream",
          "name": "stderr",
          "text": [
            "WARNING:langchain.chat_models.openai:Retrying langchain.chat_models.openai.acompletion_with_retry.<locals>._completion_with_retry in 1.0 seconds as it raised RateLimitError: Rate limit reached for default-gpt-3.5-turbo in organization org-fUMgGI6gSqUWLozt4nlYWmsL on tokens per min. Limit: 90000 / min. Current: 89032 / min. Contact us through our help center at help.openai.com if you continue to have issues..\n"
          ]
        },
        {
          "output_type": "stream",
          "name": "stdout",
          "text": [
            "Sports\n"
          ]
        },
        {
          "output_type": "stream",
          "name": "stderr",
          "text": [
            "WARNING:langchain.chat_models.openai:Retrying langchain.chat_models.openai.acompletion_with_retry.<locals>._completion_with_retry in 1.0 seconds as it raised RateLimitError: Rate limit reached for default-gpt-3.5-turbo in organization org-fUMgGI6gSqUWLozt4nlYWmsL on tokens per min. Limit: 90000 / min. Current: 89154 / min. Contact us through our help center at help.openai.com if you continue to have issues..\n"
          ]
        },
        {
          "output_type": "stream",
          "name": "stdout",
          "text": [
            "Sci/Tech\n"
          ]
        },
        {
          "output_type": "stream",
          "name": "stderr",
          "text": [
            "WARNING:langchain.chat_models.openai:Retrying langchain.chat_models.openai.acompletion_with_retry.<locals>._completion_with_retry in 1.0 seconds as it raised RateLimitError: Rate limit reached for default-gpt-3.5-turbo in organization org-fUMgGI6gSqUWLozt4nlYWmsL on tokens per min. Limit: 90000 / min. Current: 88950 / min. Contact us through our help center at help.openai.com if you continue to have issues..\n"
          ]
        },
        {
          "output_type": "stream",
          "name": "stdout",
          "text": [
            "Entertainment\n"
          ]
        },
        {
          "output_type": "stream",
          "name": "stderr",
          "text": [
            "WARNING:langchain.chat_models.openai:Retrying langchain.chat_models.openai.acompletion_with_retry.<locals>._completion_with_retry in 1.0 seconds as it raised RateLimitError: Rate limit reached for default-gpt-3.5-turbo in organization org-fUMgGI6gSqUWLozt4nlYWmsL on tokens per min. Limit: 90000 / min. Current: 89117 / min. Contact us through our help center at help.openai.com if you continue to have issues..\n"
          ]
        },
        {
          "output_type": "stream",
          "name": "stdout",
          "text": [
            "Sports\n"
          ]
        },
        {
          "output_type": "stream",
          "name": "stderr",
          "text": [
            "WARNING:langchain.chat_models.openai:Retrying langchain.chat_models.openai.acompletion_with_retry.<locals>._completion_with_retry in 1.0 seconds as it raised RateLimitError: Rate limit reached for default-gpt-3.5-turbo in organization org-fUMgGI6gSqUWLozt4nlYWmsL on tokens per min. Limit: 90000 / min. Current: 88994 / min. Contact us through our help center at help.openai.com if you continue to have issues..\n"
          ]
        },
        {
          "output_type": "stream",
          "name": "stdout",
          "text": [
            "Sports\n"
          ]
        },
        {
          "output_type": "stream",
          "name": "stderr",
          "text": [
            "WARNING:langchain.chat_models.openai:Retrying langchain.chat_models.openai.acompletion_with_retry.<locals>._completion_with_retry in 1.0 seconds as it raised RateLimitError: Rate limit reached for default-gpt-3.5-turbo in organization org-fUMgGI6gSqUWLozt4nlYWmsL on tokens per min. Limit: 90000 / min. Current: 89169 / min. Contact us through our help center at help.openai.com if you continue to have issues..\n"
          ]
        },
        {
          "output_type": "stream",
          "name": "stdout",
          "text": [
            "Sports\n"
          ]
        },
        {
          "output_type": "stream",
          "name": "stderr",
          "text": [
            "WARNING:langchain.chat_models.openai:Retrying langchain.chat_models.openai.acompletion_with_retry.<locals>._completion_with_retry in 1.0 seconds as it raised RateLimitError: Rate limit reached for default-gpt-3.5-turbo in organization org-fUMgGI6gSqUWLozt4nlYWmsL on tokens per min. Limit: 90000 / min. Current: 89187 / min. Contact us through our help center at help.openai.com if you continue to have issues..\n"
          ]
        },
        {
          "output_type": "stream",
          "name": "stdout",
          "text": [
            "I'm sorry, but there is no article provided for me to classify. Please provide an article for me to classify.\n",
            "Software and Development\n"
          ]
        },
        {
          "output_type": "stream",
          "name": "stderr",
          "text": [
            "WARNING:langchain.chat_models.openai:Retrying langchain.chat_models.openai.acompletion_with_retry.<locals>._completion_with_retry in 1.0 seconds as it raised RateLimitError: Rate limit reached for default-gpt-3.5-turbo in organization org-fUMgGI6gSqUWLozt4nlYWmsL on tokens per min. Limit: 90000 / min. Current: 89103 / min. Contact us through our help center at help.openai.com if you continue to have issues..\n",
            "WARNING:langchain.chat_models.openai:Retrying langchain.chat_models.openai.acompletion_with_retry.<locals>._completion_with_retry in 1.0 seconds as it raised RateLimitError: Rate limit reached for default-gpt-3.5-turbo in organization org-fUMgGI6gSqUWLozt4nlYWmsL on tokens per min. Limit: 90000 / min. Current: 89086 / min. Contact us through our help center at help.openai.com if you continue to have issues..\n"
          ]
        },
        {
          "output_type": "stream",
          "name": "stdout",
          "text": [
            "Sports\n",
            "Health\n"
          ]
        },
        {
          "output_type": "stream",
          "name": "stderr",
          "text": [
            "WARNING:langchain.chat_models.openai:Retrying langchain.chat_models.openai.acompletion_with_retry.<locals>._completion_with_retry in 1.0 seconds as it raised RateLimitError: Rate limit reached for default-gpt-3.5-turbo in organization org-fUMgGI6gSqUWLozt4nlYWmsL on tokens per min. Limit: 90000 / min. Current: 89293 / min. Contact us through our help center at help.openai.com if you continue to have issues..\n",
            "WARNING:langchain.chat_models.openai:Retrying langchain.chat_models.openai.acompletion_with_retry.<locals>._completion_with_retry in 1.0 seconds as it raised RateLimitError: Rate limit reached for default-gpt-3.5-turbo in organization org-fUMgGI6gSqUWLozt4nlYWmsL on tokens per min. Limit: 90000 / min. Current: 89194 / min. Contact us through our help center at help.openai.com if you continue to have issues..\n"
          ]
        },
        {
          "output_type": "stream",
          "name": "stdout",
          "text": [
            "Sports\n",
            "Entertainment\n"
          ]
        },
        {
          "output_type": "stream",
          "name": "stderr",
          "text": [
            "WARNING:langchain.chat_models.openai:Retrying langchain.chat_models.openai.acompletion_with_retry.<locals>._completion_with_retry in 1.0 seconds as it raised RateLimitError: Rate limit reached for default-gpt-3.5-turbo in organization org-fUMgGI6gSqUWLozt4nlYWmsL on tokens per min. Limit: 90000 / min. Current: 89265 / min. Contact us through our help center at help.openai.com if you continue to have issues..\n",
            "WARNING:langchain.chat_models.openai:Retrying langchain.chat_models.openai.acompletion_with_retry.<locals>._completion_with_retry in 1.0 seconds as it raised RateLimitError: Rate limit reached for default-gpt-3.5-turbo in organization org-fUMgGI6gSqUWLozt4nlYWmsL on tokens per min. Limit: 90000 / min. Current: 89228 / min. Contact us through our help center at help.openai.com if you continue to have issues..\n",
            "WARNING:langchain.chat_models.openai:Retrying langchain.chat_models.openai.acompletion_with_retry.<locals>._completion_with_retry in 2.0 seconds as it raised RateLimitError: Rate limit reached for default-gpt-3.5-turbo in organization org-fUMgGI6gSqUWLozt4nlYWmsL on tokens per min. Limit: 90000 / min. Current: 88707 / min. Contact us through our help center at help.openai.com if you continue to have issues..\n"
          ]
        },
        {
          "output_type": "stream",
          "name": "stdout",
          "text": [
            "Politics/International Affairs\n",
            "Entertainment\n",
            "Business\n"
          ]
        },
        {
          "output_type": "stream",
          "name": "stderr",
          "text": [
            "WARNING:langchain.chat_models.openai:Retrying langchain.chat_models.openai.acompletion_with_retry.<locals>._completion_with_retry in 1.0 seconds as it raised RateLimitError: Rate limit reached for default-gpt-3.5-turbo in organization org-fUMgGI6gSqUWLozt4nlYWmsL on tokens per min. Limit: 90000 / min. Current: 88879 / min. Contact us through our help center at help.openai.com if you continue to have issues..\n"
          ]
        },
        {
          "output_type": "stream",
          "name": "stdout",
          "text": [
            "Music Feeds\n"
          ]
        },
        {
          "output_type": "stream",
          "name": "stderr",
          "text": [
            "WARNING:langchain.chat_models.openai:Retrying langchain.chat_models.openai.acompletion_with_retry.<locals>._completion_with_retry in 2.0 seconds as it raised RateLimitError: Rate limit reached for default-gpt-3.5-turbo in organization org-fUMgGI6gSqUWLozt4nlYWmsL on tokens per min. Limit: 90000 / min. Current: 89671 / min. Contact us through our help center at help.openai.com if you continue to have issues..\n"
          ]
        },
        {
          "output_type": "stream",
          "name": "stdout",
          "text": [
            "Business\n",
            "Sports\n"
          ]
        },
        {
          "output_type": "stream",
          "name": "stderr",
          "text": [
            "WARNING:langchain.chat_models.openai:Retrying langchain.chat_models.openai.acompletion_with_retry.<locals>._completion_with_retry in 1.0 seconds as it raised RateLimitError: Rate limit reached for default-gpt-3.5-turbo in organization org-fUMgGI6gSqUWLozt4nlYWmsL on tokens per min. Limit: 90000 / min. Current: 89098 / min. Contact us through our help center at help.openai.com if you continue to have issues..\n"
          ]
        },
        {
          "output_type": "stream",
          "name": "stdout",
          "text": [
            "Sci/Tech\n"
          ]
        },
        {
          "output_type": "stream",
          "name": "stderr",
          "text": [
            "WARNING:langchain.chat_models.openai:Retrying langchain.chat_models.openai.acompletion_with_retry.<locals>._completion_with_retry in 1.0 seconds as it raised RateLimitError: Rate limit reached for default-gpt-3.5-turbo in organization org-fUMgGI6gSqUWLozt4nlYWmsL on tokens per min. Limit: 90000 / min. Current: 89549 / min. Contact us through our help center at help.openai.com if you continue to have issues..\n"
          ]
        },
        {
          "output_type": "stream",
          "name": "stdout",
          "text": [
            "Entertainment\n"
          ]
        },
        {
          "output_type": "stream",
          "name": "stderr",
          "text": [
            "WARNING:langchain.chat_models.openai:Retrying langchain.chat_models.openai.acompletion_with_retry.<locals>._completion_with_retry in 1.0 seconds as it raised RateLimitError: Rate limit reached for default-gpt-3.5-turbo in organization org-fUMgGI6gSqUWLozt4nlYWmsL on tokens per min. Limit: 90000 / min. Current: 89207 / min. Contact us through our help center at help.openai.com if you continue to have issues..\n",
            "WARNING:langchain.chat_models.openai:Retrying langchain.chat_models.openai.acompletion_with_retry.<locals>._completion_with_retry in 2.0 seconds as it raised RateLimitError: Rate limit reached for default-gpt-3.5-turbo in organization org-fUMgGI6gSqUWLozt4nlYWmsL on tokens per min. Limit: 90000 / min. Current: 88687 / min. Contact us through our help center at help.openai.com if you continue to have issues..\n"
          ]
        },
        {
          "output_type": "stream",
          "name": "stdout",
          "text": [
            "Sports\n",
            "Sports\n"
          ]
        },
        {
          "output_type": "stream",
          "name": "stderr",
          "text": [
            "WARNING:langchain.chat_models.openai:Retrying langchain.chat_models.openai.acompletion_with_retry.<locals>._completion_with_retry in 1.0 seconds as it raised RateLimitError: Rate limit reached for default-gpt-3.5-turbo in organization org-fUMgGI6gSqUWLozt4nlYWmsL on tokens per min. Limit: 90000 / min. Current: 88916 / min. Contact us through our help center at help.openai.com if you continue to have issues..\n"
          ]
        },
        {
          "output_type": "stream",
          "name": "stdout",
          "text": [
            "Sports\n"
          ]
        },
        {
          "output_type": "stream",
          "name": "stderr",
          "text": [
            "WARNING:langchain.chat_models.openai:Retrying langchain.chat_models.openai.acompletion_with_retry.<locals>._completion_with_retry in 1.0 seconds as it raised RateLimitError: Rate limit reached for default-gpt-3.5-turbo in organization org-fUMgGI6gSqUWLozt4nlYWmsL on tokens per min. Limit: 90000 / min. Current: 89146 / min. Contact us through our help center at help.openai.com if you continue to have issues..\n"
          ]
        },
        {
          "output_type": "stream",
          "name": "stdout",
          "text": [
            "Entertainment\n",
            "Politics\n"
          ]
        },
        {
          "output_type": "stream",
          "name": "stderr",
          "text": [
            "WARNING:langchain.chat_models.openai:Retrying langchain.chat_models.openai.acompletion_with_retry.<locals>._completion_with_retry in 1.0 seconds as it raised RateLimitError: Rate limit reached for default-gpt-3.5-turbo in organization org-fUMgGI6gSqUWLozt4nlYWmsL on tokens per min. Limit: 90000 / min. Current: 89237 / min. Contact us through our help center at help.openai.com if you continue to have issues..\n"
          ]
        },
        {
          "output_type": "stream",
          "name": "stdout",
          "text": [
            "Business\n"
          ]
        },
        {
          "output_type": "stream",
          "name": "stderr",
          "text": [
            "WARNING:langchain.chat_models.openai:Retrying langchain.chat_models.openai.acompletion_with_retry.<locals>._completion_with_retry in 1.0 seconds as it raised RateLimitError: Rate limit reached for default-gpt-3.5-turbo in organization org-fUMgGI6gSqUWLozt4nlYWmsL on tokens per min. Limit: 90000 / min. Current: 89391 / min. Contact us through our help center at help.openai.com if you continue to have issues..\n",
            "WARNING:langchain.chat_models.openai:Retrying langchain.chat_models.openai.acompletion_with_retry.<locals>._completion_with_retry in 2.0 seconds as it raised RateLimitError: Rate limit reached for default-gpt-3.5-turbo in organization org-fUMgGI6gSqUWLozt4nlYWmsL on tokens per min. Limit: 90000 / min. Current: 88713 / min. Contact us through our help center at help.openai.com if you continue to have issues..\n"
          ]
        },
        {
          "output_type": "stream",
          "name": "stdout",
          "text": [
            "Sports\n",
            "Business\n"
          ]
        },
        {
          "output_type": "stream",
          "name": "stderr",
          "text": [
            "WARNING:langchain.chat_models.openai:Retrying langchain.chat_models.openai.acompletion_with_retry.<locals>._completion_with_retry in 1.0 seconds as it raised RateLimitError: Rate limit reached for default-gpt-3.5-turbo in organization org-fUMgGI6gSqUWLozt4nlYWmsL on tokens per min. Limit: 90000 / min. Current: 88948 / min. Contact us through our help center at help.openai.com if you continue to have issues..\n"
          ]
        },
        {
          "output_type": "stream",
          "name": "stdout",
          "text": [
            "Business\n"
          ]
        },
        {
          "output_type": "stream",
          "name": "stderr",
          "text": [
            "WARNING:langchain.chat_models.openai:Retrying langchain.chat_models.openai.acompletion_with_retry.<locals>._completion_with_retry in 2.0 seconds as it raised RateLimitError: Rate limit reached for default-gpt-3.5-turbo in organization org-fUMgGI6gSqUWLozt4nlYWmsL on tokens per min. Limit: 90000 / min. Current: 89763 / min. Contact us through our help center at help.openai.com if you continue to have issues..\n"
          ]
        },
        {
          "output_type": "stream",
          "name": "stdout",
          "text": [
            "Music Feeds\n"
          ]
        },
        {
          "output_type": "stream",
          "name": "stderr",
          "text": [
            "WARNING:langchain.chat_models.openai:Retrying langchain.chat_models.openai.acompletion_with_retry.<locals>._completion_with_retry in 1.0 seconds as it raised RateLimitError: Rate limit reached for default-gpt-3.5-turbo in organization org-fUMgGI6gSqUWLozt4nlYWmsL on tokens per min. Limit: 90000 / min. Current: 89082 / min. Contact us through our help center at help.openai.com if you continue to have issues..\n"
          ]
        },
        {
          "output_type": "stream",
          "name": "stdout",
          "text": [
            "Sports\n"
          ]
        },
        {
          "output_type": "stream",
          "name": "stderr",
          "text": [
            "WARNING:langchain.chat_models.openai:Retrying langchain.chat_models.openai.acompletion_with_retry.<locals>._completion_with_retry in 4.0 seconds as it raised RateLimitError: Rate limit reached for default-gpt-3.5-turbo in organization org-fUMgGI6gSqUWLozt4nlYWmsL on tokens per min. Limit: 90000 / min. Current: 89046 / min. Contact us through our help center at help.openai.com if you continue to have issues..\n"
          ]
        },
        {
          "output_type": "stream",
          "name": "stdout",
          "text": [
            "Sports\n",
            "Sports\n"
          ]
        },
        {
          "output_type": "stream",
          "name": "stderr",
          "text": [
            "WARNING:langchain.chat_models.openai:Retrying langchain.chat_models.openai.acompletion_with_retry.<locals>._completion_with_retry in 1.0 seconds as it raised RateLimitError: Rate limit reached for default-gpt-3.5-turbo in organization org-fUMgGI6gSqUWLozt4nlYWmsL on tokens per min. Limit: 90000 / min. Current: 89271 / min. Contact us through our help center at help.openai.com if you continue to have issues..\n"
          ]
        },
        {
          "output_type": "stream",
          "name": "stdout",
          "text": [
            "Software and Development\n",
            "Sports\n",
            "Crime/Politics\n"
          ]
        },
        {
          "output_type": "stream",
          "name": "stderr",
          "text": [
            "WARNING:langchain.chat_models.openai:Retrying langchain.chat_models.openai.acompletion_with_retry.<locals>._completion_with_retry in 1.0 seconds as it raised RateLimitError: Rate limit reached for default-gpt-3.5-turbo in organization org-fUMgGI6gSqUWLozt4nlYWmsL on tokens per min. Limit: 90000 / min. Current: 89169 / min. Contact us through our help center at help.openai.com if you continue to have issues..\n"
          ]
        },
        {
          "output_type": "stream",
          "name": "stdout",
          "text": [
            "Sports\n"
          ]
        },
        {
          "output_type": "stream",
          "name": "stderr",
          "text": [
            "WARNING:langchain.chat_models.openai:Retrying langchain.chat_models.openai.acompletion_with_retry.<locals>._completion_with_retry in 2.0 seconds as it raised RateLimitError: Rate limit reached for default-gpt-3.5-turbo in organization org-fUMgGI6gSqUWLozt4nlYWmsL on tokens per min. Limit: 90000 / min. Current: 89977 / min. Contact us through our help center at help.openai.com if you continue to have issues..\n"
          ]
        },
        {
          "output_type": "stream",
          "name": "stdout",
          "text": [
            "Sports\n"
          ]
        },
        {
          "output_type": "stream",
          "name": "stderr",
          "text": [
            "WARNING:langchain.chat_models.openai:Retrying langchain.chat_models.openai.acompletion_with_retry.<locals>._completion_with_retry in 1.0 seconds as it raised RateLimitError: Rate limit reached for default-gpt-3.5-turbo in organization org-fUMgGI6gSqUWLozt4nlYWmsL on tokens per min. Limit: 90000 / min. Current: 89367 / min. Contact us through our help center at help.openai.com if you continue to have issues..\n"
          ]
        },
        {
          "output_type": "stream",
          "name": "stdout",
          "text": [
            "Business\n"
          ]
        },
        {
          "output_type": "stream",
          "name": "stderr",
          "text": [
            "WARNING:langchain.chat_models.openai:Retrying langchain.chat_models.openai.acompletion_with_retry.<locals>._completion_with_retry in 4.0 seconds as it raised RateLimitError: Rate limit reached for default-gpt-3.5-turbo in organization org-fUMgGI6gSqUWLozt4nlYWmsL on tokens per min. Limit: 90000 / min. Current: 89289 / min. Contact us through our help center at help.openai.com if you continue to have issues..\n"
          ]
        },
        {
          "output_type": "stream",
          "name": "stdout",
          "text": [
            "Politics/Current Affairs\n",
            "Business\n"
          ]
        },
        {
          "output_type": "stream",
          "name": "stderr",
          "text": [
            "WARNING:langchain.chat_models.openai:Retrying langchain.chat_models.openai.acompletion_with_retry.<locals>._completion_with_retry in 1.0 seconds as it raised RateLimitError: Rate limit reached for default-gpt-3.5-turbo in organization org-fUMgGI6gSqUWLozt4nlYWmsL on tokens per min. Limit: 90000 / min. Current: 89231 / min. Contact us through our help center at help.openai.com if you continue to have issues..\n"
          ]
        },
        {
          "output_type": "stream",
          "name": "stdout",
          "text": [
            "Sci/Tech\n",
            "News/Politics\n",
            "Business\n"
          ]
        },
        {
          "output_type": "stream",
          "name": "stderr",
          "text": [
            "WARNING:langchain.chat_models.openai:Retrying langchain.chat_models.openai.acompletion_with_retry.<locals>._completion_with_retry in 1.0 seconds as it raised RateLimitError: Rate limit reached for default-gpt-3.5-turbo in organization org-fUMgGI6gSqUWLozt4nlYWmsL on tokens per min. Limit: 90000 / min. Current: 88996 / min. Contact us through our help center at help.openai.com if you continue to have issues..\n"
          ]
        },
        {
          "output_type": "stream",
          "name": "stdout",
          "text": [
            "Health\n"
          ]
        },
        {
          "output_type": "stream",
          "name": "stderr",
          "text": [
            "WARNING:langchain.chat_models.openai:Retrying langchain.chat_models.openai.acompletion_with_retry.<locals>._completion_with_retry in 1.0 seconds as it raised RateLimitError: Rate limit reached for default-gpt-3.5-turbo in organization org-fUMgGI6gSqUWLozt4nlYWmsL on tokens per min. Limit: 90000 / min. Current: 88921 / min. Contact us through our help center at help.openai.com if you continue to have issues..\n"
          ]
        },
        {
          "output_type": "stream",
          "name": "stdout",
          "text": [
            "Sci/Tech\n"
          ]
        },
        {
          "output_type": "stream",
          "name": "stderr",
          "text": [
            "WARNING:langchain.chat_models.openai:Retrying langchain.chat_models.openai.acompletion_with_retry.<locals>._completion_with_retry in 1.0 seconds as it raised RateLimitError: Rate limit reached for default-gpt-3.5-turbo in organization org-fUMgGI6gSqUWLozt4nlYWmsL on tokens per min. Limit: 90000 / min. Current: 89090 / min. Contact us through our help center at help.openai.com if you continue to have issues..\n"
          ]
        },
        {
          "output_type": "stream",
          "name": "stdout",
          "text": [
            "Business\n"
          ]
        },
        {
          "output_type": "stream",
          "name": "stderr",
          "text": [
            "WARNING:langchain.chat_models.openai:Retrying langchain.chat_models.openai.acompletion_with_retry.<locals>._completion_with_retry in 1.0 seconds as it raised RateLimitError: Rate limit reached for default-gpt-3.5-turbo in organization org-fUMgGI6gSqUWLozt4nlYWmsL on tokens per min. Limit: 90000 / min. Current: 89102 / min. Contact us through our help center at help.openai.com if you continue to have issues..\n"
          ]
        },
        {
          "output_type": "stream",
          "name": "stdout",
          "text": [
            "Business\n"
          ]
        },
        {
          "output_type": "stream",
          "name": "stderr",
          "text": [
            "WARNING:langchain.chat_models.openai:Retrying langchain.chat_models.openai.acompletion_with_retry.<locals>._completion_with_retry in 1.0 seconds as it raised RateLimitError: Rate limit reached for default-gpt-3.5-turbo in organization org-fUMgGI6gSqUWLozt4nlYWmsL on tokens per min. Limit: 90000 / min. Current: 89244 / min. Contact us through our help center at help.openai.com if you continue to have issues..\n"
          ]
        },
        {
          "output_type": "stream",
          "name": "stdout",
          "text": [
            "Business\n"
          ]
        },
        {
          "output_type": "stream",
          "name": "stderr",
          "text": [
            "WARNING:langchain.chat_models.openai:Retrying langchain.chat_models.openai.acompletion_with_retry.<locals>._completion_with_retry in 1.0 seconds as it raised RateLimitError: Rate limit reached for default-gpt-3.5-turbo in organization org-fUMgGI6gSqUWLozt4nlYWmsL on tokens per min. Limit: 90000 / min. Current: 89333 / min. Contact us through our help center at help.openai.com if you continue to have issues..\n",
            "WARNING:langchain.chat_models.openai:Retrying langchain.chat_models.openai.acompletion_with_retry.<locals>._completion_with_retry in 2.0 seconds as it raised RateLimitError: Rate limit reached for default-gpt-3.5-turbo in organization org-fUMgGI6gSqUWLozt4nlYWmsL on tokens per min. Limit: 90000 / min. Current: 88756 / min. Contact us through our help center at help.openai.com if you continue to have issues..\n"
          ]
        },
        {
          "output_type": "stream",
          "name": "stdout",
          "text": [
            "Business\n",
            "Sports\n"
          ]
        },
        {
          "output_type": "stream",
          "name": "stderr",
          "text": [
            "WARNING:langchain.chat_models.openai:Retrying langchain.chat_models.openai.acompletion_with_retry.<locals>._completion_with_retry in 1.0 seconds as it raised RateLimitError: Rate limit reached for default-gpt-3.5-turbo in organization org-fUMgGI6gSqUWLozt4nlYWmsL on tokens per min. Limit: 90000 / min. Current: 88759 / min. Contact us through our help center at help.openai.com if you continue to have issues..\n"
          ]
        },
        {
          "output_type": "stream",
          "name": "stdout",
          "text": [
            "Environment/Science\n"
          ]
        },
        {
          "output_type": "stream",
          "name": "stderr",
          "text": [
            "WARNING:langchain.chat_models.openai:Retrying langchain.chat_models.openai.acompletion_with_retry.<locals>._completion_with_retry in 2.0 seconds as it raised RateLimitError: Rate limit reached for default-gpt-3.5-turbo in organization org-fUMgGI6gSqUWLozt4nlYWmsL on tokens per min. Limit: 90000 / min. Current: 89578 / min. Contact us through our help center at help.openai.com if you continue to have issues..\n"
          ]
        },
        {
          "output_type": "stream",
          "name": "stdout",
          "text": [
            "Sports\n"
          ]
        },
        {
          "output_type": "stream",
          "name": "stderr",
          "text": [
            "WARNING:langchain.chat_models.openai:Retrying langchain.chat_models.openai.acompletion_with_retry.<locals>._completion_with_retry in 1.0 seconds as it raised RateLimitError: Rate limit reached for default-gpt-3.5-turbo in organization org-fUMgGI6gSqUWLozt4nlYWmsL on tokens per min. Limit: 90000 / min. Current: 89258 / min. Contact us through our help center at help.openai.com if you continue to have issues..\n"
          ]
        },
        {
          "output_type": "stream",
          "name": "stdout",
          "text": [
            "Health\n",
            "Health\n"
          ]
        },
        {
          "output_type": "stream",
          "name": "stderr",
          "text": [
            "WARNING:langchain.chat_models.openai:Retrying langchain.chat_models.openai.acompletion_with_retry.<locals>._completion_with_retry in 1.0 seconds as it raised RateLimitError: Rate limit reached for default-gpt-3.5-turbo in organization org-fUMgGI6gSqUWLozt4nlYWmsL on tokens per min. Limit: 90000 / min. Current: 88902 / min. Contact us through our help center at help.openai.com if you continue to have issues..\n",
            "WARNING:langchain.chat_models.openai:Retrying langchain.chat_models.openai.acompletion_with_retry.<locals>._completion_with_retry in 4.0 seconds as it raised RateLimitError: Rate limit reached for default-gpt-3.5-turbo in organization org-fUMgGI6gSqUWLozt4nlYWmsL on tokens per min. Limit: 90000 / min. Current: 88897 / min. Contact us through our help center at help.openai.com if you continue to have issues..\n"
          ]
        },
        {
          "output_type": "stream",
          "name": "stdout",
          "text": [
            "Sports\n",
            "Entertainment\n",
            "Politics\n"
          ]
        },
        {
          "output_type": "stream",
          "name": "stderr",
          "text": [
            "WARNING:langchain.chat_models.openai:Retrying langchain.chat_models.openai.acompletion_with_retry.<locals>._completion_with_retry in 1.0 seconds as it raised RateLimitError: Rate limit reached for default-gpt-3.5-turbo in organization org-fUMgGI6gSqUWLozt4nlYWmsL on tokens per min. Limit: 90000 / min. Current: 88700 / min. Contact us through our help center at help.openai.com if you continue to have issues..\n"
          ]
        },
        {
          "output_type": "stream",
          "name": "stdout",
          "text": [
            "Business\n",
            "Sports\n"
          ]
        },
        {
          "output_type": "stream",
          "name": "stderr",
          "text": [
            "WARNING:langchain.chat_models.openai:Retrying langchain.chat_models.openai.acompletion_with_retry.<locals>._completion_with_retry in 1.0 seconds as it raised RateLimitError: Rate limit reached for default-gpt-3.5-turbo in organization org-fUMgGI6gSqUWLozt4nlYWmsL on tokens per min. Limit: 90000 / min. Current: 89783 / min. Contact us through our help center at help.openai.com if you continue to have issues..\n"
          ]
        },
        {
          "output_type": "stream",
          "name": "stdout",
          "text": [
            "Business\n"
          ]
        },
        {
          "output_type": "stream",
          "name": "stderr",
          "text": [
            "WARNING:langchain.chat_models.openai:Retrying langchain.chat_models.openai.acompletion_with_retry.<locals>._completion_with_retry in 1.0 seconds as it raised RateLimitError: Rate limit reached for default-gpt-3.5-turbo in organization org-fUMgGI6gSqUWLozt4nlYWmsL on tokens per min. Limit: 90000 / min. Current: 89188 / min. Contact us through our help center at help.openai.com if you continue to have issues..\n"
          ]
        },
        {
          "output_type": "stream",
          "name": "stdout",
          "text": [
            "Business\n"
          ]
        },
        {
          "output_type": "stream",
          "name": "stderr",
          "text": [
            "WARNING:langchain.chat_models.openai:Retrying langchain.chat_models.openai.acompletion_with_retry.<locals>._completion_with_retry in 1.0 seconds as it raised RateLimitError: Rate limit reached for default-gpt-3.5-turbo in organization org-fUMgGI6gSqUWLozt4nlYWmsL on tokens per min. Limit: 90000 / min. Current: 89797 / min. Contact us through our help center at help.openai.com if you continue to have issues..\n"
          ]
        },
        {
          "output_type": "stream",
          "name": "stdout",
          "text": [
            "Sports\n"
          ]
        },
        {
          "output_type": "stream",
          "name": "stderr",
          "text": [
            "WARNING:langchain.chat_models.openai:Retrying langchain.chat_models.openai.acompletion_with_retry.<locals>._completion_with_retry in 1.0 seconds as it raised RateLimitError: Rate limit reached for default-gpt-3.5-turbo in organization org-fUMgGI6gSqUWLozt4nlYWmsL on tokens per min. Limit: 90000 / min. Current: 89357 / min. Contact us through our help center at help.openai.com if you continue to have issues..\n",
            "WARNING:langchain.chat_models.openai:Retrying langchain.chat_models.openai.acompletion_with_retry.<locals>._completion_with_retry in 2.0 seconds as it raised RateLimitError: Rate limit reached for default-gpt-3.5-turbo in organization org-fUMgGI6gSqUWLozt4nlYWmsL on tokens per min. Limit: 90000 / min. Current: 88854 / min. Contact us through our help center at help.openai.com if you continue to have issues..\n"
          ]
        },
        {
          "output_type": "stream",
          "name": "stdout",
          "text": [
            "Sports\n",
            "Health\n"
          ]
        },
        {
          "output_type": "stream",
          "name": "stderr",
          "text": [
            "WARNING:langchain.chat_models.openai:Retrying langchain.chat_models.openai.acompletion_with_retry.<locals>._completion_with_retry in 1.0 seconds as it raised RateLimitError: Rate limit reached for default-gpt-3.5-turbo in organization org-fUMgGI6gSqUWLozt4nlYWmsL on tokens per min. Limit: 90000 / min. Current: 89309 / min. Contact us through our help center at help.openai.com if you continue to have issues..\n"
          ]
        },
        {
          "output_type": "stream",
          "name": "stdout",
          "text": [
            "Health\n"
          ]
        },
        {
          "output_type": "stream",
          "name": "stderr",
          "text": [
            "WARNING:langchain.chat_models.openai:Retrying langchain.chat_models.openai.acompletion_with_retry.<locals>._completion_with_retry in 1.0 seconds as it raised RateLimitError: Rate limit reached for default-gpt-3.5-turbo in organization org-fUMgGI6gSqUWLozt4nlYWmsL on tokens per min. Limit: 90000 / min. Current: 89434 / min. Contact us through our help center at help.openai.com if you continue to have issues..\n"
          ]
        },
        {
          "output_type": "stream",
          "name": "stdout",
          "text": [
            "Sports\n"
          ]
        },
        {
          "output_type": "stream",
          "name": "stderr",
          "text": [
            "WARNING:langchain.chat_models.openai:Retrying langchain.chat_models.openai.acompletion_with_retry.<locals>._completion_with_retry in 1.0 seconds as it raised RateLimitError: Rate limit reached for default-gpt-3.5-turbo in organization org-fUMgGI6gSqUWLozt4nlYWmsL on tokens per min. Limit: 90000 / min. Current: 88857 / min. Contact us through our help center at help.openai.com if you continue to have issues..\n"
          ]
        },
        {
          "output_type": "stream",
          "name": "stdout",
          "text": [
            "Business\n"
          ]
        },
        {
          "output_type": "stream",
          "name": "stderr",
          "text": [
            "WARNING:langchain.chat_models.openai:Retrying langchain.chat_models.openai.acompletion_with_retry.<locals>._completion_with_retry in 1.0 seconds as it raised RateLimitError: Rate limit reached for default-gpt-3.5-turbo in organization org-fUMgGI6gSqUWLozt4nlYWmsL on tokens per min. Limit: 90000 / min. Current: 89652 / min. Contact us through our help center at help.openai.com if you continue to have issues..\n"
          ]
        },
        {
          "output_type": "stream",
          "name": "stdout",
          "text": [
            "Sports\n"
          ]
        },
        {
          "output_type": "stream",
          "name": "stderr",
          "text": [
            "WARNING:langchain.chat_models.openai:Retrying langchain.chat_models.openai.acompletion_with_retry.<locals>._completion_with_retry in 1.0 seconds as it raised RateLimitError: Rate limit reached for default-gpt-3.5-turbo in organization org-fUMgGI6gSqUWLozt4nlYWmsL on tokens per min. Limit: 90000 / min. Current: 88916 / min. Contact us through our help center at help.openai.com if you continue to have issues..\n"
          ]
        },
        {
          "output_type": "stream",
          "name": "stdout",
          "text": [
            "Entertainment\n"
          ]
        },
        {
          "output_type": "stream",
          "name": "stderr",
          "text": [
            "WARNING:langchain.chat_models.openai:Retrying langchain.chat_models.openai.acompletion_with_retry.<locals>._completion_with_retry in 2.0 seconds as it raised RateLimitError: Rate limit reached for default-gpt-3.5-turbo in organization org-fUMgGI6gSqUWLozt4nlYWmsL on tokens per min. Limit: 90000 / min. Current: 89718 / min. Contact us through our help center at help.openai.com if you continue to have issues..\n"
          ]
        },
        {
          "output_type": "stream",
          "name": "stdout",
          "text": [
            "Entertainment\n"
          ]
        },
        {
          "output_type": "stream",
          "name": "stderr",
          "text": [
            "WARNING:langchain.chat_models.openai:Retrying langchain.chat_models.openai.acompletion_with_retry.<locals>._completion_with_retry in 1.0 seconds as it raised RateLimitError: Rate limit reached for default-gpt-3.5-turbo in organization org-fUMgGI6gSqUWLozt4nlYWmsL on tokens per min. Limit: 90000 / min. Current: 89090 / min. Contact us through our help center at help.openai.com if you continue to have issues..\n"
          ]
        },
        {
          "output_type": "stream",
          "name": "stdout",
          "text": [
            "Health\n"
          ]
        },
        {
          "output_type": "stream",
          "name": "stderr",
          "text": [
            "WARNING:langchain.chat_models.openai:Retrying langchain.chat_models.openai.acompletion_with_retry.<locals>._completion_with_retry in 4.0 seconds as it raised RateLimitError: Rate limit reached for default-gpt-3.5-turbo in organization org-fUMgGI6gSqUWLozt4nlYWmsL on tokens per min. Limit: 90000 / min. Current: 89048 / min. Contact us through our help center at help.openai.com if you continue to have issues..\n"
          ]
        },
        {
          "output_type": "stream",
          "name": "stdout",
          "text": [
            "Sports\n",
            "Sports\n"
          ]
        },
        {
          "output_type": "stream",
          "name": "stderr",
          "text": [
            "WARNING:langchain.chat_models.openai:Retrying langchain.chat_models.openai.acompletion_with_retry.<locals>._completion_with_retry in 1.0 seconds as it raised RateLimitError: Rate limit reached for default-gpt-3.5-turbo in organization org-fUMgGI6gSqUWLozt4nlYWmsL on tokens per min. Limit: 90000 / min. Current: 89186 / min. Contact us through our help center at help.openai.com if you continue to have issues..\n"
          ]
        },
        {
          "output_type": "stream",
          "name": "stdout",
          "text": [
            "Business\n",
            "Sports\n"
          ]
        },
        {
          "output_type": "stream",
          "name": "stderr",
          "text": [
            "WARNING:langchain.chat_models.openai:Retrying langchain.chat_models.openai.acompletion_with_retry.<locals>._completion_with_retry in 1.0 seconds as it raised RateLimitError: Rate limit reached for default-gpt-3.5-turbo in organization org-fUMgGI6gSqUWLozt4nlYWmsL on tokens per min. Limit: 90000 / min. Current: 88782 / min. Contact us through our help center at help.openai.com if you continue to have issues..\n"
          ]
        },
        {
          "output_type": "stream",
          "name": "stdout",
          "text": [
            "Health\n"
          ]
        },
        {
          "output_type": "stream",
          "name": "stderr",
          "text": [
            "WARNING:langchain.chat_models.openai:Retrying langchain.chat_models.openai.acompletion_with_retry.<locals>._completion_with_retry in 1.0 seconds as it raised RateLimitError: Rate limit reached for default-gpt-3.5-turbo in organization org-fUMgGI6gSqUWLozt4nlYWmsL on tokens per min. Limit: 90000 / min. Current: 89011 / min. Contact us through our help center at help.openai.com if you continue to have issues..\n"
          ]
        },
        {
          "output_type": "stream",
          "name": "stdout",
          "text": [
            "Weather/Natural Disaster\n",
            "Business\n"
          ]
        },
        {
          "output_type": "stream",
          "name": "stderr",
          "text": [
            "WARNING:langchain.chat_models.openai:Retrying langchain.chat_models.openai.acompletion_with_retry.<locals>._completion_with_retry in 1.0 seconds as it raised RateLimitError: Rate limit reached for default-gpt-3.5-turbo in organization org-fUMgGI6gSqUWLozt4nlYWmsL on tokens per min. Limit: 90000 / min. Current: 89162 / min. Contact us through our help center at help.openai.com if you continue to have issues..\n"
          ]
        },
        {
          "output_type": "stream",
          "name": "stdout",
          "text": [
            "Entertainment\n"
          ]
        },
        {
          "output_type": "stream",
          "name": "stderr",
          "text": [
            "WARNING:langchain.chat_models.openai:Retrying langchain.chat_models.openai.acompletion_with_retry.<locals>._completion_with_retry in 1.0 seconds as it raised RateLimitError: Rate limit reached for default-gpt-3.5-turbo in organization org-fUMgGI6gSqUWLozt4nlYWmsL on tokens per min. Limit: 90000 / min. Current: 89151 / min. Contact us through our help center at help.openai.com if you continue to have issues..\n"
          ]
        },
        {
          "output_type": "stream",
          "name": "stdout",
          "text": [
            "Sports\n"
          ]
        },
        {
          "output_type": "stream",
          "name": "stderr",
          "text": [
            "WARNING:langchain.chat_models.openai:Retrying langchain.chat_models.openai.acompletion_with_retry.<locals>._completion_with_retry in 1.0 seconds as it raised RateLimitError: Rate limit reached for default-gpt-3.5-turbo in organization org-fUMgGI6gSqUWLozt4nlYWmsL on tokens per min. Limit: 90000 / min. Current: 89309 / min. Contact us through our help center at help.openai.com if you continue to have issues..\n"
          ]
        },
        {
          "output_type": "stream",
          "name": "stdout",
          "text": [
            "Politics\n"
          ]
        },
        {
          "output_type": "stream",
          "name": "stderr",
          "text": [
            "WARNING:langchain.chat_models.openai:Retrying langchain.chat_models.openai.acompletion_with_retry.<locals>._completion_with_retry in 1.0 seconds as it raised RateLimitError: Rate limit reached for default-gpt-3.5-turbo in organization org-fUMgGI6gSqUWLozt4nlYWmsL on tokens per min. Limit: 90000 / min. Current: 88987 / min. Contact us through our help center at help.openai.com if you continue to have issues..\n",
            "WARNING:langchain.chat_models.openai:Retrying langchain.chat_models.openai.acompletion_with_retry.<locals>._completion_with_retry in 2.0 seconds as it raised RateLimitError: Rate limit reached for default-gpt-3.5-turbo in organization org-fUMgGI6gSqUWLozt4nlYWmsL on tokens per min. Limit: 90000 / min. Current: 88806 / min. Contact us through our help center at help.openai.com if you continue to have issues..\n"
          ]
        },
        {
          "output_type": "stream",
          "name": "stdout",
          "text": [
            "Accident/Disaster\n",
            "Business\n"
          ]
        },
        {
          "output_type": "stream",
          "name": "stderr",
          "text": [
            "WARNING:langchain.chat_models.openai:Retrying langchain.chat_models.openai.acompletion_with_retry.<locals>._completion_with_retry in 4.0 seconds as it raised RateLimitError: Rate limit reached for default-gpt-3.5-turbo in organization org-fUMgGI6gSqUWLozt4nlYWmsL on tokens per min. Limit: 90000 / min. Current: 89433 / min. Contact us through our help center at help.openai.com if you continue to have issues..\n"
          ]
        },
        {
          "output_type": "stream",
          "name": "stdout",
          "text": [
            "Sports\n"
          ]
        },
        {
          "output_type": "stream",
          "name": "stderr",
          "text": [
            "WARNING:langchain.chat_models.openai:Retrying langchain.chat_models.openai.acompletion_with_retry.<locals>._completion_with_retry in 1.0 seconds as it raised RateLimitError: Rate limit reached for default-gpt-3.5-turbo in organization org-fUMgGI6gSqUWLozt4nlYWmsL on tokens per min. Limit: 90000 / min. Current: 88872 / min. Contact us through our help center at help.openai.com if you continue to have issues..\n"
          ]
        },
        {
          "output_type": "stream",
          "name": "stdout",
          "text": [
            "Music Feeds\n",
            "Health\n",
            "Business\n"
          ]
        },
        {
          "output_type": "stream",
          "name": "stderr",
          "text": [
            "WARNING:langchain.chat_models.openai:Retrying langchain.chat_models.openai.acompletion_with_retry.<locals>._completion_with_retry in 1.0 seconds as it raised RateLimitError: Rate limit reached for default-gpt-3.5-turbo in organization org-fUMgGI6gSqUWLozt4nlYWmsL on tokens per min. Limit: 90000 / min. Current: 88764 / min. Contact us through our help center at help.openai.com if you continue to have issues..\n"
          ]
        },
        {
          "output_type": "stream",
          "name": "stdout",
          "text": [
            "Health\n",
            "Software and Development\n"
          ]
        },
        {
          "output_type": "stream",
          "name": "stderr",
          "text": [
            "WARNING:langchain.chat_models.openai:Retrying langchain.chat_models.openai.acompletion_with_retry.<locals>._completion_with_retry in 1.0 seconds as it raised RateLimitError: Rate limit reached for default-gpt-3.5-turbo in organization org-fUMgGI6gSqUWLozt4nlYWmsL on tokens per min. Limit: 90000 / min. Current: 88892 / min. Contact us through our help center at help.openai.com if you continue to have issues..\n",
            "WARNING:langchain.chat_models.openai:Retrying langchain.chat_models.openai.acompletion_with_retry.<locals>._completion_with_retry in 1.0 seconds as it raised RateLimitError: Rate limit reached for default-gpt-3.5-turbo in organization org-fUMgGI6gSqUWLozt4nlYWmsL on tokens per min. Limit: 90000 / min. Current: 88816 / min. Contact us through our help center at help.openai.com if you continue to have issues..\n"
          ]
        },
        {
          "output_type": "stream",
          "name": "stdout",
          "text": [
            "Sports\n",
            "Sports\n"
          ]
        },
        {
          "output_type": "stream",
          "name": "stderr",
          "text": [
            "WARNING:langchain.chat_models.openai:Retrying langchain.chat_models.openai.acompletion_with_retry.<locals>._completion_with_retry in 1.0 seconds as it raised RateLimitError: Rate limit reached for default-gpt-3.5-turbo in organization org-fUMgGI6gSqUWLozt4nlYWmsL on tokens per min. Limit: 90000 / min. Current: 89034 / min. Contact us through our help center at help.openai.com if you continue to have issues..\n",
            "WARNING:langchain.chat_models.openai:Retrying langchain.chat_models.openai.acompletion_with_retry.<locals>._completion_with_retry in 1.0 seconds as it raised RateLimitError: Rate limit reached for default-gpt-3.5-turbo in organization org-fUMgGI6gSqUWLozt4nlYWmsL on tokens per min. Limit: 90000 / min. Current: 89000 / min. Contact us through our help center at help.openai.com if you continue to have issues..\n"
          ]
        },
        {
          "output_type": "stream",
          "name": "stdout",
          "text": [
            "Business\n",
            "Business\n"
          ]
        },
        {
          "output_type": "stream",
          "name": "stderr",
          "text": [
            "WARNING:langchain.chat_models.openai:Retrying langchain.chat_models.openai.acompletion_with_retry.<locals>._completion_with_retry in 1.0 seconds as it raised RateLimitError: Rate limit reached for default-gpt-3.5-turbo in organization org-fUMgGI6gSqUWLozt4nlYWmsL on tokens per min. Limit: 90000 / min. Current: 89254 / min. Contact us through our help center at help.openai.com if you continue to have issues..\n",
            "WARNING:langchain.chat_models.openai:Retrying langchain.chat_models.openai.acompletion_with_retry.<locals>._completion_with_retry in 1.0 seconds as it raised RateLimitError: Rate limit reached for default-gpt-3.5-turbo in organization org-fUMgGI6gSqUWLozt4nlYWmsL on tokens per min. Limit: 90000 / min. Current: 89131 / min. Contact us through our help center at help.openai.com if you continue to have issues..\n"
          ]
        },
        {
          "output_type": "stream",
          "name": "stdout",
          "text": [
            "Entertainment\n",
            "Toons\n"
          ]
        },
        {
          "output_type": "stream",
          "name": "stderr",
          "text": [
            "WARNING:langchain.chat_models.openai:Retrying langchain.chat_models.openai.acompletion_with_retry.<locals>._completion_with_retry in 1.0 seconds as it raised RateLimitError: Rate limit reached for default-gpt-3.5-turbo in organization org-fUMgGI6gSqUWLozt4nlYWmsL on tokens per min. Limit: 90000 / min. Current: 89322 / min. Contact us through our help center at help.openai.com if you continue to have issues..\n",
            "WARNING:langchain.chat_models.openai:Retrying langchain.chat_models.openai.acompletion_with_retry.<locals>._completion_with_retry in 1.0 seconds as it raised RateLimitError: Rate limit reached for default-gpt-3.5-turbo in organization org-fUMgGI6gSqUWLozt4nlYWmsL on tokens per min. Limit: 90000 / min. Current: 89188 / min. Contact us through our help center at help.openai.com if you continue to have issues..\n"
          ]
        },
        {
          "output_type": "stream",
          "name": "stdout",
          "text": [
            "Sports\n",
            "Business\n"
          ]
        },
        {
          "output_type": "stream",
          "name": "stderr",
          "text": [
            "WARNING:langchain.chat_models.openai:Retrying langchain.chat_models.openai.acompletion_with_retry.<locals>._completion_with_retry in 1.0 seconds as it raised RateLimitError: Rate limit reached for default-gpt-3.5-turbo in organization org-fUMgGI6gSqUWLozt4nlYWmsL on tokens per min. Limit: 90000 / min. Current: 89533 / min. Contact us through our help center at help.openai.com if you continue to have issues..\n",
            "WARNING:langchain.chat_models.openai:Retrying langchain.chat_models.openai.acompletion_with_retry.<locals>._completion_with_retry in 1.0 seconds as it raised RateLimitError: Rate limit reached for default-gpt-3.5-turbo in organization org-fUMgGI6gSqUWLozt4nlYWmsL on tokens per min. Limit: 90000 / min. Current: 89397 / min. Contact us through our help center at help.openai.com if you continue to have issues..\n",
            "WARNING:langchain.chat_models.openai:Retrying langchain.chat_models.openai.acompletion_with_retry.<locals>._completion_with_retry in 2.0 seconds as it raised RateLimitError: Rate limit reached for default-gpt-3.5-turbo in organization org-fUMgGI6gSqUWLozt4nlYWmsL on tokens per min. Limit: 90000 / min. Current: 88876 / min. Contact us through our help center at help.openai.com if you continue to have issues..\n"
          ]
        },
        {
          "output_type": "stream",
          "name": "stdout",
          "text": [
            "Software and Development\n",
            "Sports\n"
          ]
        },
        {
          "output_type": "stream",
          "name": "stderr",
          "text": [
            "WARNING:langchain.chat_models.openai:Retrying langchain.chat_models.openai.acompletion_with_retry.<locals>._completion_with_retry in 1.0 seconds as it raised RateLimitError: Rate limit reached for default-gpt-3.5-turbo in organization org-fUMgGI6gSqUWLozt4nlYWmsL on tokens per min. Limit: 90000 / min. Current: 89018 / min. Contact us through our help center at help.openai.com if you continue to have issues..\n"
          ]
        },
        {
          "output_type": "stream",
          "name": "stdout",
          "text": [
            "Business\n",
            "Business\n"
          ]
        },
        {
          "output_type": "stream",
          "name": "stderr",
          "text": [
            "WARNING:langchain.chat_models.openai:Retrying langchain.chat_models.openai.acompletion_with_retry.<locals>._completion_with_retry in 1.0 seconds as it raised RateLimitError: Rate limit reached for default-gpt-3.5-turbo in organization org-fUMgGI6gSqUWLozt4nlYWmsL on tokens per min. Limit: 90000 / min. Current: 89045 / min. Contact us through our help center at help.openai.com if you continue to have issues..\n",
            "WARNING:langchain.chat_models.openai:Retrying langchain.chat_models.openai.acompletion_with_retry.<locals>._completion_with_retry in 1.0 seconds as it raised RateLimitError: Rate limit reached for default-gpt-3.5-turbo in organization org-fUMgGI6gSqUWLozt4nlYWmsL on tokens per min. Limit: 90000 / min. Current: 88916 / min. Contact us through our help center at help.openai.com if you continue to have issues..\n"
          ]
        },
        {
          "output_type": "stream",
          "name": "stdout",
          "text": [
            "Entertainment\n",
            "Sports\n"
          ]
        },
        {
          "output_type": "stream",
          "name": "stderr",
          "text": [
            "WARNING:langchain.chat_models.openai:Retrying langchain.chat_models.openai.acompletion_with_retry.<locals>._completion_with_retry in 1.0 seconds as it raised RateLimitError: Rate limit reached for default-gpt-3.5-turbo in organization org-fUMgGI6gSqUWLozt4nlYWmsL on tokens per min. Limit: 90000 / min. Current: 89124 / min. Contact us through our help center at help.openai.com if you continue to have issues..\n",
            "WARNING:langchain.chat_models.openai:Retrying langchain.chat_models.openai.acompletion_with_retry.<locals>._completion_with_retry in 1.0 seconds as it raised RateLimitError: Rate limit reached for default-gpt-3.5-turbo in organization org-fUMgGI6gSqUWLozt4nlYWmsL on tokens per min. Limit: 90000 / min. Current: 89074 / min. Contact us through our help center at help.openai.com if you continue to have issues..\n"
          ]
        },
        {
          "output_type": "stream",
          "name": "stdout",
          "text": [
            "Sports\n",
            "Health\n"
          ]
        },
        {
          "output_type": "stream",
          "name": "stderr",
          "text": [
            "WARNING:langchain.chat_models.openai:Retrying langchain.chat_models.openai.acompletion_with_retry.<locals>._completion_with_retry in 1.0 seconds as it raised RateLimitError: Rate limit reached for default-gpt-3.5-turbo in organization org-fUMgGI6gSqUWLozt4nlYWmsL on tokens per min. Limit: 90000 / min. Current: 89208 / min. Contact us through our help center at help.openai.com if you continue to have issues..\n",
            "WARNING:langchain.chat_models.openai:Retrying langchain.chat_models.openai.acompletion_with_retry.<locals>._completion_with_retry in 1.0 seconds as it raised RateLimitError: Rate limit reached for default-gpt-3.5-turbo in organization org-fUMgGI6gSqUWLozt4nlYWmsL on tokens per min. Limit: 90000 / min. Current: 89146 / min. Contact us through our help center at help.openai.com if you continue to have issues..\n"
          ]
        },
        {
          "output_type": "stream",
          "name": "stdout",
          "text": [
            "Health\n",
            "Travel/Transportation\n"
          ]
        },
        {
          "output_type": "stream",
          "name": "stderr",
          "text": [
            "WARNING:langchain.chat_models.openai:Retrying langchain.chat_models.openai.acompletion_with_retry.<locals>._completion_with_retry in 1.0 seconds as it raised RateLimitError: Rate limit reached for default-gpt-3.5-turbo in organization org-fUMgGI6gSqUWLozt4nlYWmsL on tokens per min. Limit: 90000 / min. Current: 89417 / min. Contact us through our help center at help.openai.com if you continue to have issues..\n",
            "WARNING:langchain.chat_models.openai:Retrying langchain.chat_models.openai.acompletion_with_retry.<locals>._completion_with_retry in 1.0 seconds as it raised RateLimitError: Rate limit reached for default-gpt-3.5-turbo in organization org-fUMgGI6gSqUWLozt4nlYWmsL on tokens per min. Limit: 90000 / min. Current: 89183 / min. Contact us through our help center at help.openai.com if you continue to have issues..\n",
            "WARNING:langchain.chat_models.openai:Retrying langchain.chat_models.openai.acompletion_with_retry.<locals>._completion_with_retry in 2.0 seconds as it raised RateLimitError: Rate limit reached for default-gpt-3.5-turbo in organization org-fUMgGI6gSqUWLozt4nlYWmsL on tokens per min. Limit: 90000 / min. Current: 88673 / min. Contact us through our help center at help.openai.com if you continue to have issues..\n"
          ]
        },
        {
          "output_type": "stream",
          "name": "stdout",
          "text": [
            "Business\n",
            "Health\n"
          ]
        },
        {
          "output_type": "stream",
          "name": "stderr",
          "text": [
            "WARNING:langchain.chat_models.openai:Retrying langchain.chat_models.openai.acompletion_with_retry.<locals>._completion_with_retry in 1.0 seconds as it raised RateLimitError: Rate limit reached for default-gpt-3.5-turbo in organization org-fUMgGI6gSqUWLozt4nlYWmsL on tokens per min. Limit: 90000 / min. Current: 88935 / min. Contact us through our help center at help.openai.com if you continue to have issues..\n"
          ]
        },
        {
          "output_type": "stream",
          "name": "stdout",
          "text": [
            "Business\n",
            "News/Politics\n",
            "Health\n"
          ]
        },
        {
          "output_type": "stream",
          "name": "stderr",
          "text": [
            "WARNING:langchain.chat_models.openai:Retrying langchain.chat_models.openai.acompletion_with_retry.<locals>._completion_with_retry in 1.0 seconds as it raised RateLimitError: Rate limit reached for default-gpt-3.5-turbo in organization org-fUMgGI6gSqUWLozt4nlYWmsL on tokens per min. Limit: 90000 / min. Current: 89327 / min. Contact us through our help center at help.openai.com if you continue to have issues..\n",
            "WARNING:langchain.chat_models.openai:Retrying langchain.chat_models.openai.acompletion_with_retry.<locals>._completion_with_retry in 1.0 seconds as it raised RateLimitError: Rate limit reached for default-gpt-3.5-turbo in organization org-fUMgGI6gSqUWLozt4nlYWmsL on tokens per min. Limit: 90000 / min. Current: 89278 / min. Contact us through our help center at help.openai.com if you continue to have issues..\n",
            "WARNING:langchain.chat_models.openai:Retrying langchain.chat_models.openai.acompletion_with_retry.<locals>._completion_with_retry in 2.0 seconds as it raised RateLimitError: Rate limit reached for default-gpt-3.5-turbo in organization org-fUMgGI6gSqUWLozt4nlYWmsL on tokens per min. Limit: 90000 / min. Current: 88786 / min. Contact us through our help center at help.openai.com if you continue to have issues..\n"
          ]
        },
        {
          "output_type": "stream",
          "name": "stdout",
          "text": [
            "Business\n",
            "Sports\n"
          ]
        },
        {
          "output_type": "stream",
          "name": "stderr",
          "text": [
            "WARNING:langchain.chat_models.openai:Retrying langchain.chat_models.openai.acompletion_with_retry.<locals>._completion_with_retry in 1.0 seconds as it raised RateLimitError: Rate limit reached for default-gpt-3.5-turbo in organization org-fUMgGI6gSqUWLozt4nlYWmsL on tokens per min. Limit: 90000 / min. Current: 88853 / min. Contact us through our help center at help.openai.com if you continue to have issues..\n"
          ]
        },
        {
          "output_type": "stream",
          "name": "stdout",
          "text": [
            "Business\n",
            "Sports\n"
          ]
        },
        {
          "output_type": "stream",
          "name": "stderr",
          "text": [
            "WARNING:langchain.chat_models.openai:Retrying langchain.chat_models.openai.acompletion_with_retry.<locals>._completion_with_retry in 1.0 seconds as it raised RateLimitError: Rate limit reached for default-gpt-3.5-turbo in organization org-fUMgGI6gSqUWLozt4nlYWmsL on tokens per min. Limit: 90000 / min. Current: 88901 / min. Contact us through our help center at help.openai.com if you continue to have issues..\n"
          ]
        },
        {
          "output_type": "stream",
          "name": "stdout",
          "text": [
            "Business\n"
          ]
        },
        {
          "output_type": "stream",
          "name": "stderr",
          "text": [
            "WARNING:langchain.chat_models.openai:Retrying langchain.chat_models.openai.acompletion_with_retry.<locals>._completion_with_retry in 1.0 seconds as it raised RateLimitError: Rate limit reached for default-gpt-3.5-turbo in organization org-fUMgGI6gSqUWLozt4nlYWmsL on tokens per min. Limit: 90000 / min. Current: 89212 / min. Contact us through our help center at help.openai.com if you continue to have issues..\n"
          ]
        },
        {
          "output_type": "stream",
          "name": "stdout",
          "text": [
            "Music Feeds\n"
          ]
        },
        {
          "output_type": "stream",
          "name": "stderr",
          "text": [
            "WARNING:langchain.chat_models.openai:Retrying langchain.chat_models.openai.acompletion_with_retry.<locals>._completion_with_retry in 1.0 seconds as it raised RateLimitError: Rate limit reached for default-gpt-3.5-turbo in organization org-fUMgGI6gSqUWLozt4nlYWmsL on tokens per min. Limit: 90000 / min. Current: 88751 / min. Contact us through our help center at help.openai.com if you continue to have issues..\n",
            "WARNING:langchain.chat_models.openai:Retrying langchain.chat_models.openai.acompletion_with_retry.<locals>._completion_with_retry in 2.0 seconds as it raised RateLimitError: Rate limit reached for default-gpt-3.5-turbo in organization org-fUMgGI6gSqUWLozt4nlYWmsL on tokens per min. Limit: 90000 / min. Current: 88686 / min. Contact us through our help center at help.openai.com if you continue to have issues..\n"
          ]
        },
        {
          "output_type": "stream",
          "name": "stdout",
          "text": [
            "Business\n",
            "Sci/Tech\n"
          ]
        },
        {
          "output_type": "stream",
          "name": "stderr",
          "text": [
            "WARNING:langchain.chat_models.openai:Retrying langchain.chat_models.openai.acompletion_with_retry.<locals>._completion_with_retry in 4.0 seconds as it raised RateLimitError: Rate limit reached for default-gpt-3.5-turbo in organization org-fUMgGI6gSqUWLozt4nlYWmsL on tokens per min. Limit: 90000 / min. Current: 89300 / min. Contact us through our help center at help.openai.com if you continue to have issues..\n"
          ]
        },
        {
          "output_type": "stream",
          "name": "stdout",
          "text": [
            "Sports\n",
            "Sports\n"
          ]
        },
        {
          "output_type": "stream",
          "name": "stderr",
          "text": [
            "WARNING:langchain.chat_models.openai:Retrying langchain.chat_models.openai.acompletion_with_retry.<locals>._completion_with_retry in 1.0 seconds as it raised RateLimitError: Rate limit reached for default-gpt-3.5-turbo in organization org-fUMgGI6gSqUWLozt4nlYWmsL on tokens per min. Limit: 90000 / min. Current: 89287 / min. Contact us through our help center at help.openai.com if you continue to have issues..\n"
          ]
        },
        {
          "output_type": "stream",
          "name": "stdout",
          "text": [
            "Sports\n",
            "Sports\n"
          ]
        },
        {
          "output_type": "stream",
          "name": "stderr",
          "text": [
            "WARNING:langchain.chat_models.openai:Retrying langchain.chat_models.openai.acompletion_with_retry.<locals>._completion_with_retry in 1.0 seconds as it raised RateLimitError: Rate limit reached for default-gpt-3.5-turbo in organization org-fUMgGI6gSqUWLozt4nlYWmsL on tokens per min. Limit: 90000 / min. Current: 88741 / min. Contact us through our help center at help.openai.com if you continue to have issues..\n"
          ]
        },
        {
          "output_type": "stream",
          "name": "stdout",
          "text": [
            "Sports\n",
            "Sports\n"
          ]
        },
        {
          "output_type": "stream",
          "name": "stderr",
          "text": [
            "WARNING:langchain.chat_models.openai:Retrying langchain.chat_models.openai.acompletion_with_retry.<locals>._completion_with_retry in 1.0 seconds as it raised RateLimitError: Rate limit reached for default-gpt-3.5-turbo in organization org-fUMgGI6gSqUWLozt4nlYWmsL on tokens per min. Limit: 90000 / min. Current: 89049 / min. Contact us through our help center at help.openai.com if you continue to have issues..\n",
            "WARNING:langchain.chat_models.openai:Retrying langchain.chat_models.openai.acompletion_with_retry.<locals>._completion_with_retry in 1.0 seconds as it raised RateLimitError: Rate limit reached for default-gpt-3.5-turbo in organization org-fUMgGI6gSqUWLozt4nlYWmsL on tokens per min. Limit: 90000 / min. Current: 88930 / min. Contact us through our help center at help.openai.com if you continue to have issues..\n"
          ]
        },
        {
          "output_type": "stream",
          "name": "stdout",
          "text": [
            "Sports\n",
            "Sports\n"
          ]
        },
        {
          "output_type": "stream",
          "name": "stderr",
          "text": [
            "WARNING:langchain.chat_models.openai:Retrying langchain.chat_models.openai.acompletion_with_retry.<locals>._completion_with_retry in 1.0 seconds as it raised RateLimitError: Rate limit reached for default-gpt-3.5-turbo in organization org-fUMgGI6gSqUWLozt4nlYWmsL on tokens per min. Limit: 90000 / min. Current: 89249 / min. Contact us through our help center at help.openai.com if you continue to have issues..\n",
            "WARNING:langchain.chat_models.openai:Retrying langchain.chat_models.openai.acompletion_with_retry.<locals>._completion_with_retry in 1.0 seconds as it raised RateLimitError: Rate limit reached for default-gpt-3.5-turbo in organization org-fUMgGI6gSqUWLozt4nlYWmsL on tokens per min. Limit: 90000 / min. Current: 89000 / min. Contact us through our help center at help.openai.com if you continue to have issues..\n"
          ]
        },
        {
          "output_type": "stream",
          "name": "stdout",
          "text": [
            "Health\n"
          ]
        },
        {
          "output_type": "stream",
          "name": "stderr",
          "text": [
            "WARNING:langchain.chat_models.openai:Retrying langchain.chat_models.openai.acompletion_with_retry.<locals>._completion_with_retry in 1.0 seconds as it raised RateLimitError: Rate limit reached for default-gpt-3.5-turbo in organization org-fUMgGI6gSqUWLozt4nlYWmsL on tokens per min. Limit: 90000 / min. Current: 89463 / min. Contact us through our help center at help.openai.com if you continue to have issues..\n"
          ]
        },
        {
          "output_type": "stream",
          "name": "stdout",
          "text": [
            "Health\n"
          ]
        },
        {
          "output_type": "stream",
          "name": "stderr",
          "text": [
            "WARNING:langchain.chat_models.openai:Retrying langchain.chat_models.openai.acompletion_with_retry.<locals>._completion_with_retry in 1.0 seconds as it raised RateLimitError: Rate limit reached for default-gpt-3.5-turbo in organization org-fUMgGI6gSqUWLozt4nlYWmsL on tokens per min. Limit: 90000 / min. Current: 89087 / min. Contact us through our help center at help.openai.com if you continue to have issues..\n"
          ]
        },
        {
          "output_type": "stream",
          "name": "stdout",
          "text": [
            "Sports\n"
          ]
        },
        {
          "output_type": "stream",
          "name": "stderr",
          "text": [
            "WARNING:langchain.chat_models.openai:Retrying langchain.chat_models.openai.acompletion_with_retry.<locals>._completion_with_retry in 1.0 seconds as it raised RateLimitError: Rate limit reached for default-gpt-3.5-turbo in organization org-fUMgGI6gSqUWLozt4nlYWmsL on tokens per min. Limit: 90000 / min. Current: 89429 / min. Contact us through our help center at help.openai.com if you continue to have issues..\n"
          ]
        },
        {
          "output_type": "stream",
          "name": "stdout",
          "text": [
            "Entertainment\n"
          ]
        },
        {
          "output_type": "stream",
          "name": "stderr",
          "text": [
            "WARNING:langchain.chat_models.openai:Retrying langchain.chat_models.openai.acompletion_with_retry.<locals>._completion_with_retry in 1.0 seconds as it raised RateLimitError: Rate limit reached for default-gpt-3.5-turbo in organization org-fUMgGI6gSqUWLozt4nlYWmsL on tokens per min. Limit: 90000 / min. Current: 89093 / min. Contact us through our help center at help.openai.com if you continue to have issues..\n"
          ]
        },
        {
          "output_type": "stream",
          "name": "stdout",
          "text": [
            "Business\n"
          ]
        },
        {
          "output_type": "stream",
          "name": "stderr",
          "text": [
            "WARNING:langchain.chat_models.openai:Retrying langchain.chat_models.openai.acompletion_with_retry.<locals>._completion_with_retry in 1.0 seconds as it raised RateLimitError: Rate limit reached for default-gpt-3.5-turbo in organization org-fUMgGI6gSqUWLozt4nlYWmsL on tokens per min. Limit: 90000 / min. Current: 89605 / min. Contact us through our help center at help.openai.com if you continue to have issues..\n"
          ]
        },
        {
          "output_type": "stream",
          "name": "stdout",
          "text": [
            "Sci/Tech\n"
          ]
        },
        {
          "output_type": "stream",
          "name": "stderr",
          "text": [
            "WARNING:langchain.chat_models.openai:Retrying langchain.chat_models.openai.acompletion_with_retry.<locals>._completion_with_retry in 1.0 seconds as it raised RateLimitError: Rate limit reached for default-gpt-3.5-turbo in organization org-fUMgGI6gSqUWLozt4nlYWmsL on tokens per min. Limit: 90000 / min. Current: 89195 / min. Contact us through our help center at help.openai.com if you continue to have issues..\n"
          ]
        },
        {
          "output_type": "stream",
          "name": "stdout",
          "text": [
            "Health\n"
          ]
        },
        {
          "output_type": "stream",
          "name": "stderr",
          "text": [
            "WARNING:langchain.chat_models.openai:Retrying langchain.chat_models.openai.acompletion_with_retry.<locals>._completion_with_retry in 1.0 seconds as it raised RateLimitError: Rate limit reached for default-gpt-3.5-turbo in organization org-fUMgGI6gSqUWLozt4nlYWmsL on tokens per min. Limit: 90000 / min. Current: 89759 / min. Contact us through our help center at help.openai.com if you continue to have issues..\n"
          ]
        },
        {
          "output_type": "stream",
          "name": "stdout",
          "text": [
            "Business\n",
            "Sports\n"
          ]
        },
        {
          "output_type": "stream",
          "name": "stderr",
          "text": [
            "WARNING:langchain.chat_models.openai:Retrying langchain.chat_models.openai.acompletion_with_retry.<locals>._completion_with_retry in 1.0 seconds as it raised RateLimitError: Rate limit reached for default-gpt-3.5-turbo in organization org-fUMgGI6gSqUWLozt4nlYWmsL on tokens per min. Limit: 90000 / min. Current: 89010 / min. Contact us through our help center at help.openai.com if you continue to have issues..\n"
          ]
        },
        {
          "output_type": "stream",
          "name": "stdout",
          "text": [
            "Sports\n",
            "Music Feeds\n",
            "Sports\n"
          ]
        },
        {
          "output_type": "stream",
          "name": "stderr",
          "text": [
            "WARNING:langchain.chat_models.openai:Retrying langchain.chat_models.openai.acompletion_with_retry.<locals>._completion_with_retry in 1.0 seconds as it raised RateLimitError: Rate limit reached for default-gpt-3.5-turbo in organization org-fUMgGI6gSqUWLozt4nlYWmsL on tokens per min. Limit: 90000 / min. Current: 88834 / min. Contact us through our help center at help.openai.com if you continue to have issues..\n"
          ]
        },
        {
          "output_type": "stream",
          "name": "stdout",
          "text": [
            "Sports\n",
            "Sports\n",
            "Business\n"
          ]
        },
        {
          "output_type": "stream",
          "name": "stderr",
          "text": [
            "WARNING:langchain.chat_models.openai:Retrying langchain.chat_models.openai.acompletion_with_retry.<locals>._completion_with_retry in 1.0 seconds as it raised RateLimitError: Rate limit reached for default-gpt-3.5-turbo in organization org-fUMgGI6gSqUWLozt4nlYWmsL on tokens per min. Limit: 90000 / min. Current: 88922 / min. Contact us through our help center at help.openai.com if you continue to have issues..\n"
          ]
        },
        {
          "output_type": "stream",
          "name": "stdout",
          "text": [
            "Sports\n",
            "Politics\n",
            "Politics\n",
            "Sports\n"
          ]
        },
        {
          "output_type": "stream",
          "name": "stderr",
          "text": [
            "WARNING:langchain.chat_models.openai:Retrying langchain.chat_models.openai.acompletion_with_retry.<locals>._completion_with_retry in 1.0 seconds as it raised RateLimitError: Rate limit reached for default-gpt-3.5-turbo in organization org-fUMgGI6gSqUWLozt4nlYWmsL on tokens per min. Limit: 90000 / min. Current: 88785 / min. Contact us through our help center at help.openai.com if you continue to have issues..\n",
            "WARNING:langchain.chat_models.openai:Retrying langchain.chat_models.openai.acompletion_with_retry.<locals>._completion_with_retry in 2.0 seconds as it raised RateLimitError: That model is currently overloaded with other requests. You can retry your request, or contact us through our help center at help.openai.com if the error persists. (Please include the request ID 47d1064c58c719e4719bd281acd894c8 in your message.).\n"
          ]
        },
        {
          "output_type": "stream",
          "name": "stdout",
          "text": [
            "Sports\n",
            "Sports\n",
            "Business\n",
            "Entertainment\n",
            "Toons\n",
            "Sci/Tech\n",
            "Software and Development\n",
            "Software and Development\n",
            "Software and Development\n",
            "Politics\n",
            "Health\n",
            "Entertainment\n",
            "Sci/Tech\n",
            "Sports\n",
            "Business\n",
            "Sports\n",
            "Business\n",
            "Health\n",
            "Software and Development\n",
            "Politics\n",
            "Sports\n"
          ]
        },
        {
          "output_type": "stream",
          "name": "stderr",
          "text": [
            "WARNING:langchain.chat_models.openai:Retrying langchain.chat_models.openai.acompletion_with_retry.<locals>._completion_with_retry in 2.0 seconds as it raised RateLimitError: That model is currently overloaded with other requests. You can retry your request, or contact us through our help center at help.openai.com if the error persists. (Please include the request ID 039a09c4f9707432e6975f1fc9e8fd7b in your message.).\n"
          ]
        },
        {
          "output_type": "stream",
          "name": "stdout",
          "text": [
            "Business\n",
            "Entertainment\n",
            "Politics\n",
            "Music Feeds\n",
            "Business\n",
            "Business\n",
            "Sports\n",
            "Sports\n",
            "Business\n",
            "Sports\n",
            "Politics/International Relations\n",
            "Sports\n",
            "Sports\n",
            "Business\n",
            "Sports\n",
            "Entertainment\n",
            "Politics\n",
            "Health\n",
            "I'm sorry, but there is no article provided for me to classify. Please provide an article for me to classify.\n",
            "Health\n"
          ]
        },
        {
          "output_type": "stream",
          "name": "stderr",
          "text": [
            "WARNING:langchain.chat_models.openai:Retrying langchain.chat_models.openai.acompletion_with_retry.<locals>._completion_with_retry in 1.0 seconds as it raised RateLimitError: Rate limit reached for default-gpt-3.5-turbo in organization org-fUMgGI6gSqUWLozt4nlYWmsL on tokens per min. Limit: 90000 / min. Current: 89116 / min. Contact us through our help center at help.openai.com if you continue to have issues..\n"
          ]
        },
        {
          "output_type": "stream",
          "name": "stdout",
          "text": [
            "Sports\n",
            "Sci/Tech\n"
          ]
        },
        {
          "output_type": "stream",
          "name": "stderr",
          "text": [
            "WARNING:langchain.chat_models.openai:Retrying langchain.chat_models.openai.acompletion_with_retry.<locals>._completion_with_retry in 1.0 seconds as it raised RateLimitError: Rate limit reached for default-gpt-3.5-turbo in organization org-fUMgGI6gSqUWLozt4nlYWmsL on tokens per min. Limit: 90000 / min. Current: 89013 / min. Contact us through our help center at help.openai.com if you continue to have issues..\n"
          ]
        },
        {
          "output_type": "stream",
          "name": "stdout",
          "text": [
            "Sports\n"
          ]
        },
        {
          "output_type": "stream",
          "name": "stderr",
          "text": [
            "WARNING:langchain.chat_models.openai:Retrying langchain.chat_models.openai.acompletion_with_retry.<locals>._completion_with_retry in 1.0 seconds as it raised RateLimitError: Rate limit reached for default-gpt-3.5-turbo in organization org-fUMgGI6gSqUWLozt4nlYWmsL on tokens per min. Limit: 90000 / min. Current: 89312 / min. Contact us through our help center at help.openai.com if you continue to have issues..\n"
          ]
        },
        {
          "output_type": "stream",
          "name": "stdout",
          "text": [
            "Entertainment\n"
          ]
        },
        {
          "output_type": "stream",
          "name": "stderr",
          "text": [
            "WARNING:langchain.chat_models.openai:Retrying langchain.chat_models.openai.acompletion_with_retry.<locals>._completion_with_retry in 1.0 seconds as it raised RateLimitError: Rate limit reached for default-gpt-3.5-turbo in organization org-fUMgGI6gSqUWLozt4nlYWmsL on tokens per min. Limit: 90000 / min. Current: 89037 / min. Contact us through our help center at help.openai.com if you continue to have issues..\n",
            "WARNING:langchain.chat_models.openai:Retrying langchain.chat_models.openai.acompletion_with_retry.<locals>._completion_with_retry in 2.0 seconds as it raised RateLimitError: Rate limit reached for default-gpt-3.5-turbo in organization org-fUMgGI6gSqUWLozt4nlYWmsL on tokens per min. Limit: 90000 / min. Current: 88775 / min. Contact us through our help center at help.openai.com if you continue to have issues..\n"
          ]
        },
        {
          "output_type": "stream",
          "name": "stdout",
          "text": [
            "Sports\n",
            "Politics/Conflict\n"
          ]
        },
        {
          "output_type": "stream",
          "name": "stderr",
          "text": [
            "WARNING:langchain.chat_models.openai:Retrying langchain.chat_models.openai.acompletion_with_retry.<locals>._completion_with_retry in 4.0 seconds as it raised RateLimitError: Rate limit reached for default-gpt-3.5-turbo in organization org-fUMgGI6gSqUWLozt4nlYWmsL on tokens per min. Limit: 90000 / min. Current: 89394 / min. Contact us through our help center at help.openai.com if you continue to have issues..\n"
          ]
        },
        {
          "output_type": "stream",
          "name": "stdout",
          "text": [
            "Sports\n"
          ]
        },
        {
          "output_type": "stream",
          "name": "stderr",
          "text": [
            "WARNING:langchain.chat_models.openai:Retrying langchain.chat_models.openai.acompletion_with_retry.<locals>._completion_with_retry in 1.0 seconds as it raised RateLimitError: Rate limit reached for default-gpt-3.5-turbo in organization org-fUMgGI6gSqUWLozt4nlYWmsL on tokens per min. Limit: 90000 / min. Current: 89166 / min. Contact us through our help center at help.openai.com if you continue to have issues..\n"
          ]
        },
        {
          "output_type": "stream",
          "name": "stdout",
          "text": [
            "Sports\n",
            "Sports\n",
            "Business\n"
          ]
        },
        {
          "output_type": "stream",
          "name": "stderr",
          "text": [
            "WARNING:langchain.chat_models.openai:Retrying langchain.chat_models.openai.acompletion_with_retry.<locals>._completion_with_retry in 1.0 seconds as it raised RateLimitError: Rate limit reached for default-gpt-3.5-turbo in organization org-fUMgGI6gSqUWLozt4nlYWmsL on tokens per min. Limit: 90000 / min. Current: 89369 / min. Contact us through our help center at help.openai.com if you continue to have issues..\n"
          ]
        },
        {
          "output_type": "stream",
          "name": "stdout",
          "text": [
            "Software and Development\n"
          ]
        },
        {
          "output_type": "stream",
          "name": "stderr",
          "text": [
            "WARNING:langchain.chat_models.openai:Retrying langchain.chat_models.openai.acompletion_with_retry.<locals>._completion_with_retry in 1.0 seconds as it raised RateLimitError: Rate limit reached for default-gpt-3.5-turbo in organization org-fUMgGI6gSqUWLozt4nlYWmsL on tokens per min. Limit: 90000 / min. Current: 89318 / min. Contact us through our help center at help.openai.com if you continue to have issues..\n"
          ]
        },
        {
          "output_type": "stream",
          "name": "stdout",
          "text": [
            "Software and Development\n"
          ]
        },
        {
          "output_type": "stream",
          "name": "stderr",
          "text": [
            "WARNING:langchain.chat_models.openai:Retrying langchain.chat_models.openai.acompletion_with_retry.<locals>._completion_with_retry in 1.0 seconds as it raised RateLimitError: Rate limit reached for default-gpt-3.5-turbo in organization org-fUMgGI6gSqUWLozt4nlYWmsL on tokens per min. Limit: 90000 / min. Current: 88914 / min. Contact us through our help center at help.openai.com if you continue to have issues..\n"
          ]
        },
        {
          "output_type": "stream",
          "name": "stdout",
          "text": [
            "Sports\n"
          ]
        },
        {
          "output_type": "stream",
          "name": "stderr",
          "text": [
            "WARNING:langchain.chat_models.openai:Retrying langchain.chat_models.openai.acompletion_with_retry.<locals>._completion_with_retry in 1.0 seconds as it raised RateLimitError: Rate limit reached for default-gpt-3.5-turbo in organization org-fUMgGI6gSqUWLozt4nlYWmsL on tokens per min. Limit: 90000 / min. Current: 89332 / min. Contact us through our help center at help.openai.com if you continue to have issues..\n"
          ]
        },
        {
          "output_type": "stream",
          "name": "stdout",
          "text": [
            "Sports\n"
          ]
        },
        {
          "output_type": "stream",
          "name": "stderr",
          "text": [
            "WARNING:langchain.chat_models.openai:Retrying langchain.chat_models.openai.acompletion_with_retry.<locals>._completion_with_retry in 1.0 seconds as it raised RateLimitError: Rate limit reached for default-gpt-3.5-turbo in organization org-fUMgGI6gSqUWLozt4nlYWmsL on tokens per min. Limit: 90000 / min. Current: 89044 / min. Contact us through our help center at help.openai.com if you continue to have issues..\n"
          ]
        },
        {
          "output_type": "stream",
          "name": "stdout",
          "text": [
            "Business\n"
          ]
        },
        {
          "output_type": "stream",
          "name": "stderr",
          "text": [
            "WARNING:langchain.chat_models.openai:Retrying langchain.chat_models.openai.acompletion_with_retry.<locals>._completion_with_retry in 1.0 seconds as it raised RateLimitError: Rate limit reached for default-gpt-3.5-turbo in organization org-fUMgGI6gSqUWLozt4nlYWmsL on tokens per min. Limit: 90000 / min. Current: 89440 / min. Contact us through our help center at help.openai.com if you continue to have issues..\n"
          ]
        },
        {
          "output_type": "stream",
          "name": "stdout",
          "text": [
            "Business\n"
          ]
        },
        {
          "output_type": "stream",
          "name": "stderr",
          "text": [
            "WARNING:langchain.chat_models.openai:Retrying langchain.chat_models.openai.acompletion_with_retry.<locals>._completion_with_retry in 1.0 seconds as it raised RateLimitError: Rate limit reached for default-gpt-3.5-turbo in organization org-fUMgGI6gSqUWLozt4nlYWmsL on tokens per min. Limit: 90000 / min. Current: 89124 / min. Contact us through our help center at help.openai.com if you continue to have issues..\n"
          ]
        },
        {
          "output_type": "stream",
          "name": "stdout",
          "text": [
            "Software and Development\n",
            "Sci/Tech\n"
          ]
        },
        {
          "output_type": "stream",
          "name": "stderr",
          "text": [
            "WARNING:langchain.chat_models.openai:Retrying langchain.chat_models.openai.acompletion_with_retry.<locals>._completion_with_retry in 1.0 seconds as it raised RateLimitError: Rate limit reached for default-gpt-3.5-turbo in organization org-fUMgGI6gSqUWLozt4nlYWmsL on tokens per min. Limit: 90000 / min. Current: 89288 / min. Contact us through our help center at help.openai.com if you continue to have issues..\n",
            "WARNING:langchain.chat_models.openai:Retrying langchain.chat_models.openai.acompletion_with_retry.<locals>._completion_with_retry in 1.0 seconds as it raised RateLimitError: Rate limit reached for default-gpt-3.5-turbo in organization org-fUMgGI6gSqUWLozt4nlYWmsL on tokens per min. Limit: 90000 / min. Current: 89232 / min. Contact us through our help center at help.openai.com if you continue to have issues..\n",
            "WARNING:langchain.chat_models.openai:Retrying langchain.chat_models.openai.acompletion_with_retry.<locals>._completion_with_retry in 2.0 seconds as it raised RateLimitError: Rate limit reached for default-gpt-3.5-turbo in organization org-fUMgGI6gSqUWLozt4nlYWmsL on tokens per min. Limit: 90000 / min. Current: 88689 / min. Contact us through our help center at help.openai.com if you continue to have issues..\n"
          ]
        },
        {
          "output_type": "stream",
          "name": "stdout",
          "text": [
            "Sports\n",
            "Business\n"
          ]
        },
        {
          "output_type": "stream",
          "name": "stderr",
          "text": [
            "WARNING:langchain.chat_models.openai:Retrying langchain.chat_models.openai.acompletion_with_retry.<locals>._completion_with_retry in 1.0 seconds as it raised RateLimitError: Rate limit reached for default-gpt-3.5-turbo in organization org-fUMgGI6gSqUWLozt4nlYWmsL on tokens per min. Limit: 90000 / min. Current: 88801 / min. Contact us through our help center at help.openai.com if you continue to have issues..\n"
          ]
        },
        {
          "output_type": "stream",
          "name": "stdout",
          "text": [
            "Toons\n",
            "Sports\n"
          ]
        },
        {
          "output_type": "stream",
          "name": "stderr",
          "text": [
            "WARNING:langchain.chat_models.openai:Retrying langchain.chat_models.openai.acompletion_with_retry.<locals>._completion_with_retry in 1.0 seconds as it raised RateLimitError: Rate limit reached for default-gpt-3.5-turbo in organization org-fUMgGI6gSqUWLozt4nlYWmsL on tokens per min. Limit: 90000 / min. Current: 89940 / min. Contact us through our help center at help.openai.com if you continue to have issues..\n"
          ]
        },
        {
          "output_type": "stream",
          "name": "stdout",
          "text": [
            "Business\n"
          ]
        },
        {
          "output_type": "stream",
          "name": "stderr",
          "text": [
            "WARNING:langchain.chat_models.openai:Retrying langchain.chat_models.openai.acompletion_with_retry.<locals>._completion_with_retry in 1.0 seconds as it raised RateLimitError: Rate limit reached for default-gpt-3.5-turbo in organization org-fUMgGI6gSqUWLozt4nlYWmsL on tokens per min. Limit: 90000 / min. Current: 89283 / min. Contact us through our help center at help.openai.com if you continue to have issues..\n"
          ]
        },
        {
          "output_type": "stream",
          "name": "stdout",
          "text": [
            "Sports\n"
          ]
        },
        {
          "output_type": "stream",
          "name": "stderr",
          "text": [
            "WARNING:langchain.chat_models.openai:Retrying langchain.chat_models.openai.acompletion_with_retry.<locals>._completion_with_retry in 1.0 seconds as it raised RateLimitError: Rate limit reached for default-gpt-3.5-turbo in organization org-fUMgGI6gSqUWLozt4nlYWmsL on tokens per min. Limit: 90000 / min. Current: 88832 / min. Contact us through our help center at help.openai.com if you continue to have issues..\n",
            "WARNING:langchain.chat_models.openai:Retrying langchain.chat_models.openai.acompletion_with_retry.<locals>._completion_with_retry in 2.0 seconds as it raised RateLimitError: Rate limit reached for default-gpt-3.5-turbo in organization org-fUMgGI6gSqUWLozt4nlYWmsL on tokens per min. Limit: 90000 / min. Current: 88772 / min. Contact us through our help center at help.openai.com if you continue to have issues..\n"
          ]
        },
        {
          "output_type": "stream",
          "name": "stdout",
          "text": [
            "Entertainment\n",
            "Entertainment\n"
          ]
        },
        {
          "output_type": "stream",
          "name": "stderr",
          "text": [
            "WARNING:langchain.chat_models.openai:Retrying langchain.chat_models.openai.acompletion_with_retry.<locals>._completion_with_retry in 4.0 seconds as it raised RateLimitError: Rate limit reached for default-gpt-3.5-turbo in organization org-fUMgGI6gSqUWLozt4nlYWmsL on tokens per min. Limit: 90000 / min. Current: 89379 / min. Contact us through our help center at help.openai.com if you continue to have issues..\n"
          ]
        },
        {
          "output_type": "stream",
          "name": "stdout",
          "text": [
            "Business\n",
            "Politics\n"
          ]
        },
        {
          "output_type": "stream",
          "name": "stderr",
          "text": [
            "WARNING:langchain.chat_models.openai:Retrying langchain.chat_models.openai.acompletion_with_retry.<locals>._completion_with_retry in 1.0 seconds as it raised RateLimitError: Rate limit reached for default-gpt-3.5-turbo in organization org-fUMgGI6gSqUWLozt4nlYWmsL on tokens per min. Limit: 90000 / min. Current: 89422 / min. Contact us through our help center at help.openai.com if you continue to have issues..\n"
          ]
        },
        {
          "output_type": "stream",
          "name": "stdout",
          "text": [
            "Sports\n",
            "Business\n"
          ]
        },
        {
          "output_type": "stream",
          "name": "stderr",
          "text": [
            "WARNING:langchain.chat_models.openai:Retrying langchain.chat_models.openai.acompletion_with_retry.<locals>._completion_with_retry in 1.0 seconds as it raised RateLimitError: Rate limit reached for default-gpt-3.5-turbo in organization org-fUMgGI6gSqUWLozt4nlYWmsL on tokens per min. Limit: 90000 / min. Current: 88770 / min. Contact us through our help center at help.openai.com if you continue to have issues..\n"
          ]
        },
        {
          "output_type": "stream",
          "name": "stdout",
          "text": [
            "Toons\n",
            "Entertainment\n"
          ]
        },
        {
          "output_type": "stream",
          "name": "stderr",
          "text": [
            "WARNING:langchain.chat_models.openai:Retrying langchain.chat_models.openai.acompletion_with_retry.<locals>._completion_with_retry in 1.0 seconds as it raised RateLimitError: Rate limit reached for default-gpt-3.5-turbo in organization org-fUMgGI6gSqUWLozt4nlYWmsL on tokens per min. Limit: 90000 / min. Current: 88869 / min. Contact us through our help center at help.openai.com if you continue to have issues..\n",
            "WARNING:langchain.chat_models.openai:Retrying langchain.chat_models.openai.acompletion_with_retry.<locals>._completion_with_retry in 1.0 seconds as it raised RateLimitError: Rate limit reached for default-gpt-3.5-turbo in organization org-fUMgGI6gSqUWLozt4nlYWmsL on tokens per min. Limit: 90000 / min. Current: 88862 / min. Contact us through our help center at help.openai.com if you continue to have issues..\n"
          ]
        },
        {
          "output_type": "stream",
          "name": "stdout",
          "text": [
            "Health\n",
            "Sci/Tech\n"
          ]
        },
        {
          "output_type": "stream",
          "name": "stderr",
          "text": [
            "WARNING:langchain.chat_models.openai:Retrying langchain.chat_models.openai.acompletion_with_retry.<locals>._completion_with_retry in 1.0 seconds as it raised RateLimitError: Rate limit reached for default-gpt-3.5-turbo in organization org-fUMgGI6gSqUWLozt4nlYWmsL on tokens per min. Limit: 90000 / min. Current: 89006 / min. Contact us through our help center at help.openai.com if you continue to have issues..\n",
            "WARNING:langchain.chat_models.openai:Retrying langchain.chat_models.openai.acompletion_with_retry.<locals>._completion_with_retry in 1.0 seconds as it raised RateLimitError: Rate limit reached for default-gpt-3.5-turbo in organization org-fUMgGI6gSqUWLozt4nlYWmsL on tokens per min. Limit: 90000 / min. Current: 88807 / min. Contact us through our help center at help.openai.com if you continue to have issues..\n"
          ]
        },
        {
          "output_type": "stream",
          "name": "stdout",
          "text": [
            "Politics\n"
          ]
        },
        {
          "output_type": "stream",
          "name": "stderr",
          "text": [
            "WARNING:langchain.chat_models.openai:Retrying langchain.chat_models.openai.acompletion_with_retry.<locals>._completion_with_retry in 1.0 seconds as it raised RateLimitError: Rate limit reached for default-gpt-3.5-turbo in organization org-fUMgGI6gSqUWLozt4nlYWmsL on tokens per min. Limit: 90000 / min. Current: 89186 / min. Contact us through our help center at help.openai.com if you continue to have issues..\n"
          ]
        },
        {
          "output_type": "stream",
          "name": "stdout",
          "text": [
            "Sports\n"
          ]
        },
        {
          "output_type": "stream",
          "name": "stderr",
          "text": [
            "WARNING:langchain.chat_models.openai:Retrying langchain.chat_models.openai.acompletion_with_retry.<locals>._completion_with_retry in 1.0 seconds as it raised RateLimitError: Rate limit reached for default-gpt-3.5-turbo in organization org-fUMgGI6gSqUWLozt4nlYWmsL on tokens per min. Limit: 90000 / min. Current: 88838 / min. Contact us through our help center at help.openai.com if you continue to have issues..\n"
          ]
        },
        {
          "output_type": "stream",
          "name": "stdout",
          "text": [
            "Sports\n"
          ]
        },
        {
          "output_type": "stream",
          "name": "stderr",
          "text": [
            "WARNING:langchain.chat_models.openai:Retrying langchain.chat_models.openai.acompletion_with_retry.<locals>._completion_with_retry in 1.0 seconds as it raised RateLimitError: Rate limit reached for default-gpt-3.5-turbo in organization org-fUMgGI6gSqUWLozt4nlYWmsL on tokens per min. Limit: 90000 / min. Current: 89407 / min. Contact us through our help center at help.openai.com if you continue to have issues..\n"
          ]
        },
        {
          "output_type": "stream",
          "name": "stdout",
          "text": [
            "Software and Development\n"
          ]
        },
        {
          "output_type": "stream",
          "name": "stderr",
          "text": [
            "WARNING:langchain.chat_models.openai:Retrying langchain.chat_models.openai.acompletion_with_retry.<locals>._completion_with_retry in 1.0 seconds as it raised RateLimitError: Rate limit reached for default-gpt-3.5-turbo in organization org-fUMgGI6gSqUWLozt4nlYWmsL on tokens per min. Limit: 90000 / min. Current: 88864 / min. Contact us through our help center at help.openai.com if you continue to have issues..\n"
          ]
        },
        {
          "output_type": "stream",
          "name": "stdout",
          "text": [
            "Politics\n"
          ]
        },
        {
          "output_type": "stream",
          "name": "stderr",
          "text": [
            "WARNING:langchain.chat_models.openai:Retrying langchain.chat_models.openai.acompletion_with_retry.<locals>._completion_with_retry in 1.0 seconds as it raised RateLimitError: Rate limit reached for default-gpt-3.5-turbo in organization org-fUMgGI6gSqUWLozt4nlYWmsL on tokens per min. Limit: 90000 / min. Current: 89643 / min. Contact us through our help center at help.openai.com if you continue to have issues..\n"
          ]
        },
        {
          "output_type": "stream",
          "name": "stdout",
          "text": [
            "Business\n"
          ]
        },
        {
          "output_type": "stream",
          "name": "stderr",
          "text": [
            "WARNING:langchain.chat_models.openai:Retrying langchain.chat_models.openai.acompletion_with_retry.<locals>._completion_with_retry in 1.0 seconds as it raised RateLimitError: Rate limit reached for default-gpt-3.5-turbo in organization org-fUMgGI6gSqUWLozt4nlYWmsL on tokens per min. Limit: 90000 / min. Current: 89097 / min. Contact us through our help center at help.openai.com if you continue to have issues..\n"
          ]
        },
        {
          "output_type": "stream",
          "name": "stdout",
          "text": [
            "News/Current Events\n"
          ]
        },
        {
          "output_type": "stream",
          "name": "stderr",
          "text": [
            "WARNING:langchain.chat_models.openai:Retrying langchain.chat_models.openai.acompletion_with_retry.<locals>._completion_with_retry in 2.0 seconds as it raised RateLimitError: Rate limit reached for default-gpt-3.5-turbo in organization org-fUMgGI6gSqUWLozt4nlYWmsL on tokens per min. Limit: 90000 / min. Current: 89291 / min. Contact us through our help center at help.openai.com if you continue to have issues..\n"
          ]
        },
        {
          "output_type": "stream",
          "name": "stdout",
          "text": [
            "Entertainment\n",
            "Sports\n",
            "Politics/Current Events\n",
            "Sports\n"
          ]
        },
        {
          "output_type": "stream",
          "name": "stderr",
          "text": [
            "WARNING:langchain.chat_models.openai:Retrying langchain.chat_models.openai.acompletion_with_retry.<locals>._completion_with_retry in 1.0 seconds as it raised RateLimitError: Rate limit reached for default-gpt-3.5-turbo in organization org-fUMgGI6gSqUWLozt4nlYWmsL on tokens per min. Limit: 90000 / min. Current: 88893 / min. Contact us through our help center at help.openai.com if you continue to have issues..\n"
          ]
        },
        {
          "output_type": "stream",
          "name": "stdout",
          "text": [
            "Politics\n",
            "Software and Development\n",
            "Crime/Justice\n"
          ]
        },
        {
          "output_type": "stream",
          "name": "stderr",
          "text": [
            "WARNING:langchain.chat_models.openai:Retrying langchain.chat_models.openai.acompletion_with_retry.<locals>._completion_with_retry in 1.0 seconds as it raised RateLimitError: Rate limit reached for default-gpt-3.5-turbo in organization org-fUMgGI6gSqUWLozt4nlYWmsL on tokens per min. Limit: 90000 / min. Current: 88868 / min. Contact us through our help center at help.openai.com if you continue to have issues..\n"
          ]
        },
        {
          "output_type": "stream",
          "name": "stdout",
          "text": [
            "Sports\n",
            "Sports\n",
            "Sports\n"
          ]
        },
        {
          "output_type": "stream",
          "name": "stderr",
          "text": [
            "WARNING:langchain.chat_models.openai:Retrying langchain.chat_models.openai.acompletion_with_retry.<locals>._completion_with_retry in 1.0 seconds as it raised RateLimitError: Rate limit reached for default-gpt-3.5-turbo in organization org-fUMgGI6gSqUWLozt4nlYWmsL on tokens per min. Limit: 90000 / min. Current: 88987 / min. Contact us through our help center at help.openai.com if you continue to have issues..\n"
          ]
        },
        {
          "output_type": "stream",
          "name": "stdout",
          "text": [
            "Business\n",
            "Sports\n",
            "Sports\n"
          ]
        },
        {
          "output_type": "stream",
          "name": "stderr",
          "text": [
            "WARNING:langchain.chat_models.openai:Retrying langchain.chat_models.openai.acompletion_with_retry.<locals>._completion_with_retry in 1.0 seconds as it raised RateLimitError: Rate limit reached for default-gpt-3.5-turbo in organization org-fUMgGI6gSqUWLozt4nlYWmsL on tokens per min. Limit: 90000 / min. Current: 88939 / min. Contact us through our help center at help.openai.com if you continue to have issues..\n"
          ]
        },
        {
          "output_type": "stream",
          "name": "stdout",
          "text": [
            "Sports\n",
            "Business\n",
            "Sports\n"
          ]
        },
        {
          "output_type": "stream",
          "name": "stderr",
          "text": [
            "WARNING:langchain.chat_models.openai:Retrying langchain.chat_models.openai.acompletion_with_retry.<locals>._completion_with_retry in 1.0 seconds as it raised RateLimitError: Rate limit reached for default-gpt-3.5-turbo in organization org-fUMgGI6gSqUWLozt4nlYWmsL on tokens per min. Limit: 90000 / min. Current: 89280 / min. Contact us through our help center at help.openai.com if you continue to have issues..\n"
          ]
        },
        {
          "output_type": "stream",
          "name": "stdout",
          "text": [
            "Health\n",
            "News\n"
          ]
        },
        {
          "output_type": "stream",
          "name": "stderr",
          "text": [
            "WARNING:langchain.chat_models.openai:Retrying langchain.chat_models.openai.acompletion_with_retry.<locals>._completion_with_retry in 1.0 seconds as it raised RateLimitError: Rate limit reached for default-gpt-3.5-turbo in organization org-fUMgGI6gSqUWLozt4nlYWmsL on tokens per min. Limit: 90000 / min. Current: 88784 / min. Contact us through our help center at help.openai.com if you continue to have issues..\n"
          ]
        },
        {
          "output_type": "stream",
          "name": "stdout",
          "text": [
            "Sports\n",
            "Health\n",
            "Travel/Transportation\n"
          ]
        },
        {
          "output_type": "stream",
          "name": "stderr",
          "text": [
            "WARNING:langchain.chat_models.openai:Retrying langchain.chat_models.openai.acompletion_with_retry.<locals>._completion_with_retry in 1.0 seconds as it raised RateLimitError: Rate limit reached for default-gpt-3.5-turbo in organization org-fUMgGI6gSqUWLozt4nlYWmsL on tokens per min. Limit: 90000 / min. Current: 88720 / min. Contact us through our help center at help.openai.com if you continue to have issues..\n"
          ]
        },
        {
          "output_type": "stream",
          "name": "stdout",
          "text": [
            "News/Current Events\n",
            "Sci/Tech\n",
            "Business\n",
            "Sports\n"
          ]
        },
        {
          "output_type": "stream",
          "name": "stderr",
          "text": [
            "WARNING:langchain.chat_models.openai:Retrying langchain.chat_models.openai.acompletion_with_retry.<locals>._completion_with_retry in 1.0 seconds as it raised RateLimitError: Rate limit reached for default-gpt-3.5-turbo in organization org-fUMgGI6gSqUWLozt4nlYWmsL on tokens per min. Limit: 90000 / min. Current: 89146 / min. Contact us through our help center at help.openai.com if you continue to have issues..\n"
          ]
        },
        {
          "output_type": "stream",
          "name": "stdout",
          "text": [
            "Software and Development\n",
            "Software and Development\n",
            "War/Conflict\n"
          ]
        },
        {
          "output_type": "stream",
          "name": "stderr",
          "text": [
            "WARNING:langchain.chat_models.openai:Retrying langchain.chat_models.openai.acompletion_with_retry.<locals>._completion_with_retry in 1.0 seconds as it raised RateLimitError: Rate limit reached for default-gpt-3.5-turbo in organization org-fUMgGI6gSqUWLozt4nlYWmsL on tokens per min. Limit: 90000 / min. Current: 89105 / min. Contact us through our help center at help.openai.com if you continue to have issues..\n"
          ]
        },
        {
          "output_type": "stream",
          "name": "stdout",
          "text": [
            "Sports\n",
            "Business\n",
            "Sports\n"
          ]
        },
        {
          "output_type": "stream",
          "name": "stderr",
          "text": [
            "WARNING:langchain.chat_models.openai:Retrying langchain.chat_models.openai.acompletion_with_retry.<locals>._completion_with_retry in 1.0 seconds as it raised RateLimitError: Rate limit reached for default-gpt-3.5-turbo in organization org-fUMgGI6gSqUWLozt4nlYWmsL on tokens per min. Limit: 90000 / min. Current: 89187 / min. Contact us through our help center at help.openai.com if you continue to have issues..\n"
          ]
        },
        {
          "output_type": "stream",
          "name": "stdout",
          "text": [
            "Sports\n",
            "Charity/Fundraising\n",
            "Sports\n"
          ]
        },
        {
          "output_type": "stream",
          "name": "stderr",
          "text": [
            "WARNING:langchain.chat_models.openai:Retrying langchain.chat_models.openai.acompletion_with_retry.<locals>._completion_with_retry in 1.0 seconds as it raised RateLimitError: Rate limit reached for default-gpt-3.5-turbo in organization org-fUMgGI6gSqUWLozt4nlYWmsL on tokens per min. Limit: 90000 / min. Current: 88964 / min. Contact us through our help center at help.openai.com if you continue to have issues..\n",
            "WARNING:langchain.chat_models.openai:Retrying langchain.chat_models.openai.acompletion_with_retry.<locals>._completion_with_retry in 1.0 seconds as it raised RateLimitError: That model is currently overloaded with other requests. You can retry your request, or contact us through our help center at help.openai.com if the error persists. (Please include the request ID 4431e9635f8794a72ea1b8b54d84614b in your message.).\n"
          ]
        },
        {
          "output_type": "stream",
          "name": "stdout",
          "text": [
            "Health\n"
          ]
        },
        {
          "output_type": "stream",
          "name": "stderr",
          "text": [
            "WARNING:langchain.chat_models.openai:Retrying langchain.chat_models.openai.acompletion_with_retry.<locals>._completion_with_retry in 2.0 seconds as it raised RateLimitError: Rate limit reached for default-gpt-3.5-turbo in organization org-fUMgGI6gSqUWLozt4nlYWmsL on tokens per min. Limit: 90000 / min. Current: 88809 / min. Contact us through our help center at help.openai.com if you continue to have issues..\n"
          ]
        },
        {
          "output_type": "stream",
          "name": "stdout",
          "text": [
            "Sports\n",
            "Health\n"
          ]
        },
        {
          "output_type": "stream",
          "name": "stderr",
          "text": [
            "WARNING:langchain.chat_models.openai:Retrying langchain.chat_models.openai.acompletion_with_retry.<locals>._completion_with_retry in 1.0 seconds as it raised RateLimitError: Rate limit reached for default-gpt-3.5-turbo in organization org-fUMgGI6gSqUWLozt4nlYWmsL on tokens per min. Limit: 90000 / min. Current: 89064 / min. Contact us through our help center at help.openai.com if you continue to have issues..\n"
          ]
        },
        {
          "output_type": "stream",
          "name": "stdout",
          "text": [
            "Sports\n"
          ]
        },
        {
          "output_type": "stream",
          "name": "stderr",
          "text": [
            "WARNING:langchain.chat_models.openai:Retrying langchain.chat_models.openai.acompletion_with_retry.<locals>._completion_with_retry in 1.0 seconds as it raised RateLimitError: Rate limit reached for default-gpt-3.5-turbo in organization org-fUMgGI6gSqUWLozt4nlYWmsL on tokens per min. Limit: 90000 / min. Current: 89131 / min. Contact us through our help center at help.openai.com if you continue to have issues..\n"
          ]
        },
        {
          "output_type": "stream",
          "name": "stdout",
          "text": [
            "Sports\n"
          ]
        },
        {
          "output_type": "stream",
          "name": "stderr",
          "text": [
            "WARNING:langchain.chat_models.openai:Retrying langchain.chat_models.openai.acompletion_with_retry.<locals>._completion_with_retry in 1.0 seconds as it raised RateLimitError: Rate limit reached for default-gpt-3.5-turbo in organization org-fUMgGI6gSqUWLozt4nlYWmsL on tokens per min. Limit: 90000 / min. Current: 88742 / min. Contact us through our help center at help.openai.com if you continue to have issues..\n"
          ]
        },
        {
          "output_type": "stream",
          "name": "stdout",
          "text": [
            "Sports\n"
          ]
        },
        {
          "output_type": "stream",
          "name": "stderr",
          "text": [
            "WARNING:langchain.chat_models.openai:Retrying langchain.chat_models.openai.acompletion_with_retry.<locals>._completion_with_retry in 1.0 seconds as it raised RateLimitError: Rate limit reached for default-gpt-3.5-turbo in organization org-fUMgGI6gSqUWLozt4nlYWmsL on tokens per min. Limit: 90000 / min. Current: 89115 / min. Contact us through our help center at help.openai.com if you continue to have issues..\n"
          ]
        },
        {
          "output_type": "stream",
          "name": "stdout",
          "text": [
            "Software and Development\n"
          ]
        },
        {
          "output_type": "stream",
          "name": "stderr",
          "text": [
            "WARNING:langchain.chat_models.openai:Retrying langchain.chat_models.openai.acompletion_with_retry.<locals>._completion_with_retry in 1.0 seconds as it raised RateLimitError: Rate limit reached for default-gpt-3.5-turbo in organization org-fUMgGI6gSqUWLozt4nlYWmsL on tokens per min. Limit: 90000 / min. Current: 88734 / min. Contact us through our help center at help.openai.com if you continue to have issues..\n"
          ]
        },
        {
          "output_type": "stream",
          "name": "stdout",
          "text": [
            "Sports\n"
          ]
        },
        {
          "output_type": "stream",
          "name": "stderr",
          "text": [
            "WARNING:langchain.chat_models.openai:Retrying langchain.chat_models.openai.acompletion_with_retry.<locals>._completion_with_retry in 1.0 seconds as it raised RateLimitError: Rate limit reached for default-gpt-3.5-turbo in organization org-fUMgGI6gSqUWLozt4nlYWmsL on tokens per min. Limit: 90000 / min. Current: 89228 / min. Contact us through our help center at help.openai.com if you continue to have issues..\n"
          ]
        },
        {
          "output_type": "stream",
          "name": "stdout",
          "text": [
            "Business\n"
          ]
        },
        {
          "output_type": "stream",
          "name": "stderr",
          "text": [
            "WARNING:langchain.chat_models.openai:Retrying langchain.chat_models.openai.acompletion_with_retry.<locals>._completion_with_retry in 1.0 seconds as it raised RateLimitError: Rate limit reached for default-gpt-3.5-turbo in organization org-fUMgGI6gSqUWLozt4nlYWmsL on tokens per min. Limit: 90000 / min. Current: 88963 / min. Contact us through our help center at help.openai.com if you continue to have issues..\n"
          ]
        },
        {
          "output_type": "stream",
          "name": "stdout",
          "text": [
            "Business\n",
            "Business\n"
          ]
        },
        {
          "output_type": "stream",
          "name": "stderr",
          "text": [
            "WARNING:langchain.chat_models.openai:Retrying langchain.chat_models.openai.acompletion_with_retry.<locals>._completion_with_retry in 1.0 seconds as it raised RateLimitError: Rate limit reached for default-gpt-3.5-turbo in organization org-fUMgGI6gSqUWLozt4nlYWmsL on tokens per min. Limit: 90000 / min. Current: 89361 / min. Contact us through our help center at help.openai.com if you continue to have issues..\n",
            "WARNING:langchain.chat_models.openai:Retrying langchain.chat_models.openai.acompletion_with_retry.<locals>._completion_with_retry in 1.0 seconds as it raised RateLimitError: Rate limit reached for default-gpt-3.5-turbo in organization org-fUMgGI6gSqUWLozt4nlYWmsL on tokens per min. Limit: 90000 / min. Current: 89148 / min. Contact us through our help center at help.openai.com if you continue to have issues..\n"
          ]
        },
        {
          "output_type": "stream",
          "name": "stdout",
          "text": [
            "Business\n"
          ]
        },
        {
          "output_type": "stream",
          "name": "stderr",
          "text": [
            "WARNING:langchain.chat_models.openai:Retrying langchain.chat_models.openai.acompletion_with_retry.<locals>._completion_with_retry in 1.0 seconds as it raised RateLimitError: Rate limit reached for default-gpt-3.5-turbo in organization org-fUMgGI6gSqUWLozt4nlYWmsL on tokens per min. Limit: 90000 / min. Current: 89574 / min. Contact us through our help center at help.openai.com if you continue to have issues..\n"
          ]
        },
        {
          "output_type": "stream",
          "name": "stdout",
          "text": [
            "Sci/Tech\n"
          ]
        },
        {
          "output_type": "stream",
          "name": "stderr",
          "text": [
            "WARNING:langchain.chat_models.openai:Retrying langchain.chat_models.openai.acompletion_with_retry.<locals>._completion_with_retry in 1.0 seconds as it raised RateLimitError: Rate limit reached for default-gpt-3.5-turbo in organization org-fUMgGI6gSqUWLozt4nlYWmsL on tokens per min. Limit: 90000 / min. Current: 89235 / min. Contact us through our help center at help.openai.com if you continue to have issues..\n",
            "WARNING:langchain.chat_models.openai:Retrying langchain.chat_models.openai.acompletion_with_retry.<locals>._completion_with_retry in 2.0 seconds as it raised RateLimitError: Rate limit reached for default-gpt-3.5-turbo in organization org-fUMgGI6gSqUWLozt4nlYWmsL on tokens per min. Limit: 90000 / min. Current: 88712 / min. Contact us through our help center at help.openai.com if you continue to have issues..\n"
          ]
        },
        {
          "output_type": "stream",
          "name": "stdout",
          "text": [
            "Natural Disasters/Weather\n",
            "Business\n",
            "Business\n"
          ]
        },
        {
          "output_type": "stream",
          "name": "stderr",
          "text": [
            "WARNING:langchain.chat_models.openai:Retrying langchain.chat_models.openai.acompletion_with_retry.<locals>._completion_with_retry in 1.0 seconds as it raised RateLimitError: Rate limit reached for default-gpt-3.5-turbo in organization org-fUMgGI6gSqUWLozt4nlYWmsL on tokens per min. Limit: 90000 / min. Current: 88899 / min. Contact us through our help center at help.openai.com if you continue to have issues..\n"
          ]
        },
        {
          "output_type": "stream",
          "name": "stdout",
          "text": [
            "Entertainment\n"
          ]
        },
        {
          "output_type": "stream",
          "name": "stderr",
          "text": [
            "WARNING:langchain.chat_models.openai:Retrying langchain.chat_models.openai.acompletion_with_retry.<locals>._completion_with_retry in 1.0 seconds as it raised RateLimitError: Rate limit reached for default-gpt-3.5-turbo in organization org-fUMgGI6gSqUWLozt4nlYWmsL on tokens per min. Limit: 90000 / min. Current: 89687 / min. Contact us through our help center at help.openai.com if you continue to have issues..\n"
          ]
        },
        {
          "output_type": "stream",
          "name": "stdout",
          "text": [
            "Business\n"
          ]
        },
        {
          "output_type": "stream",
          "name": "stderr",
          "text": [
            "WARNING:langchain.chat_models.openai:Retrying langchain.chat_models.openai.acompletion_with_retry.<locals>._completion_with_retry in 1.0 seconds as it raised RateLimitError: Rate limit reached for default-gpt-3.5-turbo in organization org-fUMgGI6gSqUWLozt4nlYWmsL on tokens per min. Limit: 90000 / min. Current: 88960 / min. Contact us through our help center at help.openai.com if you continue to have issues..\n"
          ]
        },
        {
          "output_type": "stream",
          "name": "stdout",
          "text": [
            "Politics\n"
          ]
        },
        {
          "output_type": "stream",
          "name": "stderr",
          "text": [
            "WARNING:langchain.chat_models.openai:Retrying langchain.chat_models.openai.acompletion_with_retry.<locals>._completion_with_retry in 2.0 seconds as it raised RateLimitError: Rate limit reached for default-gpt-3.5-turbo in organization org-fUMgGI6gSqUWLozt4nlYWmsL on tokens per min. Limit: 90000 / min. Current: 89758 / min. Contact us through our help center at help.openai.com if you continue to have issues..\n"
          ]
        },
        {
          "output_type": "stream",
          "name": "stdout",
          "text": [
            "Politics\n"
          ]
        },
        {
          "output_type": "stream",
          "name": "stderr",
          "text": [
            "WARNING:langchain.chat_models.openai:Retrying langchain.chat_models.openai.acompletion_with_retry.<locals>._completion_with_retry in 1.0 seconds as it raised RateLimitError: Rate limit reached for default-gpt-3.5-turbo in organization org-fUMgGI6gSqUWLozt4nlYWmsL on tokens per min. Limit: 90000 / min. Current: 89106 / min. Contact us through our help center at help.openai.com if you continue to have issues..\n"
          ]
        },
        {
          "output_type": "stream",
          "name": "stdout",
          "text": [
            "Business\n"
          ]
        },
        {
          "output_type": "stream",
          "name": "stderr",
          "text": [
            "WARNING:langchain.chat_models.openai:Retrying langchain.chat_models.openai.acompletion_with_retry.<locals>._completion_with_retry in 4.0 seconds as it raised RateLimitError: Rate limit reached for default-gpt-3.5-turbo in organization org-fUMgGI6gSqUWLozt4nlYWmsL on tokens per min. Limit: 90000 / min. Current: 89070 / min. Contact us through our help center at help.openai.com if you continue to have issues..\n"
          ]
        },
        {
          "output_type": "stream",
          "name": "stdout",
          "text": [
            "Health\n",
            "Sports\n"
          ]
        },
        {
          "output_type": "stream",
          "name": "stderr",
          "text": [
            "WARNING:langchain.chat_models.openai:Retrying langchain.chat_models.openai.acompletion_with_retry.<locals>._completion_with_retry in 1.0 seconds as it raised RateLimitError: Rate limit reached for default-gpt-3.5-turbo in organization org-fUMgGI6gSqUWLozt4nlYWmsL on tokens per min. Limit: 90000 / min. Current: 89293 / min. Contact us through our help center at help.openai.com if you continue to have issues..\n"
          ]
        },
        {
          "output_type": "stream",
          "name": "stdout",
          "text": [
            "Sports\n",
            "Sports\n"
          ]
        },
        {
          "output_type": "stream",
          "name": "stderr",
          "text": [
            "WARNING:langchain.chat_models.openai:Retrying langchain.chat_models.openai.acompletion_with_retry.<locals>._completion_with_retry in 1.0 seconds as it raised RateLimitError: Rate limit reached for default-gpt-3.5-turbo in organization org-fUMgGI6gSqUWLozt4nlYWmsL on tokens per min. Limit: 90000 / min. Current: 88822 / min. Contact us through our help center at help.openai.com if you continue to have issues..\n"
          ]
        },
        {
          "output_type": "stream",
          "name": "stdout",
          "text": [
            "Entertainment\n",
            "Sports\n"
          ]
        },
        {
          "output_type": "stream",
          "name": "stderr",
          "text": [
            "WARNING:langchain.chat_models.openai:Retrying langchain.chat_models.openai.acompletion_with_retry.<locals>._completion_with_retry in 1.0 seconds as it raised RateLimitError: Rate limit reached for default-gpt-3.5-turbo in organization org-fUMgGI6gSqUWLozt4nlYWmsL on tokens per min. Limit: 90000 / min. Current: 88874 / min. Contact us through our help center at help.openai.com if you continue to have issues..\n"
          ]
        },
        {
          "output_type": "stream",
          "name": "stdout",
          "text": [
            "Business\n"
          ]
        },
        {
          "output_type": "stream",
          "name": "stderr",
          "text": [
            "WARNING:langchain.chat_models.openai:Retrying langchain.chat_models.openai.acompletion_with_retry.<locals>._completion_with_retry in 1.0 seconds as it raised RateLimitError: Rate limit reached for default-gpt-3.5-turbo in organization org-fUMgGI6gSqUWLozt4nlYWmsL on tokens per min. Limit: 90000 / min. Current: 89120 / min. Contact us through our help center at help.openai.com if you continue to have issues..\n"
          ]
        },
        {
          "output_type": "stream",
          "name": "stdout",
          "text": [
            "Health\n"
          ]
        },
        {
          "output_type": "stream",
          "name": "stderr",
          "text": [
            "WARNING:langchain.chat_models.openai:Retrying langchain.chat_models.openai.acompletion_with_retry.<locals>._completion_with_retry in 1.0 seconds as it raised RateLimitError: Rate limit reached for default-gpt-3.5-turbo in organization org-fUMgGI6gSqUWLozt4nlYWmsL on tokens per min. Limit: 90000 / min. Current: 89037 / min. Contact us through our help center at help.openai.com if you continue to have issues..\n"
          ]
        },
        {
          "output_type": "stream",
          "name": "stdout",
          "text": [
            "Business\n"
          ]
        },
        {
          "output_type": "stream",
          "name": "stderr",
          "text": [
            "WARNING:langchain.chat_models.openai:Retrying langchain.chat_models.openai.acompletion_with_retry.<locals>._completion_with_retry in 1.0 seconds as it raised RateLimitError: Rate limit reached for default-gpt-3.5-turbo in organization org-fUMgGI6gSqUWLozt4nlYWmsL on tokens per min. Limit: 90000 / min. Current: 89194 / min. Contact us through our help center at help.openai.com if you continue to have issues..\n"
          ]
        },
        {
          "output_type": "stream",
          "name": "stdout",
          "text": [
            "Health\n",
            "Sorry, I cannot label the classification of the given article as it lacks sufficient information or context.\n"
          ]
        },
        {
          "output_type": "stream",
          "name": "stderr",
          "text": [
            "WARNING:langchain.chat_models.openai:Retrying langchain.chat_models.openai.acompletion_with_retry.<locals>._completion_with_retry in 1.0 seconds as it raised RateLimitError: Rate limit reached for default-gpt-3.5-turbo in organization org-fUMgGI6gSqUWLozt4nlYWmsL on tokens per min. Limit: 90000 / min. Current: 89340 / min. Contact us through our help center at help.openai.com if you continue to have issues..\n",
            "WARNING:langchain.chat_models.openai:Retrying langchain.chat_models.openai.acompletion_with_retry.<locals>._completion_with_retry in 1.0 seconds as it raised RateLimitError: Rate limit reached for default-gpt-3.5-turbo in organization org-fUMgGI6gSqUWLozt4nlYWmsL on tokens per min. Limit: 90000 / min. Current: 89323 / min. Contact us through our help center at help.openai.com if you continue to have issues..\n",
            "WARNING:langchain.chat_models.openai:Retrying langchain.chat_models.openai.acompletion_with_retry.<locals>._completion_with_retry in 2.0 seconds as it raised RateLimitError: Rate limit reached for default-gpt-3.5-turbo in organization org-fUMgGI6gSqUWLozt4nlYWmsL on tokens per min. Limit: 90000 / min. Current: 88801 / min. Contact us through our help center at help.openai.com if you continue to have issues..\n"
          ]
        },
        {
          "output_type": "stream",
          "name": "stdout",
          "text": [
            "Health\n",
            "Sports\n",
            "Sports\n"
          ]
        },
        {
          "output_type": "stream",
          "name": "stderr",
          "text": [
            "WARNING:langchain.chat_models.openai:Retrying langchain.chat_models.openai.acompletion_with_retry.<locals>._completion_with_retry in 1.0 seconds as it raised RateLimitError: Rate limit reached for default-gpt-3.5-turbo in organization org-fUMgGI6gSqUWLozt4nlYWmsL on tokens per min. Limit: 90000 / min. Current: 88797 / min. Contact us through our help center at help.openai.com if you continue to have issues..\n"
          ]
        },
        {
          "output_type": "stream",
          "name": "stdout",
          "text": [
            "Politics/Government\n"
          ]
        },
        {
          "output_type": "stream",
          "name": "stderr",
          "text": [
            "WARNING:langchain.chat_models.openai:Retrying langchain.chat_models.openai.acompletion_with_retry.<locals>._completion_with_retry in 2.0 seconds as it raised RateLimitError: Rate limit reached for default-gpt-3.5-turbo in organization org-fUMgGI6gSqUWLozt4nlYWmsL on tokens per min. Limit: 90000 / min. Current: 89609 / min. Contact us through our help center at help.openai.com if you continue to have issues..\n"
          ]
        },
        {
          "output_type": "stream",
          "name": "stdout",
          "text": [
            "Sports\n"
          ]
        },
        {
          "output_type": "stream",
          "name": "stderr",
          "text": [
            "WARNING:langchain.chat_models.openai:Retrying langchain.chat_models.openai.acompletion_with_retry.<locals>._completion_with_retry in 1.0 seconds as it raised RateLimitError: Rate limit reached for default-gpt-3.5-turbo in organization org-fUMgGI6gSqUWLozt4nlYWmsL on tokens per min. Limit: 90000 / min. Current: 89309 / min. Contact us through our help center at help.openai.com if you continue to have issues..\n"
          ]
        },
        {
          "output_type": "stream",
          "name": "stdout",
          "text": [
            "Business\n"
          ]
        },
        {
          "output_type": "stream",
          "name": "stderr",
          "text": [
            "WARNING:langchain.chat_models.openai:Retrying langchain.chat_models.openai.acompletion_with_retry.<locals>._completion_with_retry in 4.0 seconds as it raised RateLimitError: Rate limit reached for default-gpt-3.5-turbo in organization org-fUMgGI6gSqUWLozt4nlYWmsL on tokens per min. Limit: 90000 / min. Current: 88926 / min. Contact us through our help center at help.openai.com if you continue to have issues..\n"
          ]
        },
        {
          "output_type": "stream",
          "name": "stdout",
          "text": [
            "Business\n"
          ]
        },
        {
          "output_type": "stream",
          "name": "stderr",
          "text": [
            "WARNING:langchain.chat_models.openai:Retrying langchain.chat_models.openai.acompletion_with_retry.<locals>._completion_with_retry in 1.0 seconds as it raised RateLimitError: Rate limit reached for default-gpt-3.5-turbo in organization org-fUMgGI6gSqUWLozt4nlYWmsL on tokens per min. Limit: 90000 / min. Current: 88782 / min. Contact us through our help center at help.openai.com if you continue to have issues..\n"
          ]
        },
        {
          "output_type": "stream",
          "name": "stdout",
          "text": [
            "Sports\n",
            "Software and Development\n",
            "Sports\n",
            "Sports\n"
          ]
        },
        {
          "output_type": "stream",
          "name": "stderr",
          "text": [
            "WARNING:langchain.chat_models.openai:Retrying langchain.chat_models.openai.acompletion_with_retry.<locals>._completion_with_retry in 1.0 seconds as it raised RateLimitError: Rate limit reached for default-gpt-3.5-turbo in organization org-fUMgGI6gSqUWLozt4nlYWmsL on tokens per min. Limit: 90000 / min. Current: 89296 / min. Contact us through our help center at help.openai.com if you continue to have issues..\n",
            "WARNING:langchain.chat_models.openai:Retrying langchain.chat_models.openai.acompletion_with_retry.<locals>._completion_with_retry in 2.0 seconds as it raised RateLimitError: Rate limit reached for default-gpt-3.5-turbo in organization org-fUMgGI6gSqUWLozt4nlYWmsL on tokens per min. Limit: 90000 / min. Current: 88741 / min. Contact us through our help center at help.openai.com if you continue to have issues..\n"
          ]
        },
        {
          "output_type": "stream",
          "name": "stdout",
          "text": [
            "Sports\n",
            "Politics\n"
          ]
        },
        {
          "output_type": "stream",
          "name": "stderr",
          "text": [
            "WARNING:langchain.chat_models.openai:Retrying langchain.chat_models.openai.acompletion_with_retry.<locals>._completion_with_retry in 1.0 seconds as it raised RateLimitError: Rate limit reached for default-gpt-3.5-turbo in organization org-fUMgGI6gSqUWLozt4nlYWmsL on tokens per min. Limit: 90000 / min. Current: 89095 / min. Contact us through our help center at help.openai.com if you continue to have issues..\n"
          ]
        },
        {
          "output_type": "stream",
          "name": "stdout",
          "text": [
            "Sports\n",
            "Business\n"
          ]
        },
        {
          "output_type": "stream",
          "name": "stderr",
          "text": [
            "WARNING:langchain.chat_models.openai:Retrying langchain.chat_models.openai.acompletion_with_retry.<locals>._completion_with_retry in 1.0 seconds as it raised RateLimitError: Rate limit reached for default-gpt-3.5-turbo in organization org-fUMgGI6gSqUWLozt4nlYWmsL on tokens per min. Limit: 90000 / min. Current: 88862 / min. Contact us through our help center at help.openai.com if you continue to have issues..\n",
            "WARNING:langchain.chat_models.openai:Retrying langchain.chat_models.openai.acompletion_with_retry.<locals>._completion_with_retry in 1.0 seconds as it raised RateLimitError: Rate limit reached for default-gpt-3.5-turbo in organization org-fUMgGI6gSqUWLozt4nlYWmsL on tokens per min. Limit: 90000 / min. Current: 88700 / min. Contact us through our help center at help.openai.com if you continue to have issues..\n"
          ]
        },
        {
          "output_type": "stream",
          "name": "stdout",
          "text": [
            "Business\n",
            "Business\n"
          ]
        },
        {
          "output_type": "stream",
          "name": "stderr",
          "text": [
            "WARNING:langchain.chat_models.openai:Retrying langchain.chat_models.openai.acompletion_with_retry.<locals>._completion_with_retry in 1.0 seconds as it raised RateLimitError: Rate limit reached for default-gpt-3.5-turbo in organization org-fUMgGI6gSqUWLozt4nlYWmsL on tokens per min. Limit: 90000 / min. Current: 88838 / min. Contact us through our help center at help.openai.com if you continue to have issues..\n"
          ]
        },
        {
          "output_type": "stream",
          "name": "stdout",
          "text": [
            "Business\n"
          ]
        },
        {
          "output_type": "stream",
          "name": "stderr",
          "text": [
            "WARNING:langchain.chat_models.openai:Retrying langchain.chat_models.openai.acompletion_with_retry.<locals>._completion_with_retry in 1.0 seconds as it raised RateLimitError: Rate limit reached for default-gpt-3.5-turbo in organization org-fUMgGI6gSqUWLozt4nlYWmsL on tokens per min. Limit: 90000 / min. Current: 88907 / min. Contact us through our help center at help.openai.com if you continue to have issues..\n"
          ]
        },
        {
          "output_type": "stream",
          "name": "stdout",
          "text": [
            "Sports\n"
          ]
        },
        {
          "output_type": "stream",
          "name": "stderr",
          "text": [
            "WARNING:langchain.chat_models.openai:Retrying langchain.chat_models.openai.acompletion_with_retry.<locals>._completion_with_retry in 1.0 seconds as it raised RateLimitError: Rate limit reached for default-gpt-3.5-turbo in organization org-fUMgGI6gSqUWLozt4nlYWmsL on tokens per min. Limit: 90000 / min. Current: 89012 / min. Contact us through our help center at help.openai.com if you continue to have issues..\n"
          ]
        },
        {
          "output_type": "stream",
          "name": "stdout",
          "text": [
            "Sports\n"
          ]
        },
        {
          "output_type": "stream",
          "name": "stderr",
          "text": [
            "WARNING:langchain.chat_models.openai:Retrying langchain.chat_models.openai.acompletion_with_retry.<locals>._completion_with_retry in 1.0 seconds as it raised RateLimitError: Rate limit reached for default-gpt-3.5-turbo in organization org-fUMgGI6gSqUWLozt4nlYWmsL on tokens per min. Limit: 90000 / min. Current: 89152 / min. Contact us through our help center at help.openai.com if you continue to have issues..\n"
          ]
        },
        {
          "output_type": "stream",
          "name": "stdout",
          "text": [
            "Business\n"
          ]
        },
        {
          "output_type": "stream",
          "name": "stderr",
          "text": [
            "WARNING:langchain.chat_models.openai:Retrying langchain.chat_models.openai.acompletion_with_retry.<locals>._completion_with_retry in 1.0 seconds as it raised RateLimitError: Rate limit reached for default-gpt-3.5-turbo in organization org-fUMgGI6gSqUWLozt4nlYWmsL on tokens per min. Limit: 90000 / min. Current: 89010 / min. Contact us through our help center at help.openai.com if you continue to have issues..\n"
          ]
        },
        {
          "output_type": "stream",
          "name": "stdout",
          "text": [
            "Business\n"
          ]
        },
        {
          "output_type": "stream",
          "name": "stderr",
          "text": [
            "WARNING:langchain.chat_models.openai:Retrying langchain.chat_models.openai.acompletion_with_retry.<locals>._completion_with_retry in 1.0 seconds as it raised RateLimitError: Rate limit reached for default-gpt-3.5-turbo in organization org-fUMgGI6gSqUWLozt4nlYWmsL on tokens per min. Limit: 90000 / min. Current: 89141 / min. Contact us through our help center at help.openai.com if you continue to have issues..\n"
          ]
        },
        {
          "output_type": "stream",
          "name": "stdout",
          "text": [
            "Entertainment\n",
            "Business\n",
            "I'm sorry, but there is no article provided for me to classify. Please provide an article for me to classify.\n",
            "Business\n",
            "Sci/Tech\n"
          ]
        },
        {
          "output_type": "stream",
          "name": "stderr",
          "text": [
            "WARNING:langchain.chat_models.openai:Retrying langchain.chat_models.openai.acompletion_with_retry.<locals>._completion_with_retry in 1.0 seconds as it raised RateLimitError: Rate limit reached for default-gpt-3.5-turbo in organization org-fUMgGI6gSqUWLozt4nlYWmsL on tokens per min. Limit: 90000 / min. Current: 88747 / min. Contact us through our help center at help.openai.com if you continue to have issues..\n"
          ]
        },
        {
          "output_type": "stream",
          "name": "stdout",
          "text": [
            "Sports\n",
            "Without more information, it is not possible to accurately classify this article into one of the given categories.\n",
            "Sports\n",
            "Sports\n",
            "Music Feeds\n"
          ]
        },
        {
          "output_type": "stream",
          "name": "stderr",
          "text": [
            "WARNING:langchain.chat_models.openai:Retrying langchain.chat_models.openai.acompletion_with_retry.<locals>._completion_with_retry in 1.0 seconds as it raised RateLimitError: Rate limit reached for default-gpt-3.5-turbo in organization org-fUMgGI6gSqUWLozt4nlYWmsL on tokens per min. Limit: 90000 / min. Current: 88951 / min. Contact us through our help center at help.openai.com if you continue to have issues..\n"
          ]
        },
        {
          "output_type": "stream",
          "name": "stdout",
          "text": [
            "Sports\n",
            "Sci/Tech\n",
            "Business\n"
          ]
        },
        {
          "output_type": "stream",
          "name": "stderr",
          "text": [
            "WARNING:langchain.chat_models.openai:Retrying langchain.chat_models.openai.acompletion_with_retry.<locals>._completion_with_retry in 1.0 seconds as it raised RateLimitError: Rate limit reached for default-gpt-3.5-turbo in organization org-fUMgGI6gSqUWLozt4nlYWmsL on tokens per min. Limit: 90000 / min. Current: 88910 / min. Contact us through our help center at help.openai.com if you continue to have issues..\n"
          ]
        },
        {
          "output_type": "stream",
          "name": "stdout",
          "text": [
            "Sports\n",
            "Business\n",
            "Sports\n"
          ]
        },
        {
          "output_type": "stream",
          "name": "stderr",
          "text": [
            "WARNING:langchain.chat_models.openai:Retrying langchain.chat_models.openai.acompletion_with_retry.<locals>._completion_with_retry in 1.0 seconds as it raised RateLimitError: Rate limit reached for default-gpt-3.5-turbo in organization org-fUMgGI6gSqUWLozt4nlYWmsL on tokens per min. Limit: 90000 / min. Current: 89124 / min. Contact us through our help center at help.openai.com if you continue to have issues..\n"
          ]
        },
        {
          "output_type": "stream",
          "name": "stdout",
          "text": [
            "Sports\n",
            "Health\n"
          ]
        },
        {
          "output_type": "stream",
          "name": "stderr",
          "text": [
            "WARNING:langchain.chat_models.openai:Retrying langchain.chat_models.openai.acompletion_with_retry.<locals>._completion_with_retry in 1.0 seconds as it raised RateLimitError: Rate limit reached for default-gpt-3.5-turbo in organization org-fUMgGI6gSqUWLozt4nlYWmsL on tokens per min. Limit: 90000 / min. Current: 88703 / min. Contact us through our help center at help.openai.com if you continue to have issues..\n"
          ]
        },
        {
          "output_type": "stream",
          "name": "stdout",
          "text": [
            "Sports\n",
            "Sports\n",
            "None of the given categories fit this article well. It seems to be a general news article about a woman in a remote district in Brazil.\n",
            "Software and Development\n",
            "Sports\n",
            "Politics\n"
          ]
        },
        {
          "output_type": "stream",
          "name": "stderr",
          "text": [
            "WARNING:langchain.chat_models.openai:Retrying langchain.chat_models.openai.acompletion_with_retry.<locals>._completion_with_retry in 1.0 seconds as it raised RateLimitError: Rate limit reached for default-gpt-3.5-turbo in organization org-fUMgGI6gSqUWLozt4nlYWmsL on tokens per min. Limit: 90000 / min. Current: 88964 / min. Contact us through our help center at help.openai.com if you continue to have issues..\n"
          ]
        },
        {
          "output_type": "stream",
          "name": "stdout",
          "text": [
            "Travel/Tourism\n",
            "Business\n",
            "Sports\n"
          ]
        },
        {
          "output_type": "stream",
          "name": "stderr",
          "text": [
            "WARNING:langchain.chat_models.openai:Retrying langchain.chat_models.openai.acompletion_with_retry.<locals>._completion_with_retry in 1.0 seconds as it raised RateLimitError: Rate limit reached for default-gpt-3.5-turbo in organization org-fUMgGI6gSqUWLozt4nlYWmsL on tokens per min. Limit: 90000 / min. Current: 89046 / min. Contact us through our help center at help.openai.com if you continue to have issues..\n"
          ]
        },
        {
          "output_type": "stream",
          "name": "stdout",
          "text": [
            "Politics\n",
            "Business\n",
            "Politics\n"
          ]
        },
        {
          "output_type": "stream",
          "name": "stderr",
          "text": [
            "WARNING:langchain.chat_models.openai:Retrying langchain.chat_models.openai.acompletion_with_retry.<locals>._completion_with_retry in 1.0 seconds as it raised RateLimitError: Rate limit reached for default-gpt-3.5-turbo in organization org-fUMgGI6gSqUWLozt4nlYWmsL on tokens per min. Limit: 90000 / min. Current: 89159 / min. Contact us through our help center at help.openai.com if you continue to have issues..\n"
          ]
        },
        {
          "output_type": "stream",
          "name": "stdout",
          "text": [
            "Sports\n",
            "Business\n"
          ]
        },
        {
          "output_type": "stream",
          "name": "stderr",
          "text": [
            "WARNING:langchain.chat_models.openai:Retrying langchain.chat_models.openai.acompletion_with_retry.<locals>._completion_with_retry in 2.0 seconds as it raised RateLimitError: That model is currently overloaded with other requests. You can retry your request, or contact us through our help center at help.openai.com if the error persists. (Please include the request ID 7a9422cade99b0c2f000548a81ad4f33 in your message.).\n"
          ]
        },
        {
          "output_type": "stream",
          "name": "stdout",
          "text": [
            "Politics/Government\n"
          ]
        },
        {
          "output_type": "stream",
          "name": "stderr",
          "text": [
            "WARNING:langchain.chat_models.openai:Retrying langchain.chat_models.openai.acompletion_with_retry.<locals>._completion_with_retry in 1.0 seconds as it raised RateLimitError: Rate limit reached for default-gpt-3.5-turbo in organization org-fUMgGI6gSqUWLozt4nlYWmsL on tokens per min. Limit: 90000 / min. Current: 89220 / min. Contact us through our help center at help.openai.com if you continue to have issues..\n"
          ]
        },
        {
          "output_type": "stream",
          "name": "stdout",
          "text": [
            "Business\n"
          ]
        },
        {
          "output_type": "stream",
          "name": "stderr",
          "text": [
            "WARNING:langchain.chat_models.openai:Retrying langchain.chat_models.openai.acompletion_with_retry.<locals>._completion_with_retry in 4.0 seconds as it raised RateLimitError: Rate limit reached for default-gpt-3.5-turbo in organization org-fUMgGI6gSqUWLozt4nlYWmsL on tokens per min. Limit: 90000 / min. Current: 88892 / min. Contact us through our help center at help.openai.com if you continue to have issues..\n"
          ]
        },
        {
          "output_type": "stream",
          "name": "stdout",
          "text": [
            "Software and Development\n"
          ]
        },
        {
          "output_type": "stream",
          "name": "stderr",
          "text": [
            "WARNING:langchain.chat_models.openai:Retrying langchain.chat_models.openai.acompletion_with_retry.<locals>._completion_with_retry in 1.0 seconds as it raised RateLimitError: Rate limit reached for default-gpt-3.5-turbo in organization org-fUMgGI6gSqUWLozt4nlYWmsL on tokens per min. Limit: 90000 / min. Current: 88703 / min. Contact us through our help center at help.openai.com if you continue to have issues..\n"
          ]
        },
        {
          "output_type": "stream",
          "name": "stdout",
          "text": [
            "Software and Development\n",
            "Sci/Tech\n",
            "Sports\n",
            "Sports\n"
          ]
        },
        {
          "output_type": "stream",
          "name": "stderr",
          "text": [
            "WARNING:langchain.chat_models.openai:Retrying langchain.chat_models.openai.acompletion_with_retry.<locals>._completion_with_retry in 1.0 seconds as it raised RateLimitError: Rate limit reached for default-gpt-3.5-turbo in organization org-fUMgGI6gSqUWLozt4nlYWmsL on tokens per min. Limit: 90000 / min. Current: 88964 / min. Contact us through our help center at help.openai.com if you continue to have issues..\n"
          ]
        },
        {
          "output_type": "stream",
          "name": "stdout",
          "text": [
            "Politics/Government\n",
            "Entertainment\n"
          ]
        },
        {
          "output_type": "stream",
          "name": "stderr",
          "text": [
            "WARNING:langchain.chat_models.openai:Retrying langchain.chat_models.openai.acompletion_with_retry.<locals>._completion_with_retry in 1.0 seconds as it raised RateLimitError: Rate limit reached for default-gpt-3.5-turbo in organization org-fUMgGI6gSqUWLozt4nlYWmsL on tokens per min. Limit: 90000 / min. Current: 89126 / min. Contact us through our help center at help.openai.com if you continue to have issues..\n",
            "WARNING:langchain.chat_models.openai:Retrying langchain.chat_models.openai.acompletion_with_retry.<locals>._completion_with_retry in 1.0 seconds as it raised RateLimitError: Rate limit reached for default-gpt-3.5-turbo in organization org-fUMgGI6gSqUWLozt4nlYWmsL on tokens per min. Limit: 90000 / min. Current: 89115 / min. Contact us through our help center at help.openai.com if you continue to have issues..\n"
          ]
        },
        {
          "output_type": "stream",
          "name": "stdout",
          "text": [
            "Business\n",
            "Sports\n"
          ]
        },
        {
          "output_type": "stream",
          "name": "stderr",
          "text": [
            "WARNING:langchain.chat_models.openai:Retrying langchain.chat_models.openai.acompletion_with_retry.<locals>._completion_with_retry in 1.0 seconds as it raised RateLimitError: Rate limit reached for default-gpt-3.5-turbo in organization org-fUMgGI6gSqUWLozt4nlYWmsL on tokens per min. Limit: 90000 / min. Current: 89302 / min. Contact us through our help center at help.openai.com if you continue to have issues..\n",
            "WARNING:langchain.chat_models.openai:Retrying langchain.chat_models.openai.acompletion_with_retry.<locals>._completion_with_retry in 1.0 seconds as it raised RateLimitError: Rate limit reached for default-gpt-3.5-turbo in organization org-fUMgGI6gSqUWLozt4nlYWmsL on tokens per min. Limit: 90000 / min. Current: 89168 / min. Contact us through our help center at help.openai.com if you continue to have issues..\n"
          ]
        },
        {
          "output_type": "stream",
          "name": "stdout",
          "text": [
            "Health\n",
            "Sports\n"
          ]
        },
        {
          "output_type": "stream",
          "name": "stderr",
          "text": [
            "WARNING:langchain.chat_models.openai:Retrying langchain.chat_models.openai.acompletion_with_retry.<locals>._completion_with_retry in 1.0 seconds as it raised RateLimitError: Rate limit reached for default-gpt-3.5-turbo in organization org-fUMgGI6gSqUWLozt4nlYWmsL on tokens per min. Limit: 90000 / min. Current: 89401 / min. Contact us through our help center at help.openai.com if you continue to have issues..\n",
            "WARNING:langchain.chat_models.openai:Retrying langchain.chat_models.openai.acompletion_with_retry.<locals>._completion_with_retry in 1.0 seconds as it raised RateLimitError: Rate limit reached for default-gpt-3.5-turbo in organization org-fUMgGI6gSqUWLozt4nlYWmsL on tokens per min. Limit: 90000 / min. Current: 89186 / min. Contact us through our help center at help.openai.com if you continue to have issues..\n"
          ]
        },
        {
          "output_type": "stream",
          "name": "stdout",
          "text": [
            "Business\n",
            "Business\n"
          ]
        },
        {
          "output_type": "stream",
          "name": "stderr",
          "text": [
            "WARNING:langchain.chat_models.openai:Retrying langchain.chat_models.openai.acompletion_with_retry.<locals>._completion_with_retry in 1.0 seconds as it raised RateLimitError: Rate limit reached for default-gpt-3.5-turbo in organization org-fUMgGI6gSqUWLozt4nlYWmsL on tokens per min. Limit: 90000 / min. Current: 89478 / min. Contact us through our help center at help.openai.com if you continue to have issues..\n",
            "WARNING:langchain.chat_models.openai:Retrying langchain.chat_models.openai.acompletion_with_retry.<locals>._completion_with_retry in 1.0 seconds as it raised RateLimitError: Rate limit reached for default-gpt-3.5-turbo in organization org-fUMgGI6gSqUWLozt4nlYWmsL on tokens per min. Limit: 90000 / min. Current: 89160 / min. Contact us through our help center at help.openai.com if you continue to have issues..\n"
          ]
        },
        {
          "output_type": "stream",
          "name": "stdout",
          "text": [
            "Business\n",
            "Business\n"
          ]
        },
        {
          "output_type": "stream",
          "name": "stderr",
          "text": [
            "WARNING:langchain.chat_models.openai:Retrying langchain.chat_models.openai.acompletion_with_retry.<locals>._completion_with_retry in 1.0 seconds as it raised RateLimitError: Rate limit reached for default-gpt-3.5-turbo in organization org-fUMgGI6gSqUWLozt4nlYWmsL on tokens per min. Limit: 90000 / min. Current: 89491 / min. Contact us through our help center at help.openai.com if you continue to have issues..\n",
            "WARNING:langchain.chat_models.openai:Retrying langchain.chat_models.openai.acompletion_with_retry.<locals>._completion_with_retry in 1.0 seconds as it raised RateLimitError: Rate limit reached for default-gpt-3.5-turbo in organization org-fUMgGI6gSqUWLozt4nlYWmsL on tokens per min. Limit: 90000 / min. Current: 89401 / min. Contact us through our help center at help.openai.com if you continue to have issues..\n",
            "WARNING:langchain.chat_models.openai:Retrying langchain.chat_models.openai.acompletion_with_retry.<locals>._completion_with_retry in 2.0 seconds as it raised RateLimitError: Rate limit reached for default-gpt-3.5-turbo in organization org-fUMgGI6gSqUWLozt4nlYWmsL on tokens per min. Limit: 90000 / min. Current: 88899 / min. Contact us through our help center at help.openai.com if you continue to have issues..\n"
          ]
        },
        {
          "output_type": "stream",
          "name": "stdout",
          "text": [
            "Business\n",
            "Entertainment\n"
          ]
        },
        {
          "output_type": "stream",
          "name": "stderr",
          "text": [
            "WARNING:langchain.chat_models.openai:Retrying langchain.chat_models.openai.acompletion_with_retry.<locals>._completion_with_retry in 1.0 seconds as it raised RateLimitError: Rate limit reached for default-gpt-3.5-turbo in organization org-fUMgGI6gSqUWLozt4nlYWmsL on tokens per min. Limit: 90000 / min. Current: 88882 / min. Contact us through our help center at help.openai.com if you continue to have issues..\n"
          ]
        },
        {
          "output_type": "stream",
          "name": "stdout",
          "text": [
            "Business\n",
            "Business\n"
          ]
        },
        {
          "output_type": "stream",
          "name": "stderr",
          "text": [
            "WARNING:langchain.chat_models.openai:Retrying langchain.chat_models.openai.acompletion_with_retry.<locals>._completion_with_retry in 1.0 seconds as it raised RateLimitError: Rate limit reached for default-gpt-3.5-turbo in organization org-fUMgGI6gSqUWLozt4nlYWmsL on tokens per min. Limit: 90000 / min. Current: 89026 / min. Contact us through our help center at help.openai.com if you continue to have issues..\n",
            "WARNING:langchain.chat_models.openai:Retrying langchain.chat_models.openai.acompletion_with_retry.<locals>._completion_with_retry in 1.0 seconds as it raised RateLimitError: Rate limit reached for default-gpt-3.5-turbo in organization org-fUMgGI6gSqUWLozt4nlYWmsL on tokens per min. Limit: 90000 / min. Current: 88830 / min. Contact us through our help center at help.openai.com if you continue to have issues..\n"
          ]
        },
        {
          "output_type": "stream",
          "name": "stdout",
          "text": [
            "Business\n",
            "Sports\n"
          ]
        },
        {
          "output_type": "stream",
          "name": "stderr",
          "text": [
            "WARNING:langchain.chat_models.openai:Retrying langchain.chat_models.openai.acompletion_with_retry.<locals>._completion_with_retry in 1.0 seconds as it raised RateLimitError: Rate limit reached for default-gpt-3.5-turbo in organization org-fUMgGI6gSqUWLozt4nlYWmsL on tokens per min. Limit: 90000 / min. Current: 89242 / min. Contact us through our help center at help.openai.com if you continue to have issues..\n",
            "WARNING:langchain.chat_models.openai:Retrying langchain.chat_models.openai.acompletion_with_retry.<locals>._completion_with_retry in 1.0 seconds as it raised RateLimitError: Rate limit reached for default-gpt-3.5-turbo in organization org-fUMgGI6gSqUWLozt4nlYWmsL on tokens per min. Limit: 90000 / min. Current: 88985 / min. Contact us through our help center at help.openai.com if you continue to have issues..\n"
          ]
        },
        {
          "output_type": "stream",
          "name": "stdout",
          "text": [
            "Sports\n",
            "Sci/Tech\n"
          ]
        },
        {
          "output_type": "stream",
          "name": "stderr",
          "text": [
            "WARNING:langchain.chat_models.openai:Retrying langchain.chat_models.openai.acompletion_with_retry.<locals>._completion_with_retry in 1.0 seconds as it raised RateLimitError: Rate limit reached for default-gpt-3.5-turbo in organization org-fUMgGI6gSqUWLozt4nlYWmsL on tokens per min. Limit: 90000 / min. Current: 89276 / min. Contact us through our help center at help.openai.com if you continue to have issues..\n",
            "WARNING:langchain.chat_models.openai:Retrying langchain.chat_models.openai.acompletion_with_retry.<locals>._completion_with_retry in 1.0 seconds as it raised RateLimitError: Rate limit reached for default-gpt-3.5-turbo in organization org-fUMgGI6gSqUWLozt4nlYWmsL on tokens per min. Limit: 90000 / min. Current: 89021 / min. Contact us through our help center at help.openai.com if you continue to have issues..\n"
          ]
        },
        {
          "output_type": "stream",
          "name": "stdout",
          "text": [
            "Business\n"
          ]
        },
        {
          "output_type": "stream",
          "name": "stderr",
          "text": [
            "WARNING:langchain.chat_models.openai:Retrying langchain.chat_models.openai.acompletion_with_retry.<locals>._completion_with_retry in 1.0 seconds as it raised RateLimitError: Rate limit reached for default-gpt-3.5-turbo in organization org-fUMgGI6gSqUWLozt4nlYWmsL on tokens per min. Limit: 90000 / min. Current: 89476 / min. Contact us through our help center at help.openai.com if you continue to have issues..\n"
          ]
        },
        {
          "output_type": "stream",
          "name": "stdout",
          "text": [
            "Health\n"
          ]
        },
        {
          "output_type": "stream",
          "name": "stderr",
          "text": [
            "WARNING:langchain.chat_models.openai:Retrying langchain.chat_models.openai.acompletion_with_retry.<locals>._completion_with_retry in 1.0 seconds as it raised RateLimitError: Rate limit reached for default-gpt-3.5-turbo in organization org-fUMgGI6gSqUWLozt4nlYWmsL on tokens per min. Limit: 90000 / min. Current: 89134 / min. Contact us through our help center at help.openai.com if you continue to have issues..\n"
          ]
        },
        {
          "output_type": "stream",
          "name": "stdout",
          "text": [
            "Politics\n"
          ]
        },
        {
          "output_type": "stream",
          "name": "stderr",
          "text": [
            "WARNING:langchain.chat_models.openai:Retrying langchain.chat_models.openai.acompletion_with_retry.<locals>._completion_with_retry in 1.0 seconds as it raised RateLimitError: Rate limit reached for default-gpt-3.5-turbo in organization org-fUMgGI6gSqUWLozt4nlYWmsL on tokens per min. Limit: 90000 / min. Current: 89729 / min. Contact us through our help center at help.openai.com if you continue to have issues..\n"
          ]
        },
        {
          "output_type": "stream",
          "name": "stdout",
          "text": [
            "Animal Welfare\n"
          ]
        },
        {
          "output_type": "stream",
          "name": "stderr",
          "text": [
            "WARNING:langchain.chat_models.openai:Retrying langchain.chat_models.openai.acompletion_with_retry.<locals>._completion_with_retry in 1.0 seconds as it raised RateLimitError: Rate limit reached for default-gpt-3.5-turbo in organization org-fUMgGI6gSqUWLozt4nlYWmsL on tokens per min. Limit: 90000 / min. Current: 89196 / min. Contact us through our help center at help.openai.com if you continue to have issues..\n"
          ]
        },
        {
          "output_type": "stream",
          "name": "stdout",
          "text": [
            "Health\n"
          ]
        },
        {
          "output_type": "stream",
          "name": "stderr",
          "text": [
            "WARNING:langchain.chat_models.openai:Retrying langchain.chat_models.openai.acompletion_with_retry.<locals>._completion_with_retry in 1.0 seconds as it raised RateLimitError: Rate limit reached for default-gpt-3.5-turbo in organization org-fUMgGI6gSqUWLozt4nlYWmsL on tokens per min. Limit: 90000 / min. Current: 89400 / min. Contact us through our help center at help.openai.com if you continue to have issues..\n"
          ]
        },
        {
          "output_type": "stream",
          "name": "stdout",
          "text": [
            "Politics/Military\n"
          ]
        },
        {
          "output_type": "stream",
          "name": "stderr",
          "text": [
            "WARNING:langchain.chat_models.openai:Retrying langchain.chat_models.openai.acompletion_with_retry.<locals>._completion_with_retry in 1.0 seconds as it raised RateLimitError: Rate limit reached for default-gpt-3.5-turbo in organization org-fUMgGI6gSqUWLozt4nlYWmsL on tokens per min. Limit: 90000 / min. Current: 89156 / min. Contact us through our help center at help.openai.com if you continue to have issues..\n"
          ]
        },
        {
          "output_type": "stream",
          "name": "stdout",
          "text": [
            "Health\n",
            "Sports\n"
          ]
        },
        {
          "output_type": "stream",
          "name": "stderr",
          "text": [
            "WARNING:langchain.chat_models.openai:Retrying langchain.chat_models.openai.acompletion_with_retry.<locals>._completion_with_retry in 1.0 seconds as it raised RateLimitError: Rate limit reached for default-gpt-3.5-turbo in organization org-fUMgGI6gSqUWLozt4nlYWmsL on tokens per min. Limit: 90000 / min. Current: 89421 / min. Contact us through our help center at help.openai.com if you continue to have issues..\n",
            "WARNING:langchain.chat_models.openai:Retrying langchain.chat_models.openai.acompletion_with_retry.<locals>._completion_with_retry in 1.0 seconds as it raised RateLimitError: Rate limit reached for default-gpt-3.5-turbo in organization org-fUMgGI6gSqUWLozt4nlYWmsL on tokens per min. Limit: 90000 / min. Current: 89190 / min. Contact us through our help center at help.openai.com if you continue to have issues..\n"
          ]
        },
        {
          "output_type": "stream",
          "name": "stdout",
          "text": [
            "Sports\n"
          ]
        },
        {
          "output_type": "stream",
          "name": "stderr",
          "text": [
            "WARNING:langchain.chat_models.openai:Retrying langchain.chat_models.openai.acompletion_with_retry.<locals>._completion_with_retry in 1.0 seconds as it raised RateLimitError: Rate limit reached for default-gpt-3.5-turbo in organization org-fUMgGI6gSqUWLozt4nlYWmsL on tokens per min. Limit: 90000 / min. Current: 89656 / min. Contact us through our help center at help.openai.com if you continue to have issues..\n"
          ]
        },
        {
          "output_type": "stream",
          "name": "stdout",
          "text": [
            "Sports\n"
          ]
        },
        {
          "output_type": "stream",
          "name": "stderr",
          "text": [
            "WARNING:langchain.chat_models.openai:Retrying langchain.chat_models.openai.acompletion_with_retry.<locals>._completion_with_retry in 1.0 seconds as it raised RateLimitError: Rate limit reached for default-gpt-3.5-turbo in organization org-fUMgGI6gSqUWLozt4nlYWmsL on tokens per min. Limit: 90000 / min. Current: 89217 / min. Contact us through our help center at help.openai.com if you continue to have issues..\n",
            "WARNING:langchain.chat_models.openai:Retrying langchain.chat_models.openai.acompletion_with_retry.<locals>._completion_with_retry in 2.0 seconds as it raised RateLimitError: Rate limit reached for default-gpt-3.5-turbo in organization org-fUMgGI6gSqUWLozt4nlYWmsL on tokens per min. Limit: 90000 / min. Current: 88716 / min. Contact us through our help center at help.openai.com if you continue to have issues..\n"
          ]
        },
        {
          "output_type": "stream",
          "name": "stdout",
          "text": [
            "Sci/Tech\n",
            "Health\n"
          ]
        },
        {
          "output_type": "stream",
          "name": "stderr",
          "text": [
            "WARNING:langchain.chat_models.openai:Retrying langchain.chat_models.openai.acompletion_with_retry.<locals>._completion_with_retry in 1.0 seconds as it raised RateLimitError: Rate limit reached for default-gpt-3.5-turbo in organization org-fUMgGI6gSqUWLozt4nlYWmsL on tokens per min. Limit: 90000 / min. Current: 89193 / min. Contact us through our help center at help.openai.com if you continue to have issues..\n"
          ]
        },
        {
          "output_type": "stream",
          "name": "stdout",
          "text": [
            "Software and Development\n"
          ]
        },
        {
          "output_type": "stream",
          "name": "stderr",
          "text": [
            "WARNING:langchain.chat_models.openai:Retrying langchain.chat_models.openai.acompletion_with_retry.<locals>._completion_with_retry in 1.0 seconds as it raised RateLimitError: Rate limit reached for default-gpt-3.5-turbo in organization org-fUMgGI6gSqUWLozt4nlYWmsL on tokens per min. Limit: 90000 / min. Current: 89185 / min. Contact us through our help center at help.openai.com if you continue to have issues..\n"
          ]
        },
        {
          "output_type": "stream",
          "name": "stdout",
          "text": [
            "Business\n",
            "Software and Development\n"
          ]
        },
        {
          "output_type": "stream",
          "name": "stderr",
          "text": [
            "WARNING:langchain.chat_models.openai:Retrying langchain.chat_models.openai.acompletion_with_retry.<locals>._completion_with_retry in 1.0 seconds as it raised RateLimitError: Rate limit reached for default-gpt-3.5-turbo in organization org-fUMgGI6gSqUWLozt4nlYWmsL on tokens per min. Limit: 90000 / min. Current: 89236 / min. Contact us through our help center at help.openai.com if you continue to have issues..\n",
            "WARNING:langchain.chat_models.openai:Retrying langchain.chat_models.openai.acompletion_with_retry.<locals>._completion_with_retry in 2.0 seconds as it raised RateLimitError: Rate limit reached for default-gpt-3.5-turbo in organization org-fUMgGI6gSqUWLozt4nlYWmsL on tokens per min. Limit: 90000 / min. Current: 88680 / min. Contact us through our help center at help.openai.com if you continue to have issues..\n"
          ]
        },
        {
          "output_type": "stream",
          "name": "stdout",
          "text": [
            "Politics/Elections\n",
            "Sports\n"
          ]
        },
        {
          "output_type": "stream",
          "name": "stderr",
          "text": [
            "WARNING:langchain.chat_models.openai:Retrying langchain.chat_models.openai.acompletion_with_retry.<locals>._completion_with_retry in 4.0 seconds as it raised RateLimitError: Rate limit reached for default-gpt-3.5-turbo in organization org-fUMgGI6gSqUWLozt4nlYWmsL on tokens per min. Limit: 90000 / min. Current: 89362 / min. Contact us through our help center at help.openai.com if you continue to have issues..\n"
          ]
        },
        {
          "output_type": "stream",
          "name": "stdout",
          "text": [
            "Business\n"
          ]
        },
        {
          "output_type": "stream",
          "name": "stderr",
          "text": [
            "WARNING:langchain.chat_models.openai:Retrying langchain.chat_models.openai.acompletion_with_retry.<locals>._completion_with_retry in 1.0 seconds as it raised RateLimitError: Rate limit reached for default-gpt-3.5-turbo in organization org-fUMgGI6gSqUWLozt4nlYWmsL on tokens per min. Limit: 90000 / min. Current: 89188 / min. Contact us through our help center at help.openai.com if you continue to have issues..\n"
          ]
        },
        {
          "output_type": "stream",
          "name": "stdout",
          "text": [
            "Business\n",
            "Software and Development\n",
            "Entertainment\n"
          ]
        },
        {
          "output_type": "stream",
          "name": "stderr",
          "text": [
            "WARNING:langchain.chat_models.openai:Retrying langchain.chat_models.openai.acompletion_with_retry.<locals>._completion_with_retry in 1.0 seconds as it raised RateLimitError: Rate limit reached for default-gpt-3.5-turbo in organization org-fUMgGI6gSqUWLozt4nlYWmsL on tokens per min. Limit: 90000 / min. Current: 88966 / min. Contact us through our help center at help.openai.com if you continue to have issues..\n"
          ]
        },
        {
          "output_type": "stream",
          "name": "stdout",
          "text": [
            "Sports\n"
          ]
        },
        {
          "output_type": "stream",
          "name": "stderr",
          "text": [
            "WARNING:langchain.chat_models.openai:Retrying langchain.chat_models.openai.acompletion_with_retry.<locals>._completion_with_retry in 1.0 seconds as it raised RateLimitError: Rate limit reached for default-gpt-3.5-turbo in organization org-fUMgGI6gSqUWLozt4nlYWmsL on tokens per min. Limit: 90000 / min. Current: 89153 / min. Contact us through our help center at help.openai.com if you continue to have issues..\n"
          ]
        },
        {
          "output_type": "stream",
          "name": "stdout",
          "text": [
            "Health\n"
          ]
        },
        {
          "output_type": "stream",
          "name": "stderr",
          "text": [
            "WARNING:langchain.chat_models.openai:Retrying langchain.chat_models.openai.acompletion_with_retry.<locals>._completion_with_retry in 1.0 seconds as it raised RateLimitError: Rate limit reached for default-gpt-3.5-turbo in organization org-fUMgGI6gSqUWLozt4nlYWmsL on tokens per min. Limit: 90000 / min. Current: 88819 / min. Contact us through our help center at help.openai.com if you continue to have issues..\n"
          ]
        },
        {
          "output_type": "stream",
          "name": "stdout",
          "text": [
            "Politics\n"
          ]
        },
        {
          "output_type": "stream",
          "name": "stderr",
          "text": [
            "WARNING:langchain.chat_models.openai:Retrying langchain.chat_models.openai.acompletion_with_retry.<locals>._completion_with_retry in 1.0 seconds as it raised RateLimitError: Rate limit reached for default-gpt-3.5-turbo in organization org-fUMgGI6gSqUWLozt4nlYWmsL on tokens per min. Limit: 90000 / min. Current: 88836 / min. Contact us through our help center at help.openai.com if you continue to have issues..\n"
          ]
        },
        {
          "output_type": "stream",
          "name": "stdout",
          "text": [
            "Software and Development\n",
            "Software and Development\n",
            "Sports\n",
            "Software and Development\n"
          ]
        },
        {
          "output_type": "stream",
          "name": "stderr",
          "text": [
            "WARNING:langchain.chat_models.openai:Retrying langchain.chat_models.openai.acompletion_with_retry.<locals>._completion_with_retry in 1.0 seconds as it raised RateLimitError: Rate limit reached for default-gpt-3.5-turbo in organization org-fUMgGI6gSqUWLozt4nlYWmsL on tokens per min. Limit: 90000 / min. Current: 89043 / min. Contact us through our help center at help.openai.com if you continue to have issues..\n"
          ]
        },
        {
          "output_type": "stream",
          "name": "stdout",
          "text": [
            "Health\n",
            "Health\n"
          ]
        },
        {
          "output_type": "stream",
          "name": "stderr",
          "text": [
            "WARNING:langchain.chat_models.openai:Retrying langchain.chat_models.openai.acompletion_with_retry.<locals>._completion_with_retry in 1.0 seconds as it raised RateLimitError: Rate limit reached for default-gpt-3.5-turbo in organization org-fUMgGI6gSqUWLozt4nlYWmsL on tokens per min. Limit: 90000 / min. Current: 88724 / min. Contact us through our help center at help.openai.com if you continue to have issues..\n"
          ]
        },
        {
          "output_type": "stream",
          "name": "stdout",
          "text": [
            "Sports\n",
            "Entertainment\n",
            "Entertainment\n"
          ]
        },
        {
          "output_type": "stream",
          "name": "stderr",
          "text": [
            "WARNING:langchain.chat_models.openai:Retrying langchain.chat_models.openai.acompletion_with_retry.<locals>._completion_with_retry in 1.0 seconds as it raised RateLimitError: Rate limit reached for default-gpt-3.5-turbo in organization org-fUMgGI6gSqUWLozt4nlYWmsL on tokens per min. Limit: 90000 / min. Current: 88712 / min. Contact us through our help center at help.openai.com if you continue to have issues..\n"
          ]
        },
        {
          "output_type": "stream",
          "name": "stdout",
          "text": [
            "Sports\n",
            "Entertainment\n",
            "Sci/Tech\n",
            "Health\n"
          ]
        },
        {
          "output_type": "stream",
          "name": "stderr",
          "text": [
            "WARNING:langchain.chat_models.openai:Retrying langchain.chat_models.openai.acompletion_with_retry.<locals>._completion_with_retry in 1.0 seconds as it raised RateLimitError: Rate limit reached for default-gpt-3.5-turbo in organization org-fUMgGI6gSqUWLozt4nlYWmsL on tokens per min. Limit: 90000 / min. Current: 89200 / min. Contact us through our help center at help.openai.com if you continue to have issues..\n"
          ]
        },
        {
          "output_type": "stream",
          "name": "stdout",
          "text": [
            "Sports\n"
          ]
        },
        {
          "output_type": "stream",
          "name": "stderr",
          "text": [
            "WARNING:langchain.chat_models.openai:Retrying langchain.chat_models.openai.acompletion_with_retry.<locals>._completion_with_retry in 2.0 seconds as it raised RateLimitError: That model is currently overloaded with other requests. You can retry your request, or contact us through our help center at help.openai.com if the error persists. (Please include the request ID eb5e0751236e62e25c771e1cc5236ef9 in your message.).\n"
          ]
        },
        {
          "output_type": "stream",
          "name": "stdout",
          "text": [
            "Sports\n",
            "Business\n",
            "Politics\n",
            "Sports\n"
          ]
        },
        {
          "output_type": "stream",
          "name": "stderr",
          "text": [
            "WARNING:langchain.chat_models.openai:Retrying langchain.chat_models.openai.acompletion_with_retry.<locals>._completion_with_retry in 1.0 seconds as it raised RateLimitError: That model is currently overloaded with other requests. You can retry your request, or contact us through our help center at help.openai.com if the error persists. (Please include the request ID 9f4d50b52d9f2b02a4574cfa6e29ae8a in your message.).\n"
          ]
        },
        {
          "output_type": "stream",
          "name": "stdout",
          "text": [
            "Sports\n",
            "Sports\n",
            "Business\n",
            "Health\n",
            "Health\n",
            "Sports\n",
            "Sports\n",
            "Business\n",
            "Sports\n",
            "Entertainment\n",
            "Health\n",
            "Software and Development\n",
            "Music Feeds\n",
            "Entertainment\n",
            "Science/Tech\n",
            "Business\n",
            "Business\n",
            "Business\n",
            "Business\n",
            "Politics\n",
            "Sports\n",
            "Sports\n",
            "Business\n",
            "Business\n",
            "Sports\n",
            "Sports\n",
            "Health\n",
            "Business\n",
            "Sports\n",
            "Entertainment\n",
            "Politics/International Relations\n",
            "Sports\n",
            "Entertainment\n",
            "Entertainment\n",
            "Health\n",
            "Sports\n",
            "Entertainment\n",
            "Sports\n",
            "Sports\n",
            "Sci/Tech\n",
            "Toons\n",
            "Sports\n",
            "Health\n",
            "Health\n",
            "Business\n",
            "Software and Development\n",
            "Health\n",
            "Software and Development\n",
            "Business\n",
            "Sports\n",
            "Business\n"
          ]
        },
        {
          "output_type": "stream",
          "name": "stderr",
          "text": [
            "WARNING:langchain.chat_models.openai:Retrying langchain.chat_models.openai.acompletion_with_retry.<locals>._completion_with_retry in 1.0 seconds as it raised RateLimitError: That model is currently overloaded with other requests. You can retry your request, or contact us through our help center at help.openai.com if the error persists. (Please include the request ID 364d3201371049c326fc0f9f777fa8a4 in your message.).\n",
            "WARNING:langchain.chat_models.openai:Retrying langchain.chat_models.openai.acompletion_with_retry.<locals>._completion_with_retry in 1.0 seconds as it raised APIError: Bad gateway. {\"error\":{\"code\":502,\"message\":\"Bad gateway.\",\"param\":null,\"type\":\"cf_bad_gateway\"}} 502 {'error': {'code': 502, 'message': 'Bad gateway.', 'param': None, 'type': 'cf_bad_gateway'}} <CIMultiDictProxy('Date': 'Mon, 12 Jun 2023 07:09:27 GMT', 'Content-Type': 'application/json', 'Content-Length': '84', 'Connection': 'keep-alive', 'X-Frame-Options': 'SAMEORIGIN', 'Referrer-Policy': 'same-origin', 'Cache-Control': 'private, max-age=0, no-store, no-cache, must-revalidate, post-check=0, pre-check=0', 'Expires': 'Thu, 01 Jan 1970 00:00:01 GMT', 'Server': 'cloudflare', 'CF-RAY': '7d6044b0c94c8796-SIN', 'alt-svc': 'h3=\":443\"; ma=86400')>.\n"
          ]
        },
        {
          "output_type": "stream",
          "name": "stdout",
          "text": [
            "Politics/International Affairs\n",
            "Sports\n",
            "Sports\n",
            "Business\n",
            "Business\n",
            "Business\n",
            "Environment/Animals\n",
            "Health\n",
            "Politics\n",
            "Sports\n",
            "Sports\n",
            "Business\n",
            "Sci/Tech\n"
          ]
        },
        {
          "output_type": "stream",
          "name": "stderr",
          "text": [
            "WARNING:langchain.chat_models.openai:Retrying langchain.chat_models.openai.acompletion_with_retry.<locals>._completion_with_retry in 1.0 seconds as it raised RateLimitError: Rate limit reached for default-gpt-3.5-turbo in organization org-fUMgGI6gSqUWLozt4nlYWmsL on tokens per min. Limit: 90000 / min. Current: 88778 / min. Contact us through our help center at help.openai.com if you continue to have issues..\n"
          ]
        },
        {
          "output_type": "stream",
          "name": "stdout",
          "text": [
            "Natural Disaster (not one of the given categories) or Weather (if that is an option)\n",
            "Toons\n",
            "Sports\n",
            "Health\n",
            "Business\n",
            "Sports\n"
          ]
        },
        {
          "output_type": "stream",
          "name": "stderr",
          "text": [
            "WARNING:langchain.chat_models.openai:Retrying langchain.chat_models.openai.acompletion_with_retry.<locals>._completion_with_retry in 1.0 seconds as it raised RateLimitError: Rate limit reached for default-gpt-3.5-turbo in organization org-fUMgGI6gSqUWLozt4nlYWmsL on tokens per min. Limit: 90000 / min. Current: 88869 / min. Contact us through our help center at help.openai.com if you continue to have issues..\n"
          ]
        },
        {
          "output_type": "stream",
          "name": "stdout",
          "text": [
            "Sci/Tech\n",
            "Sports\n",
            "Business\n"
          ]
        },
        {
          "output_type": "stream",
          "name": "stderr",
          "text": [
            "WARNING:langchain.chat_models.openai:Retrying langchain.chat_models.openai.acompletion_with_retry.<locals>._completion_with_retry in 1.0 seconds as it raised RateLimitError: Rate limit reached for default-gpt-3.5-turbo in organization org-fUMgGI6gSqUWLozt4nlYWmsL on tokens per min. Limit: 90000 / min. Current: 88825 / min. Contact us through our help center at help.openai.com if you continue to have issues..\n"
          ]
        },
        {
          "output_type": "stream",
          "name": "stdout",
          "text": [
            "News\n",
            "Sci/Tech\n"
          ]
        },
        {
          "output_type": "stream",
          "name": "stderr",
          "text": [
            "WARNING:langchain.chat_models.openai:Retrying langchain.chat_models.openai.acompletion_with_retry.<locals>._completion_with_retry in 1.0 seconds as it raised RateLimitError: That model is currently overloaded with other requests. You can retry your request, or contact us through our help center at help.openai.com if the error persists. (Please include the request ID a22514b090aa7af0b8b8a28ad7531cc9 in your message.).\n"
          ]
        },
        {
          "output_type": "stream",
          "name": "stdout",
          "text": [
            "Politics/Current Events\n",
            "Sci/Tech\n",
            "Sports\n",
            "Business\n",
            "Health\n",
            "Business\n",
            "I'm sorry, but there is no article provided for me to classify. Please provide an article for me to classify.\n"
          ]
        },
        {
          "output_type": "stream",
          "name": "stderr",
          "text": [
            "WARNING:langchain.chat_models.openai:Retrying langchain.chat_models.openai.acompletion_with_retry.<locals>._completion_with_retry in 1.0 seconds as it raised RateLimitError: That model is currently overloaded with other requests. You can retry your request, or contact us through our help center at help.openai.com if the error persists. (Please include the request ID 0f63f7f3bf8eefc8e54489d58b325b44 in your message.).\n"
          ]
        },
        {
          "output_type": "stream",
          "name": "stdout",
          "text": [
            "Sorry, I cannot classify the given article as it does not provide enough information or context to determine its category.\n",
            "Sci/Tech\n",
            "Sports\n",
            "Sports\n",
            "Music Feeds\n",
            "Sports\n",
            "Business\n",
            "Business\n",
            "Politics\n",
            "Business\n",
            "Sports\n",
            "Health\n",
            "Health\n",
            "Sports\n",
            "Business\n",
            "Health\n",
            "Entertainment\n",
            "Software and Development\n",
            "Business\n",
            "Sports\n",
            "Entertainment\n",
            "Software and Development\n",
            "Sports\n",
            "Sports\n",
            "Business\n",
            "Sports\n",
            "Sports\n",
            "Sports\n",
            "Business\n",
            "Business\n",
            "I'm sorry, but there is no article provided for me to classify. Please provide an article for me to classify.\n",
            "Business\n",
            "Software and Development\n",
            "Sports\n",
            "Sports\n",
            "Sports\n",
            "Business\n",
            "Sports\n",
            "Software and Development\n"
          ]
        },
        {
          "output_type": "stream",
          "name": "stderr",
          "text": [
            "WARNING:langchain.chat_models.openai:Retrying langchain.chat_models.openai.acompletion_with_retry.<locals>._completion_with_retry in 1.0 seconds as it raised RateLimitError: That model is currently overloaded with other requests. You can retry your request, or contact us through our help center at help.openai.com if the error persists. (Please include the request ID 730737d9764ca0d2442109180877d012 in your message.).\n",
            "WARNING:langchain.chat_models.openai:Retrying langchain.chat_models.openai.acompletion_with_retry.<locals>._completion_with_retry in 1.0 seconds as it raised RateLimitError: That model is currently overloaded with other requests. You can retry your request, or contact us through our help center at help.openai.com if the error persists. (Please include the request ID 46c3ecf3540792846f79610ac70dcaaa in your message.).\n"
          ]
        },
        {
          "output_type": "stream",
          "name": "stdout",
          "text": [
            "Business\n",
            "Health\n",
            "Sports\n",
            "Sports\n",
            "Sci/Tech\n"
          ]
        },
        {
          "output_type": "stream",
          "name": "stderr",
          "text": [
            "WARNING:langchain.chat_models.openai:Retrying langchain.chat_models.openai.acompletion_with_retry.<locals>._completion_with_retry in 2.0 seconds as it raised RateLimitError: That model is currently overloaded with other requests. You can retry your request, or contact us through our help center at help.openai.com if the error persists. (Please include the request ID 108084da601ed341cbebe4b49d2c0178 in your message.).\n"
          ]
        },
        {
          "output_type": "stream",
          "name": "stdout",
          "text": [
            "Health\n",
            "Sci/Tech\n",
            "Sports\n",
            "Weather/Natural Disasters\n",
            "Software and Development\n",
            "Entertainment\n",
            "Business\n",
            "Business\n",
            "Business\n",
            "Politics\n",
            "Politics\n",
            "Business\n"
          ]
        },
        {
          "output_type": "stream",
          "name": "stderr",
          "text": [
            "WARNING:langchain.chat_models.openai:Retrying langchain.chat_models.openai.acompletion_with_retry.<locals>._completion_with_retry in 1.0 seconds as it raised RateLimitError: That model is currently overloaded with other requests. You can retry your request, or contact us through our help center at help.openai.com if the error persists. (Please include the request ID c6a21b5f1b27a7f79a2926b2a5a9c492 in your message.).\n"
          ]
        },
        {
          "output_type": "stream",
          "name": "stdout",
          "text": [
            "Business\n",
            "Sports\n",
            "Sports\n",
            "Entertainment\n",
            "Business\n",
            "Sports\n",
            "Entertainment\n",
            "Sports\n",
            "Business\n",
            "Business\n",
            "Business\n",
            "Sports\n",
            "Travel/Transportation\n",
            "Sports\n",
            "News/Politics\n",
            "Business\n",
            "Health\n",
            "Sports\n",
            "Business\n",
            "Sports\n",
            "Business\n",
            "Business\n",
            "Entertainment\n",
            "Business\n",
            "Business\n",
            "Sports\n",
            "Sports\n",
            "I'm sorry, but there is no article provided for me to classify. Please provide an article for me to classify.\n",
            "Sports\n",
            "Software and Development\n",
            "Sci/Tech\n",
            "Sports\n",
            "Business\n",
            "Entertainment\n",
            "Health\n",
            "Software and Development\n",
            "Business\n",
            "Business\n",
            "Sports\n",
            "Business\n",
            "Sports\n",
            "Sports\n",
            "Sports\n",
            "Sports\n",
            "Politics/Current Events\n",
            "Sports\n",
            "Sports\n",
            "Business\n",
            "Sports\n",
            "Weather/Natural Disaster\n",
            "Music Feeds\n",
            "Sports\n",
            "Sorry, I cannot classify this article as it does not provide enough information about its content or topic.\n",
            "Business\n",
            "Entertainment\n",
            "Sci/Tech\n",
            "Business\n",
            "Health\n",
            "Toons\n",
            "Sports\n",
            "Politics/Foreign Policy\n",
            "Business\n",
            "Software and Development\n",
            "Health\n",
            "Politics/Current Events\n",
            "Sports\n",
            "Sports\n",
            "Business\n",
            "Sports\n",
            "Health\n",
            "Sci/Tech\n",
            "Software and Development\n",
            "Sorry, I cannot classify this article as it contains sensitive and violent content. As an AI language model, I strive to maintain a neutral stance and avoid promoting any form of violence or discrimination.\n",
            "Business\n",
            "Health\n",
            "Business\n",
            "Health\n",
            "Business\n"
          ]
        },
        {
          "output_type": "stream",
          "name": "stderr",
          "text": [
            "WARNING:langchain.chat_models.openai:Retrying langchain.chat_models.openai.acompletion_with_retry.<locals>._completion_with_retry in 1.0 seconds as it raised RateLimitError: Rate limit reached for default-gpt-3.5-turbo in organization org-fUMgGI6gSqUWLozt4nlYWmsL on tokens per min. Limit: 90000 / min. Current: 89066 / min. Contact us through our help center at help.openai.com if you continue to have issues..\n"
          ]
        },
        {
          "output_type": "stream",
          "name": "stdout",
          "text": [
            "Health\n",
            "Politics\n"
          ]
        },
        {
          "output_type": "stream",
          "name": "stderr",
          "text": [
            "WARNING:langchain.chat_models.openai:Retrying langchain.chat_models.openai.acompletion_with_retry.<locals>._completion_with_retry in 1.0 seconds as it raised RateLimitError: Rate limit reached for default-gpt-3.5-turbo in organization org-fUMgGI6gSqUWLozt4nlYWmsL on tokens per min. Limit: 90000 / min. Current: 89159 / min. Contact us through our help center at help.openai.com if you continue to have issues..\n"
          ]
        },
        {
          "output_type": "stream",
          "name": "stdout",
          "text": [
            "Sports\n"
          ]
        },
        {
          "output_type": "stream",
          "name": "stderr",
          "text": [
            "WARNING:langchain.chat_models.openai:Retrying langchain.chat_models.openai.acompletion_with_retry.<locals>._completion_with_retry in 1.0 seconds as it raised RateLimitError: Rate limit reached for default-gpt-3.5-turbo in organization org-fUMgGI6gSqUWLozt4nlYWmsL on tokens per min. Limit: 90000 / min. Current: 89208 / min. Contact us through our help center at help.openai.com if you continue to have issues..\n",
            "WARNING:langchain.chat_models.openai:Retrying langchain.chat_models.openai.acompletion_with_retry.<locals>._completion_with_retry in 2.0 seconds as it raised RateLimitError: Rate limit reached for default-gpt-3.5-turbo in organization org-fUMgGI6gSqUWLozt4nlYWmsL on tokens per min. Limit: 90000 / min. Current: 88696 / min. Contact us through our help center at help.openai.com if you continue to have issues..\n"
          ]
        },
        {
          "output_type": "stream",
          "name": "stdout",
          "text": [
            "Sports\n",
            "Sci/Tech\n",
            "Business\n",
            "Business\n",
            "Business\n"
          ]
        },
        {
          "output_type": "stream",
          "name": "stderr",
          "text": [
            "WARNING:langchain.chat_models.openai:Retrying langchain.chat_models.openai.acompletion_with_retry.<locals>._completion_with_retry in 1.0 seconds as it raised RateLimitError: Rate limit reached for default-gpt-3.5-turbo in organization org-fUMgGI6gSqUWLozt4nlYWmsL on tokens per min. Limit: 90000 / min. Current: 88743 / min. Contact us through our help center at help.openai.com if you continue to have issues..\n"
          ]
        },
        {
          "output_type": "stream",
          "name": "stdout",
          "text": [
            "Politics\n",
            "I'm sorry, but there is no article provided for me to classify. Please provide an article for me to classify.\n",
            "Business\n",
            "Sports\n",
            "I'm sorry, but there is no article provided for me to classify. Please provide an article for me to classify.\n",
            "Sports\n",
            "Health\n",
            "Business\n"
          ]
        },
        {
          "output_type": "stream",
          "name": "stderr",
          "text": [
            "WARNING:langchain.chat_models.openai:Retrying langchain.chat_models.openai.acompletion_with_retry.<locals>._completion_with_retry in 1.0 seconds as it raised RateLimitError: Rate limit reached for default-gpt-3.5-turbo in organization org-fUMgGI6gSqUWLozt4nlYWmsL on tokens per min. Limit: 90000 / min. Current: 89005 / min. Contact us through our help center at help.openai.com if you continue to have issues..\n"
          ]
        },
        {
          "output_type": "stream",
          "name": "stdout",
          "text": [
            "Sports\n",
            "Sports\n",
            "Sports\n"
          ]
        },
        {
          "output_type": "stream",
          "name": "stderr",
          "text": [
            "WARNING:langchain.chat_models.openai:Retrying langchain.chat_models.openai.acompletion_with_retry.<locals>._completion_with_retry in 1.0 seconds as it raised RateLimitError: Rate limit reached for default-gpt-3.5-turbo in organization org-fUMgGI6gSqUWLozt4nlYWmsL on tokens per min. Limit: 90000 / min. Current: 89267 / min. Contact us through our help center at help.openai.com if you continue to have issues..\n"
          ]
        },
        {
          "output_type": "stream",
          "name": "stdout",
          "text": [
            "Business\n",
            "Sports\n"
          ]
        },
        {
          "output_type": "stream",
          "name": "stderr",
          "text": [
            "WARNING:langchain.chat_models.openai:Retrying langchain.chat_models.openai.acompletion_with_retry.<locals>._completion_with_retry in 1.0 seconds as it raised RateLimitError: Rate limit reached for default-gpt-3.5-turbo in organization org-fUMgGI6gSqUWLozt4nlYWmsL on tokens per min. Limit: 90000 / min. Current: 88768 / min. Contact us through our help center at help.openai.com if you continue to have issues..\n"
          ]
        },
        {
          "output_type": "stream",
          "name": "stdout",
          "text": [
            "Sports\n",
            "Natural Disaster/Weather\n",
            "Sports\n",
            "Sports\n"
          ]
        },
        {
          "output_type": "stream",
          "name": "stderr",
          "text": [
            "WARNING:langchain.chat_models.openai:Retrying langchain.chat_models.openai.acompletion_with_retry.<locals>._completion_with_retry in 1.0 seconds as it raised RateLimitError: Rate limit reached for default-gpt-3.5-turbo in organization org-fUMgGI6gSqUWLozt4nlYWmsL on tokens per min. Limit: 90000 / min. Current: 89159 / min. Contact us through our help center at help.openai.com if you continue to have issues..\n"
          ]
        },
        {
          "output_type": "stream",
          "name": "stdout",
          "text": [
            "Software and Development\n",
            "Sci/Tech\n"
          ]
        },
        {
          "output_type": "stream",
          "name": "stderr",
          "text": [
            "WARNING:langchain.chat_models.openai:Retrying langchain.chat_models.openai.acompletion_with_retry.<locals>._completion_with_retry in 2.0 seconds as it raised RateLimitError: That model is currently overloaded with other requests. You can retry your request, or contact us through our help center at help.openai.com if the error persists. (Please include the request ID 3f8f83b058ce9b06804dbab7361423ae in your message.).\n"
          ]
        },
        {
          "output_type": "stream",
          "name": "stdout",
          "text": [
            "Sports\n",
            "Sports\n",
            "Business\n",
            "Politics/Military\n",
            "Health\n",
            "Entertainment\n",
            "Politics\n",
            "Business\n",
            "Sports\n",
            "Politics\n",
            "Sports\n",
            "Music Feeds\n",
            "Business\n",
            "Software and Development\n",
            "Sports\n",
            "Entertainment\n",
            "Software and Development\n",
            "Entertainment\n",
            "Health\n",
            "Politics\n",
            "Health\n",
            "I'm sorry, but there is no article provided for me to classify. Please provide an article for me to classify.\n",
            "Sports\n",
            "Software and Development\n",
            "Entertainment\n",
            "Sports\n"
          ]
        },
        {
          "output_type": "stream",
          "name": "stderr",
          "text": [
            "WARNING:langchain.chat_models.openai:Retrying langchain.chat_models.openai.acompletion_with_retry.<locals>._completion_with_retry in 1.0 seconds as it raised RateLimitError: Rate limit reached for default-gpt-3.5-turbo in organization org-fUMgGI6gSqUWLozt4nlYWmsL on tokens per min. Limit: 90000 / min. Current: 88981 / min. Contact us through our help center at help.openai.com if you continue to have issues..\n"
          ]
        },
        {
          "output_type": "stream",
          "name": "stdout",
          "text": [
            "Sci/Tech\n",
            "News (not one of the given categories)\n",
            "Business\n",
            "Business\n"
          ]
        },
        {
          "output_type": "stream",
          "name": "stderr",
          "text": [
            "WARNING:langchain.chat_models.openai:Retrying langchain.chat_models.openai.acompletion_with_retry.<locals>._completion_with_retry in 1.0 seconds as it raised RateLimitError: Rate limit reached for default-gpt-3.5-turbo in organization org-fUMgGI6gSqUWLozt4nlYWmsL on tokens per min. Limit: 90000 / min. Current: 89240 / min. Contact us through our help center at help.openai.com if you continue to have issues..\n"
          ]
        },
        {
          "output_type": "stream",
          "name": "stdout",
          "text": [
            "Sports\n",
            "Sci/Tech\n"
          ]
        },
        {
          "output_type": "stream",
          "name": "stderr",
          "text": [
            "WARNING:langchain.chat_models.openai:Retrying langchain.chat_models.openai.acompletion_with_retry.<locals>._completion_with_retry in 1.0 seconds as it raised RateLimitError: Rate limit reached for default-gpt-3.5-turbo in organization org-fUMgGI6gSqUWLozt4nlYWmsL on tokens per min. Limit: 90000 / min. Current: 88698 / min. Contact us through our help center at help.openai.com if you continue to have issues..\n",
            "WARNING:langchain.chat_models.openai:Retrying langchain.chat_models.openai.acompletion_with_retry.<locals>._completion_with_retry in 1.0 seconds as it raised RateLimitError: That model is currently overloaded with other requests. You can retry your request, or contact us through our help center at help.openai.com if the error persists. (Please include the request ID 7de2385f7fcb02ae47f345c14b692795 in your message.).\n"
          ]
        },
        {
          "output_type": "stream",
          "name": "stdout",
          "text": [
            "Sports\n",
            "Business\n"
          ]
        },
        {
          "output_type": "stream",
          "name": "stderr",
          "text": [
            "WARNING:langchain.chat_models.openai:Retrying langchain.chat_models.openai.acompletion_with_retry.<locals>._completion_with_retry in 2.0 seconds as it raised RateLimitError: Rate limit reached for default-gpt-3.5-turbo in organization org-fUMgGI6gSqUWLozt4nlYWmsL on tokens per min. Limit: 90000 / min. Current: 89030 / min. Contact us through our help center at help.openai.com if you continue to have issues..\n"
          ]
        },
        {
          "output_type": "stream",
          "name": "stdout",
          "text": [
            "Business\n"
          ]
        },
        {
          "output_type": "stream",
          "name": "stderr",
          "text": [
            "WARNING:langchain.chat_models.openai:Retrying langchain.chat_models.openai.acompletion_with_retry.<locals>._completion_with_retry in 1.0 seconds as it raised RateLimitError: Rate limit reached for default-gpt-3.5-turbo in organization org-fUMgGI6gSqUWLozt4nlYWmsL on tokens per min. Limit: 90000 / min. Current: 88856 / min. Contact us through our help center at help.openai.com if you continue to have issues..\n"
          ]
        },
        {
          "output_type": "stream",
          "name": "stdout",
          "text": [
            "Sports\n",
            "Business\n"
          ]
        },
        {
          "output_type": "stream",
          "name": "stderr",
          "text": [
            "WARNING:langchain.chat_models.openai:Retrying langchain.chat_models.openai.acompletion_with_retry.<locals>._completion_with_retry in 1.0 seconds as it raised RateLimitError: Rate limit reached for default-gpt-3.5-turbo in organization org-fUMgGI6gSqUWLozt4nlYWmsL on tokens per min. Limit: 90000 / min. Current: 89588 / min. Contact us through our help center at help.openai.com if you continue to have issues..\n"
          ]
        },
        {
          "output_type": "stream",
          "name": "stdout",
          "text": [
            "Music Feeds\n"
          ]
        },
        {
          "output_type": "stream",
          "name": "stderr",
          "text": [
            "WARNING:langchain.chat_models.openai:Retrying langchain.chat_models.openai.acompletion_with_retry.<locals>._completion_with_retry in 1.0 seconds as it raised RateLimitError: Rate limit reached for default-gpt-3.5-turbo in organization org-fUMgGI6gSqUWLozt4nlYWmsL on tokens per min. Limit: 90000 / min. Current: 88922 / min. Contact us through our help center at help.openai.com if you continue to have issues..\n"
          ]
        },
        {
          "output_type": "stream",
          "name": "stdout",
          "text": [
            "Sports\n"
          ]
        },
        {
          "output_type": "stream",
          "name": "stderr",
          "text": [
            "WARNING:langchain.chat_models.openai:Retrying langchain.chat_models.openai.acompletion_with_retry.<locals>._completion_with_retry in 1.0 seconds as it raised RateLimitError: Rate limit reached for default-gpt-3.5-turbo in organization org-fUMgGI6gSqUWLozt4nlYWmsL on tokens per min. Limit: 90000 / min. Current: 89617 / min. Contact us through our help center at help.openai.com if you continue to have issues..\n"
          ]
        },
        {
          "output_type": "stream",
          "name": "stdout",
          "text": [
            "Politics\n"
          ]
        },
        {
          "output_type": "stream",
          "name": "stderr",
          "text": [
            "WARNING:langchain.chat_models.openai:Retrying langchain.chat_models.openai.acompletion_with_retry.<locals>._completion_with_retry in 1.0 seconds as it raised RateLimitError: Rate limit reached for default-gpt-3.5-turbo in organization org-fUMgGI6gSqUWLozt4nlYWmsL on tokens per min. Limit: 90000 / min. Current: 89019 / min. Contact us through our help center at help.openai.com if you continue to have issues..\n"
          ]
        },
        {
          "output_type": "stream",
          "name": "stdout",
          "text": [
            "Sports\n"
          ]
        },
        {
          "output_type": "stream",
          "name": "stderr",
          "text": [
            "WARNING:langchain.chat_models.openai:Retrying langchain.chat_models.openai.acompletion_with_retry.<locals>._completion_with_retry in 1.0 seconds as it raised RateLimitError: Rate limit reached for default-gpt-3.5-turbo in organization org-fUMgGI6gSqUWLozt4nlYWmsL on tokens per min. Limit: 90000 / min. Current: 89746 / min. Contact us through our help center at help.openai.com if you continue to have issues..\n"
          ]
        },
        {
          "output_type": "stream",
          "name": "stdout",
          "text": [
            "Health\n"
          ]
        },
        {
          "output_type": "stream",
          "name": "stderr",
          "text": [
            "WARNING:langchain.chat_models.openai:Retrying langchain.chat_models.openai.acompletion_with_retry.<locals>._completion_with_retry in 1.0 seconds as it raised RateLimitError: Rate limit reached for default-gpt-3.5-turbo in organization org-fUMgGI6gSqUWLozt4nlYWmsL on tokens per min. Limit: 90000 / min. Current: 89203 / min. Contact us through our help center at help.openai.com if you continue to have issues..\n"
          ]
        },
        {
          "output_type": "stream",
          "name": "stdout",
          "text": [
            "Business\n"
          ]
        },
        {
          "output_type": "stream",
          "name": "stderr",
          "text": [
            "WARNING:langchain.chat_models.openai:Retrying langchain.chat_models.openai.acompletion_with_retry.<locals>._completion_with_retry in 1.0 seconds as it raised RateLimitError: Rate limit reached for default-gpt-3.5-turbo in organization org-fUMgGI6gSqUWLozt4nlYWmsL on tokens per min. Limit: 90000 / min. Current: 89943 / min. Contact us through our help center at help.openai.com if you continue to have issues..\n"
          ]
        },
        {
          "output_type": "stream",
          "name": "stdout",
          "text": [
            "Business\n"
          ]
        },
        {
          "output_type": "stream",
          "name": "stderr",
          "text": [
            "WARNING:langchain.chat_models.openai:Retrying langchain.chat_models.openai.acompletion_with_retry.<locals>._completion_with_retry in 1.0 seconds as it raised RateLimitError: Rate limit reached for default-gpt-3.5-turbo in organization org-fUMgGI6gSqUWLozt4nlYWmsL on tokens per min. Limit: 90000 / min. Current: 89325 / min. Contact us through our help center at help.openai.com if you continue to have issues..\n",
            "WARNING:langchain.chat_models.openai:Retrying langchain.chat_models.openai.acompletion_with_retry.<locals>._completion_with_retry in 2.0 seconds as it raised RateLimitError: Rate limit reached for default-gpt-3.5-turbo in organization org-fUMgGI6gSqUWLozt4nlYWmsL on tokens per min. Limit: 90000 / min. Current: 88807 / min. Contact us through our help center at help.openai.com if you continue to have issues..\n"
          ]
        },
        {
          "output_type": "stream",
          "name": "stdout",
          "text": [
            "Software and Development\n"
          ]
        },
        {
          "output_type": "stream",
          "name": "stderr",
          "text": [
            "WARNING:langchain.chat_models.openai:Retrying langchain.chat_models.openai.acompletion_with_retry.<locals>._completion_with_retry in 1.0 seconds as it raised RateLimitError: Rate limit reached for default-gpt-3.5-turbo in organization org-fUMgGI6gSqUWLozt4nlYWmsL on tokens per min. Limit: 90000 / min. Current: 88709 / min. Contact us through our help center at help.openai.com if you continue to have issues..\n"
          ]
        },
        {
          "output_type": "stream",
          "name": "stdout",
          "text": [
            "Sports\n",
            "Entertainment\n"
          ]
        },
        {
          "output_type": "stream",
          "name": "stderr",
          "text": [
            "WARNING:langchain.chat_models.openai:Retrying langchain.chat_models.openai.acompletion_with_retry.<locals>._completion_with_retry in 4.0 seconds as it raised RateLimitError: Rate limit reached for default-gpt-3.5-turbo in organization org-fUMgGI6gSqUWLozt4nlYWmsL on tokens per min. Limit: 90000 / min. Current: 89416 / min. Contact us through our help center at help.openai.com if you continue to have issues..\n"
          ]
        },
        {
          "output_type": "stream",
          "name": "stdout",
          "text": [
            "Business\n"
          ]
        },
        {
          "output_type": "stream",
          "name": "stderr",
          "text": [
            "WARNING:langchain.chat_models.openai:Retrying langchain.chat_models.openai.acompletion_with_retry.<locals>._completion_with_retry in 1.0 seconds as it raised RateLimitError: Rate limit reached for default-gpt-3.5-turbo in organization org-fUMgGI6gSqUWLozt4nlYWmsL on tokens per min. Limit: 90000 / min. Current: 88805 / min. Contact us through our help center at help.openai.com if you continue to have issues..\n"
          ]
        },
        {
          "output_type": "stream",
          "name": "stdout",
          "text": [
            "Sports\n",
            "Sports\n",
            "Entertainment\n",
            "Business\n"
          ]
        },
        {
          "output_type": "stream",
          "name": "stderr",
          "text": [
            "WARNING:langchain.chat_models.openai:Retrying langchain.chat_models.openai.acompletion_with_retry.<locals>._completion_with_retry in 1.0 seconds as it raised RateLimitError: Rate limit reached for default-gpt-3.5-turbo in organization org-fUMgGI6gSqUWLozt4nlYWmsL on tokens per min. Limit: 90000 / min. Current: 89245 / min. Contact us through our help center at help.openai.com if you continue to have issues..\n"
          ]
        },
        {
          "output_type": "stream",
          "name": "stdout",
          "text": [
            "Sports\n"
          ]
        },
        {
          "output_type": "stream",
          "name": "stderr",
          "text": [
            "WARNING:langchain.chat_models.openai:Retrying langchain.chat_models.openai.acompletion_with_retry.<locals>._completion_with_retry in 1.0 seconds as it raised RateLimitError: Rate limit reached for default-gpt-3.5-turbo in organization org-fUMgGI6gSqUWLozt4nlYWmsL on tokens per min. Limit: 90000 / min. Current: 89163 / min. Contact us through our help center at help.openai.com if you continue to have issues..\n",
            "WARNING:langchain.chat_models.openai:Retrying langchain.chat_models.openai.acompletion_with_retry.<locals>._completion_with_retry in 2.0 seconds as it raised RateLimitError: Rate limit reached for default-gpt-3.5-turbo in organization org-fUMgGI6gSqUWLozt4nlYWmsL on tokens per min. Limit: 90000 / min. Current: 88754 / min. Contact us through our help center at help.openai.com if you continue to have issues..\n"
          ]
        },
        {
          "output_type": "stream",
          "name": "stdout",
          "text": [
            "Business\n",
            "Toons\n"
          ]
        },
        {
          "output_type": "stream",
          "name": "stderr",
          "text": [
            "WARNING:langchain.chat_models.openai:Retrying langchain.chat_models.openai.acompletion_with_retry.<locals>._completion_with_retry in 4.0 seconds as it raised RateLimitError: Rate limit reached for default-gpt-3.5-turbo in organization org-fUMgGI6gSqUWLozt4nlYWmsL on tokens per min. Limit: 90000 / min. Current: 89420 / min. Contact us through our help center at help.openai.com if you continue to have issues..\n"
          ]
        },
        {
          "output_type": "stream",
          "name": "stdout",
          "text": [
            "Business\n"
          ]
        },
        {
          "output_type": "stream",
          "name": "stderr",
          "text": [
            "WARNING:langchain.chat_models.openai:Retrying langchain.chat_models.openai.acompletion_with_retry.<locals>._completion_with_retry in 1.0 seconds as it raised RateLimitError: Rate limit reached for default-gpt-3.5-turbo in organization org-fUMgGI6gSqUWLozt4nlYWmsL on tokens per min. Limit: 90000 / min. Current: 89269 / min. Contact us through our help center at help.openai.com if you continue to have issues..\n"
          ]
        },
        {
          "output_type": "stream",
          "name": "stdout",
          "text": [
            "Sports\n",
            "Software and Development\n",
            "Business\n"
          ]
        },
        {
          "output_type": "stream",
          "name": "stderr",
          "text": [
            "WARNING:langchain.chat_models.openai:Retrying langchain.chat_models.openai.acompletion_with_retry.<locals>._completion_with_retry in 1.0 seconds as it raised RateLimitError: Rate limit reached for default-gpt-3.5-turbo in organization org-fUMgGI6gSqUWLozt4nlYWmsL on tokens per min. Limit: 90000 / min. Current: 89160 / min. Contact us through our help center at help.openai.com if you continue to have issues..\n"
          ]
        },
        {
          "output_type": "stream",
          "name": "stdout",
          "text": [
            "Business\n",
            "Business\n"
          ]
        },
        {
          "output_type": "stream",
          "name": "stderr",
          "text": [
            "WARNING:langchain.chat_models.openai:Retrying langchain.chat_models.openai.acompletion_with_retry.<locals>._completion_with_retry in 1.0 seconds as it raised RateLimitError: Rate limit reached for default-gpt-3.5-turbo in organization org-fUMgGI6gSqUWLozt4nlYWmsL on tokens per min. Limit: 90000 / min. Current: 89310 / min. Contact us through our help center at help.openai.com if you continue to have issues..\n",
            "WARNING:langchain.chat_models.openai:Retrying langchain.chat_models.openai.acompletion_with_retry.<locals>._completion_with_retry in 1.0 seconds as it raised RateLimitError: Rate limit reached for default-gpt-3.5-turbo in organization org-fUMgGI6gSqUWLozt4nlYWmsL on tokens per min. Limit: 90000 / min. Current: 89025 / min. Contact us through our help center at help.openai.com if you continue to have issues..\n"
          ]
        },
        {
          "output_type": "stream",
          "name": "stdout",
          "text": [
            "Entertainment\n"
          ]
        },
        {
          "output_type": "stream",
          "name": "stderr",
          "text": [
            "WARNING:langchain.chat_models.openai:Retrying langchain.chat_models.openai.acompletion_with_retry.<locals>._completion_with_retry in 1.0 seconds as it raised RateLimitError: Rate limit reached for default-gpt-3.5-turbo in organization org-fUMgGI6gSqUWLozt4nlYWmsL on tokens per min. Limit: 90000 / min. Current: 89365 / min. Contact us through our help center at help.openai.com if you continue to have issues..\n"
          ]
        },
        {
          "output_type": "stream",
          "name": "stdout",
          "text": [
            "Business\n",
            "Entertainment\n",
            "Sports\n"
          ]
        },
        {
          "output_type": "stream",
          "name": "stderr",
          "text": [
            "WARNING:langchain.chat_models.openai:Retrying langchain.chat_models.openai.acompletion_with_retry.<locals>._completion_with_retry in 1.0 seconds as it raised RateLimitError: Rate limit reached for default-gpt-3.5-turbo in organization org-fUMgGI6gSqUWLozt4nlYWmsL on tokens per min. Limit: 90000 / min. Current: 89067 / min. Contact us through our help center at help.openai.com if you continue to have issues..\n"
          ]
        },
        {
          "output_type": "stream",
          "name": "stdout",
          "text": [
            "Business\n",
            "Software and Development\n",
            "News/Current Events\n"
          ]
        },
        {
          "output_type": "stream",
          "name": "stderr",
          "text": [
            "WARNING:langchain.chat_models.openai:Retrying langchain.chat_models.openai.acompletion_with_retry.<locals>._completion_with_retry in 1.0 seconds as it raised RateLimitError: Rate limit reached for default-gpt-3.5-turbo in organization org-fUMgGI6gSqUWLozt4nlYWmsL on tokens per min. Limit: 90000 / min. Current: 88797 / min. Contact us through our help center at help.openai.com if you continue to have issues..\n"
          ]
        },
        {
          "output_type": "stream",
          "name": "stdout",
          "text": [
            "Business\n",
            "Business\n",
            "Sports\n"
          ]
        },
        {
          "output_type": "stream",
          "name": "stderr",
          "text": [
            "WARNING:langchain.chat_models.openai:Retrying langchain.chat_models.openai.acompletion_with_retry.<locals>._completion_with_retry in 1.0 seconds as it raised RateLimitError: Rate limit reached for default-gpt-3.5-turbo in organization org-fUMgGI6gSqUWLozt4nlYWmsL on tokens per min. Limit: 90000 / min. Current: 88913 / min. Contact us through our help center at help.openai.com if you continue to have issues..\n"
          ]
        },
        {
          "output_type": "stream",
          "name": "stdout",
          "text": [
            "News/Current Affairs\n",
            "News/Current Events\n",
            "Business\n",
            "Health\n",
            "Sports\n",
            "Business\n",
            "Business\n"
          ]
        },
        {
          "output_type": "stream",
          "name": "stderr",
          "text": [
            "WARNING:langchain.chat_models.openai:Retrying langchain.chat_models.openai.acompletion_with_retry.<locals>._completion_with_retry in 1.0 seconds as it raised RateLimitError: Rate limit reached for default-gpt-3.5-turbo in organization org-fUMgGI6gSqUWLozt4nlYWmsL on tokens per min. Limit: 90000 / min. Current: 89233 / min. Contact us through our help center at help.openai.com if you continue to have issues..\n"
          ]
        },
        {
          "output_type": "stream",
          "name": "stdout",
          "text": [
            "Business\n",
            "Health\n"
          ]
        },
        {
          "output_type": "stream",
          "name": "stderr",
          "text": [
            "WARNING:langchain.chat_models.openai:Retrying langchain.chat_models.openai.acompletion_with_retry.<locals>._completion_with_retry in 1.0 seconds as it raised RateLimitError: Rate limit reached for default-gpt-3.5-turbo in organization org-fUMgGI6gSqUWLozt4nlYWmsL on tokens per min. Limit: 90000 / min. Current: 88686 / min. Contact us through our help center at help.openai.com if you continue to have issues..\n"
          ]
        },
        {
          "output_type": "stream",
          "name": "stdout",
          "text": [
            "Sports\n",
            "Software and Development\n",
            "Sports\n"
          ]
        },
        {
          "output_type": "stream",
          "name": "stderr",
          "text": [
            "WARNING:langchain.chat_models.openai:Retrying langchain.chat_models.openai.acompletion_with_retry.<locals>._completion_with_retry in 1.0 seconds as it raised RateLimitError: Rate limit reached for default-gpt-3.5-turbo in organization org-fUMgGI6gSqUWLozt4nlYWmsL on tokens per min. Limit: 90000 / min. Current: 88749 / min. Contact us through our help center at help.openai.com if you continue to have issues..\n"
          ]
        },
        {
          "output_type": "stream",
          "name": "stdout",
          "text": [
            "Sports\n",
            "Health\n",
            "Health\n"
          ]
        },
        {
          "output_type": "stream",
          "name": "stderr",
          "text": [
            "WARNING:langchain.chat_models.openai:Retrying langchain.chat_models.openai.acompletion_with_retry.<locals>._completion_with_retry in 1.0 seconds as it raised RateLimitError: Rate limit reached for default-gpt-3.5-turbo in organization org-fUMgGI6gSqUWLozt4nlYWmsL on tokens per min. Limit: 90000 / min. Current: 88737 / min. Contact us through our help center at help.openai.com if you continue to have issues..\n"
          ]
        },
        {
          "output_type": "stream",
          "name": "stdout",
          "text": [
            "Health\n",
            "Health\n",
            "Business\n"
          ]
        },
        {
          "output_type": "stream",
          "name": "stderr",
          "text": [
            "WARNING:langchain.chat_models.openai:Retrying langchain.chat_models.openai.acompletion_with_retry.<locals>._completion_with_retry in 1.0 seconds as it raised RateLimitError: Rate limit reached for default-gpt-3.5-turbo in organization org-fUMgGI6gSqUWLozt4nlYWmsL on tokens per min. Limit: 90000 / min. Current: 89054 / min. Contact us through our help center at help.openai.com if you continue to have issues..\n"
          ]
        },
        {
          "output_type": "stream",
          "name": "stdout",
          "text": [
            "Sports\n",
            "Sports\n",
            "Entertainment\n",
            "Health\n"
          ]
        },
        {
          "output_type": "stream",
          "name": "stderr",
          "text": [
            "WARNING:langchain.chat_models.openai:Retrying langchain.chat_models.openai.acompletion_with_retry.<locals>._completion_with_retry in 1.0 seconds as it raised RateLimitError: Rate limit reached for default-gpt-3.5-turbo in organization org-fUMgGI6gSqUWLozt4nlYWmsL on tokens per min. Limit: 90000 / min. Current: 89204 / min. Contact us through our help center at help.openai.com if you continue to have issues..\n"
          ]
        },
        {
          "output_type": "stream",
          "name": "stdout",
          "text": [
            "Politics/International Relations\n"
          ]
        },
        {
          "output_type": "stream",
          "name": "stderr",
          "text": [
            "WARNING:langchain.chat_models.openai:Retrying langchain.chat_models.openai.acompletion_with_retry.<locals>._completion_with_retry in 2.0 seconds as it raised RateLimitError: That model is currently overloaded with other requests. You can retry your request, or contact us through our help center at help.openai.com if the error persists. (Please include the request ID 451c7d805081e8f4abe00d431442117f in your message.).\n"
          ]
        },
        {
          "output_type": "stream",
          "name": "stdout",
          "text": [
            "Sorry, I cannot classify the given article as it seems incomplete and there is not enough information to determine its category.\n",
            "Business\n",
            "Health\n",
            "Sci/Tech\n"
          ]
        },
        {
          "output_type": "stream",
          "name": "stderr",
          "text": [
            "WARNING:langchain.chat_models.openai:Retrying langchain.chat_models.openai.acompletion_with_retry.<locals>._completion_with_retry in 1.0 seconds as it raised RateLimitError: Rate limit reached for default-gpt-3.5-turbo in organization org-fUMgGI6gSqUWLozt4nlYWmsL on tokens per min. Limit: 90000 / min. Current: 89240 / min. Contact us through our help center at help.openai.com if you continue to have issues..\n",
            "WARNING:langchain.chat_models.openai:Retrying langchain.chat_models.openai.acompletion_with_retry.<locals>._completion_with_retry in 4.0 seconds as it raised RateLimitError: Rate limit reached for default-gpt-3.5-turbo in organization org-fUMgGI6gSqUWLozt4nlYWmsL on tokens per min. Limit: 90000 / min. Current: 89044 / min. Contact us through our help center at help.openai.com if you continue to have issues..\n"
          ]
        },
        {
          "output_type": "stream",
          "name": "stdout",
          "text": [
            "Sci/Tech\n",
            "Health\n",
            "Health\n",
            "News/Current Events\n"
          ]
        },
        {
          "output_type": "stream",
          "name": "stderr",
          "text": [
            "WARNING:langchain.chat_models.openai:Retrying langchain.chat_models.openai.acompletion_with_retry.<locals>._completion_with_retry in 1.0 seconds as it raised RateLimitError: Rate limit reached for default-gpt-3.5-turbo in organization org-fUMgGI6gSqUWLozt4nlYWmsL on tokens per min. Limit: 90000 / min. Current: 89053 / min. Contact us through our help center at help.openai.com if you continue to have issues..\n"
          ]
        },
        {
          "output_type": "stream",
          "name": "stdout",
          "text": [
            "Sci/Tech\n"
          ]
        },
        {
          "output_type": "stream",
          "name": "stderr",
          "text": [
            "WARNING:langchain.chat_models.openai:Retrying langchain.chat_models.openai.acompletion_with_retry.<locals>._completion_with_retry in 2.0 seconds as it raised RateLimitError: Rate limit reached for default-gpt-3.5-turbo in organization org-fUMgGI6gSqUWLozt4nlYWmsL on tokens per min. Limit: 90000 / min. Current: 89827 / min. Contact us through our help center at help.openai.com if you continue to have issues..\n"
          ]
        },
        {
          "output_type": "stream",
          "name": "stdout",
          "text": [
            "Sports\n"
          ]
        },
        {
          "output_type": "stream",
          "name": "stderr",
          "text": [
            "WARNING:langchain.chat_models.openai:Retrying langchain.chat_models.openai.acompletion_with_retry.<locals>._completion_with_retry in 1.0 seconds as it raised RateLimitError: Rate limit reached for default-gpt-3.5-turbo in organization org-fUMgGI6gSqUWLozt4nlYWmsL on tokens per min. Limit: 90000 / min. Current: 89148 / min. Contact us through our help center at help.openai.com if you continue to have issues..\n"
          ]
        },
        {
          "output_type": "stream",
          "name": "stdout",
          "text": [
            "Sports\n"
          ]
        },
        {
          "output_type": "stream",
          "name": "stderr",
          "text": [
            "WARNING:langchain.chat_models.openai:Retrying langchain.chat_models.openai.acompletion_with_retry.<locals>._completion_with_retry in 4.0 seconds as it raised RateLimitError: Rate limit reached for default-gpt-3.5-turbo in organization org-fUMgGI6gSqUWLozt4nlYWmsL on tokens per min. Limit: 90000 / min. Current: 89113 / min. Contact us through our help center at help.openai.com if you continue to have issues..\n"
          ]
        },
        {
          "output_type": "stream",
          "name": "stdout",
          "text": [
            "Business\n",
            "Sports\n"
          ]
        },
        {
          "output_type": "stream",
          "name": "stderr",
          "text": [
            "WARNING:langchain.chat_models.openai:Retrying langchain.chat_models.openai.acompletion_with_retry.<locals>._completion_with_retry in 1.0 seconds as it raised RateLimitError: Rate limit reached for default-gpt-3.5-turbo in organization org-fUMgGI6gSqUWLozt4nlYWmsL on tokens per min. Limit: 90000 / min. Current: 89217 / min. Contact us through our help center at help.openai.com if you continue to have issues..\n"
          ]
        },
        {
          "output_type": "stream",
          "name": "stdout",
          "text": [
            "Entertainment\n",
            "Sports\n"
          ]
        },
        {
          "output_type": "stream",
          "name": "stderr",
          "text": [
            "WARNING:langchain.chat_models.openai:Retrying langchain.chat_models.openai.acompletion_with_retry.<locals>._completion_with_retry in 1.0 seconds as it raised RateLimitError: Rate limit reached for default-gpt-3.5-turbo in organization org-fUMgGI6gSqUWLozt4nlYWmsL on tokens per min. Limit: 90000 / min. Current: 88753 / min. Contact us through our help center at help.openai.com if you continue to have issues..\n"
          ]
        },
        {
          "output_type": "stream",
          "name": "stdout",
          "text": [
            "Sports\n",
            "Entertainment\n"
          ]
        },
        {
          "output_type": "stream",
          "name": "stderr",
          "text": [
            "WARNING:langchain.chat_models.openai:Retrying langchain.chat_models.openai.acompletion_with_retry.<locals>._completion_with_retry in 1.0 seconds as it raised RateLimitError: Rate limit reached for default-gpt-3.5-turbo in organization org-fUMgGI6gSqUWLozt4nlYWmsL on tokens per min. Limit: 90000 / min. Current: 88753 / min. Contact us through our help center at help.openai.com if you continue to have issues..\n",
            "WARNING:langchain.chat_models.openai:Retrying langchain.chat_models.openai.acompletion_with_retry.<locals>._completion_with_retry in 1.0 seconds as it raised RateLimitError: Rate limit reached for default-gpt-3.5-turbo in organization org-fUMgGI6gSqUWLozt4nlYWmsL on tokens per min. Limit: 90000 / min. Current: 88679 / min. Contact us through our help center at help.openai.com if you continue to have issues..\n"
          ]
        },
        {
          "output_type": "stream",
          "name": "stdout",
          "text": [
            "Software and Development\n"
          ]
        },
        {
          "output_type": "stream",
          "name": "stderr",
          "text": [
            "WARNING:langchain.chat_models.openai:Retrying langchain.chat_models.openai.acompletion_with_retry.<locals>._completion_with_retry in 1.0 seconds as it raised RateLimitError: Rate limit reached for default-gpt-3.5-turbo in organization org-fUMgGI6gSqUWLozt4nlYWmsL on tokens per min. Limit: 90000 / min. Current: 88805 / min. Contact us through our help center at help.openai.com if you continue to have issues..\n"
          ]
        },
        {
          "output_type": "stream",
          "name": "stdout",
          "text": [
            "Sci/Tech\n",
            "Software and Development\n"
          ]
        },
        {
          "output_type": "stream",
          "name": "stderr",
          "text": [
            "WARNING:langchain.chat_models.openai:Retrying langchain.chat_models.openai.acompletion_with_retry.<locals>._completion_with_retry in 1.0 seconds as it raised RateLimitError: Rate limit reached for default-gpt-3.5-turbo in organization org-fUMgGI6gSqUWLozt4nlYWmsL on tokens per min. Limit: 90000 / min. Current: 88820 / min. Contact us through our help center at help.openai.com if you continue to have issues..\n"
          ]
        },
        {
          "output_type": "stream",
          "name": "stdout",
          "text": [
            "Software and Development\n"
          ]
        },
        {
          "output_type": "stream",
          "name": "stderr",
          "text": [
            "WARNING:langchain.chat_models.openai:Retrying langchain.chat_models.openai.acompletion_with_retry.<locals>._completion_with_retry in 1.0 seconds as it raised RateLimitError: Rate limit reached for default-gpt-3.5-turbo in organization org-fUMgGI6gSqUWLozt4nlYWmsL on tokens per min. Limit: 90000 / min. Current: 88918 / min. Contact us through our help center at help.openai.com if you continue to have issues..\n"
          ]
        },
        {
          "output_type": "stream",
          "name": "stdout",
          "text": [
            "Sci/Tech\n"
          ]
        },
        {
          "output_type": "stream",
          "name": "stderr",
          "text": [
            "WARNING:langchain.chat_models.openai:Retrying langchain.chat_models.openai.acompletion_with_retry.<locals>._completion_with_retry in 1.0 seconds as it raised RateLimitError: Rate limit reached for default-gpt-3.5-turbo in organization org-fUMgGI6gSqUWLozt4nlYWmsL on tokens per min. Limit: 90000 / min. Current: 88952 / min. Contact us through our help center at help.openai.com if you continue to have issues..\n"
          ]
        },
        {
          "output_type": "stream",
          "name": "stdout",
          "text": [
            "Business\n"
          ]
        },
        {
          "output_type": "stream",
          "name": "stderr",
          "text": [
            "WARNING:langchain.chat_models.openai:Retrying langchain.chat_models.openai.acompletion_with_retry.<locals>._completion_with_retry in 2.0 seconds as it raised RateLimitError: Rate limit reached for default-gpt-3.5-turbo in organization org-fUMgGI6gSqUWLozt4nlYWmsL on tokens per min. Limit: 90000 / min. Current: 89763 / min. Contact us through our help center at help.openai.com if you continue to have issues..\n"
          ]
        },
        {
          "output_type": "stream",
          "name": "stdout",
          "text": [
            "Business\n"
          ]
        },
        {
          "output_type": "stream",
          "name": "stderr",
          "text": [
            "WARNING:langchain.chat_models.openai:Retrying langchain.chat_models.openai.acompletion_with_retry.<locals>._completion_with_retry in 1.0 seconds as it raised RateLimitError: Rate limit reached for default-gpt-3.5-turbo in organization org-fUMgGI6gSqUWLozt4nlYWmsL on tokens per min. Limit: 90000 / min. Current: 89225 / min. Contact us through our help center at help.openai.com if you continue to have issues..\n"
          ]
        },
        {
          "output_type": "stream",
          "name": "stdout",
          "text": [
            "Business\n",
            "Sports\n",
            "Total Tokens: 268510\n",
            "Prompt Tokens: 266599\n",
            "Completion Tokens: 1911\n",
            "Total Cost (USD): $0.53702\n",
            "['Sports', 'Business', 'Sports', 'Business', 'Sports', 'Sports', 'Business', 'Sports', 'Politics/Government', 'Sports', 'Health', 'Entertainment', 'Business', 'Sports', 'Business', 'Business', 'Business', 'Business', 'Health', 'Software and Development', 'Sci/Tech', 'Business', 'Sports', 'Politics/Government', 'Politics/Current Events', 'Sports', 'Politics/Current Events', 'Politics/Current Events', 'Fashion/Entertainment', 'Sports', 'Sports', 'Business', 'Business', 'Crime/Justice', 'Business', 'Business', 'Sports', 'Sports', 'Health', 'Health', 'Health', 'Software and Development', 'Music Feeds', 'Business', 'Technology/Sci-Tech', 'Business', 'Software and Development', 'Business', 'Business', 'Sports', 'Sci/Tech', 'Sports', 'Business', 'Sci/Tech', 'Software and Development', 'Sports', 'Business', 'Sports', 'Business', 'Politics/International Affairs', 'Business', 'Health', 'Sports', 'Business', 'Business', 'Software and Development', 'Business', 'Health', 'Entertainment', 'Software and Development', 'Sci/Tech', 'Entertainment', 'Software and Development', 'Sports', 'Health', 'Sci/Tech', 'Health', 'Entertainment', 'Health', 'Sports', 'Politics', 'Sports', 'Health', 'Sports', 'Software and Development', 'Sports', 'Sports', 'Sports', 'Entertainment', 'Health', 'Software and Development', 'Sports', 'Business', 'Sports', 'Politics', 'Sports', 'Sports', 'Sports', 'Politics', 'Sports', 'Software and Development', 'Entertainment', 'Business', 'Sports', 'Sports', 'Sports', 'Business', 'Health', 'Animals/Pets', 'Entertainment', 'Sports', 'Entertainment', 'Sports', 'Sports', 'Sports', 'Business', 'Sports', 'Weather/Natural Disaster', 'Sci/Tech', 'Business', 'Sports', 'Software and Development', 'Politics/International Relations', 'Business', 'Sports', 'Business', 'Politics', 'Business', 'Business', 'Business', 'Software and Development', 'Sports', 'Politics/Law', 'Software and Development', 'Business', 'Business', 'Sci/Tech', 'Health', 'Business', 'Software and Development', 'Sports', 'Business', 'Sports', 'Politics', 'Business', 'Sports', 'Sports', 'Business', 'Sports', 'Software and Development', 'Software and Development', 'Sports', 'Entertainment', 'Business', 'Sports', 'Sports', 'Business', 'Music Feeds', 'Sci/Tech', 'Sports', 'Sports', 'Health', 'Entertainment', 'Politics/Current Events', 'Business', 'Business', 'Sports', 'Sports', 'Software and Development', 'Business', 'Health', 'Business', 'Sports', 'Sports', 'Toons', 'Sports', 'Entertainment', 'Entertainment', 'Sports', 'Sci/Tech', 'Entertainment', 'Sports', 'Health', 'Sports', 'Software and Development', 'Sports', 'Sci/Tech', 'Sports', 'Sports', 'Sci/Tech', 'Sports', 'Business', 'Health', 'Sports', 'Music Feeds', 'Sports', 'Entertainment', 'Entertainment', 'Business', 'Health', 'Sci/Tech', 'Business', 'Health', 'Sports', 'Terrorism/International Affairs', 'Business', 'Sci/Tech', 'Sports', 'Business', 'Politics', 'Health', 'Health', 'Sports', 'Politics', 'Health', 'Health', 'Sports', 'Music Feeds', 'Sports', 'Sports', 'Sports', 'Sci/Tech', 'Entertainment', 'Sports', 'Sports', 'Sports', \"I'm sorry, but there is no article provided for me to classify. Please provide an article for me to classify.\", 'Software and Development', 'Health', 'Sports', 'Entertainment', 'Sports', 'Politics/International Affairs', 'Music Feeds', 'Entertainment', 'Business', 'Sci/Tech', 'Business', 'Sports', 'Entertainment', 'Sports', 'Entertainment', 'Sports', 'Sports', 'Business', 'Politics', 'Business', 'Sports', 'Business', 'Sports', 'Music Feeds', 'Sports', 'Sports', 'Sports', 'Software and Development', 'Sports', 'Crime/Politics', 'Health', 'Sports', 'Business', 'Politics/Current Affairs', 'Business', 'Sci/Tech', 'News/Politics', 'Business', 'Sci/Tech', 'Business', 'Business', 'Business', 'Environment/Science', 'Business', 'Sports', 'Sports', 'Sports', 'Health', 'Health', 'Sports', 'Entertainment', 'Politics', 'Business', 'Business', 'Business', 'Sports', 'Sports', 'Sports', 'Health', 'Health', 'Business', 'Sports', 'Entertainment', 'Weather/Natural Disaster', 'Entertainment', 'Health', 'Sports', 'Sports', 'Business', 'Sports', 'Health', 'Entertainment', 'Business', 'Sports', 'Politics', 'Health', 'Accident/Disaster', 'Business', 'Sports', 'Music Feeds', 'Health', 'Business', 'Software and Development', 'Sports', 'Sports', 'Business', 'Business', 'Entertainment', 'Toons', 'Sports', 'Business', 'Software and Development', 'Business', 'Sports', 'Business', 'Entertainment', 'Sports', 'Health', 'Sports', 'Health', 'Travel/Transportation', 'Business', 'Business', 'Health', 'News/Politics', 'Health', 'Business', 'Sports', 'Sports', 'Business', 'Music Feeds', 'Business', 'Sports', 'Business', 'Sci/Tech', 'Sports', 'Sports', 'Sports', 'Sports', 'Sports', 'Sports', 'Sports', 'Health', 'Health', 'Sports', 'Entertainment', 'Business', 'Sci/Tech', 'Health', 'Sports', 'Business', 'Sports', 'Sports', 'Music Feeds', 'Sports', 'Sports', 'Sports', 'Business', 'Sports', 'Politics', 'Politics', 'Sports', 'Sports', 'Sports', 'Business', 'Entertainment', 'Toons', 'Sci/Tech', 'Software and Development', 'Software and Development', 'Software and Development', 'Politics', 'Health', 'Entertainment', 'Sci/Tech', 'Sports', 'Business', 'Sports', 'Business', 'Health', 'Software and Development', 'Politics', 'Sports', 'Business', 'Entertainment', 'Politics', 'Music Feeds', 'Business', 'Business', 'Sports', 'Business', 'Sports', 'Politics/International Relations', 'Sports', 'Sports', 'Business', 'Sports', 'Entertainment', 'Politics', \"I'm sorry, but there is no article provided for me to classify. Please provide an article for me to classify.\", 'Health', 'Health', 'Sports', 'Sports', 'Sci/Tech', 'Entertainment', 'Software and Development', 'Sports', 'Politics/Conflict', 'Sports', 'Sports', 'Sports', 'Business', 'Software and Development', 'Sports', 'Sports', 'Business', 'Business', 'Software and Development', 'Sci/Tech', 'Sports', 'Sports', 'Business', 'Toons', 'Business', 'Sports', 'Entertainment', 'Entertainment', 'Entertainment', 'Business', 'Politics', 'Sports', 'Business', 'Toons', 'Health', 'Sci/Tech', 'Politics', 'Sports', 'Sports', 'Software and Development', 'Politics', 'Business', 'News/Current Events', 'Sports', 'Entertainment', 'Sports', 'Politics/Current Events', 'Sports', 'Politics', 'Software and Development', 'Crime/Justice', 'Sports', 'Sports', 'Sports', 'Business', 'Sports', 'Sports', 'Sports', 'Business', 'Sports', 'Health', 'News', 'Sports', 'Health', 'Travel/Transportation', 'News/Current Events', 'Sci/Tech', 'Business', 'Sports', 'Software and Development', 'Software and Development', 'War/Conflict', 'Sports', 'Business', 'Sports', 'Sports', 'Charity/Fundraising', 'Sports', 'Health', 'Sports', 'Health', 'Sports', 'Sports', 'Software and Development', 'Sports', 'Business', 'Business', 'Business', 'Business', 'Sci/Tech', 'Natural Disasters/Weather', 'Entertainment', 'Business', 'Business', 'Business', 'Politics', 'Sports', 'Politics', 'Business', 'Health', 'Sports', 'Sports', 'Sports', 'Entertainment', 'Health', 'Business', 'Business', 'Sorry, I cannot label the classification of the given article as it lacks sufficient information or context.', 'Health', 'Health', 'Politics/Government', 'Sports', 'Sports', 'Sports', 'Sports', 'Business', 'Business', 'Sports', 'Software and Development', 'Sports', 'Sports', 'Business', 'Politics', 'Sports', 'Business', 'Business', 'Business', 'Sports', 'Sports', 'Business', 'Politics/Government', 'Business', 'Entertainment', 'Business', \"I'm sorry, but there is no article provided for me to classify. Please provide an article for me to classify.\", 'Business', 'Sci/Tech', 'Sports', 'Without more information, it is not possible to accurately classify this article into one of the given categories.', 'Sports', 'Sports', 'Music Feeds', 'Sports', 'Sci/Tech', 'Business', 'Sports', 'Business', 'Sports', 'Sports', 'Health', 'Sports', 'Sports', 'None of the given categories fit this article well. It seems to be a general news article about a woman in a remote district in Brazil.', 'Software and Development', 'Sports', 'Politics', 'Travel/Tourism', 'Business', 'Sports', 'Politics', 'Business', 'Politics', 'Sports', 'Business', 'Politics/Government', 'Business', 'Software and Development', 'Software and Development', 'Sci/Tech', 'Sports', 'Sports', 'Entertainment', 'Business', 'Sports', 'Health', 'Sports', 'Business', 'Business', 'Business', 'Business', 'Business', 'Business', 'Entertainment', 'Business', 'Business', 'Sports', 'Sports', 'Sci/Tech', 'Business', 'Health', 'Politics', 'Animal Welfare', 'Health', 'Politics/Military', 'Health', 'Sports', 'Sports', 'Sports', 'Sci/Tech', 'Business', 'Health', 'Software and Development', 'Health', 'Software and Development', 'Politics/Elections', 'Sports', 'Business', 'Business', 'Software and Development', 'Entertainment', 'Sports', 'Sports', 'Politics', 'Software and Development', 'Software and Development', 'Sports', 'Software and Development', 'Health', 'Health', 'Sports', 'Entertainment', 'Entertainment', 'Sports', 'Entertainment', 'Sci/Tech', 'Health', 'Sports', 'Sports', 'Business', 'Politics', 'Sports', 'Politics/International Affairs', 'Sports', 'Business', 'Health', 'Health', 'Sports', 'Sports', 'Business', 'Sports', 'Entertainment', 'Health', 'Software and Development', 'Music Feeds', 'Entertainment', 'Science/Tech', 'Business', 'Business', 'Business', 'Business', 'Politics', 'Sports', 'Sports', 'Business', 'Business', 'Sports', 'Sports', 'Health', 'Business', 'Sports', 'Entertainment', 'Politics/International Relations', 'Sports', 'Entertainment', 'Entertainment', 'Health', 'Sports', 'Entertainment', 'Sports', 'Sports', 'Sci/Tech', 'Toons', 'Sports', 'Health', 'Health', 'Business', 'Software and Development', 'Health', 'Software and Development', 'Business', 'Sports', 'Business', 'Sports', 'Sports', 'Business', 'Business', 'Environment/Animals', 'Business', 'Health', 'Politics', 'Sports', 'Sports', 'Sci/Tech', 'Business', 'Business', 'Natural Disaster (not one of the given categories) or Weather (if that is an option)', 'Toons', 'Sports', 'Health', 'Politics/Current Events', 'Sports', 'Sci/Tech', 'Sports', 'Business', 'News', 'Sci/Tech', 'Sports', 'Sci/Tech', 'Sports', 'Business', 'Health', 'Business', \"I'm sorry, but there is no article provided for me to classify. Please provide an article for me to classify.\", 'Sorry, I cannot classify the given article as it does not provide enough information or context to determine its category.', 'Sci/Tech', 'Sports', 'Music Feeds', 'Sports', 'Business', 'Business', 'Politics', 'Business', 'Sports', 'Health', 'Health', 'Sports', 'Business', 'Health', 'Entertainment', 'Software and Development', 'Business', 'Entertainment', 'Sports', 'Software and Development', 'Sports', 'Sports', 'Business', 'Sports', 'Sports', 'Sports', 'Business', 'Business', \"I'm sorry, but there is no article provided for me to classify. Please provide an article for me to classify.\", 'Health', 'Business', 'Software and Development', 'Sports', 'Sports', 'Sports', 'Business', 'Sports', 'Software and Development', 'Business', 'Health', 'Sports', 'Sports', 'Sci/Tech', 'Business', 'Sci/Tech', 'Sports', 'Weather/Natural Disasters', 'Software and Development', 'Entertainment', 'Business', 'Business', 'Business', 'Politics', 'Politics', 'Business', 'Business', 'Sports', 'Sports', 'Entertainment', 'Sports', 'Entertainment', 'Sports', 'Business', 'Business', 'Business', 'Sports', 'Travel/Transportation', 'Sports', 'News/Politics', 'Business', 'Health', 'Sports', 'Business', 'Sports', 'Business', 'Business', 'Entertainment', 'Business', 'Business', \"I'm sorry, but there is no article provided for me to classify. Please provide an article for me to classify.\", 'Sports', 'Sports', 'Sports', 'Software and Development', 'Sci/Tech', 'Business', 'Sports', 'Software and Development', 'Entertainment', 'Health', 'Business', 'Business', 'Sports', 'Business', 'Sports', 'Sports', 'Sports', 'Sports', 'Politics/Current Events', 'Sports', 'Sports', 'Business', 'Sports', 'Weather/Natural Disaster', 'Music Feeds', 'Sorry, I cannot classify this article as it does not provide enough information about its content or topic.', 'Sports', 'Entertainment', 'Business', 'Sci/Tech', 'Business', 'Health', 'Toons', 'Sports', 'Politics/Foreign Policy', 'Business', 'Software and Development', 'Health', 'Politics/Current Events', 'Sports', 'Sports', 'Business', 'Sports', 'Health', 'Sci/Tech', 'Sorry, I cannot classify this article as it contains sensitive and violent content. As an AI language model, I strive to maintain a neutral stance and avoid promoting any form of violence or discrimination.', 'Software and Development', 'Business', 'Health', 'Business', 'Health', 'Business', 'Health', 'Sports', 'Politics', 'Sports', 'Sports', 'Sci/Tech', 'Business', 'Business', 'Business', 'Politics', \"I'm sorry, but there is no article provided for me to classify. Please provide an article for me to classify.\", 'Business', 'Sports', \"I'm sorry, but there is no article provided for me to classify. Please provide an article for me to classify.\", 'Sports', 'Health', 'Business', 'Sports', 'Sports', 'Sports', 'Business', 'Sports', 'Sports', 'Natural Disaster/Weather', 'Sports', 'Sports', 'Software and Development', 'Sci/Tech', 'Music Feeds', 'Sports', 'Business', 'Politics/Military', 'Health', 'Entertainment', 'Politics', 'Business', 'Sports', 'Politics', 'Sports', 'Music Feeds', 'Business', 'Software and Development', 'Sports', 'Entertainment', 'Software and Development', 'Entertainment', 'Health', 'Politics', 'Health', \"I'm sorry, but there is no article provided for me to classify. Please provide an article for me to classify.\", 'Sports', 'Software and Development', 'Entertainment', 'Sports', 'Sci/Tech', 'News (not one of the given categories)', 'Business', 'Business', 'Sports', 'Sci/Tech', 'Sports', 'Business', 'Business', 'Sports', 'Business', 'Sports', 'Politics', 'Sports', 'Health', 'Business', 'Business', 'Software and Development', 'Sports', 'Sports', 'Entertainment', 'Business', 'Sports', 'Sports', 'Entertainment', 'Business', 'Business', 'Business', 'Toons', 'Business', 'Sports', 'Software and Development', 'Business', 'Business', 'Entertainment', 'Sci/Tech', 'Business', 'Entertainment', 'Sports', 'Business', 'Software and Development', 'News/Current Events', 'Business', 'Business', 'Sports', 'News/Current Affairs', 'News/Current Events', 'Business', 'Health', 'Sports', 'Business', 'Business', 'Business', 'Health', 'Sports', 'Software and Development', 'Sports', 'Sports', 'Health', 'Health', 'Health', 'Health', 'Business', 'Sports', 'Sports', 'Entertainment', 'Health', 'Politics/International Relations', 'Sorry, I cannot classify the given article as it seems incomplete and there is not enough information to determine its category.', 'Business', 'Health', 'Sci/Tech', 'Sci/Tech', 'Health', 'Health', 'News/Current Events', 'Entertainment', 'Sports', 'Sports', 'Business', 'Sports', 'Entertainment', 'Sports', 'Sports', 'Sci/Tech', 'Software and Development', 'Software and Development', 'Software and Development', 'Sci/Tech', 'Business', 'Sports', 'Business', 'Business']\n",
            "Accuracy on test set: 0.614\n"
          ]
        }
      ]
    },
    {
      "cell_type": "markdown",
      "source": [
        "## Step 5: Report Results from previous two steps"
      ],
      "metadata": {
        "id": "qdQDQ8Sla2u3"
      }
    },
    {
      "cell_type": "code",
      "source": [
        "# Report results\n",
        "\n",
        "print(\"N-gram Models: \")\n",
        "for train_size, result in models.items():\n",
        "    print(\"Train size: {0}  |  Accuracy: {1}  |  F1 score: {2} |  Num errors: {3}\".format(\n",
        "        train_size,\n",
        "        result['accuracy'],\n",
        "        result['f1'],\n",
        "        result['errors']\n",
        "    ))\n"
      ],
      "metadata": {
        "id": "IpKaurcHa0Vh",
        "colab": {
          "base_uri": "https://localhost:8080/"
        },
        "outputId": "1cb54dbe-f247-415d-bf0d-fdec29b3505e"
      },
      "execution_count": null,
      "outputs": [
        {
          "output_type": "stream",
          "name": "stdout",
          "text": [
            "N-gram Models: \n",
            "Train size: 500  |  Accuracy: 0.551  |  F1 score: 0.5355975321495214 |  Num errors: 449\n",
            "Train size: 1000  |  Accuracy: 0.597  |  F1 score: 0.5869880577165666 |  Num errors: 403\n",
            "Train size: 10000  |  Accuracy: 0.724  |  F1 score: 0.7191655940665569 |  Num errors: 276\n",
            "Train size: 25000  |  Accuracy: 0.749  |  F1 score: 0.744903880547254 |  Num errors: 251\n"
          ]
        }
      ]
    },
    {
      "cell_type": "code",
      "source": [
        "print(\"Pretrained Transformer Models: \")\n",
        "for train_size, result in models_v2.items():\n",
        "    print(\"Train size: {0}  |  Accuracy: {1}  |  F1 score: {2} |  Num errors: {3}\".format(\n",
        "        train_size,\n",
        "        result['accuracy'],\n",
        "        result['f1'],\n",
        "        result['errors']\n",
        "    ))"
      ],
      "metadata": {
        "id": "Rztr78oD6EQp",
        "colab": {
          "base_uri": "https://localhost:8080/"
        },
        "outputId": "5c54730f-2a2b-45aa-fa6e-89c817a55b3c"
      },
      "execution_count": null,
      "outputs": [
        {
          "output_type": "stream",
          "name": "stdout",
          "text": [
            "Pretrained Transformer Models: \n",
            "Train size: 500  |  Accuracy: 0.717  |  F1 score: 0.7083022505473252 |  Num errors: 283\n",
            "Train size: 1000  |  Accuracy: 0.74  |  F1 score: 0.7321001798864292 |  Num errors: 260\n",
            "Train size: 10000  |  Accuracy: 0.771  |  F1 score: 0.7635818154780631 |  Num errors: 229\n",
            "Train size: 25000  |  Accuracy: 0.789  |  F1 score: 0.7812156072716253 |  Num errors: 211\n"
          ]
        }
      ]
    },
    {
      "cell_type": "code",
      "source": [
        "print(\"Large Language Models: \")\n",
        "for mode, result in models_v3.items():\n",
        "    print(\"Mode: {0}  |  Accuracy: {1}  |  F1 score: {2} |  Num errors: {3}\".format(\n",
        "        mode,\n",
        "        result['accuracy'],\n",
        "        result['f1'],\n",
        "        result['errors']\n",
        "    ))"
      ],
      "metadata": {
        "id": "b_sQOJW36Cqr",
        "colab": {
          "base_uri": "https://localhost:8080/"
        },
        "outputId": "843d8f76-c3ed-42eb-bceb-924312c0d38f"
      },
      "execution_count": null,
      "outputs": [
        {
          "output_type": "stream",
          "name": "stdout",
          "text": [
            "Large Language Models: \n",
            "Mode: zero-shot  |  Accuracy: 0.647  |  F1 score: 0.6533941520648157 |  Num errors: 353\n",
            "Mode: few-shot  |  Accuracy: 0.614  |  F1 score: 0.6151499242706313 |  Num errors: 386\n"
          ]
        }
      ]
    },
    {
      "cell_type": "markdown",
      "source": [
        "## Step 6: Data Augmentation [Optional]\n",
        "\n",
        "In this section, we want to explore how to augment data efficiently to your existing training data. This is a very empirical exercise with a less well-defined playbook which means this section of the project is going to be open ended. Let us first understand what we mean by efficiency here, and why it matters:\n",
        "\n",
        "### Performance Gain (G):\n",
        "We will measure performance gain from data augmentation as the improvement in model accuracy (reduction in num. errors) on the Test dataset as defined above.\n",
        "\n",
        "### Budget (K):\n",
        "We will measure \"budget\" as the number of additional rows augmentated to the original training dataset.  In this project, the universe of data from which you will select to add to your training set is Datasets['augment'] (and downstream X_augment, Y_augment).\n",
        "\n",
        "This data is already labeled of course, but in most real-world scenarios the additional data is typically unlabeled. In order to augment it to your training data, you have to get it annotated which incurs some cost in time & money. This is the motivation to consider budget as a metric.\n",
        "\n",
        "### Efficiency (E = G / K):\n",
        "Efficiency = Performance Gain (Reduction in num errors in test set) / Budget (Number of additional rows augmented to the training dataset)\n",
        "\n",
        "We want to get the maximum gain in performance, while incurring minimum annotation cost."
      ],
      "metadata": {
        "id": "4v882hLIa6gR"
      }
    },
    {
      "cell_type": "markdown",
      "source": [
        "\n",
        "\n",
        "We can always sample more data at random from the augmentation set, and this is probably the first thing to try. Can we be more intelligent with the data we choose to augment to the training dataset?\n",
        "\n",
        "**Idea 1**: Look at the test errors that the current model is making. How can this help us guide our \"data collection\" for augmentation? One possible idea is to select examples from the augmentation dataset that are similar to these errors and add them to the training data. Similarity can be approximated in many ways:\n",
        "1. [Jaccard distance between two texts](https://studymachinelearning.com/jaccard-similarity-text-similarity-metric-in-nlp/)\n",
        "2. L2 distance between mean word vectors (we already compute these features for the entire dataset using WordVectorFeaturizer)\n",
        "3. L2 distance between sentence transformer embedding (we already compute these features for the entire dataset using TransformerFeaturizer)\n",
        "\n",
        "\n",
        "**Idea 2**: Compute model's predictions on the augmentation dataset, and include those examples to the training dataset that the model finds \"hard\" ? (a proxy for this would be to look at cases where the output score distribution across all labels has nearly identical scores for top two or three labels).\n",
        "\n",
        "**Idea 3**: Look at the test errors that the current model is making, and the distribution of these errors across labels. Select examples from the augmentation dataset that belong to these classes - adding more training data for labels that the curent model does not do well on, can improve performance (assuming label quality is good)"
      ],
      "metadata": {
        "id": "-a-kk3Pk6Jx-"
      }
    },
    {
      "cell_type": "code",
      "source": [
        "# Examine current test errors\n",
        "test_errors = []\n",
        "Y_pred_i = models[25000]['test_predictions']\n",
        "\n",
        "for idx, label in enumerate(Y_true):\n",
        "    if label != Y_pred_i[idx]:\n",
        "        test_errors.append((X_test[idx], label,  Y_pred_i[idx]))\n",
        "\n",
        "print(\"Number of errors in the test set: {}\".format(len(test_errors)))\n",
        "print(\"Example errors: [example, true label, predicted label]\")\n",
        "for i in range(10):\n",
        "    print(test_errors[i])"
      ],
      "metadata": {
        "id": "4UVN6r0abKHI",
        "colab": {
          "base_uri": "https://localhost:8080/"
        },
        "outputId": "8921f1e4-648b-45d6-a652-eb80def40312"
      },
      "execution_count": null,
      "outputs": [
        {
          "output_type": "stream",
          "name": "stdout",
          "text": [
            "Number of errors in the test set: 251\n",
            "Example errors: [example, true label, predicted label]\n",
            "('The rush by Wal-Mart and other companies to put radio frequency identification devices in their goods could imperil consumer privacy.', 'Software and Developement', 'Sci/Tech')\n",
            "('Intel said Thursday that President Paul Otellini will become its next CEO -- a change that could help the No. 1 chipmaker overcome recent missteps.', 'Entertainment', 'Sci/Tech')\n",
            "('Thousands of Douglas County residents at high risk for influenza may be unable to get flu shots this year because of a shortage of vaccine.', 'Entertainment', 'Health')\n",
            "('Jeff Greenberg leaves post at No. 1 insurance broker not long after Spitzer targeted firm: WSJ. NEW YORK (CNN/Money) - Marsh  amp; McLennan #39;s embattled Chief Executive Officer Jeffrey Greenberg stepped down as', 'Entertainment', 'Business')\n",
            "('The service allows users to search for specific items to find the best deal and, unlike some similar British sites, it #39;s free to users and retailers.', 'Sci/Tech', 'Entertainment')\n",
            "('How the toy industry is being outplayed by video games this holiday season', 'Business', 'Sci/Tech')\n",
            "('BOSTON - Yesterday #39;s Game 4 of the American League Championship Series between the New York Yankees and Boston Red Sox was postponed because of rain and rescheduled for tonight.', 'Entertainment', 'Sports')\n",
            "('In his first media scrum since publicly demanding a trade, Vince Carter acted like he always does when the cameras surround him and the microphones threaten to chip his teeth.', 'Sports', 'Entertainment')\n",
            "('WASHINGTON Oct. 2, 2004 - The United States and its major economic allies struggled Saturday to resolve deep differences over how best to relieve the heavy debt burden for Iraq and the world #39;s poorest countries.', 'Business', 'Entertainment')\n",
            "('As President George Bush and John Kerry outbid each other in rosy promises, Alan Greenspan yesterday brought the election debate on the economy down to earth: Sooner or later', 'Business', 'Entertainment')\n"
          ]
        }
      ]
    },
    {
      "cell_type": "code",
      "source": [
        "'''\n",
        "[TO BE IMPLEMENTED]\n",
        "\n",
        "Your additional data augmentation explorations go here\n",
        "\n",
        "For instance, the pseudocode for Idea (1) might look like the following:\n",
        "\n",
        "Augmented = {}\n",
        "For e in test_errors:\n",
        "   1. X_nn, y_nn = k nearest neighbors to (e) from X_augment, y_augment\n",
        "   2. Add each (x, y) from (X_nn, y_nn) to Augmented\n",
        "\n",
        "Add the Augmented examples to the training set\n",
        "Train the new model and record performance improvements\n",
        "\n",
        "'''"
      ],
      "metadata": {
        "id": "X2LCwb4ibYsV"
      },
      "execution_count": null,
      "outputs": []
    },
    {
      "cell_type": "code",
      "source": [
        "X_train_copy = X_train.copy()\n",
        "Y_train_copy = Y_train.copy()"
      ],
      "metadata": {
        "id": "sEOb8xSNkcQc"
      },
      "execution_count": null,
      "outputs": []
    },
    {
      "cell_type": "code",
      "source": [
        "test_errors_sample_size = 50"
      ],
      "metadata": {
        "id": "70tkVo1Fk87L"
      },
      "execution_count": null,
      "outputs": []
    },
    {
      "cell_type": "code",
      "source": [
        "from difflib import get_close_matches\n",
        "\n",
        "matches = []\n",
        "for error in test_errors[:test_errors_sample_size]:\n",
        "    matches.extend(get_close_matches(error[0], X_augment, n=3, cutoff=0.6))\n",
        "\n",
        "for _match in matches:\n",
        "    idx = X_augment.index(_match)\n",
        "    X_train_copy.append(_match)\n",
        "    Y_train_copy.append(Y_augment[idx])"
      ],
      "metadata": {
        "id": "aA04uJx-e99I"
      },
      "execution_count": null,
      "outputs": []
    },
    {
      "cell_type": "code",
      "source": [
        "models_v4 = None\n",
        "\n",
        "# for n in TRAIN_SIZE_EVALS:\n",
        "#     print(\"Evaluating for training data size = {}\".format(n))\n",
        "#     X_train_i = X_train[:n]\n",
        "#     Y_train_i = Y_train[:n]\n",
        "\n",
        "#     \"\"\"\n",
        "#     [TO BE IMPLEMENTED]\n",
        "\n",
        "#     Goal: initialized below is a dummy sklearn Pipeline object with no steps.\n",
        "#     You have to replace it with a pipeline object which contains at least two steps:\n",
        "#     (1) mapping the input document to an N-gram feature extractor. You can use feature extractors\n",
        "#         provided by sklearn out of the box (e.g. CountVectorizer, TfidfTransformer)\n",
        "#     (2) a classifier that predicts the class label using the feature output of first step\n",
        "\n",
        "#     You can add other steps to preproces, post-process your data as you see fit.\n",
        "#     You can also try any sklearn model architecture you want, but a linear classifier\n",
        "#     will do just fine to start with\n",
        "\n",
        "#     e.g.\n",
        "#     pipeline = Pipeline([\n",
        "#         ('featurizer', <your N-gram featurizer class instance here>),\n",
        "#         ('classifier', <your sklearn classifier class instance here>)\n",
        "#     ])\n",
        "\n",
        "#     Reference: https://scikit-learn.org/stable/tutorial/text_analytics/working_with_text_data.html\n",
        "#     \"\"\"\n",
        "pipeline_model_v4 = Pipeline([\n",
        "    ('vectorizer', CountVectorizer(ngram_range=(1, 2))),\n",
        "    # (\"scaler\", StandardScaler(with_mean=False)),\n",
        "    ('classifier', LogisticRegression(max_iter=1000))\n",
        "])\n",
        "\n",
        "# train\n",
        "pipeline_model_v4.fit(X_train_copy, X_train_copy)\n",
        "\n",
        "# predict\n",
        "Y_pred_augmented = pipeline_model_v4.predict(X_test)\n",
        "\n",
        "# record results\n",
        "models_v4 = {\n",
        "    'pipeline': pipeline_model_v4,\n",
        "    'test_predictions': Y_pred_augmented,\n",
        "    'accuracy': accuracy_score(Y_true, Y_pred_augmented),\n",
        "    'f1': f1_score(Y_true, Y_pred_augmented, average='weighted'),\n",
        "    'errors': sum([x != y for (x, y) in zip(Y_true, Y_pred_augmented)])\n",
        "}\n",
        "print(\"Accuracy on test set: {}\".format(accuracy_score(Y_true, Y_pred_augmented)))"
      ],
      "metadata": {
        "id": "y4HiJJ60mu3O"
      },
      "execution_count": null,
      "outputs": []
    },
    {
      "cell_type": "code",
      "source": [],
      "metadata": {
        "id": "eiCcH7eZRdXa"
      },
      "execution_count": null,
      "outputs": []
    },
    {
      "cell_type": "markdown",
      "source": [
        "### Rando"
      ],
      "metadata": {
        "id": "zLcv9C9eQ-EA"
      }
    },
    {
      "cell_type": "code",
      "source": [
        "import seaborn as sns"
      ],
      "metadata": {
        "id": "KUsntmpBDqjm"
      },
      "execution_count": null,
      "outputs": []
    },
    {
      "cell_type": "code",
      "source": [
        "sns.distplot(train_to_train_distance)"
      ],
      "metadata": {
        "colab": {
          "base_uri": "https://localhost:8080/",
          "height": 662
        },
        "id": "NJhQSHXyD9Ha",
        "outputId": "ce02a703-281f-4f93-b259-b5e9bf960bb0"
      },
      "execution_count": null,
      "outputs": [
        {
          "output_type": "stream",
          "name": "stderr",
          "text": [
            "WARNING:py.warnings:<ipython-input-50-1c11ad43a3a0>:1: UserWarning: \n",
            "\n",
            "`distplot` is a deprecated function and will be removed in seaborn v0.14.0.\n",
            "\n",
            "Please adapt your code to use either `displot` (a figure-level function with\n",
            "similar flexibility) or `histplot` (an axes-level function for histograms).\n",
            "\n",
            "For a guide to updating your code to use the new functions, please see\n",
            "https://gist.github.com/mwaskom/de44147ed2974457ad6372750bbe5751\n",
            "\n",
            "  sns.distplot(train_to_train_distance)\n",
            "\n"
          ]
        },
        {
          "output_type": "execute_result",
          "data": {
            "text/plain": [
              "<Axes: ylabel='Density'>"
            ]
          },
          "metadata": {},
          "execution_count": 50
        },
        {
          "output_type": "display_data",
          "data": {
            "text/plain": [
              "<Figure size 640x480 with 1 Axes>"
            ],
            "image/png": "[encoded data removed]"
          },
          "metadata": {}
        }
      ]
    },
    {
      "cell_type": "code",
      "execution_count": null,
      "metadata": {
        "id": "22_8tNrUwaiE",
        "colab": {
          "base_uri": "https://localhost:8080/",
          "height": 662
        },
        "outputId": "9fab3ca7-9f01-4504-c29f-d408c9d54357"
      },
      "outputs": [
        {
          "output_type": "stream",
          "name": "stderr",
          "text": [
            "WARNING:py.warnings:<ipython-input-49-6f5c908b6eeb>:1: UserWarning: \n",
            "\n",
            "`distplot` is a deprecated function and will be removed in seaborn v0.14.0.\n",
            "\n",
            "Please adapt your code to use either `displot` (a figure-level function with\n",
            "similar flexibility) or `histplot` (an axes-level function for histograms).\n",
            "\n",
            "For a guide to updating your code to use the new functions, please see\n",
            "https://gist.github.com/mwaskom/de44147ed2974457ad6372750bbe5751\n",
            "\n",
            "  sns.distplot(train_to_test_distance)\n",
            "\n"
          ]
        },
        {
          "output_type": "execute_result",
          "data": {
            "text/plain": [
              "<Axes: ylabel='Density'>"
            ]
          },
          "metadata": {},
          "execution_count": 49
        },
        {
          "output_type": "display_data",
          "data": {
            "text/plain": [
              "<Figure size 640x480 with 1 Axes>"
            ],
            "image/png": "[encoded data removed]"
          },
          "metadata": {}
        }
      ],
      "source": [
        "sns.distplot(train_to_test_distance)"
      ]
    },
    {
      "cell_type": "code",
      "source": [
        "len(train_to_test_distance), len(train_to_train_distance)"
      ],
      "metadata": {
        "colab": {
          "base_uri": "https://localhost:8080/"
        },
        "id": "_owsvsoPHXPq",
        "outputId": "fb83534c-8e98-4a29-d38b-6c9bea1b17ae"
      },
      "execution_count": null,
      "outputs": [
        {
          "output_type": "execute_result",
          "data": {
            "text/plain": [
              "(1981, 2000)"
            ]
          },
          "metadata": {},
          "execution_count": 71
        }
      ]
    },
    {
      "cell_type": "code",
      "source": [
        "train_train_distance_pd = pd.Series(list(train_to_train_distance), name='train_to_train_distance')\n",
        "train_test_distance_pd = pd.Series(list(train_to_test_distance), name='train_to_test_distance')\n",
        "\n",
        "emb_distance_df = pd.concat([train_train_distance_pd, train_test_distance_pd], axis=0, ignore_index=True)#right_index = True, left_index = True)\n",
        "emb_distance_df = emb_distance_df.to_frame(name='embedding_distance')\n",
        "# .reset_index()\n",
        "emb_distance_df['distance_type'] = ''\n",
        "emb_distance_df.loc[:2000, 'distance_type'] = 'train_to_train_distance'\n",
        "emb_distance_df.loc[2000:, 'distance_type'] = 'train_to_test_distance'\n",
        "emb_distance_df\n",
        "# emb_distance_df.index[:2000]"
      ],
      "metadata": {
        "colab": {
          "base_uri": "https://localhost:8080/",
          "height": 497
        },
        "id": "qeEEyoxiEw8w",
        "outputId": "ca9b5956-7e49-4c11-83b3-395c13328156"
      },
      "execution_count": null,
      "outputs": [
        {
          "output_type": "stream",
          "name": "stderr",
          "text": [
            "WARNING:py.warnings:/usr/local/lib/python3.10/dist-packages/ipykernel/ipkernel.py:283: DeprecationWarning: `should_run_async` will not call `transform_cell` automatically in the future. Please pass the result to `transformed_cell` argument and any exception that happen during thetransform in `preprocessing_exc_tuple` in IPython 7.17 and above.\n",
            "  and should_run_async(code)\n",
            "\n"
          ]
        },
        {
          "output_type": "execute_result",
          "data": {
            "text/plain": [
              "                                     embedding_distance  \\\n",
              "0     [0.0, 1.418379871012059, 1.4245696606787706, 1...   \n",
              "1     [1.418379871012059, 0.0, 1.330316660570197, 1....   \n",
              "2     [1.4245696606787706, 1.330316660570197, 0.0, 1...   \n",
              "3     [1.4981497623519908, 1.4107802539655032, 1.410...   \n",
              "4     [1.3435513658956895, 1.4422709528501234, 1.385...   \n",
              "...                                                 ...   \n",
              "3976  [1.9633365340394981, 2.0006552027888427, 1.970...   \n",
              "3977  [1.8932136277730935, 1.9213133211052071, 1.944...   \n",
              "3978  [2.0543070893436077, 1.9326745339485027, 1.996...   \n",
              "3979  [1.9918040614726618, 1.9982386652179658, 2.013...   \n",
              "3980  [1.9186761876250258, 1.9576497751677742, 1.994...   \n",
              "\n",
              "                distance_type  \n",
              "0     train_to_train_distance  \n",
              "1     train_to_train_distance  \n",
              "2     train_to_train_distance  \n",
              "3     train_to_train_distance  \n",
              "4     train_to_train_distance  \n",
              "...                       ...  \n",
              "3976   train_to_test_distance  \n",
              "3977   train_to_test_distance  \n",
              "3978   train_to_test_distance  \n",
              "3979   train_to_test_distance  \n",
              "3980   train_to_test_distance  \n",
              "\n",
              "[3981 rows x 2 columns]"
            ],
            "text/html": [
              "\n",
              "  <div id=\"df-087ca9e0-6c8c-4885-a0b0-dfeedbb4257b\">\n",
              "    <div class=\"colab-df-container\">\n",
              "      <div>\n",
              "<style scoped>\n",
              "    .dataframe tbody tr th:only-of-type {\n",
              "        vertical-align: middle;\n",
              "    }\n",
              "\n",
              "    .dataframe tbody tr th {\n",
              "        vertical-align: top;\n",
              "    }\n",
              "\n",
              "    .dataframe thead th {\n",
              "        text-align: right;\n",
              "    }\n",
              "</style>\n",
              "<table border=\"1\" class=\"dataframe\">\n",
              "  <thead>\n",
              "    <tr style=\"text-align: right;\">\n",
              "      <th></th>\n",
              "      <th>embedding_distance</th>\n",
              "      <th>distance_type</th>\n",
              "    </tr>\n",
              "  </thead>\n",
              "  <tbody>\n",
              "    <tr>\n",
              "      <th>0</th>\n",
              "      <td>[0.0, 1.418379871012059, 1.4245696606787706, 1...</td>\n",
              "      <td>train_to_train_distance</td>\n",
              "    </tr>\n",
              "    <tr>\n",
              "      <th>1</th>\n",
              "      <td>[1.418379871012059, 0.0, 1.330316660570197, 1....</td>\n",
              "      <td>train_to_train_distance</td>\n",
              "    </tr>\n",
              "    <tr>\n",
              "      <th>2</th>\n",
              "      <td>[1.4245696606787706, 1.330316660570197, 0.0, 1...</td>\n",
              "      <td>train_to_train_distance</td>\n",
              "    </tr>\n",
              "    <tr>\n",
              "      <th>3</th>\n",
              "      <td>[1.4981497623519908, 1.4107802539655032, 1.410...</td>\n",
              "      <td>train_to_train_distance</td>\n",
              "    </tr>\n",
              "    <tr>\n",
              "      <th>4</th>\n",
              "      <td>[1.3435513658956895, 1.4422709528501234, 1.385...</td>\n",
              "      <td>train_to_train_distance</td>\n",
              "    </tr>\n",
              "    <tr>\n",
              "      <th>...</th>\n",
              "      <td>...</td>\n",
              "      <td>...</td>\n",
              "    </tr>\n",
              "    <tr>\n",
              "      <th>3976</th>\n",
              "      <td>[1.9633365340394981, 2.0006552027888427, 1.970...</td>\n",
              "      <td>train_to_test_distance</td>\n",
              "    </tr>\n",
              "    <tr>\n",
              "      <th>3977</th>\n",
              "      <td>[1.8932136277730935, 1.9213133211052071, 1.944...</td>\n",
              "      <td>train_to_test_distance</td>\n",
              "    </tr>\n",
              "    <tr>\n",
              "      <th>3978</th>\n",
              "      <td>[2.0543070893436077, 1.9326745339485027, 1.996...</td>\n",
              "      <td>train_to_test_distance</td>\n",
              "    </tr>\n",
              "    <tr>\n",
              "      <th>3979</th>\n",
              "      <td>[1.9918040614726618, 1.9982386652179658, 2.013...</td>\n",
              "      <td>train_to_test_distance</td>\n",
              "    </tr>\n",
              "    <tr>\n",
              "      <th>3980</th>\n",
              "      <td>[1.9186761876250258, 1.9576497751677742, 1.994...</td>\n",
              "      <td>train_to_test_distance</td>\n",
              "    </tr>\n",
              "  </tbody>\n",
              "</table>\n",
              "<p>3981 rows × 2 columns</p>\n",
              "</div>\n",
              "      <button class=\"colab-df-convert\" onclick=\"convertToInteractive('df-087ca9e0-6c8c-4885-a0b0-dfeedbb4257b')\"\n",
              "              title=\"Convert this dataframe to an interactive table.\"\n",
              "              style=\"display:none;\">\n",
              "        \n",
              "  <svg xmlns=\"http://www.w3.org/2000/svg\" height=\"24px\"viewBox=\"0 0 24 24\"\n",
              "       width=\"24px\">\n",
              "    <path d=\"M0 0h24v24H0V0z\" fill=\"none\"/>\n",
              "    <path d=\"M18.56 5.44l.94 2.06.94-2.06 2.06-.94-2.06-.94-.94-2.06-.94 2.06-2.06.94zm-11 1L8.5 8.5l.94-2.06 2.06-.94-2.06-.94L8.5 2.5l-.94 2.06-2.06.94zm10 10l.94 2.06.94-2.06 2.06-.94-2.06-.94-.94-2.06-.94 2.06-2.06.94z\"/><path d=\"M17.41 7.96l-1.37-1.37c-.4-.4-.92-.59-1.43-.59-.52 0-1.04.2-1.43.59L10.3 9.45l-7.72 7.72c-.78.78-.78 2.05 0 2.83L4 21.41c.39.39.9.59 1.41.59.51 0 1.02-.2 1.41-.59l7.78-7.78 2.81-2.81c.8-.78.8-2.07 0-2.86zM5.41 20L4 18.59l7.72-7.72 1.47 1.35L5.41 20z\"/>\n",
              "  </svg>\n",
              "      </button>\n",
              "      \n",
              "  <style>\n",
              "    .colab-df-container {\n",
              "      display:flex;\n",
              "      flex-wrap:wrap;\n",
              "      gap: 12px;\n",
              "    }\n",
              "\n",
              "    .colab-df-convert {\n",
              "      background-color: #E8F0FE;\n",
              "      border: none;\n",
              "      border-radius: 50%;\n",
              "      cursor: pointer;\n",
              "      display: none;\n",
              "      fill: #1967D2;\n",
              "      height: 32px;\n",
              "      padding: 0 0 0 0;\n",
              "      width: 32px;\n",
              "    }\n",
              "\n",
              "    .colab-df-convert:hover {\n",
              "      background-color: #E2EBFA;\n",
              "      box-shadow: 0px 1px 2px rgba(60, 64, 67, 0.3), 0px 1px 3px 1px rgba(60, 64, 67, 0.15);\n",
              "      fill: #174EA6;\n",
              "    }\n",
              "\n",
              "    [theme=dark] .colab-df-convert {\n",
              "      background-color: #3B4455;\n",
              "      fill: #D2E3FC;\n",
              "    }\n",
              "\n",
              "    [theme=dark] .colab-df-convert:hover {\n",
              "      background-color: #434B5C;\n",
              "      box-shadow: 0px 1px 3px 1px rgba(0, 0, 0, 0.15);\n",
              "      filter: drop-shadow(0px 1px 2px rgba(0, 0, 0, 0.3));\n",
              "      fill: #FFFFFF;\n",
              "    }\n",
              "  </style>\n",
              "\n",
              "      <script>\n",
              "        const buttonEl =\n",
              "          document.querySelector('#df-087ca9e0-6c8c-4885-a0b0-dfeedbb4257b button.colab-df-convert');\n",
              "        buttonEl.style.display =\n",
              "          google.colab.kernel.accessAllowed ? 'block' : 'none';\n",
              "\n",
              "        async function convertToInteractive(key) {\n",
              "          const element = document.querySelector('#df-087ca9e0-6c8c-4885-a0b0-dfeedbb4257b');\n",
              "          const dataTable =\n",
              "            await google.colab.kernel.invokeFunction('convertToInteractive',\n",
              "                                                     [key], {});\n",
              "          if (!dataTable) return;\n",
              "\n",
              "          const docLinkHtml = 'Like what you see? Visit the ' +\n",
              "            '<a target=\"_blank\" href=https://colab.research.google.com/notebooks/data_table.ipynb>data table notebook</a>'\n",
              "            + ' to learn more about interactive tables.';\n",
              "          element.innerHTML = '';\n",
              "          dataTable['output_type'] = 'display_data';\n",
              "          await google.colab.output.renderOutput(dataTable, element);\n",
              "          const docLink = document.createElement('div');\n",
              "          docLink.innerHTML = docLinkHtml;\n",
              "          element.appendChild(docLink);\n",
              "        }\n",
              "      </script>\n",
              "    </div>\n",
              "  </div>\n",
              "  "
            ]
          },
          "metadata": {},
          "execution_count": 108
        }
      ]
    },
    {
      "cell_type": "code",
      "source": [
        "penguins = sns.load_dataset(\"penguins\")\n",
        "sns.displot(penguins, x=\"flipper_length_mm\", kind=\"kde\", hue='species', multiple=\"stack\")\n",
        "# penguins"
      ],
      "metadata": {
        "colab": {
          "base_uri": "https://localhost:8080/",
          "height": 615
        },
        "id": "g06ZipqSPt3M",
        "outputId": "66515e72-56ab-44d5-f3bd-125ee0d9cb04"
      },
      "execution_count": null,
      "outputs": [
        {
          "output_type": "stream",
          "name": "stderr",
          "text": [
            "WARNING:py.warnings:/usr/local/lib/python3.10/dist-packages/pandas/core/dtypes/cast.py:1641: DeprecationWarning: np.find_common_type is deprecated.  Please use `np.result_type` or `np.promote_types`.\n",
            "See https://numpy.org/devdocs/release/1.25.0-notes.html and the docs for more information.  (Deprecated NumPy 1.25)\n",
            "  return np.find_common_type(types, [])\n",
            "\n"
          ]
        },
        {
          "output_type": "execute_result",
          "data": {
            "text/plain": [
              "<seaborn.axisgrid.FacetGrid at 0x7f2f1807d570>"
            ]
          },
          "metadata": {},
          "execution_count": 129
        },
        {
          "output_type": "display_data",
          "data": {
            "text/plain": [
              "<Figure size 617x500 with 1 Axes>"
            ],
            "image/png": "[encoded data removed]"
          },
          "metadata": {}
        }
      ]
    },
    {
      "cell_type": "code",
      "source": [
        "sns.displot(emb_distance_df)#, x='embedding_distance', hue=\"distance_type\", kind=\"kde\")#, multiple=\"stack\")"
      ],
      "metadata": {
        "colab": {
          "base_uri": "https://localhost:8080/",
          "height": 318
        },
        "id": "ylFF70_NFfsz",
        "outputId": "27f0c05e-e603-49da-8958-411f7e6e1d87"
      },
      "execution_count": null,
      "outputs": [
        {
          "output_type": "error",
          "ename": "ValueError",
          "evalue": "ignored",
          "traceback": [
            "\u001b[0;31m---------------------------------------------------------------------------\u001b[0m",
            "\u001b[0;31mValueError\u001b[0m                                Traceback (most recent call last)",
            "\u001b[0;32m<ipython-input-130-94262fcfc6b4>\u001b[0m in \u001b[0;36m<cell line: 1>\u001b[0;34m()\u001b[0m\n\u001b[0;32m----> 1\u001b[0;31m \u001b[0msns\u001b[0m\u001b[0;34m.\u001b[0m\u001b[0mdisplot\u001b[0m\u001b[0;34m(\u001b[0m\u001b[0memb_distance_df\u001b[0m\u001b[0;34m)\u001b[0m\u001b[0;31m#, x='embedding_distance', hue=\"distance_type\", kind=\"kde\")#, multiple=\"stack\")\u001b[0m\u001b[0;34m\u001b[0m\u001b[0;34m\u001b[0m\u001b[0m\n\u001b[0m",
            "\u001b[0;32m/usr/local/lib/python3.10/dist-packages/seaborn/distributions.py\u001b[0m in \u001b[0;36mdisplot\u001b[0;34m(data, x, y, hue, row, col, weights, kind, rug, rug_kws, log_scale, legend, palette, hue_order, hue_norm, color, col_wrap, row_order, col_order, height, aspect, facet_kws, **kwargs)\u001b[0m\n\u001b[1;32m   2123\u001b[0m ):\n\u001b[1;32m   2124\u001b[0m \u001b[0;34m\u001b[0m\u001b[0m\n\u001b[0;32m-> 2125\u001b[0;31m     p = _DistributionFacetPlotter(\n\u001b[0m\u001b[1;32m   2126\u001b[0m         \u001b[0mdata\u001b[0m\u001b[0;34m=\u001b[0m\u001b[0mdata\u001b[0m\u001b[0;34m,\u001b[0m\u001b[0;34m\u001b[0m\u001b[0;34m\u001b[0m\u001b[0m\n\u001b[1;32m   2127\u001b[0m         \u001b[0mvariables\u001b[0m\u001b[0;34m=\u001b[0m\u001b[0m_DistributionFacetPlotter\u001b[0m\u001b[0;34m.\u001b[0m\u001b[0mget_semantics\u001b[0m\u001b[0;34m(\u001b[0m\u001b[0mlocals\u001b[0m\u001b[0;34m(\u001b[0m\u001b[0;34m)\u001b[0m\u001b[0;34m)\u001b[0m\u001b[0;34m\u001b[0m\u001b[0;34m\u001b[0m\u001b[0m\n",
            "\u001b[0;32m/usr/local/lib/python3.10/dist-packages/seaborn/distributions.py\u001b[0m in \u001b[0;36m__init__\u001b[0;34m(self, data, variables)\u001b[0m\n\u001b[1;32m    111\u001b[0m     ):\n\u001b[1;32m    112\u001b[0m \u001b[0;34m\u001b[0m\u001b[0m\n\u001b[0;32m--> 113\u001b[0;31m         \u001b[0msuper\u001b[0m\u001b[0;34m(\u001b[0m\u001b[0;34m)\u001b[0m\u001b[0;34m.\u001b[0m\u001b[0m__init__\u001b[0m\u001b[0;34m(\u001b[0m\u001b[0mdata\u001b[0m\u001b[0;34m=\u001b[0m\u001b[0mdata\u001b[0m\u001b[0;34m,\u001b[0m \u001b[0mvariables\u001b[0m\u001b[0;34m=\u001b[0m\u001b[0mvariables\u001b[0m\u001b[0;34m)\u001b[0m\u001b[0;34m\u001b[0m\u001b[0;34m\u001b[0m\u001b[0m\n\u001b[0m\u001b[1;32m    114\u001b[0m \u001b[0;34m\u001b[0m\u001b[0m\n\u001b[1;32m    115\u001b[0m     \u001b[0;34m@\u001b[0m\u001b[0mproperty\u001b[0m\u001b[0;34m\u001b[0m\u001b[0;34m\u001b[0m\u001b[0m\n",
            "\u001b[0;32m/usr/local/lib/python3.10/dist-packages/seaborn/_oldcore.py\u001b[0m in \u001b[0;36m__init__\u001b[0;34m(self, data, variables)\u001b[0m\n\u001b[1;32m    638\u001b[0m         \u001b[0;31m# information for numeric axes would be information about log scales.\u001b[0m\u001b[0;34m\u001b[0m\u001b[0;34m\u001b[0m\u001b[0m\n\u001b[1;32m    639\u001b[0m         \u001b[0mself\u001b[0m\u001b[0;34m.\u001b[0m\u001b[0m_var_ordered\u001b[0m \u001b[0;34m=\u001b[0m \u001b[0;34m{\u001b[0m\u001b[0;34m\"x\"\u001b[0m\u001b[0;34m:\u001b[0m \u001b[0;32mFalse\u001b[0m\u001b[0;34m,\u001b[0m \u001b[0;34m\"y\"\u001b[0m\u001b[0;34m:\u001b[0m \u001b[0;32mFalse\u001b[0m\u001b[0;34m}\u001b[0m  \u001b[0;31m# alt., used DefaultDict\u001b[0m\u001b[0;34m\u001b[0m\u001b[0;34m\u001b[0m\u001b[0m\n\u001b[0;32m--> 640\u001b[0;31m         \u001b[0mself\u001b[0m\u001b[0;34m.\u001b[0m\u001b[0massign_variables\u001b[0m\u001b[0;34m(\u001b[0m\u001b[0mdata\u001b[0m\u001b[0;34m,\u001b[0m \u001b[0mvariables\u001b[0m\u001b[0;34m)\u001b[0m\u001b[0;34m\u001b[0m\u001b[0;34m\u001b[0m\u001b[0m\n\u001b[0m\u001b[1;32m    641\u001b[0m \u001b[0;34m\u001b[0m\u001b[0m\n\u001b[1;32m    642\u001b[0m         \u001b[0;32mfor\u001b[0m \u001b[0mvar\u001b[0m\u001b[0;34m,\u001b[0m \u001b[0mcls\u001b[0m \u001b[0;32min\u001b[0m \u001b[0mself\u001b[0m\u001b[0;34m.\u001b[0m\u001b[0m_semantic_mappings\u001b[0m\u001b[0;34m.\u001b[0m\u001b[0mitems\u001b[0m\u001b[0;34m(\u001b[0m\u001b[0;34m)\u001b[0m\u001b[0;34m:\u001b[0m\u001b[0;34m\u001b[0m\u001b[0;34m\u001b[0m\u001b[0m\n",
            "\u001b[0;32m/usr/local/lib/python3.10/dist-packages/seaborn/_oldcore.py\u001b[0m in \u001b[0;36massign_variables\u001b[0;34m(self, data, variables)\u001b[0m\n\u001b[1;32m    694\u001b[0m         \u001b[0;32mif\u001b[0m \u001b[0mx\u001b[0m \u001b[0;32mis\u001b[0m \u001b[0;32mNone\u001b[0m \u001b[0;32mand\u001b[0m \u001b[0my\u001b[0m \u001b[0;32mis\u001b[0m \u001b[0;32mNone\u001b[0m\u001b[0;34m:\u001b[0m\u001b[0;34m\u001b[0m\u001b[0;34m\u001b[0m\u001b[0m\n\u001b[1;32m    695\u001b[0m             \u001b[0mself\u001b[0m\u001b[0;34m.\u001b[0m\u001b[0minput_format\u001b[0m \u001b[0;34m=\u001b[0m \u001b[0;34m\"wide\"\u001b[0m\u001b[0;34m\u001b[0m\u001b[0;34m\u001b[0m\u001b[0m\n\u001b[0;32m--> 696\u001b[0;31m             plot_data, variables = self._assign_variables_wideform(\n\u001b[0m\u001b[1;32m    697\u001b[0m                 \u001b[0mdata\u001b[0m\u001b[0;34m,\u001b[0m \u001b[0;34m**\u001b[0m\u001b[0mvariables\u001b[0m\u001b[0;34m,\u001b[0m\u001b[0;34m\u001b[0m\u001b[0;34m\u001b[0m\u001b[0m\n\u001b[1;32m    698\u001b[0m             )\n",
            "\u001b[0;32m/usr/local/lib/python3.10/dist-packages/seaborn/_oldcore.py\u001b[0m in \u001b[0;36m_assign_variables_wideform\u001b[0;34m(self, data, **kwargs)\u001b[0m\n\u001b[1;32m    815\u001b[0m \u001b[0;34m\u001b[0m\u001b[0m\n\u001b[1;32m    816\u001b[0m             \u001b[0;31m# At this point we should reduce the dataframe to numeric cols\u001b[0m\u001b[0;34m\u001b[0m\u001b[0;34m\u001b[0m\u001b[0m\n\u001b[0;32m--> 817\u001b[0;31m             numeric_cols = [\n\u001b[0m\u001b[1;32m    818\u001b[0m                 \u001b[0mk\u001b[0m \u001b[0;32mfor\u001b[0m \u001b[0mk\u001b[0m\u001b[0;34m,\u001b[0m \u001b[0mv\u001b[0m \u001b[0;32min\u001b[0m \u001b[0mwide_data\u001b[0m\u001b[0;34m.\u001b[0m\u001b[0mitems\u001b[0m\u001b[0;34m(\u001b[0m\u001b[0;34m)\u001b[0m \u001b[0;32mif\u001b[0m \u001b[0mvariable_type\u001b[0m\u001b[0;34m(\u001b[0m\u001b[0mv\u001b[0m\u001b[0;34m)\u001b[0m \u001b[0;34m==\u001b[0m \u001b[0;34m\"numeric\"\u001b[0m\u001b[0;34m\u001b[0m\u001b[0;34m\u001b[0m\u001b[0m\n\u001b[1;32m    819\u001b[0m             ]\n",
            "\u001b[0;32m/usr/local/lib/python3.10/dist-packages/seaborn/_oldcore.py\u001b[0m in \u001b[0;36m<listcomp>\u001b[0;34m(.0)\u001b[0m\n\u001b[1;32m    816\u001b[0m             \u001b[0;31m# At this point we should reduce the dataframe to numeric cols\u001b[0m\u001b[0;34m\u001b[0m\u001b[0;34m\u001b[0m\u001b[0m\n\u001b[1;32m    817\u001b[0m             numeric_cols = [\n\u001b[0;32m--> 818\u001b[0;31m                 \u001b[0mk\u001b[0m \u001b[0;32mfor\u001b[0m \u001b[0mk\u001b[0m\u001b[0;34m,\u001b[0m \u001b[0mv\u001b[0m \u001b[0;32min\u001b[0m \u001b[0mwide_data\u001b[0m\u001b[0;34m.\u001b[0m\u001b[0mitems\u001b[0m\u001b[0;34m(\u001b[0m\u001b[0;34m)\u001b[0m \u001b[0;32mif\u001b[0m \u001b[0mvariable_type\u001b[0m\u001b[0;34m(\u001b[0m\u001b[0mv\u001b[0m\u001b[0;34m)\u001b[0m \u001b[0;34m==\u001b[0m \u001b[0;34m\"numeric\"\u001b[0m\u001b[0;34m\u001b[0m\u001b[0;34m\u001b[0m\u001b[0m\n\u001b[0m\u001b[1;32m    819\u001b[0m             ]\n\u001b[1;32m    820\u001b[0m             \u001b[0mwide_data\u001b[0m \u001b[0;34m=\u001b[0m \u001b[0mwide_data\u001b[0m\u001b[0;34m[\u001b[0m\u001b[0mnumeric_cols\u001b[0m\u001b[0;34m]\u001b[0m\u001b[0;34m\u001b[0m\u001b[0;34m\u001b[0m\u001b[0m\n",
            "\u001b[0;32m/usr/local/lib/python3.10/dist-packages/seaborn/_oldcore.py\u001b[0m in \u001b[0;36mvariable_type\u001b[0;34m(vector, boolean_type)\u001b[0m\n\u001b[1;32m   1515\u001b[0m             \u001b[0maction\u001b[0m\u001b[0;34m=\u001b[0m\u001b[0;34m'ignore'\u001b[0m\u001b[0;34m,\u001b[0m \u001b[0mcategory\u001b[0m\u001b[0;34m=\u001b[0m\u001b[0;34m(\u001b[0m\u001b[0mFutureWarning\u001b[0m\u001b[0;34m,\u001b[0m \u001b[0mDeprecationWarning\u001b[0m\u001b[0;34m)\u001b[0m\u001b[0;34m\u001b[0m\u001b[0;34m\u001b[0m\u001b[0m\n\u001b[1;32m   1516\u001b[0m         )\n\u001b[0;32m-> 1517\u001b[0;31m         \u001b[0;32mif\u001b[0m \u001b[0mnp\u001b[0m\u001b[0;34m.\u001b[0m\u001b[0misin\u001b[0m\u001b[0;34m(\u001b[0m\u001b[0mvector\u001b[0m\u001b[0;34m,\u001b[0m \u001b[0;34m[\u001b[0m\u001b[0;36m0\u001b[0m\u001b[0;34m,\u001b[0m \u001b[0;36m1\u001b[0m\u001b[0;34m,\u001b[0m \u001b[0mnp\u001b[0m\u001b[0;34m.\u001b[0m\u001b[0mnan\u001b[0m\u001b[0;34m]\u001b[0m\u001b[0;34m)\u001b[0m\u001b[0;34m.\u001b[0m\u001b[0mall\u001b[0m\u001b[0;34m(\u001b[0m\u001b[0;34m)\u001b[0m\u001b[0;34m:\u001b[0m\u001b[0;34m\u001b[0m\u001b[0;34m\u001b[0m\u001b[0m\n\u001b[0m\u001b[1;32m   1518\u001b[0m             \u001b[0;32mreturn\u001b[0m \u001b[0mVariableType\u001b[0m\u001b[0;34m(\u001b[0m\u001b[0mboolean_type\u001b[0m\u001b[0;34m)\u001b[0m\u001b[0;34m\u001b[0m\u001b[0;34m\u001b[0m\u001b[0m\n\u001b[1;32m   1519\u001b[0m \u001b[0;34m\u001b[0m\u001b[0m\n",
            "\u001b[0;32m/usr/local/lib/python3.10/dist-packages/numpy/lib/arraysetops.py\u001b[0m in \u001b[0;36misin\u001b[0;34m(element, test_elements, assume_unique, invert, kind)\u001b[0m\n\u001b[1;32m    888\u001b[0m     \"\"\"\n\u001b[1;32m    889\u001b[0m     \u001b[0melement\u001b[0m \u001b[0;34m=\u001b[0m \u001b[0mnp\u001b[0m\u001b[0;34m.\u001b[0m\u001b[0masarray\u001b[0m\u001b[0;34m(\u001b[0m\u001b[0melement\u001b[0m\u001b[0;34m)\u001b[0m\u001b[0;34m\u001b[0m\u001b[0;34m\u001b[0m\u001b[0m\n\u001b[0;32m--> 890\u001b[0;31m     return in1d(element, test_elements, assume_unique=assume_unique,\n\u001b[0m\u001b[1;32m    891\u001b[0m                 invert=invert, kind=kind).reshape(element.shape)\n\u001b[1;32m    892\u001b[0m \u001b[0;34m\u001b[0m\u001b[0m\n",
            "\u001b[0;32m/usr/local/lib/python3.10/dist-packages/numpy/lib/arraysetops.py\u001b[0m in \u001b[0;36min1d\u001b[0;34m(ar1, ar2, assume_unique, invert, kind)\u001b[0m\n\u001b[1;32m    731\u001b[0m             \u001b[0mmask\u001b[0m \u001b[0;34m=\u001b[0m \u001b[0mnp\u001b[0m\u001b[0;34m.\u001b[0m\u001b[0mzeros\u001b[0m\u001b[0;34m(\u001b[0m\u001b[0mlen\u001b[0m\u001b[0;34m(\u001b[0m\u001b[0mar1\u001b[0m\u001b[0;34m)\u001b[0m\u001b[0;34m,\u001b[0m \u001b[0mdtype\u001b[0m\u001b[0;34m=\u001b[0m\u001b[0mbool\u001b[0m\u001b[0;34m)\u001b[0m\u001b[0;34m\u001b[0m\u001b[0;34m\u001b[0m\u001b[0m\n\u001b[1;32m    732\u001b[0m             \u001b[0;32mfor\u001b[0m \u001b[0ma\u001b[0m \u001b[0;32min\u001b[0m \u001b[0mar2\u001b[0m\u001b[0;34m:\u001b[0m\u001b[0;34m\u001b[0m\u001b[0;34m\u001b[0m\u001b[0m\n\u001b[0;32m--> 733\u001b[0;31m                 \u001b[0mmask\u001b[0m \u001b[0;34m|=\u001b[0m \u001b[0;34m(\u001b[0m\u001b[0mar1\u001b[0m \u001b[0;34m==\u001b[0m \u001b[0ma\u001b[0m\u001b[0;34m)\u001b[0m\u001b[0;34m\u001b[0m\u001b[0;34m\u001b[0m\u001b[0m\n\u001b[0m\u001b[1;32m    734\u001b[0m         \u001b[0;32mreturn\u001b[0m \u001b[0mmask\u001b[0m\u001b[0;34m\u001b[0m\u001b[0;34m\u001b[0m\u001b[0m\n\u001b[1;32m    735\u001b[0m \u001b[0;34m\u001b[0m\u001b[0m\n",
            "\u001b[0;31mValueError\u001b[0m: The truth value of an array with more than one element is ambiguous. Use a.any() or a.all()"
          ]
        }
      ]
    }
  ]
}